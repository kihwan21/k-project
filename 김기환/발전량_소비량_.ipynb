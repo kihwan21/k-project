{
 "cells": [
  {
   "cell_type": "markdown",
   "metadata": {},
   "source": [
    "해당 소스코드는 전 세계의 데이터를 기준으로 하기 때문에 핵발전이 낮게 나옴.  \n",
    "핵 발전을 하는 국가만 따로 추출해서 기계학습을 돌리는 과정이 필요할 것으로 보임 "
   ]
  },
  {
   "cell_type": "code",
   "execution_count": 1,
   "metadata": {},
   "outputs": [],
   "source": [
    "import pandas as pd\n",
    "# 필요한 라이브러리 불러오기\n",
    "\n",
    "import numpy as np\n",
    "import matplotlib.pyplot as plt\n",
    "import seaborn as sns\n",
    "from scipy import stats\n",
    "import matplotlib.font_manager as fm\n",
    "\n",
    "# 한글 깨짐 방지 \n",
    "plt.rcParams['font.family'] = 'NanumGothic' "
   ]
  },
  {
   "cell_type": "code",
   "execution_count": 2,
   "metadata": {},
   "outputs": [],
   "source": [
    "df = pd.read_csv('C:/k-project\\source\\model(최종)-업로드X/00_국가별_데이터_전처리_세계_추가_수정.csv')  # 경로 수정 필요. 추후 통합하는 걸로"
   ]
  },
  {
   "cell_type": "code",
   "execution_count": 3,
   "metadata": {},
   "outputs": [
    {
     "data": {
      "text/plain": [
       "array(['Afghanistan', 'Albania', 'Algeria', 'American Samoa', 'Angola',\n",
       "       'Antarctica', 'Antigua and Barbuda', 'Argentina', 'Armenia',\n",
       "       'Aruba', 'Australia', 'Austria', 'Azerbaijan', 'Bahrain',\n",
       "       'Bangladesh', 'Barbados', 'Belarus', 'Belgium', 'Belize', 'Benin',\n",
       "       'Bermuda', 'Bhutan', 'Bolivia', 'Bosnia and Herzegovina',\n",
       "       'Botswana', 'Brazil', 'British Virgin Islands', 'Brunei',\n",
       "       'Bulgaria', 'Burkina Faso', 'Burma', 'Burundi', 'Cabo Verde',\n",
       "       'Cambodia', 'Cameroon', 'Canada', 'Cayman Islands',\n",
       "       'Central African Republic', 'Chad', 'Chile', 'China', 'Colombia',\n",
       "       'Comoros', 'Congo-Brazzaville', 'Congo-Kinshasa', 'Cook Islands',\n",
       "       'Costa Rica', \"Cote d'Ivoire\", 'Cote dIvoire', 'Croatia', 'Cuba',\n",
       "       'Cyprus', 'Czechia', 'Denmark', 'Djibouti', 'Dominica',\n",
       "       'Dominican Republic', 'Ecuador', 'Egypt', 'El Salvador',\n",
       "       'Equatorial Guinea', 'Eritrea', 'Estonia', 'Eswatini', 'Ethiopia',\n",
       "       'Falkland Islands', 'Faroe Islands', 'Fiji', 'Finland',\n",
       "       'Former Czechoslovakia', 'Former Serbia and Montenegro',\n",
       "       'Former U.S.S.R.', 'Former Yugoslavia', 'France', 'French Guiana',\n",
       "       'French Polynesia', 'Gabon', 'Gambia, The', 'Georgia', 'Germany',\n",
       "       'Germany, East', 'Germany, West', 'Ghana', 'Gibraltar', 'Greece',\n",
       "       'Greenland', 'Grenada', 'Guadeloupe', 'Guam', 'Guatemala',\n",
       "       'Guinea', 'Guinea-Bissau', 'Guyana', 'Haiti',\n",
       "       'Hawaiian Trade Zone', 'Honduras', 'Hong Kong', 'Hungary',\n",
       "       'Iceland', 'India', 'Indonesia', 'Iran', 'Iraq', 'Ireland',\n",
       "       'Israel', 'Italy', 'Jamaica', 'Japan', 'Jordan', 'Kazakhstan',\n",
       "       'Kenya', 'Kiribati', 'Kosovo', 'Kuwait', 'Kyrgyzstan', 'Laos',\n",
       "       'Latvia', 'Lebanon', 'Lesotho', 'Liberia', 'Libya', 'Lithuania',\n",
       "       'Luxembourg', 'Macau', 'Madagascar', 'Malawi', 'Malaysia',\n",
       "       'Maldives', 'Mali', 'Malta', 'Martinique', 'Mauritania',\n",
       "       'Mauritius', 'Mexico', 'Micronesia', 'Moldova', 'Mongolia',\n",
       "       'Montenegro', 'Montserrat', 'Morocco', 'Mozambique', 'Namibia',\n",
       "       'Nauru', 'Nepal', 'Netherlands', 'Netherlands Antilles',\n",
       "       'New Caledonia', 'New Zealand', 'Nicaragua', 'Niger', 'Nigeria',\n",
       "       'Niue', 'North Korea', 'North Macedonia',\n",
       "       'Northern Mariana Islands', 'Norway', 'Oman', 'Pakistan',\n",
       "       'Palestinian Territories', 'Panama', 'Papua New Guinea',\n",
       "       'Paraguay', 'Peru', 'Philippines', 'Poland', 'Portugal',\n",
       "       'Puerto Rico', 'Qatar', 'Reunion', 'Romania', 'Russia', 'Rwanda',\n",
       "       'Saint Helena', 'Saint Kitts and Nevis', 'Saint Lucia',\n",
       "       'Saint Pierre and Miquelon', 'Saint Vincent/Grenadines', 'Samoa',\n",
       "       'Sao Tome and Principe', 'Saudi Arabia', 'Senegal', 'Serbia',\n",
       "       'Seychelles', 'Sierra Leone', 'Singapore', 'Slovakia', 'Slovenia',\n",
       "       'Solomon Islands', 'Somalia', 'South Africa', 'South Korea',\n",
       "       'South Sudan', 'Spain', 'Sri Lanka', 'Sudan', 'Suriname', 'Sweden',\n",
       "       'Switzerland', 'Syria', 'Taiwan', 'Tajikistan', 'Tanzania',\n",
       "       'Thailand', 'The Bahamas', 'Timor-Leste', 'Togo', 'Tonga',\n",
       "       'Trinidad and Tobago', 'Tunisia', 'Turkiye', 'Turkmenistan',\n",
       "       'Turks and Caicos Islands', 'Tuvalu', 'U.S. Pacific Islands',\n",
       "       'U.S. Territories', 'U.S. Virgin Islands', 'Uganda', 'Ukraine',\n",
       "       'United Arab Emirates', 'United Kingdom', 'United States',\n",
       "       'Uruguay', 'Uzbekistan', 'Vanuatu', 'Venezuela', 'Vietnam',\n",
       "       'Wake Island', 'Western Sahara', 'World', 'Yemen', 'Zambia',\n",
       "       'Zimbabwe'], dtype=object)"
      ]
     },
     "execution_count": 3,
     "metadata": {},
     "output_type": "execute_result"
    }
   ],
   "source": [
    "df['COUNTRY'].unique()"
   ]
  },
  {
   "cell_type": "code",
   "execution_count": 4,
   "metadata": {},
   "outputs": [
    {
     "data": {
      "text/plain": [
       "Index(['COUNTRY', 'Year', 'Biomass and waste (billion kWh)',\n",
       "       'CO2 emissions (MMtonnes CO2)', 'Coal (quad Btu)',\n",
       "       'Coal and coke (MMtonnes CO2)', 'Consumed natural gas (MMtonnes CO2)',\n",
       "       'Consumption (quad Btu)', 'Fossil fuels (billion kWh)', 'GDP',\n",
       "       'Generation (billion kWh)', 'Geothermal (billion kWh)',\n",
       "       'Hydroelectric pumped storage (billion kWh)',\n",
       "       'Hydroelectricity (billion kWh)', 'Natural gas (quad Btu)',\n",
       "       'Non-hydroelectric renewables (billion kWh)', 'Nuclear (billion kWh)',\n",
       "       'Nuclear (quad Btu)', 'Nuclear, renewables, and other (quad Btu)',\n",
       "       'Petroleum and other liquids (MMtonnes CO2)',\n",
       "       'Petroleum and other liquids (quad Btu)', 'Population',\n",
       "       'Renewables (billion kWh)', 'Renewables and other (quad Btu)',\n",
       "       'Solar (billion kWh)', 'Solar, tide, wave, fuel cell (billion kWh)',\n",
       "       'Tide and wave (billion kWh)', 'Wind (billion kWh)',\n",
       "       'electricity net consumption (billion kWh)'],\n",
       "      dtype='object')"
      ]
     },
     "execution_count": 4,
     "metadata": {},
     "output_type": "execute_result"
    }
   ],
   "source": [
    "df.columns"
   ]
  },
  {
   "cell_type": "code",
   "execution_count": 5,
   "metadata": {},
   "outputs": [
    {
     "name": "stdout",
     "output_type": "stream",
     "text": [
      "<class 'pandas.core.frame.DataFrame'>\n",
      "RangeIndex: 9744 entries, 0 to 9743\n",
      "Data columns (total 29 columns):\n",
      " #   Column                                      Non-Null Count  Dtype  \n",
      "---  ------                                      --------------  -----  \n",
      " 0   COUNTRY                                     9744 non-null   object \n",
      " 1   Year                                        9744 non-null   int64  \n",
      " 2   Biomass and waste (billion kWh)             9744 non-null   float64\n",
      " 3   CO2 emissions (MMtonnes CO2)                9744 non-null   float64\n",
      " 4   Coal (quad Btu)                             9744 non-null   float64\n",
      " 5   Coal and coke (MMtonnes CO2)                9744 non-null   float64\n",
      " 6   Consumed natural gas (MMtonnes CO2)         9744 non-null   float64\n",
      " 7   Consumption (quad Btu)                      9744 non-null   float64\n",
      " 8   Fossil fuels (billion kWh)                  9744 non-null   float64\n",
      " 9   GDP                                         9744 non-null   float64\n",
      " 10  Generation (billion kWh)                    9744 non-null   float64\n",
      " 11  Geothermal (billion kWh)                    9744 non-null   float64\n",
      " 12  Hydroelectric pumped storage (billion kWh)  9744 non-null   float64\n",
      " 13  Hydroelectricity (billion kWh)              9744 non-null   float64\n",
      " 14  Natural gas (quad Btu)                      9744 non-null   float64\n",
      " 15  Non-hydroelectric renewables (billion kWh)  9744 non-null   float64\n",
      " 16  Nuclear (billion kWh)                       9744 non-null   float64\n",
      " 17  Nuclear (quad Btu)                          9744 non-null   float64\n",
      " 18  Nuclear, renewables, and other (quad Btu)   9744 non-null   float64\n",
      " 19  Petroleum and other liquids (MMtonnes CO2)  9744 non-null   float64\n",
      " 20  Petroleum and other liquids (quad Btu)      9744 non-null   float64\n",
      " 21  Population                                  9744 non-null   float64\n",
      " 22  Renewables (billion kWh)                    9744 non-null   float64\n",
      " 23  Renewables and other (quad Btu)             9744 non-null   float64\n",
      " 24  Solar (billion kWh)                         9744 non-null   float64\n",
      " 25  Solar, tide, wave, fuel cell (billion kWh)  9744 non-null   float64\n",
      " 26  Tide and wave (billion kWh)                 9744 non-null   float64\n",
      " 27  Wind (billion kWh)                          9744 non-null   float64\n",
      " 28  electricity net consumption (billion kWh)   9744 non-null   float64\n",
      "dtypes: float64(27), int64(1), object(1)\n",
      "memory usage: 2.2+ MB\n"
     ]
    }
   ],
   "source": [
    "df.info()"
   ]
  },
  {
   "cell_type": "markdown",
   "metadata": {},
   "source": [
    "quad Btu: 소비  \n",
    "billion kWh: 생산 "
   ]
  },
  {
   "cell_type": "markdown",
   "metadata": {},
   "source": [
    "x에 필요한것: 발전. (화력발전, 원자력, 친환경)  \n",
    "y에 필요한것: 에너지 소비(전기)"
   ]
  },
  {
   "cell_type": "code",
   "execution_count": 6,
   "metadata": {},
   "outputs": [
    {
     "data": {
      "text/html": [
       "<div>\n",
       "<style scoped>\n",
       "    .dataframe tbody tr th:only-of-type {\n",
       "        vertical-align: middle;\n",
       "    }\n",
       "\n",
       "    .dataframe tbody tr th {\n",
       "        vertical-align: top;\n",
       "    }\n",
       "\n",
       "    .dataframe thead th {\n",
       "        text-align: right;\n",
       "    }\n",
       "</style>\n",
       "<table border=\"1\" class=\"dataframe\">\n",
       "  <thead>\n",
       "    <tr style=\"text-align: right;\">\n",
       "      <th></th>\n",
       "      <th>Renewables (billion kWh)</th>\n",
       "      <th>Fossil fuels (billion kWh)</th>\n",
       "      <th>Nuclear (billion kWh)</th>\n",
       "    </tr>\n",
       "  </thead>\n",
       "  <tbody>\n",
       "    <tr>\n",
       "      <th>0</th>\n",
       "      <td>0.711000</td>\n",
       "      <td>0.231000</td>\n",
       "      <td>0.0</td>\n",
       "    </tr>\n",
       "    <tr>\n",
       "      <th>1</th>\n",
       "      <td>0.721000</td>\n",
       "      <td>0.271000</td>\n",
       "      <td>0.0</td>\n",
       "    </tr>\n",
       "    <tr>\n",
       "      <th>2</th>\n",
       "      <td>0.707000</td>\n",
       "      <td>0.245000</td>\n",
       "      <td>0.0</td>\n",
       "    </tr>\n",
       "    <tr>\n",
       "      <th>3</th>\n",
       "      <td>0.746000</td>\n",
       "      <td>0.254000</td>\n",
       "      <td>0.0</td>\n",
       "    </tr>\n",
       "    <tr>\n",
       "      <th>4</th>\n",
       "      <td>0.757000</td>\n",
       "      <td>0.262000</td>\n",
       "      <td>0.0</td>\n",
       "    </tr>\n",
       "    <tr>\n",
       "      <th>...</th>\n",
       "      <td>...</td>\n",
       "      <td>...</td>\n",
       "      <td>...</td>\n",
       "    </tr>\n",
       "    <tr>\n",
       "      <th>9739</th>\n",
       "      <td>4.130900</td>\n",
       "      <td>3.218560</td>\n",
       "      <td>0.0</td>\n",
       "    </tr>\n",
       "    <tr>\n",
       "      <th>9740</th>\n",
       "      <td>5.254980</td>\n",
       "      <td>3.932020</td>\n",
       "      <td>0.0</td>\n",
       "    </tr>\n",
       "    <tr>\n",
       "      <th>9741</th>\n",
       "      <td>4.380599</td>\n",
       "      <td>3.850240</td>\n",
       "      <td>0.0</td>\n",
       "    </tr>\n",
       "    <tr>\n",
       "      <th>9742</th>\n",
       "      <td>3.938347</td>\n",
       "      <td>3.655663</td>\n",
       "      <td>0.0</td>\n",
       "    </tr>\n",
       "    <tr>\n",
       "      <th>9743</th>\n",
       "      <td>4.141269</td>\n",
       "      <td>3.889625</td>\n",
       "      <td>0.0</td>\n",
       "    </tr>\n",
       "  </tbody>\n",
       "</table>\n",
       "<p>9744 rows × 3 columns</p>\n",
       "</div>"
      ],
      "text/plain": [
       "      Renewables (billion kWh)  Fossil fuels (billion kWh)  \\\n",
       "0                     0.711000                    0.231000   \n",
       "1                     0.721000                    0.271000   \n",
       "2                     0.707000                    0.245000   \n",
       "3                     0.746000                    0.254000   \n",
       "4                     0.757000                    0.262000   \n",
       "...                        ...                         ...   \n",
       "9739                  4.130900                    3.218560   \n",
       "9740                  5.254980                    3.932020   \n",
       "9741                  4.380599                    3.850240   \n",
       "9742                  3.938347                    3.655663   \n",
       "9743                  4.141269                    3.889625   \n",
       "\n",
       "      Nuclear (billion kWh)  \n",
       "0                       0.0  \n",
       "1                       0.0  \n",
       "2                       0.0  \n",
       "3                       0.0  \n",
       "4                       0.0  \n",
       "...                     ...  \n",
       "9739                    0.0  \n",
       "9740                    0.0  \n",
       "9741                    0.0  \n",
       "9742                    0.0  \n",
       "9743                    0.0  \n",
       "\n",
       "[9744 rows x 3 columns]"
      ]
     },
     "execution_count": 6,
     "metadata": {},
     "output_type": "execute_result"
    }
   ],
   "source": [
    "# 상위 - 하위 카테고리로 묶여 있는 값 제거. 상위 범주 안에 이미 해당 값들이 포함되어 있음 \n",
    "X = df[['Renewables (billion kWh)', 'Fossil fuels (billion kWh)', 'Nuclear (billion kWh)']]\n",
    "\n",
    "X"
   ]
  },
  {
   "cell_type": "code",
   "execution_count": 7,
   "metadata": {},
   "outputs": [
    {
     "data": {
      "text/plain": [
       "0       0.876060\n",
       "1       0.922560\n",
       "2       0.885360\n",
       "3       0.930000\n",
       "4       0.947670\n",
       "          ...   \n",
       "9739    7.838552\n",
       "9740    8.455186\n",
       "9741    7.786427\n",
       "9742    8.131027\n",
       "9743    8.340104\n",
       "Name: electricity net consumption (billion kWh), Length: 9744, dtype: float64"
      ]
     },
     "execution_count": 7,
     "metadata": {},
     "output_type": "execute_result"
    }
   ],
   "source": [
    "y = df['electricity net consumption (billion kWh)']\n",
    "\n",
    "y"
   ]
  },
  {
   "cell_type": "code",
   "execution_count": 8,
   "metadata": {},
   "outputs": [
    {
     "name": "stdout",
     "output_type": "stream",
     "text": [
      "                            OLS Regression Results                            \n",
      "==============================================================================\n",
      "Dep. Variable:                      y   R-squared:                       1.000\n",
      "Model:                            OLS   Adj. R-squared:                  1.000\n",
      "Method:                 Least Squares   F-statistic:                 8.347e+06\n",
      "Date:                Tue, 07 Nov 2023   Prob (F-statistic):               0.00\n",
      "Time:                        22:31:33   Log-Likelihood:                -43552.\n",
      "No. Observations:                9744   AIC:                         8.711e+04\n",
      "Df Residuals:                    9740   BIC:                         8.714e+04\n",
      "Df Model:                           3                                         \n",
      "Covariance Type:            nonrobust                                         \n",
      "==============================================================================\n",
      "                 coef    std err          t      P>|t|      [0.025      0.975]\n",
      "------------------------------------------------------------------------------\n",
      "Intercept     -0.7942      0.216     -3.682      0.000      -1.217      -0.371\n",
      "X[0]           0.9380      0.003    271.276      0.000       0.931       0.945\n",
      "X[1]           0.9263      0.002    575.025      0.000       0.923       0.929\n",
      "X[2]           0.8336      0.004    194.127      0.000       0.825       0.842\n",
      "==============================================================================\n",
      "Omnibus:                    16074.914   Durbin-Watson:                   0.165\n",
      "Prob(Omnibus):                  0.000   Jarque-Bera (JB):         29002488.621\n",
      "Skew:                         -10.664   Prob(JB):                         0.00\n",
      "Kurtosis:                     269.420   Cond. No.                         829.\n",
      "==============================================================================\n",
      "\n",
      "Notes:\n",
      "[1] Standard Errors assume that the covariance matrix of the errors is correctly specified.\n"
     ]
    }
   ],
   "source": [
    "# 코드 10-2\n",
    "# 스탯츠모델스, 사이킷런 ==========\n",
    "from statsmodels.formula.api import ols \n",
    "from sklearn.linear_model import LinearRegression\n",
    "\n",
    "# 선형 회귀모형 형태(종속변수 ~ 독립변수1 + 독립변수2 + 독립변수3 + ···)\n",
    "# 단순 선형 회귀분석 ==========\n",
    "\n",
    "fit = ols('y~X', data=df).fit()\n",
    "print(fit.summary())"
   ]
  },
  {
   "cell_type": "code",
   "execution_count": 9,
   "metadata": {},
   "outputs": [],
   "source": [
    "from sklearn.preprocessing import StandardScaler\n",
    "from sklearn.model_selection import train_test_split\n",
    "from math import sqrt\n",
    "from sklearn.metrics import mean_absolute_error, mean_squared_error, r2_score, accuracy_score\n",
    "\n",
    "X_train, X_test, y_train, y_test = train_test_split(X, y, test_size = 0.3, random_state = 1004, shuffle = False)\n",
    "# 데이터 스케일링\n",
    "scaler_x = StandardScaler()\n",
    "X_train = scaler_x.fit_transform(X_train)\n",
    "X_test = scaler_x.transform(X_test)\n",
    "\n",
    "scaler_y = StandardScaler()\n",
    "y_train = scaler_y.fit_transform(y_train.values.reshape(-1, 1)).ravel()\n",
    "y_test = scaler_y.transform(y_test.values.reshape(-1, 1)).ravel()\n"
   ]
  },
  {
   "cell_type": "code",
   "execution_count": 10,
   "metadata": {},
   "outputs": [
    {
     "name": "stderr",
     "output_type": "stream",
     "text": [
      "C:\\Users\\vlrms\\AppData\\Local\\Packages\\PythonSoftwareFoundation.Python.3.7_qbz5n2kfra8p0\\LocalCache\\local-packages\\Python37\\site-packages\\sklearn\\svm\\_base.py:1208: ConvergenceWarning: Liblinear failed to converge, increase the number of iterations.\n",
      "  ConvergenceWarning,\n"
     ]
    },
    {
     "name": "stdout",
     "output_type": "stream",
     "text": [
      "알파값:  0.0001\n",
      "Train MAE: 4.04\n",
      "Train RMSE: 22.21\n",
      "Test MAE: 5.77\n",
      "Test RMSE: 25.50 \n",
      "\n",
      "R^2 0.9998190318634297\n"
     ]
    },
    {
     "name": "stderr",
     "output_type": "stream",
     "text": [
      "C:\\Users\\vlrms\\AppData\\Local\\Packages\\PythonSoftwareFoundation.Python.3.7_qbz5n2kfra8p0\\LocalCache\\local-packages\\Python37\\site-packages\\sklearn\\svm\\_base.py:1208: ConvergenceWarning: Liblinear failed to converge, increase the number of iterations.\n",
      "  ConvergenceWarning,\n"
     ]
    },
    {
     "name": "stdout",
     "output_type": "stream",
     "text": [
      "알파값:  0.001\n",
      "Train MAE: 4.23\n",
      "Train RMSE: 22.38\n",
      "Test MAE: 7.77\n",
      "Test RMSE: 41.50 \n",
      "\n",
      "R^2 0.999520699944662\n"
     ]
    },
    {
     "name": "stderr",
     "output_type": "stream",
     "text": [
      "C:\\Users\\vlrms\\AppData\\Local\\Packages\\PythonSoftwareFoundation.Python.3.7_qbz5n2kfra8p0\\LocalCache\\local-packages\\Python37\\site-packages\\sklearn\\svm\\_base.py:1208: ConvergenceWarning: Liblinear failed to converge, increase the number of iterations.\n",
      "  ConvergenceWarning,\n"
     ]
    },
    {
     "name": "stdout",
     "output_type": "stream",
     "text": [
      "알파값:  0.01\n",
      "Train MAE: 4.28\n",
      "Train RMSE: 22.17\n",
      "Test MAE: 5.36\n",
      "Test RMSE: 20.40 \n",
      "\n",
      "R^2 0.9998841769607673\n"
     ]
    },
    {
     "name": "stderr",
     "output_type": "stream",
     "text": [
      "C:\\Users\\vlrms\\AppData\\Local\\Packages\\PythonSoftwareFoundation.Python.3.7_qbz5n2kfra8p0\\LocalCache\\local-packages\\Python37\\site-packages\\sklearn\\svm\\_base.py:1208: ConvergenceWarning: Liblinear failed to converge, increase the number of iterations.\n",
      "  ConvergenceWarning,\n"
     ]
    },
    {
     "name": "stdout",
     "output_type": "stream",
     "text": [
      "알파값:  0.05\n",
      "Train MAE: 7.15\n",
      "Train RMSE: 22.24\n",
      "Test MAE: 9.07\n",
      "Test RMSE: 27.95 \n",
      "\n",
      "R^2 0.9997826011195772\n",
      "알파값:  0.1\n",
      "Train MAE: 11.96\n",
      "Train RMSE: 23.67\n",
      "Test MAE: 16.11\n",
      "Test RMSE: 52.49 \n",
      "\n",
      "R^2 0.9992334279391141\n",
      "알파값:  0.5\n",
      "Train MAE: 102.86\n",
      "Train RMSE: 104.21\n",
      "Test MAE: 112.10\n",
      "Test RMSE: 139.44 \n",
      "\n",
      "R^2 0.9945897452006784\n",
      "알파값:  2\n",
      "Train MAE: 15.64\n",
      "Train RMSE: 38.24\n",
      "Test MAE: 33.08\n",
      "Test RMSE: 134.07 \n",
      "\n",
      "R^2 0.9949985609238038\n",
      "알파값:  5\n",
      "Train MAE: 21.33\n",
      "Train RMSE: 72.39\n",
      "Test MAE: 58.86\n",
      "Test RMSE: 296.95 \n",
      "\n",
      "R^2 0.975464322243346\n",
      "알파값:  10\n",
      "Train MAE: 30.79\n",
      "Train RMSE: 114.49\n",
      "Test MAE: 115.98\n",
      "Test RMSE: 657.93 \n",
      "\n",
      "R^2 0.8795579188126722\n",
      "알파값:  100\n",
      "Train MAE: 78.66\n",
      "Train RMSE: 284.84\n",
      "Test MAE: 318.83\n",
      "Test RMSE: 1912.19 \n",
      "\n",
      "R^2 -0.01737270564340343\n"
     ]
    },
    {
     "name": "stderr",
     "output_type": "stream",
     "text": [
      "C:\\Users\\vlrms\\AppData\\Local\\Packages\\PythonSoftwareFoundation.Python.3.7_qbz5n2kfra8p0\\LocalCache\\local-packages\\Python37\\site-packages\\sklearn\\svm\\_base.py:1208: ConvergenceWarning: Liblinear failed to converge, increase the number of iterations.\n",
      "  ConvergenceWarning,\n",
      "C:\\Users\\vlrms\\AppData\\Local\\Packages\\PythonSoftwareFoundation.Python.3.7_qbz5n2kfra8p0\\LocalCache\\local-packages\\Python37\\site-packages\\sklearn\\svm\\_base.py:1208: ConvergenceWarning: Liblinear failed to converge, increase the number of iterations.\n",
      "  ConvergenceWarning,\n"
     ]
    }
   ],
   "source": [
    "from sklearn.svm import LinearSVR\n",
    "\n",
    "# 성능 지표를 저장할 리스트를 생성합니다.\n",
    "train_maes = []\n",
    "train_rmses = []\n",
    "test_maes = []\n",
    "test_rmses = []\n",
    "\n",
    "alphas = [0.0001, 0.001, 0.01, 0.05, 0.1, 0.5, 2, 5, 10, 100]\n",
    "for alpha in alphas:\n",
    "    model = LinearSVR(epsilon=alpha) # random_state=1\n",
    "    model.fit(X_train, y_train)\n",
    "\n",
    "    # 훈련 데이터에 대한 성능 확인\n",
    "    train_pred = model.predict(X_train)\n",
    "    train_pred_inverse = scaler_y.inverse_transform(train_pred.reshape(-1, 1)).ravel()\n",
    "    y_train_inverse = scaler_y.inverse_transform(y_train.reshape(-1, 1)).ravel()\n",
    "    train_mae = mean_absolute_error(y_train_inverse, train_pred_inverse)\n",
    "    train_rmse = np.sqrt(mean_squared_error(y_train_inverse, train_pred_inverse))\n",
    "\n",
    "    # 테스트 데이터에 대한 성능 확인\n",
    "    pred = model.predict(X_test)\n",
    "    pred_inverse = scaler_y.inverse_transform(pred.reshape(-1, 1)).ravel()\n",
    "    y_test_inverse = scaler_y.inverse_transform(y_test.reshape(-1, 1)).ravel()\n",
    "    test_mae = mean_absolute_error(y_test_inverse, pred_inverse)\n",
    "    test_rmse = np.sqrt(mean_squared_error(y_test_inverse, pred_inverse))\n",
    "\n",
    "    # 성능 지표를 리스트에 추가합니다.\n",
    "    train_maes.append(train_mae)\n",
    "    train_rmses.append(train_rmse)\n",
    "    test_maes.append(test_mae)\n",
    "    test_rmses.append(test_rmse)\n",
    "    print('알파값: ', alpha)\n",
    "    print(\"Train MAE: {:.2f}\".format(train_mae))\n",
    "    print(\"Train RMSE: {:.2f}\".format(train_rmse))\n",
    "    print(\"Test MAE: {:.2f}\".format(test_mae))\n",
    "    print(\"Test RMSE: {:.2f}\".format(test_rmse), '\\n')\n",
    "\n",
    "    print('R^2', r2_score(y_test, pred))\n",
    "\n"
   ]
  },
  {
   "cell_type": "code",
   "execution_count": 11,
   "metadata": {},
   "outputs": [
    {
     "name": "stdout",
     "output_type": "stream",
     "text": [
      "Train MAE: 4.33\n",
      "Train RMSE: 22.11\n",
      "Test MAE: 5.30\n",
      "Test RMSE: 19.25 \n",
      "\n",
      "R^2 0.9998968768064722\n"
     ]
    },
    {
     "name": "stderr",
     "output_type": "stream",
     "text": [
      "C:\\Users\\vlrms\\AppData\\Local\\Packages\\PythonSoftwareFoundation.Python.3.7_qbz5n2kfra8p0\\LocalCache\\local-packages\\Python37\\site-packages\\sklearn\\svm\\_base.py:1208: ConvergenceWarning: Liblinear failed to converge, increase the number of iterations.\n",
      "  ConvergenceWarning,\n"
     ]
    }
   ],
   "source": [
    "from sklearn.svm import LinearSVR\n",
    "\n",
    "model = LinearSVR(epsilon=0.005, random_state=1) # random_state=1\n",
    "model.fit(X_train, y_train)\n",
    "\n",
    "# 훈련 데이터에 대한 성능 확인\n",
    "train_pred = model.predict(X_train)\n",
    "train_pred_inverse = scaler_y.inverse_transform(train_pred.reshape(-1, 1)).ravel()\n",
    "y_train_inverse = scaler_y.inverse_transform(y_train.reshape(-1, 1)).ravel()\n",
    "train_mae = mean_absolute_error(y_train_inverse, train_pred_inverse)\n",
    "train_rmse = np.sqrt(mean_squared_error(y_train_inverse, train_pred_inverse))\n",
    "\n",
    "    # 테스트 데이터에 대한 성능 확인\n",
    "pred = model.predict(X_test)\n",
    "pred_inverse = scaler_y.inverse_transform(pred.reshape(-1, 1)).ravel()\n",
    "y_test_inverse = scaler_y.inverse_transform(y_test.reshape(-1, 1)).ravel()\n",
    "test_mae = mean_absolute_error(y_test_inverse, pred_inverse)\n",
    "test_rmse = np.sqrt(mean_squared_error(y_test_inverse, pred_inverse))\n",
    "\n",
    "    # 성능 지표를 리스트에 추가합니다.\n",
    "train_maes.append(train_mae)\n",
    "train_rmses.append(train_rmse)\n",
    "test_maes.append(test_mae)\n",
    "test_rmses.append(test_rmse)\n",
    "\n",
    "print(\"Train MAE: {:.2f}\".format(train_mae))\n",
    "print(\"Train RMSE: {:.2f}\".format(train_rmse))\n",
    "print(\"Test MAE: {:.2f}\".format(test_mae))\n",
    "print(\"Test RMSE: {:.2f}\".format(test_rmse), '\\n')\n",
    "\n",
    "print('R^2', r2_score(y_test, pred))\n",
    "\n"
   ]
  },
  {
   "cell_type": "code",
   "execution_count": 12,
   "metadata": {},
   "outputs": [
    {
     "data": {
      "image/png": "[encoded data removed]",
      "text/plain": [
       "<Figure size 720x576 with 1 Axes>"
      ]
     },
     "metadata": {
      "needs_background": "light"
     },
     "output_type": "display_data"
    }
   ],
   "source": [
    "# Feature importance, feature 선언\n",
    "importances = model.coef_\n",
    "features = X.columns\n",
    "\n",
    "# 중요한 변수 순으로 정렬\n",
    "indices = np.argsort(importances)\n",
    "sorted_features = [features[i] for i in indices]\n",
    "\n",
    "# 그래프 크기 지정\n",
    "plt.figure(figsize=(10, 8))\n",
    "\n",
    "# 막대그래프 show\n",
    "plt.barh(sorted_features, importances[indices])\n",
    "plt.show()"
   ]
  },
  {
   "cell_type": "code",
   "execution_count": 13,
   "metadata": {},
   "outputs": [
    {
     "name": "stdout",
     "output_type": "stream",
     "text": [
      "Train MAE: 5.09\n",
      "Train RMSE: 21.70\n",
      "Test MAE: 6.48\n",
      "Test RMSE: 21.88 \n",
      "\n",
      "R^2 0.999866815647207\n"
     ]
    }
   ],
   "source": [
    "from sklearn.linear_model import Ridge\n",
    "\n",
    "model = Ridge(alpha=0.5, random_state=1) # random_state=1\n",
    "model.fit(X_train, y_train)\n",
    "\n",
    "# 훈련 데이터에 대한 성능 확인\n",
    "train_pred = model.predict(X_train)\n",
    "train_pred_inverse = scaler_y.inverse_transform(train_pred.reshape(-1, 1)).ravel()\n",
    "y_train_inverse = scaler_y.inverse_transform(y_train.reshape(-1, 1)).ravel()\n",
    "train_mae = mean_absolute_error(y_train_inverse, train_pred_inverse)\n",
    "train_rmse = np.sqrt(mean_squared_error(y_train_inverse, train_pred_inverse))\n",
    "\n",
    "    # 테스트 데이터에 대한 성능 확인\n",
    "pred = model.predict(X_test)\n",
    "pred_inverse = scaler_y.inverse_transform(pred.reshape(-1, 1)).ravel()\n",
    "y_test_inverse = scaler_y.inverse_transform(y_test.reshape(-1, 1)).ravel()\n",
    "test_mae = mean_absolute_error(y_test_inverse, pred_inverse)\n",
    "test_rmse = np.sqrt(mean_squared_error(y_test_inverse, pred_inverse))\n",
    "\n",
    "    # 성능 지표를 리스트에 추가합니다.\n",
    "train_maes.append(train_mae)\n",
    "train_rmses.append(train_rmse)\n",
    "test_maes.append(test_mae)\n",
    "test_rmses.append(test_rmse)\n",
    "\n",
    "print(\"Train MAE: {:.2f}\".format(train_mae))\n",
    "print(\"Train RMSE: {:.2f}\".format(train_rmse))\n",
    "print(\"Test MAE: {:.2f}\".format(test_mae))\n",
    "print(\"Test RMSE: {:.2f}\".format(test_rmse), '\\n')\n",
    "\n",
    "print('R^2', r2_score(y_test, pred))\n",
    "\n"
   ]
  },
  {
   "cell_type": "code",
   "execution_count": 14,
   "metadata": {},
   "outputs": [
    {
     "data": {
      "image/png": "[encoded data removed]",
      "text/plain": [
       "<Figure size 720x576 with 1 Axes>"
      ]
     },
     "metadata": {
      "needs_background": "light"
     },
     "output_type": "display_data"
    }
   ],
   "source": [
    "# Feature coefficients, feature 선언\n",
    "coefficients = model.coef_\n",
    "features = X.columns\n",
    "\n",
    "# coefficients 순으로 정렬\n",
    "indices = np.argsort(coefficients)\n",
    "sorted_features = [features[i] for i in indices]\n",
    "\n",
    "# 그래프 크기 지정\n",
    "plt.figure(figsize=(10, 8))\n",
    "\n",
    "# 막대그래프 show\n",
    "plt.barh(sorted_features, coefficients[indices])\n",
    "plt.show()"
   ]
  },
  {
   "cell_type": "code",
   "execution_count": 15,
   "metadata": {},
   "outputs": [
    {
     "name": "stdout",
     "output_type": "stream",
     "text": [
      "Train MAE: 5.05\n",
      "Train RMSE: 21.70\n",
      "Test MAE: 6.37\n",
      "Test RMSE: 21.89 \n",
      "\n",
      "R^2 0.9998666935407212\n"
     ]
    }
   ],
   "source": [
    "from sklearn.linear_model import Lasso\n",
    "\n",
    "model = Lasso(alpha=0.001, random_state=1) # random_state=1\n",
    "model.fit(X_train, y_train)\n",
    "\n",
    "# 훈련 데이터에 대한 성능 확인\n",
    "train_pred = model.predict(X_train)\n",
    "train_pred_inverse = scaler_y.inverse_transform(train_pred.reshape(-1, 1)).ravel()\n",
    "y_train_inverse = scaler_y.inverse_transform(y_train.reshape(-1, 1)).ravel()\n",
    "train_mae = mean_absolute_error(y_train_inverse, train_pred_inverse)\n",
    "train_rmse = np.sqrt(mean_squared_error(y_train_inverse, train_pred_inverse))\n",
    "\n",
    "    # 테스트 데이터에 대한 성능 확인\n",
    "pred = model.predict(X_test)\n",
    "pred_inverse = scaler_y.inverse_transform(pred.reshape(-1, 1)).ravel()\n",
    "y_test_inverse = scaler_y.inverse_transform(y_test.reshape(-1, 1)).ravel()\n",
    "test_mae = mean_absolute_error(y_test_inverse, pred_inverse)\n",
    "test_rmse = np.sqrt(mean_squared_error(y_test_inverse, pred_inverse))\n",
    "\n",
    "    # 성능 지표를 리스트에 추가합니다.\n",
    "train_maes.append(train_mae)\n",
    "train_rmses.append(train_rmse)\n",
    "test_maes.append(test_mae)\n",
    "test_rmses.append(test_rmse)\n",
    "\n",
    "print(\"Train MAE: {:.2f}\".format(train_mae))\n",
    "print(\"Train RMSE: {:.2f}\".format(train_rmse))\n",
    "print(\"Test MAE: {:.2f}\".format(test_mae))\n",
    "print(\"Test RMSE: {:.2f}\".format(test_rmse), '\\n')\n",
    "\n",
    "print('R^2', r2_score(y_test, pred))\n",
    "\n"
   ]
  },
  {
   "cell_type": "code",
   "execution_count": 16,
   "metadata": {},
   "outputs": [
    {
     "data": {
      "image/png": "[encoded data removed]",
      "text/plain": [
       "<Figure size 720x576 with 1 Axes>"
      ]
     },
     "metadata": {
      "needs_background": "light"
     },
     "output_type": "display_data"
    }
   ],
   "source": [
    "# Feature coefficients, feature 선언\n",
    "coefficients = model.coef_\n",
    "features = X.columns\n",
    "\n",
    "# coefficients 순으로 정렬\n",
    "indices = np.argsort(coefficients)\n",
    "sorted_features = [features[i] for i in indices]\n",
    "\n",
    "# 그래프 크기 지정\n",
    "plt.figure(figsize=(10, 8))\n",
    "\n",
    "# 막대그래프 show\n",
    "plt.barh(sorted_features, coefficients[indices])\n",
    "plt.show()"
   ]
  }
 ],
 "metadata": {
  "kernelspec": {
   "display_name": "Python 3",
   "language": "python",
   "name": "python3"
  },
  "language_info": {
   "codemirror_mode": {
    "name": "ipython",
    "version": 3
   },
   "file_extension": ".py",
   "mimetype": "text/x-python",
   "name": "python",
   "nbconvert_exporter": "python",
   "pygments_lexer": "ipython3",
   "version": "3.7.9"
  }
 },
 "nbformat": 4,
 "nbformat_minor": 2
}
