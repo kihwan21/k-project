{
 "cells": [
  {
   "cell_type": "code",
   "execution_count": 58,
   "metadata": {},
   "outputs": [],
   "source": [
    "import os\n",
    "import numpy as np\n",
    "import pandas as pd\n",
    "import matplotlib.pyplot as plt\n"
   ]
  },
  {
   "cell_type": "code",
   "execution_count": 59,
   "metadata": {},
   "outputs": [
    {
     "data": {
      "text/html": [
       "<div>\n",
       "<style scoped>\n",
       "    .dataframe tbody tr th:only-of-type {\n",
       "        vertical-align: middle;\n",
       "    }\n",
       "\n",
       "    .dataframe tbody tr th {\n",
       "        vertical-align: top;\n",
       "    }\n",
       "\n",
       "    .dataframe thead th {\n",
       "        text-align: right;\n",
       "    }\n",
       "</style>\n",
       "<table border=\"1\" class=\"dataframe\">\n",
       "  <thead>\n",
       "    <tr style=\"text-align: right;\">\n",
       "      <th></th>\n",
       "      <th>일시</th>\n",
       "      <th>합계 생산(1000 toe)</th>\n",
       "      <th>무연탄 생산(1000 toe)</th>\n",
       "      <th>천연가스 생산(1000 toe)</th>\n",
       "      <th>수력 생산(1000 toe)</th>\n",
       "      <th>원자력 생산(1000 toe)</th>\n",
       "      <th>신재생 및 기타 생산(1000 toe)</th>\n",
       "      <th>합계 소비(1000 toe)</th>\n",
       "      <th>석탄 소비(1000 toe)</th>\n",
       "      <th>석유 소비(1000 toe)</th>\n",
       "      <th>액화천연가스 소비(1000 toe)</th>\n",
       "      <th>도시가스 소비(1000 toe)</th>\n",
       "      <th>전력 소비(1000 toe)</th>\n",
       "      <th>열 소비(1000 toe)</th>\n",
       "      <th>신재생 및 기타 소비(%)</th>\n",
       "      <th>이산화탄소(CO2)</th>\n",
       "      <th>미세먼지</th>\n",
       "      <th>평균기온</th>\n",
       "      <th>최고기온</th>\n",
       "      <th>최저기온</th>\n",
       "    </tr>\n",
       "  </thead>\n",
       "  <tbody>\n",
       "    <tr>\n",
       "      <th>0</th>\n",
       "      <td>1999-01-01</td>\n",
       "      <td>2303</td>\n",
       "      <td>162</td>\n",
       "      <td>0</td>\n",
       "      <td>78</td>\n",
       "      <td>1928</td>\n",
       "      <td>137</td>\n",
       "      <td>13466</td>\n",
       "      <td>1522</td>\n",
       "      <td>8751</td>\n",
       "      <td>0</td>\n",
       "      <td>1427</td>\n",
       "      <td>1450</td>\n",
       "      <td>180</td>\n",
       "      <td>137</td>\n",
       "      <td>373.1</td>\n",
       "      <td>NaN</td>\n",
       "      <td>-0.8</td>\n",
       "      <td>12.4</td>\n",
       "      <td>-12.2</td>\n",
       "    </tr>\n",
       "    <tr>\n",
       "      <th>1</th>\n",
       "      <td>1999-02-01</td>\n",
       "      <td>2216</td>\n",
       "      <td>137</td>\n",
       "      <td>0</td>\n",
       "      <td>94</td>\n",
       "      <td>1854</td>\n",
       "      <td>132</td>\n",
       "      <td>12179</td>\n",
       "      <td>1313</td>\n",
       "      <td>7800</td>\n",
       "      <td>0</td>\n",
       "      <td>1404</td>\n",
       "      <td>1379</td>\n",
       "      <td>152</td>\n",
       "      <td>132</td>\n",
       "      <td>374.0</td>\n",
       "      <td>NaN</td>\n",
       "      <td>0.7</td>\n",
       "      <td>10.2</td>\n",
       "      <td>-12.3</td>\n",
       "    </tr>\n",
       "    <tr>\n",
       "      <th>2</th>\n",
       "      <td>1999-03-01</td>\n",
       "      <td>2444</td>\n",
       "      <td>174</td>\n",
       "      <td>0</td>\n",
       "      <td>112</td>\n",
       "      <td>2012</td>\n",
       "      <td>146</td>\n",
       "      <td>13219</td>\n",
       "      <td>1566</td>\n",
       "      <td>8723</td>\n",
       "      <td>0</td>\n",
       "      <td>1206</td>\n",
       "      <td>1447</td>\n",
       "      <td>130</td>\n",
       "      <td>146</td>\n",
       "      <td>374.9</td>\n",
       "      <td>NaN</td>\n",
       "      <td>6.7</td>\n",
       "      <td>18.8</td>\n",
       "      <td>-6.2</td>\n",
       "    </tr>\n",
       "    <tr>\n",
       "      <th>3</th>\n",
       "      <td>1999-04-01</td>\n",
       "      <td>2342</td>\n",
       "      <td>163</td>\n",
       "      <td>0</td>\n",
       "      <td>137</td>\n",
       "      <td>1889</td>\n",
       "      <td>152</td>\n",
       "      <td>11957</td>\n",
       "      <td>1526</td>\n",
       "      <td>7748</td>\n",
       "      <td>0</td>\n",
       "      <td>978</td>\n",
       "      <td>1477</td>\n",
       "      <td>76</td>\n",
       "      <td>152</td>\n",
       "      <td>375.1</td>\n",
       "      <td>NaN</td>\n",
       "      <td>13.9</td>\n",
       "      <td>28.2</td>\n",
       "      <td>1.6</td>\n",
       "    </tr>\n",
       "    <tr>\n",
       "      <th>4</th>\n",
       "      <td>1999-05-01</td>\n",
       "      <td>2601</td>\n",
       "      <td>151</td>\n",
       "      <td>0</td>\n",
       "      <td>131</td>\n",
       "      <td>2163</td>\n",
       "      <td>156</td>\n",
       "      <td>10270</td>\n",
       "      <td>1544</td>\n",
       "      <td>6437</td>\n",
       "      <td>0</td>\n",
       "      <td>626</td>\n",
       "      <td>1463</td>\n",
       "      <td>45</td>\n",
       "      <td>156</td>\n",
       "      <td>374.0</td>\n",
       "      <td>NaN</td>\n",
       "      <td>17.5</td>\n",
       "      <td>28.1</td>\n",
       "      <td>10.2</td>\n",
       "    </tr>\n",
       "  </tbody>\n",
       "</table>\n",
       "</div>"
      ],
      "text/plain": [
       "           일시  합계 생산(1000 toe)  무연탄 생산(1000 toe)  천연가스 생산(1000 toe)  \\\n",
       "0  1999-01-01             2303               162                  0   \n",
       "1  1999-02-01             2216               137                  0   \n",
       "2  1999-03-01             2444               174                  0   \n",
       "3  1999-04-01             2342               163                  0   \n",
       "4  1999-05-01             2601               151                  0   \n",
       "\n",
       "   수력 생산(1000 toe)  원자력 생산(1000 toe)  신재생 및 기타 생산(1000 toe)  합계 소비(1000 toe)  \\\n",
       "0               78              1928                    137            13466   \n",
       "1               94              1854                    132            12179   \n",
       "2              112              2012                    146            13219   \n",
       "3              137              1889                    152            11957   \n",
       "4              131              2163                    156            10270   \n",
       "\n",
       "   석탄 소비(1000 toe)  석유 소비(1000 toe)  액화천연가스 소비(1000 toe)  도시가스 소비(1000 toe)  \\\n",
       "0             1522             8751                    0               1427   \n",
       "1             1313             7800                    0               1404   \n",
       "2             1566             8723                    0               1206   \n",
       "3             1526             7748                    0                978   \n",
       "4             1544             6437                    0                626   \n",
       "\n",
       "   전력 소비(1000 toe)  열 소비(1000 toe)  신재생 및 기타 소비(%)  이산화탄소(CO2)  미세먼지  평균기온  \\\n",
       "0             1450             180             137       373.1   NaN  -0.8   \n",
       "1             1379             152             132       374.0   NaN   0.7   \n",
       "2             1447             130             146       374.9   NaN   6.7   \n",
       "3             1477              76             152       375.1   NaN  13.9   \n",
       "4             1463              45             156       374.0   NaN  17.5   \n",
       "\n",
       "   최고기온  최저기온  \n",
       "0  12.4 -12.2  \n",
       "1  10.2 -12.3  \n",
       "2  18.8  -6.2  \n",
       "3  28.2   1.6  \n",
       "4  28.1  10.2  "
      ]
     },
     "execution_count": 59,
     "metadata": {},
     "output_type": "execute_result"
    }
   ],
   "source": [
    "df = pd.read_csv('C:/k-project/김기환/01_최종_국내_데이터(x,y 합친 데이터셋).csv', encoding=\"euc-kr\")\n",
    "\n",
    "df.head()"
   ]
  },
  {
   "cell_type": "code",
   "execution_count": 60,
   "metadata": {},
   "outputs": [
    {
     "data": {
      "text/plain": [
       "Index(['일시', '합계 생산(1000 toe)', '무연탄 생산(1000 toe)', '천연가스 생산(1000 toe)',\n",
       "       '수력 생산(1000 toe)', '원자력 생산(1000 toe)', '신재생 및 기타 생산(1000 toe)',\n",
       "       '합계 소비(1000 toe)', '석탄 소비(1000 toe)', '석유 소비(1000 toe)',\n",
       "       '액화천연가스 소비(1000 toe)', '도시가스 소비(1000 toe)', '전력 소비(1000 toe)',\n",
       "       '열 소비(1000 toe)', '신재생 및 기타 소비(%)', '이산화탄소(CO2)', '미세먼지', '평균기온',\n",
       "       '최고기온', '최저기온'],\n",
       "      dtype='object')"
      ]
     },
     "execution_count": 60,
     "metadata": {},
     "output_type": "execute_result"
    }
   ],
   "source": [
    "df.columns"
   ]
  },
  {
   "cell_type": "code",
   "execution_count": 61,
   "metadata": {},
   "outputs": [],
   "source": [
    "df = df.drop('일시', axis=1)"
   ]
  },
  {
   "cell_type": "code",
   "execution_count": 62,
   "metadata": {},
   "outputs": [
    {
     "name": "stdout",
     "output_type": "stream",
     "text": [
      "<class 'pandas.core.frame.DataFrame'>\n",
      "RangeIndex: 284 entries, 0 to 283\n",
      "Data columns (total 19 columns):\n",
      " #   Column                 Non-Null Count  Dtype  \n",
      "---  ------                 --------------  -----  \n",
      " 0   합계 생산(1000 toe)        284 non-null    int64  \n",
      " 1   무연탄 생산(1000 toe)       284 non-null    int64  \n",
      " 2   천연가스 생산(1000 toe)      284 non-null    int64  \n",
      " 3   수력 생산(1000 toe)        284 non-null    int64  \n",
      " 4   원자력 생산(1000 toe)       284 non-null    int64  \n",
      " 5   신재생 및 기타 생산(1000 toe)  284 non-null    int64  \n",
      " 6   합계 소비(1000 toe)        284 non-null    int64  \n",
      " 7   석탄 소비(1000 toe)        284 non-null    int64  \n",
      " 8   석유 소비(1000 toe)        284 non-null    int64  \n",
      " 9   액화천연가스 소비(1000 toe)    284 non-null    int64  \n",
      " 10  도시가스 소비(1000 toe)      284 non-null    int64  \n",
      " 11  전력 소비(1000 toe)        284 non-null    int64  \n",
      " 12  열 소비(1000 toe)         284 non-null    int64  \n",
      " 13  신재생 및 기타 소비(%)         284 non-null    int64  \n",
      " 14  이산화탄소(CO2)             284 non-null    float64\n",
      " 15  미세먼지                   152 non-null    float64\n",
      " 16  평균기온                   284 non-null    float64\n",
      " 17  최고기온                   284 non-null    float64\n",
      " 18  최저기온                   284 non-null    float64\n",
      "dtypes: float64(5), int64(14)\n",
      "memory usage: 42.3 KB\n"
     ]
    }
   ],
   "source": [
    "df.info()"
   ]
  },
  {
   "cell_type": "code",
   "execution_count": 63,
   "metadata": {},
   "outputs": [
    {
     "data": {
      "text/plain": [
       "(284, 15)"
      ]
     },
     "execution_count": 63,
     "metadata": {},
     "output_type": "execute_result"
    }
   ],
   "source": [
    "# 특징행렬 추출 (feature matrix)\n",
    "\n",
    "X = df.drop(['미세먼지', '평균기온', '최고기온', '최저기온'], axis=1)\n",
    "X.shape"
   ]
  },
  {
   "cell_type": "code",
   "execution_count": 64,
   "metadata": {},
   "outputs": [
    {
     "data": {
      "text/plain": [
       "(284,)"
      ]
     },
     "execution_count": 64,
     "metadata": {},
     "output_type": "execute_result"
    }
   ],
   "source": [
    "y = df['이산화탄소(CO2)']\n",
    "y.shape"
   ]
  },
  {
   "cell_type": "code",
   "execution_count": null,
   "metadata": {},
   "outputs": [],
   "source": []
  },
  {
   "cell_type": "code",
   "execution_count": 65,
   "metadata": {},
   "outputs": [],
   "source": [
    "from sklearn.model_selection import train_test_split    "
   ]
  },
  {
   "cell_type": "code",
   "execution_count": 66,
   "metadata": {},
   "outputs": [
    {
     "name": "stdout",
     "output_type": "stream",
     "text": [
      "입력변수(학습데이터):  (227, 15)\n",
      "입력변수(검증데이터):  (57, 15)\n",
      "종속변수(학습데이터):  (227,)\n",
      "종속변수(검증데이터):  (57,)\n"
     ]
    }
   ],
   "source": [
    "X_train, X_test, y_train, y_test = train_test_split(X, y, test_size=0.2, random_state=1)\n",
    "\n",
    "print('입력변수(학습데이터): ',  X_train.shape)\n",
    "print('입력변수(검증데이터): ', X_test.shape)\n",
    "print('종속변수(학습데이터): ',  y_train.shape)\n",
    "print('종속변수(검증데이터): ', y_test.shape)"
   ]
  },
  {
   "cell_type": "code",
   "execution_count": 75,
   "metadata": {},
   "outputs": [
    {
     "name": "stderr",
     "output_type": "stream",
     "text": [
      "c:\\Users\\user\\AppData\\Local\\Programs\\Python\\Python38\\lib\\site-packages\\sklearn\\svm\\_classes.py:32: FutureWarning: The default value of `dual` will change from `True` to `'auto'` in 1.5. Set the value of `dual` explicitly to suppress the warning.\n",
      "  warnings.warn(\n",
      "c:\\Users\\user\\AppData\\Local\\Programs\\Python\\Python38\\lib\\site-packages\\sklearn\\svm\\_base.py:1242: ConvergenceWarning: Liblinear failed to converge, increase the number of iterations.\n",
      "  warnings.warn(\n"
     ]
    },
    {
     "data": {
      "text/html": [
       "<style>#sk-container-id-3 {color: black;}#sk-container-id-3 pre{padding: 0;}#sk-container-id-3 div.sk-toggleable {background-color: white;}#sk-container-id-3 label.sk-toggleable__label {cursor: pointer;display: block;width: 100%;margin-bottom: 0;padding: 0.3em;box-sizing: border-box;text-align: center;}#sk-container-id-3 label.sk-toggleable__label-arrow:before {content: \"▸\";float: left;margin-right: 0.25em;color: #696969;}#sk-container-id-3 label.sk-toggleable__label-arrow:hover:before {color: black;}#sk-container-id-3 div.sk-estimator:hover label.sk-toggleable__label-arrow:before {color: black;}#sk-container-id-3 div.sk-toggleable__content {max-height: 0;max-width: 0;overflow: hidden;text-align: left;background-color: #f0f8ff;}#sk-container-id-3 div.sk-toggleable__content pre {margin: 0.2em;color: black;border-radius: 0.25em;background-color: #f0f8ff;}#sk-container-id-3 input.sk-toggleable__control:checked~div.sk-toggleable__content {max-height: 200px;max-width: 100%;overflow: auto;}#sk-container-id-3 input.sk-toggleable__control:checked~label.sk-toggleable__label-arrow:before {content: \"▾\";}#sk-container-id-3 div.sk-estimator input.sk-toggleable__control:checked~label.sk-toggleable__label {background-color: #d4ebff;}#sk-container-id-3 div.sk-label input.sk-toggleable__control:checked~label.sk-toggleable__label {background-color: #d4ebff;}#sk-container-id-3 input.sk-hidden--visually {border: 0;clip: rect(1px 1px 1px 1px);clip: rect(1px, 1px, 1px, 1px);height: 1px;margin: -1px;overflow: hidden;padding: 0;position: absolute;width: 1px;}#sk-container-id-3 div.sk-estimator {font-family: monospace;background-color: #f0f8ff;border: 1px dotted black;border-radius: 0.25em;box-sizing: border-box;margin-bottom: 0.5em;}#sk-container-id-3 div.sk-estimator:hover {background-color: #d4ebff;}#sk-container-id-3 div.sk-parallel-item::after {content: \"\";width: 100%;border-bottom: 1px solid gray;flex-grow: 1;}#sk-container-id-3 div.sk-label:hover label.sk-toggleable__label {background-color: #d4ebff;}#sk-container-id-3 div.sk-serial::before {content: \"\";position: absolute;border-left: 1px solid gray;box-sizing: border-box;top: 0;bottom: 0;left: 50%;z-index: 0;}#sk-container-id-3 div.sk-serial {display: flex;flex-direction: column;align-items: center;background-color: white;padding-right: 0.2em;padding-left: 0.2em;position: relative;}#sk-container-id-3 div.sk-item {position: relative;z-index: 1;}#sk-container-id-3 div.sk-parallel {display: flex;align-items: stretch;justify-content: center;background-color: white;position: relative;}#sk-container-id-3 div.sk-item::before, #sk-container-id-3 div.sk-parallel-item::before {content: \"\";position: absolute;border-left: 1px solid gray;box-sizing: border-box;top: 0;bottom: 0;left: 50%;z-index: -1;}#sk-container-id-3 div.sk-parallel-item {display: flex;flex-direction: column;z-index: 1;position: relative;background-color: white;}#sk-container-id-3 div.sk-parallel-item:first-child::after {align-self: flex-end;width: 50%;}#sk-container-id-3 div.sk-parallel-item:last-child::after {align-self: flex-start;width: 50%;}#sk-container-id-3 div.sk-parallel-item:only-child::after {width: 0;}#sk-container-id-3 div.sk-dashed-wrapped {border: 1px dashed gray;margin: 0 0.4em 0.5em 0.4em;box-sizing: border-box;padding-bottom: 0.4em;background-color: white;}#sk-container-id-3 div.sk-label label {font-family: monospace;font-weight: bold;display: inline-block;line-height: 1.2em;}#sk-container-id-3 div.sk-label-container {text-align: center;}#sk-container-id-3 div.sk-container {/* jupyter's `normalize.less` sets `[hidden] { display: none; }` but bootstrap.min.css set `[hidden] { display: none !important; }` so we also need the `!important` here to be able to override the default hidden behavior on the sphinx rendered scikit-learn.org. See: https://github.com/scikit-learn/scikit-learn/issues/21755 */display: inline-block !important;position: relative;}#sk-container-id-3 div.sk-text-repr-fallback {display: none;}</style><div id=\"sk-container-id-3\" class=\"sk-top-container\"><div class=\"sk-text-repr-fallback\"><pre>LinearSVR(epsilon=0.5, random_state=43)</pre><b>In a Jupyter environment, please rerun this cell to show the HTML representation or trust the notebook. <br />On GitHub, the HTML representation is unable to render, please try loading this page with nbviewer.org.</b></div><div class=\"sk-container\" hidden><div class=\"sk-item\"><div class=\"sk-estimator sk-toggleable\"><input class=\"sk-toggleable__control sk-hidden--visually\" id=\"sk-estimator-id-3\" type=\"checkbox\" checked><label for=\"sk-estimator-id-3\" class=\"sk-toggleable__label sk-toggleable__label-arrow\">LinearSVR</label><div class=\"sk-toggleable__content\"><pre>LinearSVR(epsilon=0.5, random_state=43)</pre></div></div></div></div></div>"
      ],
      "text/plain": [
       "LinearSVR(epsilon=0.5, random_state=43)"
      ]
     },
     "execution_count": 75,
     "metadata": {},
     "output_type": "execute_result"
    }
   ],
   "source": [
    "from sklearn.svm import LinearSVR\n",
    "model = LinearSVR(epsilon=0.5, random_state=43) \n",
    "model.fit(X_train, y_train) # 모델 학습"
   ]
  },
  {
   "cell_type": "code",
   "execution_count": 76,
   "metadata": {},
   "outputs": [
    {
     "name": "stdout",
     "output_type": "stream",
     "text": [
      "MAE: 5.14%\n",
      "RMSE: 6.29%\n"
     ]
    }
   ],
   "source": [
    "from sklearn.metrics import mean_absolute_error, mean_squared_error\n",
    "from math import sqrt\n",
    "\n",
    "# Predict를 수행하고 mean_absolute_error, rmse 결과 출력하기\n",
    "pred = model.predict(X_test)    # X_test를 이용한 예측값 pred \n",
    "mean_absolute_error(y_test, pred)\n",
    "np.sqrt(mean_squared_error(y_test, pred))\n",
    "\n",
    "mae = mean_absolute_error(y_test, pred)\n",
    "rmse = np.sqrt(mean_squared_error(y_test, pred))\n",
    "\n",
    "# MAE 및 RMSE를 백분율로 표시\n",
    "mae_percentage = (mae / np.mean(y_test)) * 100\n",
    "rmse_percentage = (rmse / np.mean(y_test)) * 100\n",
    "\n",
    "print(\"MAE: {:.2f}%\".format(mae_percentage))\n",
    "print(\"RMSE: {:.2f}%\".format(rmse_percentage))\n"
   ]
  },
  {
   "cell_type": "code",
   "execution_count": 77,
   "metadata": {},
   "outputs": [
    {
     "data": {
      "text/plain": [
       "-1.660458229059678"
      ]
     },
     "execution_count": 77,
     "metadata": {},
     "output_type": "execute_result"
    }
   ],
   "source": [
    "from  sklearn.metrics import r2_score\n",
    "\n",
    "r2_score(y_test, pred)\n"
   ]
  },
  {
   "cell_type": "code",
   "execution_count": null,
   "metadata": {},
   "outputs": [],
   "source": []
  }
 ],
 "metadata": {
  "kernelspec": {
   "display_name": "Python 3",
   "language": "python",
   "name": "python3"
  },
  "language_info": {
   "codemirror_mode": {
    "name": "ipython",
    "version": 3
   },
   "file_extension": ".py",
   "mimetype": "text/x-python",
   "name": "python",
   "nbconvert_exporter": "python",
   "pygments_lexer": "ipython3",
   "version": "3.8.5"
  },
  "orig_nbformat": 4
 },
 "nbformat": 4,
 "nbformat_minor": 2
}
