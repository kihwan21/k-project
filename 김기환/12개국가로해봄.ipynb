{
 "cells": [
  {
   "cell_type": "code",
   "execution_count": 11,
   "metadata": {},
   "outputs": [],
   "source": [
    "import pandas as pd\n",
    "# 필요한 라이브러리 불러오기\n",
    "\n",
    "import numpy as np\n",
    "import matplotlib.pyplot as plt\n",
    "import seaborn as sns\n",
    "from scipy import stats\n",
    "import matplotlib.font_manager as fm\n",
    "\n",
    "# 한글 깨짐 방지 \n",
    "plt.rcParams['font.family'] = 'NanumGothic' "
   ]
  },
  {
   "cell_type": "code",
   "execution_count": 12,
   "metadata": {},
   "outputs": [],
   "source": [
    "df = pd.read_csv('C:/k-project\\source\\model(최종)-업로드X/00_국가별_데이터_전처리_세계_추가_수정.csv')  # 경로 수정 필요. 추후 통합하는 걸로"
   ]
  },
  {
   "cell_type": "code",
   "execution_count": 13,
   "metadata": {},
   "outputs": [
    {
     "name": "stdout",
     "output_type": "stream",
     "text": [
      "<class 'pandas.core.frame.DataFrame'>\n",
      "RangeIndex: 676 entries, 0 to 675\n",
      "Data columns (total 28 columns):\n",
      " #   Column                                      Non-Null Count  Dtype  \n",
      "---  ------                                      --------------  -----  \n",
      " 0   COUNTRY                                     672 non-null    object \n",
      " 1   Year                                        672 non-null    float64\n",
      " 2   Biomass and waste (billion kWh)             672 non-null    float64\n",
      " 3   CO2 emissions (MMtonnes CO2)                672 non-null    float64\n",
      " 4   Coal (quad Btu)                             672 non-null    float64\n",
      " 5   Coal and coke (MMtonnes CO2)                672 non-null    float64\n",
      " 6   Consumed natural gas (MMtonnes CO2)         672 non-null    float64\n",
      " 7   Consumption (quad Btu)                      672 non-null    float64\n",
      " 8   Fossil fuels (billion kWh)                  672 non-null    float64\n",
      " 9   GDP                                         672 non-null    float64\n",
      " 10  Generation (billion kWh)                    672 non-null    float64\n",
      " 11  Geothermal (billion kWh)                    672 non-null    float64\n",
      " 12  Hydroelectric pumped storage (billion kWh)  672 non-null    float64\n",
      " 13  Hydroelectricity (billion kWh)              672 non-null    float64\n",
      " 14  Natural gas (quad Btu)                      672 non-null    float64\n",
      " 15  Non-hydroelectric renewables (billion kWh)  672 non-null    float64\n",
      " 16  Nuclear (billion kWh)                       672 non-null    float64\n",
      " 17  Nuclear (quad Btu)                          672 non-null    float64\n",
      " 18  Nuclear, renewables, and other (quad Btu)   672 non-null    float64\n",
      " 19  Petroleum and other liquids (MMtonnes CO2)  672 non-null    float64\n",
      " 20  Petroleum and other liquids (quad Btu)      672 non-null    float64\n",
      " 21  Population                                  672 non-null    float64\n",
      " 22  Renewables (billion kWh)                    672 non-null    float64\n",
      " 23  Renewables and other (quad Btu)             672 non-null    float64\n",
      " 24  Solar (billion kWh)                         672 non-null    float64\n",
      " 25  Solar, tide, wave, fuel cell (billion kWh)  672 non-null    float64\n",
      " 26  Tide and wave (billion kWh)                 672 non-null    float64\n",
      " 27  Wind (billion kWh)                          672 non-null    float64\n",
      "dtypes: float64(27), object(1)\n",
      "memory usage: 148.0+ KB\n"
     ]
    }
   ],
   "source": [
    "df.info()"
   ]
  },
  {
   "cell_type": "code",
   "execution_count": 14,
   "metadata": {},
   "outputs": [
    {
     "data": {
      "text/plain": [
       "array(['Australia', 'Brazil', 'Canada', 'China', 'Former U.S.S.R.',\n",
       "       'France', 'Germany', 'Germany, East', 'Germany, West', 'India',\n",
       "       'Ireland', 'Japan', 'Russia', 'South Korea', 'United Kingdom',\n",
       "       'United States', nan], dtype=object)"
      ]
     },
     "execution_count": 14,
     "metadata": {},
     "output_type": "execute_result"
    }
   ],
   "source": [
    "df['COUNTRY'].unique()"
   ]
  },
  {
   "cell_type": "code",
   "execution_count": 15,
   "metadata": {},
   "outputs": [
    {
     "data": {
      "text/plain": [
       "Index(['COUNTRY', 'Year', 'Biomass and waste (billion kWh)',\n",
       "       'CO2 emissions (MMtonnes CO2)', 'Coal (quad Btu)',\n",
       "       'Coal and coke (MMtonnes CO2)', 'Consumed natural gas (MMtonnes CO2)',\n",
       "       'Consumption (quad Btu)', 'Fossil fuels (billion kWh)', 'GDP',\n",
       "       'Generation (billion kWh)', 'Geothermal (billion kWh)',\n",
       "       'Hydroelectric pumped storage (billion kWh)',\n",
       "       'Hydroelectricity (billion kWh)', 'Natural gas (quad Btu)',\n",
       "       'Non-hydroelectric renewables (billion kWh)', 'Nuclear (billion kWh)',\n",
       "       'Nuclear (quad Btu)', 'Nuclear, renewables, and other (quad Btu)',\n",
       "       'Petroleum and other liquids (MMtonnes CO2)',\n",
       "       'Petroleum and other liquids (quad Btu)', 'Population',\n",
       "       'Renewables (billion kWh)', 'Renewables and other (quad Btu)',\n",
       "       'Solar (billion kWh)', 'Solar, tide, wave, fuel cell (billion kWh)',\n",
       "       'Tide and wave (billion kWh)', 'Wind (billion kWh)'],\n",
       "      dtype='object')"
      ]
     },
     "execution_count": 15,
     "metadata": {},
     "output_type": "execute_result"
    }
   ],
   "source": [
    "df.columns"
   ]
  },
  {
   "cell_type": "code",
   "execution_count": 16,
   "metadata": {},
   "outputs": [
    {
     "name": "stdout",
     "output_type": "stream",
     "text": [
      "<class 'pandas.core.frame.DataFrame'>\n",
      "RangeIndex: 676 entries, 0 to 675\n",
      "Data columns (total 28 columns):\n",
      " #   Column                                      Non-Null Count  Dtype  \n",
      "---  ------                                      --------------  -----  \n",
      " 0   COUNTRY                                     672 non-null    object \n",
      " 1   Year                                        672 non-null    float64\n",
      " 2   Biomass and waste (billion kWh)             672 non-null    float64\n",
      " 3   CO2 emissions (MMtonnes CO2)                672 non-null    float64\n",
      " 4   Coal (quad Btu)                             672 non-null    float64\n",
      " 5   Coal and coke (MMtonnes CO2)                672 non-null    float64\n",
      " 6   Consumed natural gas (MMtonnes CO2)         672 non-null    float64\n",
      " 7   Consumption (quad Btu)                      672 non-null    float64\n",
      " 8   Fossil fuels (billion kWh)                  672 non-null    float64\n",
      " 9   GDP                                         672 non-null    float64\n",
      " 10  Generation (billion kWh)                    672 non-null    float64\n",
      " 11  Geothermal (billion kWh)                    672 non-null    float64\n",
      " 12  Hydroelectric pumped storage (billion kWh)  672 non-null    float64\n",
      " 13  Hydroelectricity (billion kWh)              672 non-null    float64\n",
      " 14  Natural gas (quad Btu)                      672 non-null    float64\n",
      " 15  Non-hydroelectric renewables (billion kWh)  672 non-null    float64\n",
      " 16  Nuclear (billion kWh)                       672 non-null    float64\n",
      " 17  Nuclear (quad Btu)                          672 non-null    float64\n",
      " 18  Nuclear, renewables, and other (quad Btu)   672 non-null    float64\n",
      " 19  Petroleum and other liquids (MMtonnes CO2)  672 non-null    float64\n",
      " 20  Petroleum and other liquids (quad Btu)      672 non-null    float64\n",
      " 21  Population                                  672 non-null    float64\n",
      " 22  Renewables (billion kWh)                    672 non-null    float64\n",
      " 23  Renewables and other (quad Btu)             672 non-null    float64\n",
      " 24  Solar (billion kWh)                         672 non-null    float64\n",
      " 25  Solar, tide, wave, fuel cell (billion kWh)  672 non-null    float64\n",
      " 26  Tide and wave (billion kWh)                 672 non-null    float64\n",
      " 27  Wind (billion kWh)                          672 non-null    float64\n",
      "dtypes: float64(27), object(1)\n",
      "memory usage: 148.0+ KB\n"
     ]
    }
   ],
   "source": [
    "df.info()"
   ]
  }
 ],
 "metadata": {
  "kernelspec": {
   "display_name": "Python 3",
   "language": "python",
   "name": "python3"
  },
  "language_info": {
   "codemirror_mode": {
    "name": "ipython",
    "version": 3
   },
   "file_extension": ".py",
   "mimetype": "text/x-python",
   "name": "python",
   "nbconvert_exporter": "python",
   "pygments_lexer": "ipython3",
   "version": "3.7.9"
  }
 },
 "nbformat": 4,
 "nbformat_minor": 2
}
