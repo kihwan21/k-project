{
 "cells": [
  {
   "cell_type": "code",
   "execution_count": 395,
   "metadata": {},
   "outputs": [],
   "source": [
    "import pandas as pd"
   ]
  },
  {
   "cell_type": "code",
   "execution_count": 396,
   "metadata": {},
   "outputs": [],
   "source": [
    "df = pd.read_csv(\"국가별_데이터_전처리_세계2.csv\")"
   ]
  },
  {
   "cell_type": "code",
   "execution_count": 397,
   "metadata": {},
   "outputs": [],
   "source": [
    "from sklearn.model_selection import train_test_split\n",
    "from xgboost import XGBRegressor\n",
    "from sklearn.metrics import mean_absolute_error, mean_squared_error, r2_score, accuracy_score\n",
    "\n",
    "from math import sqrt\n",
    "from lightgbm import LGBMRegressor, LGBMClassifier\n",
    "from sklearn.model_selection import cross_val_score\n",
    "from sklearn.neural_network import MLPRegressor\n",
    "from sklearn.ensemble import RandomForestRegressor\n",
    "from sklearn.preprocessing import MinMaxScaler"
   ]
  },
  {
   "cell_type": "code",
   "execution_count": 398,
   "metadata": {},
   "outputs": [
    {
     "data": {
      "image/png": "[encoded data removed]",
      "text/plain": [
       "<Figure size 432x288 with 1 Axes>"
      ]
     },
     "metadata": {
      "needs_background": "light"
     },
     "output_type": "display_data"
    }
   ],
   "source": [
    "# 필요한 라이브러리 불러오기\n",
    "\n",
    "import numpy as np\n",
    "import matplotlib.pyplot as plt\n",
    "import seaborn as sns\n",
    "from scipy import stats\n",
    "import matplotlib.font_manager as fm\n",
    "\n",
    "# 한글 폰트 사용을 위해서 세팅\n",
    "from matplotlib import font_manager, rc\n",
    "font_path = \"C:/Windows/Fonts/NGULIM.TTF\"\n",
    "font = font_manager.FontProperties(fname=font_path).get_name()\n",
    "rc('font', family=font)\n",
    " \n",
    "plt.scatter([0, 1, 2, 3, 4, 5], [0, 1, 2, 3, 4, 5])\n",
    "plt.title('산점도')\n",
    "plt.xlabel('변수1')\n",
    "plt.ylabel('변수2')\n",
    "plt.grid(True)\n",
    "plt.show()\n",
    "\n",
    "font_location = fm.findfont('NanumGothic')\n",
    "font_name = fm.FontProperties(fname=font_location).get_name()"
   ]
  },
  {
   "cell_type": "markdown",
   "metadata": {},
   "source": [
    "### 선형회귀와 비선형회귀 검증\n",
    "#### 선형회귀\n",
    "- LinearSVR\n",
    "- 릿지\n",
    "- 라쏘\n",
    "- 엘라스틱넷\n",
    "---------------------------------\n",
    "#### 비선형회귀\n",
    "- 결정 트리\n",
    "- 랜덤포레스트\n",
    "- Xgboost\n",
    "- LightGBM\n",
    "- "
   ]
  },
  {
   "cell_type": "code",
   "execution_count": 399,
   "metadata": {},
   "outputs": [],
   "source": [
    "from sklearn.svm import LinearSVR\n",
    "from sklearn.linear_model import Ridge\n",
    "from sklearn.linear_model import Lasso\n",
    "from sklearn.linear_model import ElasticNet\n",
    "from sklearn.ensemble import RandomForestRegressor\n",
    "from sklearn.tree import DecisionTreeRegressor\n",
    "from lightgbm import LGBMRegressor\n",
    "\n",
    "from sklearn.metrics import mean_absolute_error, mean_squared_error\n",
    "from math import sqrt"
   ]
  },
  {
   "cell_type": "code",
   "execution_count": 400,
   "metadata": {},
   "outputs": [],
   "source": [
    "# df['CO2 emissions (MMtonnes CO2)'] = df['CO2 emissions (MMtonnes CO2)'] *100"
   ]
  },
  {
   "cell_type": "code",
   "execution_count": 401,
   "metadata": {},
   "outputs": [
    {
     "data": {
      "text/plain": [
       "Index(['COUNTRY', 'Year', 'Biomass and waste (billion kWh)',\n",
       "       'CO2 emissions (MMtonnes CO2)', 'Coal (quad Btu)',\n",
       "       'Coal and coke (MMtonnes CO2)', 'Consumed natural gas (MMtonnes CO2)',\n",
       "       'Consumption (quad Btu)', 'Fossil fuels (billion kWh)', 'GDP',\n",
       "       'Generation (billion kWh)', 'Geothermal (billion kWh)',\n",
       "       'Hydroelectric pumped storage (billion kWh)',\n",
       "       'Hydroelectricity (billion kWh)', 'Natural gas (quad Btu)',\n",
       "       'Non-hydroelectric renewables (billion kWh)', 'Nuclear (billion kWh)',\n",
       "       'Nuclear (quad Btu)', 'Nuclear, renewables, and other (quad Btu)',\n",
       "       'Petroleum and other liquids (MMtonnes CO2)',\n",
       "       'Petroleum and other liquids (quad Btu)', 'Population',\n",
       "       'Renewables (billion kWh)', 'Renewables and other (quad Btu)',\n",
       "       'Solar (billion kWh)', 'Solar, tide, wave, fuel cell (billion kWh)',\n",
       "       'Tide and wave (billion kWh)', 'Wind (billion kWh)'],\n",
       "      dtype='object')"
      ]
     },
     "execution_count": 401,
     "metadata": {},
     "output_type": "execute_result"
    }
   ],
   "source": [
    "df.columns"
   ]
  },
  {
   "cell_type": "markdown",
   "metadata": {},
   "source": [
    "### 테스트 데이터 분리"
   ]
  },
  {
   "cell_type": "code",
   "execution_count": 402,
   "metadata": {},
   "outputs": [],
   "source": [
    "# ['COUNTRY','CO2 emissions (MMtonnes CO2)', 'Coal and coke (MMtonnes CO2)', 'Consumed natural gas (MMtonnes CO2)','CO2 emissions (MMtonnes CO2)','Generation (billion kWh)','Consumption (quad Btu)','Non-hydroelectric renewables (billion kWh)','Solar, tide, wave, fuel cell (billion kWh)','Nuclear, renewables, and other (quad Btu)','Petroleum and other liquids (MMtonnes CO2)','Renewables (billion kWh)']\n",
    "#X = df.drop(['CO2 emissions (MMtonnes CO2)'], axis=1)\n",
    "# 'Coal and coke (MMtonnes CO2)', 'Consumed natural gas (MMtonnes CO2)', 'Petroleum and other liquids (MMtonnes CO2)', 'CO2 emissions (MMtonnes CO2)'\n",
    "X = df.drop(['Year','COUNTRY','CO2 emissions (MMtonnes CO2)', 'Coal and coke (MMtonnes CO2)', 'Consumed natural gas (MMtonnes CO2)','CO2 emissions (MMtonnes CO2)','Generation (billion kWh)','Consumption (quad Btu)','Non-hydroelectric renewables (billion kWh)','Solar, tide, wave, fuel cell (billion kWh)','Nuclear, renewables, and other (quad Btu)','Petroleum and other liquids (MMtonnes CO2)','Renewables (billion kWh)'], axis=1)\n",
    "y = df['CO2 emissions (MMtonnes CO2)']\n",
    "# train_test_split() 함수로 학습 데이터와 테스트 데이터 분리하기\n",
    "X_train, X_test, y_train, y_test = train_test_split(X, y, test_size = 0.3, random_state = 100, shuffle = False)"
   ]
  },
  {
   "cell_type": "code",
   "execution_count": 403,
   "metadata": {},
   "outputs": [
    {
     "data": {
      "text/html": [
       "<div>\n",
       "<style scoped>\n",
       "    .dataframe tbody tr th:only-of-type {\n",
       "        vertical-align: middle;\n",
       "    }\n",
       "\n",
       "    .dataframe tbody tr th {\n",
       "        vertical-align: top;\n",
       "    }\n",
       "\n",
       "    .dataframe thead th {\n",
       "        text-align: right;\n",
       "    }\n",
       "</style>\n",
       "<table border=\"1\" class=\"dataframe\">\n",
       "  <thead>\n",
       "    <tr style=\"text-align: right;\">\n",
       "      <th></th>\n",
       "      <th>Biomass and waste (billion kWh)</th>\n",
       "      <th>Coal (quad Btu)</th>\n",
       "      <th>Fossil fuels (billion kWh)</th>\n",
       "      <th>GDP</th>\n",
       "      <th>Geothermal (billion kWh)</th>\n",
       "      <th>Hydroelectric pumped storage (billion kWh)</th>\n",
       "      <th>Hydroelectricity (billion kWh)</th>\n",
       "      <th>Natural gas (quad Btu)</th>\n",
       "      <th>Nuclear (billion kWh)</th>\n",
       "      <th>Nuclear (quad Btu)</th>\n",
       "      <th>Petroleum and other liquids (quad Btu)</th>\n",
       "      <th>Population</th>\n",
       "      <th>Renewables and other (quad Btu)</th>\n",
       "      <th>Solar (billion kWh)</th>\n",
       "      <th>Tide and wave (billion kWh)</th>\n",
       "      <th>Wind (billion kWh)</th>\n",
       "    </tr>\n",
       "  </thead>\n",
       "  <tbody>\n",
       "    <tr>\n",
       "      <th>0</th>\n",
       "      <td>0.0</td>\n",
       "      <td>0.002479</td>\n",
       "      <td>0.231</td>\n",
       "      <td>0.0</td>\n",
       "      <td>0.0</td>\n",
       "      <td>0.0</td>\n",
       "      <td>0.711</td>\n",
       "      <td>0.002094</td>\n",
       "      <td>0.0</td>\n",
       "      <td>0.0</td>\n",
       "      <td>0.014624</td>\n",
       "      <td>13356.50</td>\n",
       "      <td>0.007386</td>\n",
       "      <td>0.0</td>\n",
       "      <td>0.0</td>\n",
       "      <td>0.0</td>\n",
       "    </tr>\n",
       "    <tr>\n",
       "      <th>1</th>\n",
       "      <td>0.0</td>\n",
       "      <td>0.002604</td>\n",
       "      <td>0.271</td>\n",
       "      <td>0.0</td>\n",
       "      <td>0.0</td>\n",
       "      <td>0.0</td>\n",
       "      <td>0.721</td>\n",
       "      <td>0.003141</td>\n",
       "      <td>0.0</td>\n",
       "      <td>0.0</td>\n",
       "      <td>0.016668</td>\n",
       "      <td>13171.68</td>\n",
       "      <td>0.007537</td>\n",
       "      <td>0.0</td>\n",
       "      <td>0.0</td>\n",
       "      <td>0.0</td>\n",
       "    </tr>\n",
       "    <tr>\n",
       "      <th>2</th>\n",
       "      <td>0.0</td>\n",
       "      <td>0.003021</td>\n",
       "      <td>0.245</td>\n",
       "      <td>0.0</td>\n",
       "      <td>0.0</td>\n",
       "      <td>0.0</td>\n",
       "      <td>0.707</td>\n",
       "      <td>0.005235</td>\n",
       "      <td>0.0</td>\n",
       "      <td>0.0</td>\n",
       "      <td>0.016251</td>\n",
       "      <td>12882.52</td>\n",
       "      <td>0.007391</td>\n",
       "      <td>0.0</td>\n",
       "      <td>0.0</td>\n",
       "      <td>0.0</td>\n",
       "    </tr>\n",
       "    <tr>\n",
       "      <th>3</th>\n",
       "      <td>0.0</td>\n",
       "      <td>0.003021</td>\n",
       "      <td>0.254</td>\n",
       "      <td>0.0</td>\n",
       "      <td>0.0</td>\n",
       "      <td>0.0</td>\n",
       "      <td>0.746</td>\n",
       "      <td>0.005235</td>\n",
       "      <td>0.0</td>\n",
       "      <td>0.0</td>\n",
       "      <td>0.022918</td>\n",
       "      <td>12537.73</td>\n",
       "      <td>0.007848</td>\n",
       "      <td>0.0</td>\n",
       "      <td>0.0</td>\n",
       "      <td>0.0</td>\n",
       "    </tr>\n",
       "    <tr>\n",
       "      <th>4</th>\n",
       "      <td>0.0</td>\n",
       "      <td>0.003083</td>\n",
       "      <td>0.262</td>\n",
       "      <td>0.0</td>\n",
       "      <td>0.0</td>\n",
       "      <td>0.0</td>\n",
       "      <td>0.757</td>\n",
       "      <td>0.005235</td>\n",
       "      <td>0.0</td>\n",
       "      <td>0.0</td>\n",
       "      <td>0.022981</td>\n",
       "      <td>12204.31</td>\n",
       "      <td>0.007903</td>\n",
       "      <td>0.0</td>\n",
       "      <td>0.0</td>\n",
       "      <td>0.0</td>\n",
       "    </tr>\n",
       "  </tbody>\n",
       "</table>\n",
       "</div>"
      ],
      "text/plain": [
       "   Biomass and waste (billion kWh)  Coal (quad Btu)  \\\n",
       "0                              0.0         0.002479   \n",
       "1                              0.0         0.002604   \n",
       "2                              0.0         0.003021   \n",
       "3                              0.0         0.003021   \n",
       "4                              0.0         0.003083   \n",
       "\n",
       "   Fossil fuels (billion kWh)  GDP  Geothermal (billion kWh)  \\\n",
       "0                       0.231  0.0                       0.0   \n",
       "1                       0.271  0.0                       0.0   \n",
       "2                       0.245  0.0                       0.0   \n",
       "3                       0.254  0.0                       0.0   \n",
       "4                       0.262  0.0                       0.0   \n",
       "\n",
       "   Hydroelectric pumped storage (billion kWh)  Hydroelectricity (billion kWh)  \\\n",
       "0                                         0.0                           0.711   \n",
       "1                                         0.0                           0.721   \n",
       "2                                         0.0                           0.707   \n",
       "3                                         0.0                           0.746   \n",
       "4                                         0.0                           0.757   \n",
       "\n",
       "   Natural gas (quad Btu)  Nuclear (billion kWh)  Nuclear (quad Btu)  \\\n",
       "0                0.002094                    0.0                 0.0   \n",
       "1                0.003141                    0.0                 0.0   \n",
       "2                0.005235                    0.0                 0.0   \n",
       "3                0.005235                    0.0                 0.0   \n",
       "4                0.005235                    0.0                 0.0   \n",
       "\n",
       "   Petroleum and other liquids (quad Btu)  Population  \\\n",
       "0                                0.014624    13356.50   \n",
       "1                                0.016668    13171.68   \n",
       "2                                0.016251    12882.52   \n",
       "3                                0.022918    12537.73   \n",
       "4                                0.022981    12204.31   \n",
       "\n",
       "   Renewables and other (quad Btu)  Solar (billion kWh)  \\\n",
       "0                         0.007386                  0.0   \n",
       "1                         0.007537                  0.0   \n",
       "2                         0.007391                  0.0   \n",
       "3                         0.007848                  0.0   \n",
       "4                         0.007903                  0.0   \n",
       "\n",
       "   Tide and wave (billion kWh)  Wind (billion kWh)  \n",
       "0                          0.0                 0.0  \n",
       "1                          0.0                 0.0  \n",
       "2                          0.0                 0.0  \n",
       "3                          0.0                 0.0  \n",
       "4                          0.0                 0.0  "
      ]
     },
     "execution_count": 403,
     "metadata": {},
     "output_type": "execute_result"
    }
   ],
   "source": [
    "X.head()"
   ]
  },
  {
   "cell_type": "code",
   "execution_count": 404,
   "metadata": {},
   "outputs": [
    {
     "data": {
      "text/plain": [
       "0        132.596452\n",
       "1        150.962773\n",
       "2        165.960468\n",
       "3        205.960468\n",
       "4        206.543611\n",
       "           ...     \n",
       "9655     899.242581\n",
       "9656    1029.016869\n",
       "9657     940.804718\n",
       "9658     825.332175\n",
       "9659     811.890979\n",
       "Name: CO2 emissions (MMtonnes CO2), Length: 9660, dtype: float64"
      ]
     },
     "execution_count": 404,
     "metadata": {},
     "output_type": "execute_result"
    }
   ],
   "source": [
    "y"
   ]
  },
  {
   "cell_type": "code",
   "execution_count": 405,
   "metadata": {},
   "outputs": [
    {
     "name": "stdout",
     "output_type": "stream",
     "text": [
      "                            OLS Regression Results                            \n",
      "==============================================================================\n",
      "Dep. Variable:                      y   R-squared:                       1.000\n",
      "Model:                            OLS   Adj. R-squared:                  1.000\n",
      "Method:                 Least Squares   F-statistic:                 1.217e+07\n",
      "Date:                Mon, 06 Nov 2023   Prob (F-statistic):               0.00\n",
      "Time:                        17:57:56   Log-Likelihood:                -83141.\n",
      "No. Observations:                9660   AIC:                         1.663e+05\n",
      "Df Residuals:                    9643   BIC:                         1.664e+05\n",
      "Df Model:                          16                                         \n",
      "Covariance Type:            nonrobust                                         \n",
      "==============================================================================\n",
      "                 coef    std err          t      P>|t|      [0.025      0.975]\n",
      "------------------------------------------------------------------------------\n",
      "Intercept      3.1950     13.591      0.235      0.814     -23.447      29.837\n",
      "X[0]          59.7195      4.668     12.795      0.000      50.570      68.869\n",
      "X[1]        9763.4217     16.413    594.871      0.000    9731.249    9795.594\n",
      "X[2]         -10.9680      0.453    -24.187      0.000     -11.857     -10.079\n",
      "X[3]          -0.1381      0.054     -2.565      0.010      -0.244      -0.033\n",
      "X[4]         136.2947     14.375      9.482      0.000     108.117     164.472\n",
      "X[5]        -437.8015     44.424     -9.855      0.000    -524.882    -350.721\n",
      "X[6]         -28.4302      1.215    -23.397      0.000     -30.812     -26.048\n",
      "X[7]        5714.0301     19.200    297.605      0.000    5676.394    5751.666\n",
      "X[8]        -248.5039     11.918    -20.852      0.000    -271.865    -225.143\n",
      "X[9]        2.478e+04   1147.354     21.602      0.000    2.25e+04     2.7e+04\n",
      "X[10]       6232.1361     16.402    379.965      0.000    6199.985    6264.287\n",
      "X[11]          0.0058      0.000     27.477      0.000       0.005       0.006\n",
      "X[12]       2369.2199    128.049     18.502      0.000    2118.217    2620.223\n",
      "X[13]         47.4288      3.298     14.382      0.000      40.964      53.893\n",
      "X[14]      -1289.2231    387.853     -3.324      0.001   -2049.497    -528.949\n",
      "X[15]        -84.1283      3.199    -26.297      0.000     -90.399     -77.857\n",
      "==============================================================================\n",
      "Omnibus:                    11626.620   Durbin-Watson:                   0.774\n",
      "Prob(Omnibus):                  0.000   Jarque-Bera (JB):         22072356.255\n",
      "Skew:                          -5.432   Prob(JB):                         0.00\n",
      "Kurtosis:                     236.923   Cond. No.                     3.64e+07\n",
      "==============================================================================\n",
      "\n",
      "Notes:\n",
      "[1] Standard Errors assume that the covariance matrix of the errors is correctly specified.\n",
      "[2] The condition number is large, 3.64e+07. This might indicate that there are\n",
      "strong multicollinearity or other numerical problems.\n"
     ]
    }
   ],
   "source": [
    "# 코드 10-2\n",
    "# 스탯츠모델스, 사이킷런 ==========\n",
    "from statsmodels.formula.api import ols \n",
    "from sklearn.linear_model import LinearRegression\n",
    "\n",
    "# 선형 회귀모형 형태(종속변수 ~ 독립변수1 + 독립변수2 + 독립변수3 + ···)\n",
    "# 단순 선형 회귀분석 ==========\n",
    "\n",
    "fit = ols('y~X', data=df).fit()\n",
    "print(fit.summary())"
   ]
  },
  {
   "cell_type": "code",
   "execution_count": 406,
   "metadata": {},
   "outputs": [],
   "source": [
    "# alphas = [0.0001, 0.001, 0.01, 0.05, 0.1, 0.5, 2, 5, 10, 100]\n",
    "\n",
    "# for alpha in alphas:\n",
    "#     model = LinearSVR(epsilon=alpha, random_state=43)\n",
    "#     model.fit(X_train, y_train) # 모델 학습ㄴ\n",
    "    \n",
    "    \n",
    "#     # Predict를 수행하고 mean_absolute_error, rmse 결과 출력하기\n",
    "#     pred = model.predict(X_test)    # X_test를 이용한 예측값 pred \n",
    "#     mean_absolute_error(y_test, pred)\n",
    "#     np.sqrt(mean_squared_error(y_test, pred))\n",
    "\n",
    "#     mae = mean_absolute_error(y_test, pred)\n",
    "#     rmse = np.sqrt(mean_squared_error(y_test, pred))\n",
    "\n",
    "#     # MAE 및 RMSE를 백분율로 표시\n",
    "#     mae_percentage = (mae / np.mean(y_test)) * 100\n",
    "#     rmse_percentage = (rmse / np.mean(y_test)) * 100\n",
    "\n",
    "#     print(\"MAE: {:.2f}%\".format(mae_percentage))\n",
    "#     print(\"RMSE: {:.2f}%\".format(rmse_percentage))\n",
    "\n",
    "#     r2_score(y_test, pred)\n",
    "    \n",
    "        \n",
    "#         # Feature importance, feature 선언\n",
    "#     importances = model.coef_\n",
    "#     features = X.columns\n",
    "\n",
    "#     # 중요한 변수 순으로 정렬\n",
    "#     indices = np.argsort(importances)\n",
    "#     sorted_features = [features[i] for i in indices]\n",
    "\n",
    "#     # 그래프 크기 지정\n",
    "#     plt.title(alpha)\n",
    "#     plt.figure(figsize=(10, 8))\n",
    "\n",
    "#     # 막대그래프 show\n",
    "#     plt.barh(sorted_features, importances[indices])\n",
    "#     plt.show()"
   ]
  },
  {
   "cell_type": "markdown",
   "metadata": {},
   "source": [
    "### 1. LinearSVR 모델 학습"
   ]
  },
  {
   "cell_type": "code",
   "execution_count": 407,
   "metadata": {},
   "outputs": [
    {
     "name": "stderr",
     "output_type": "stream",
     "text": [
      "C:\\Users\\vlrms\\AppData\\Local\\Packages\\PythonSoftwareFoundation.Python.3.7_qbz5n2kfra8p0\\LocalCache\\local-packages\\Python37\\site-packages\\sklearn\\svm\\_base.py:1208: ConvergenceWarning: Liblinear failed to converge, increase the number of iterations.\n",
      "  ConvergenceWarning,\n"
     ]
    },
    {
     "data": {
      "text/plain": [
       "LinearSVR(epsilon=0.5, random_state=43)"
      ]
     },
     "execution_count": 407,
     "metadata": {},
     "output_type": "execute_result"
    }
   ],
   "source": [
    "model = LinearSVR(epsilon=0.5, random_state=43)\n",
    "model.fit(X_train, y_train) # 모델 학습ㄴ"
   ]
  },
  {
   "cell_type": "markdown",
   "metadata": {},
   "source": [
    "### 1. LinearSVR 모델 검증"
   ]
  },
  {
   "cell_type": "code",
   "execution_count": 408,
   "metadata": {},
   "outputs": [
    {
     "name": "stdout",
     "output_type": "stream",
     "text": [
      "MAE: 14.59%\n",
      "RMSE: 81.80%\n"
     ]
    },
    {
     "data": {
      "text/plain": [
       "0.9819663336532433"
      ]
     },
     "execution_count": 408,
     "metadata": {},
     "output_type": "execute_result"
    }
   ],
   "source": [
    "# Predict를 수행하고 mean_absolute_error, rmse 결과 출력하기\n",
    "pred = model.predict(X_test)    # X_test를 이용한 예측값 pred \n",
    "mean_absolute_error(y_test, pred)\n",
    "np.sqrt(mean_squared_error(y_test, pred))\n",
    "\n",
    "mae = mean_absolute_error(y_test, pred)\n",
    "rmse = np.sqrt(mean_squared_error(y_test, pred))\n",
    "\n",
    "# MAE 및 RMSE를 백분율로 표시\n",
    "mae_percentage = (mae / np.mean(y_test)) * 100\n",
    "rmse_percentage = (rmse / np.mean(y_test)) * 100\n",
    "\n",
    "print(\"MAE: {:.2f}%\".format(mae_percentage))\n",
    "print(\"RMSE: {:.2f}%\".format(rmse_percentage))\n",
    "\n",
    "r2_score(y_test, pred)"
   ]
  },
  {
   "cell_type": "markdown",
   "metadata": {},
   "source": [
    "### 1. LinearSVR 중요변수 확인"
   ]
  },
  {
   "cell_type": "code",
   "execution_count": 409,
   "metadata": {},
   "outputs": [
    {
     "data": {
      "image/png": "[encoded data removed]",
      "text/plain": [
       "<Figure size 720x576 with 1 Axes>"
      ]
     },
     "metadata": {
      "needs_background": "light"
     },
     "output_type": "display_data"
    }
   ],
   "source": [
    "# Feature importance, feature 선언\n",
    "importances = model.coef_\n",
    "features = X.columns\n",
    "\n",
    "# 중요한 변수 순으로 정렬\n",
    "indices = np.argsort(importances)\n",
    "sorted_features = [features[i] for i in indices]\n",
    "\n",
    "# 그래프 크기 지정\n",
    "plt.figure(figsize=(10, 8))\n",
    "\n",
    "# 막대그래프 show\n",
    "plt.barh(sorted_features, importances[indices])\n",
    "plt.show()"
   ]
  },
  {
   "cell_type": "code",
   "execution_count": null,
   "metadata": {},
   "outputs": [],
   "source": []
  },
  {
   "cell_type": "markdown",
   "metadata": {},
   "source": [
    "### 2. 릿지 회귀 학습"
   ]
  },
  {
   "cell_type": "code",
   "execution_count": 410,
   "metadata": {},
   "outputs": [
    {
     "data": {
      "text/plain": [
       "Ridge(alpha=0.5)"
      ]
     },
     "execution_count": 410,
     "metadata": {},
     "output_type": "execute_result"
    }
   ],
   "source": [
    "model = Ridge(alpha=0.5) \n",
    "model.fit(X_train, y_train) # 모델 학습"
   ]
  },
  {
   "cell_type": "markdown",
   "metadata": {},
   "source": [
    "### 2. 릿지 회귀 모델 검증"
   ]
  },
  {
   "cell_type": "code",
   "execution_count": 411,
   "metadata": {},
   "outputs": [
    {
     "name": "stdout",
     "output_type": "stream",
     "text": [
      "MAE: 2.33%\n",
      "RMSE: 11.46%\n"
     ]
    },
    {
     "data": {
      "text/plain": [
       "0.9996457268887717"
      ]
     },
     "execution_count": 411,
     "metadata": {},
     "output_type": "execute_result"
    }
   ],
   "source": [
    "# Predict를 수행하고 mean_absolute_error, rmse 결과 출력하기\n",
    "pred = model.predict(X_test)    # X_test를 이용한 예측값 pred \n",
    "mean_absolute_error(y_test, pred)\n",
    "np.sqrt(mean_squared_error(y_test, pred))\n",
    "\n",
    "mae = mean_absolute_error(y_test, pred)\n",
    "rmse = np.sqrt(mean_squared_error(y_test, pred))\n",
    "\n",
    "# MAE 및 RMSE를 백분율로 표시\n",
    "mae_percentage = (mae / np.mean(y_test)) * 100\n",
    "rmse_percentage = (rmse / np.mean(y_test)) * 100\n",
    "\n",
    "print(\"MAE: {:.2f}%\".format(mae_percentage))\n",
    "print(\"RMSE: {:.2f}%\".format(rmse_percentage))\n",
    "\n",
    "r2_score(y_test, pred)"
   ]
  },
  {
   "cell_type": "code",
   "execution_count": 412,
   "metadata": {},
   "outputs": [
    {
     "name": "stdout",
     "output_type": "stream",
     "text": [
      "Train MAE: 235.92\n",
      "Train RMSE: 714.82\n",
      "Test MAE: 1261.74\n",
      "Test RMSE: 6218.79\n"
     ]
    }
   ],
   "source": [
    "# 훈련 데이터에 대한 성능 확인\n",
    "train_pred = model.predict(X_train)\n",
    "train_mae = mean_absolute_error(y_train, train_pred)\n",
    "train_rmse = np.sqrt(mean_squared_error(y_train, train_pred))\n",
    "\n",
    "print(\"Train MAE: {:.2f}\".format(train_mae))\n",
    "print(\"Train RMSE: {:.2f}\".format(train_rmse))\n",
    "\n",
    "# 테스트 데이터에 대한 성능 확인\n",
    "test_mae = mean_absolute_error(y_test, pred)\n",
    "test_rmse = np.sqrt(mean_squared_error(y_test, pred))\n",
    "\n",
    "print(\"Test MAE: {:.2f}\".format(mae))\n",
    "print(\"Test RMSE: {:.2f}\".format(rmse))\n"
   ]
  },
  {
   "cell_type": "markdown",
   "metadata": {},
   "source": [
    "### 2. 릿지회귀 중요변수 확인"
   ]
  },
  {
   "cell_type": "code",
   "execution_count": 413,
   "metadata": {},
   "outputs": [
    {
     "data": {
      "image/png": "[encoded data removed]",
      "text/plain": [
       "<Figure size 720x576 with 1 Axes>"
      ]
     },
     "metadata": {
      "needs_background": "light"
     },
     "output_type": "display_data"
    }
   ],
   "source": [
    "# Feature coefficients, feature 선언\n",
    "coefficients = model.coef_\n",
    "features = X.columns\n",
    "\n",
    "# coefficients 순으로 정렬\n",
    "indices = np.argsort(coefficients)\n",
    "sorted_features = [features[i] for i in indices]\n",
    "\n",
    "# 그래프 크기 지정\n",
    "plt.figure(figsize=(10, 8))\n",
    "\n",
    "# 막대그래프 show\n",
    "plt.barh(sorted_features, coefficients[indices])\n",
    "plt.show()"
   ]
  },
  {
   "cell_type": "markdown",
   "metadata": {},
   "source": [
    "### 3. 라쏘 회귀 모델 학습"
   ]
  },
  {
   "cell_type": "code",
   "execution_count": 414,
   "metadata": {},
   "outputs": [
    {
     "data": {
      "text/plain": [
       "Lasso(alpha=0.5)"
      ]
     },
     "execution_count": 414,
     "metadata": {},
     "output_type": "execute_result"
    }
   ],
   "source": [
    "model = Lasso(alpha=0.5) \n",
    "model.fit(X_train, y_train) # 모델 학습"
   ]
  },
  {
   "cell_type": "markdown",
   "metadata": {},
   "source": [
    "### 3. 라쏘 회귀 모델 검증"
   ]
  },
  {
   "cell_type": "code",
   "execution_count": 415,
   "metadata": {},
   "outputs": [
    {
     "name": "stdout",
     "output_type": "stream",
     "text": [
      "MAE: 1.97%\n",
      "RMSE: 9.42%\n"
     ]
    },
    {
     "data": {
      "text/plain": [
       "0.9997607010223076"
      ]
     },
     "execution_count": 415,
     "metadata": {},
     "output_type": "execute_result"
    }
   ],
   "source": [
    "# Predict를 수행하고 mean_absolute_error, rmse 결과 출력하기\n",
    "pred = model.predict(X_test)    # X_test를 이용한 예측값 pred \n",
    "mean_absolute_error(y_test, pred)\n",
    "np.sqrt(mean_squared_error(y_test, pred))\n",
    "\n",
    "mae = mean_absolute_error(y_test, pred)\n",
    "rmse = np.sqrt(mean_squared_error(y_test, pred))\n",
    "\n",
    "# MAE 및 RMSE를 백분율로 표시\n",
    "mae_percentage = (mae / np.mean(y_test)) * 100\n",
    "rmse_percentage = (rmse / np.mean(y_test)) * 100\n",
    "\n",
    "print(\"MAE: {:.2f}%\".format(mae_percentage))\n",
    "print(\"RMSE: {:.2f}%\".format(rmse_percentage))\n",
    "\n",
    "r2_score(y_test, pred)"
   ]
  },
  {
   "cell_type": "code",
   "execution_count": 416,
   "metadata": {},
   "outputs": [
    {
     "data": {
      "image/png": "[encoded data removed]",
      "text/plain": [
       "<Figure size 720x576 with 1 Axes>"
      ]
     },
     "metadata": {
      "needs_background": "light"
     },
     "output_type": "display_data"
    }
   ],
   "source": [
    "# Feature coefficients, feature 선언\n",
    "coefficients = model.coef_\n",
    "features = X.columns\n",
    "\n",
    "# coefficients 순으로 정렬\n",
    "indices = np.argsort(coefficients)\n",
    "sorted_features = [features[i] for i in indices]\n",
    "\n",
    "# 그래프 크기 지정\n",
    "plt.figure(figsize=(10, 8))\n",
    "\n",
    "# 막대그래프 show\n",
    "plt.barh(sorted_features, coefficients[indices])\n",
    "plt.show()"
   ]
  },
  {
   "cell_type": "code",
   "execution_count": 417,
   "metadata": {},
   "outputs": [
    {
     "name": "stdout",
     "output_type": "stream",
     "text": [
      "Train MAE: 234.15\n",
      "Train RMSE: 730.56\n",
      "Test MAE: 1065.93\n",
      "Test RMSE: 5111.02\n"
     ]
    }
   ],
   "source": [
    "# 훈련 데이터에 대한 성능 확인\n",
    "train_pred = model.predict(X_train)\n",
    "train_mae = mean_absolute_error(y_train, train_pred)\n",
    "train_rmse = np.sqrt(mean_squared_error(y_train, train_pred))\n",
    "\n",
    "print(\"Train MAE: {:.2f}\".format(train_mae))\n",
    "print(\"Train RMSE: {:.2f}\".format(train_rmse))\n",
    "\n",
    "# 테스트 데이터에 대한 성능 확인\n",
    "test_mae = mean_absolute_error(y_test, pred)\n",
    "test_rmse = np.sqrt(mean_squared_error(y_test, pred))\n",
    "\n",
    "print(\"Test MAE: {:.2f}\".format(mae))\n",
    "print(\"Test RMSE: {:.2f}\".format(rmse))\n"
   ]
  },
  {
   "cell_type": "markdown",
   "metadata": {},
   "source": [
    "### 4. 엘라스틱넷 회귀 모델 학습"
   ]
  },
  {
   "cell_type": "code",
   "execution_count": 418,
   "metadata": {},
   "outputs": [
    {
     "data": {
      "text/plain": [
       "ElasticNet(alpha=0.5)"
      ]
     },
     "execution_count": 418,
     "metadata": {},
     "output_type": "execute_result"
    }
   ],
   "source": [
    "model = ElasticNet(alpha=0.5, l1_ratio=0.5) \n",
    "model.fit(X_train, y_train) # 모델 학습"
   ]
  },
  {
   "cell_type": "markdown",
   "metadata": {},
   "source": [
    "### 4. 엘라스틱넷  회귀 모델 검증"
   ]
  },
  {
   "cell_type": "code",
   "execution_count": 419,
   "metadata": {},
   "outputs": [
    {
     "name": "stdout",
     "output_type": "stream",
     "text": [
      "MAE: 5.96%\n",
      "RMSE: 26.29%\n"
     ]
    },
    {
     "data": {
      "text/plain": [
       "0.9981371009370414"
      ]
     },
     "execution_count": 419,
     "metadata": {},
     "output_type": "execute_result"
    }
   ],
   "source": [
    "# Predict를 수행하고 mean_absolute_error, rmse 결과 출력하기\n",
    "pred = model.predict(X_test)    # X_test를 이용한 예측값 pred \n",
    "mean_absolute_error(y_test, pred)\n",
    "np.sqrt(mean_squared_error(y_test, pred))\n",
    "\n",
    "mae = mean_absolute_error(y_test, pred)\n",
    "rmse = np.sqrt(mean_squared_error(y_test, pred))\n",
    "\n",
    "# MAE 및 RMSE를 백분율로 표시\n",
    "mae_percentage = (mae / np.mean(y_test)) * 100\n",
    "rmse_percentage = (rmse / np.mean(y_test)) * 100\n",
    "\n",
    "print(\"MAE: {:.2f}%\".format(mae_percentage))\n",
    "print(\"RMSE: {:.2f}%\".format(rmse_percentage))\n",
    "\n",
    "r2_score(y_test, pred)"
   ]
  },
  {
   "cell_type": "markdown",
   "metadata": {},
   "source": [
    "### 4. 엘라스틱넷 회귀 중요변수 확인\n"
   ]
  },
  {
   "cell_type": "code",
   "execution_count": 420,
   "metadata": {},
   "outputs": [
    {
     "data": {
      "image/png": "[encoded data removed]",
      "text/plain": [
       "<Figure size 720x576 with 1 Axes>"
      ]
     },
     "metadata": {
      "needs_background": "light"
     },
     "output_type": "display_data"
    }
   ],
   "source": [
    "# Feature coefficients, feature 선언\n",
    "coefficients = model.coef_\n",
    "features = X.columns\n",
    "\n",
    "# coefficients 순으로 정렬\n",
    "indices = np.argsort(coefficients)\n",
    "sorted_features = [features[i] for i in indices]\n",
    "\n",
    "# 그래프 크기 지정\n",
    "plt.figure(figsize=(10, 8))\n",
    "\n",
    "# 막대그래프 show\n",
    "plt.barh(sorted_features, coefficients[indices])\n",
    "plt.show()"
   ]
  },
  {
   "cell_type": "code",
   "execution_count": 421,
   "metadata": {},
   "outputs": [
    {
     "name": "stdout",
     "output_type": "stream",
     "text": [
      "Train MAE: 1267.11\n",
      "Train RMSE: 3207.80\n",
      "Test MAE: 3234.42\n",
      "Test RMSE: 14260.40\n"
     ]
    }
   ],
   "source": [
    "# 훈련 데이터에 대한 성능 확인\n",
    "train_pred = model.predict(X_train)\n",
    "train_mae = mean_absolute_error(y_train, train_pred)\n",
    "train_rmse = np.sqrt(mean_squared_error(y_train, train_pred))\n",
    "\n",
    "print(\"Train MAE: {:.2f}\".format(train_mae))\n",
    "print(\"Train RMSE: {:.2f}\".format(train_rmse))\n",
    "\n",
    "# 테스트 데이터에 대한 성능 확인\n",
    "test_mae = mean_absolute_error(y_test, pred)\n",
    "test_rmse = np.sqrt(mean_squared_error(y_test, pred))\n",
    "\n",
    "print(\"Test MAE: {:.2f}\".format(mae))\n",
    "print(\"Test RMSE: {:.2f}\".format(rmse))\n"
   ]
  },
  {
   "cell_type": "markdown",
   "metadata": {},
   "source": [
    "### 1. (비선형) 결정 트리 회귀 모델 학습"
   ]
  },
  {
   "cell_type": "code",
   "execution_count": 422,
   "metadata": {},
   "outputs": [
    {
     "data": {
      "text/plain": [
       "DecisionTreeRegressor(random_state=3)"
      ]
     },
     "execution_count": 422,
     "metadata": {},
     "output_type": "execute_result"
    }
   ],
   "source": [
    "model = DecisionTreeRegressor(random_state=3) \n",
    "model.fit(X_train, y_train) # 모델 학습"
   ]
  },
  {
   "cell_type": "markdown",
   "metadata": {},
   "source": [
    "### 1. (비선형) 결정 트리 회귀 모델 검증"
   ]
  },
  {
   "cell_type": "code",
   "execution_count": 423,
   "metadata": {},
   "outputs": [
    {
     "name": "stdout",
     "output_type": "stream",
     "text": [
      "MAE: 51.32%\n",
      "RMSE: 378.26%\n"
     ]
    },
    {
     "data": {
      "text/plain": [
       "0.6143423383392367"
      ]
     },
     "execution_count": 423,
     "metadata": {},
     "output_type": "execute_result"
    }
   ],
   "source": [
    "# Predict를 수행하고 mean_absolute_error, rmse 결과 출력하기\n",
    "pred = model.predict(X_test)    # X_test를 이용한 예측값 pred \n",
    "mean_absolute_error(y_test, pred)\n",
    "np.sqrt(mean_squared_error(y_test, pred))\n",
    "\n",
    "mae = mean_absolute_error(y_test, pred)\n",
    "rmse = np.sqrt(mean_squared_error(y_test, pred))\n",
    "\n",
    "# MAE 및 RMSE를 백분율로 표시\n",
    "mae_percentage = (mae / np.mean(y_test)) * 100\n",
    "rmse_percentage = (rmse / np.mean(y_test)) * 100\n",
    "\n",
    "print(\"MAE: {:.2f}%\".format(mae_percentage))\n",
    "print(\"RMSE: {:.2f}%\".format(rmse_percentage))\n",
    "\n",
    "r2_score(y_test, pred)"
   ]
  },
  {
   "cell_type": "markdown",
   "metadata": {},
   "source": [
    "### 1. (비선형) 결정 트리 회귀 중요변수 확인"
   ]
  },
  {
   "cell_type": "code",
   "execution_count": 424,
   "metadata": {},
   "outputs": [
    {
     "data": {
      "image/png": "[encoded data removed]",
      "text/plain": [
       "<Figure size 720x576 with 1 Axes>"
      ]
     },
     "metadata": {
      "needs_background": "light"
     },
     "output_type": "display_data"
    }
   ],
   "source": [
    "# Feature coefficients, feature 선언\n",
    "coefficients = model.feature_importances_\n",
    "features = X.columns\n",
    "\n",
    "# coefficients 순으로 정렬\n",
    "indices = np.argsort(coefficients)\n",
    "sorted_features = [features[i] for i in indices]\n",
    "\n",
    "# 그래프 크기 지정\n",
    "plt.figure(figsize=(10, 8))\n",
    "\n",
    "# 막대그래프 show\n",
    "plt.barh(sorted_features, coefficients[indices])\n",
    "plt.show()"
   ]
  },
  {
   "cell_type": "markdown",
   "metadata": {},
   "source": [
    "### 2. (비선형) 랜덤포레스트 회귀 모델 학습"
   ]
  },
  {
   "cell_type": "code",
   "execution_count": 425,
   "metadata": {},
   "outputs": [
    {
     "data": {
      "text/plain": [
       "RandomForestRegressor(random_state=4)"
      ]
     },
     "execution_count": 425,
     "metadata": {},
     "output_type": "execute_result"
    }
   ],
   "source": [
    "model = RandomForestRegressor(n_estimators=100, random_state=4) \n",
    "model.fit(X_train, y_train) # 모델 학습"
   ]
  },
  {
   "cell_type": "markdown",
   "metadata": {},
   "source": [
    "### 2. (비선형) 랜덤포레스트 회귀 모델 검증"
   ]
  },
  {
   "cell_type": "code",
   "execution_count": 426,
   "metadata": {},
   "outputs": [
    {
     "name": "stdout",
     "output_type": "stream",
     "text": [
      "MAE: 49.16%\n",
      "RMSE: 373.43%\n"
     ]
    },
    {
     "data": {
      "text/plain": [
       "0.6241280876577175"
      ]
     },
     "execution_count": 426,
     "metadata": {},
     "output_type": "execute_result"
    }
   ],
   "source": [
    "# Predict를 수행하고 mean_absolute_error, rmse 결과 출력하기\n",
    "pred = model.predict(X_test)    # X_test를 이용한 예측값 pred \n",
    "mean_absolute_error(y_test, pred)\n",
    "np.sqrt(mean_squared_error(y_test, pred))\n",
    "\n",
    "mae = mean_absolute_error(y_test, pred)\n",
    "rmse = np.sqrt(mean_squared_error(y_test, pred))\n",
    "\n",
    "# MAE 및 RMSE를 백분율로 표시\n",
    "mae_percentage = (mae / np.mean(y_test)) * 100\n",
    "rmse_percentage = (rmse / np.mean(y_test)) * 100\n",
    "\n",
    "print(\"MAE: {:.2f}%\".format(mae_percentage))\n",
    "print(\"RMSE: {:.2f}%\".format(rmse_percentage))\n",
    "\n",
    "r2_score(y_test, pred)"
   ]
  },
  {
   "cell_type": "markdown",
   "metadata": {},
   "source": [
    "### 2. (비선형) 랜덤포레스트 회귀 중요변수 확인"
   ]
  },
  {
   "cell_type": "code",
   "execution_count": 427,
   "metadata": {},
   "outputs": [
    {
     "data": {
      "image/png": "[encoded data removed]",
      "text/plain": [
       "<Figure size 720x576 with 1 Axes>"
      ]
     },
     "metadata": {
      "needs_background": "light"
     },
     "output_type": "display_data"
    }
   ],
   "source": [
    "# Feature coefficients, feature 선언\n",
    "coefficients = model.feature_importances_\n",
    "features = X.columns\n",
    "\n",
    "# coefficients 순으로 정렬\n",
    "indices = np.argsort(coefficients)\n",
    "sorted_features = [features[i] for i in indices]\n",
    "\n",
    "# 그래프 크기 지정\n",
    "plt.figure(figsize=(10, 8))\n",
    "\n",
    "# 막대그래프 show\n",
    "plt.barh(sorted_features, coefficients[indices])\n",
    "plt.show()"
   ]
  },
  {
   "cell_type": "markdown",
   "metadata": {},
   "source": [
    "### 3. (비선형) XGBoost 회귀 모델 학습"
   ]
  },
  {
   "cell_type": "code",
   "execution_count": 428,
   "metadata": {},
   "outputs": [
    {
     "data": {
      "text/plain": [
       "XGBRegressor(base_score=0.5, booster='gbtree', callbacks=None,\n",
       "             colsample_bylevel=1, colsample_bynode=1, colsample_bytree=1,\n",
       "             early_stopping_rounds=None, enable_categorical=False,\n",
       "             eval_metric=None, gamma=0, gpu_id=-1, grow_policy='depthwise',\n",
       "             importance_type=None, interaction_constraints='',\n",
       "             learning_rate=0.300000012, max_bin=256, max_cat_to_onehot=4,\n",
       "             max_delta_step=0, max_depth=6, max_leaves=0, min_child_weight=1,\n",
       "             missing=nan, monotone_constraints='()', n_estimators=100, n_jobs=0,\n",
       "             num_parallel_tree=1, predictor='auto', random_state=0, reg_alpha=0,\n",
       "             reg_lambda=1, ...)"
      ]
     },
     "execution_count": 428,
     "metadata": {},
     "output_type": "execute_result"
    }
   ],
   "source": [
    "model = XGBRegressor() \n",
    "model.fit(X_train, y_train) # 모델 학습"
   ]
  },
  {
   "cell_type": "markdown",
   "metadata": {},
   "source": [
    "### 3. (비선형) XGBoost 회귀 모델 검증"
   ]
  },
  {
   "cell_type": "code",
   "execution_count": 429,
   "metadata": {},
   "outputs": [
    {
     "name": "stdout",
     "output_type": "stream",
     "text": [
      "MAE: 46.65%\n",
      "RMSE: 369.88%\n"
     ]
    },
    {
     "data": {
      "text/plain": [
       "0.6312444631987801"
      ]
     },
     "execution_count": 429,
     "metadata": {},
     "output_type": "execute_result"
    }
   ],
   "source": [
    "# Predict를 수행하고 mean_absolute_error, rmse 결과 출력하기\n",
    "pred = model.predict(X_test)    # X_test를 이용한 예측값 pred \n",
    "mean_absolute_error(y_test, pred)\n",
    "np.sqrt(mean_squared_error(y_test, pred))\n",
    "\n",
    "mae = mean_absolute_error(y_test, pred)\n",
    "rmse = np.sqrt(mean_squared_error(y_test, pred))\n",
    "\n",
    "# MAE 및 RMSE를 백분율로 표시\n",
    "mae_percentage = (mae / np.mean(y_test)) * 100\n",
    "rmse_percentage = (rmse / np.mean(y_test)) * 100\n",
    "\n",
    "print(\"MAE: {:.2f}%\".format(mae_percentage))\n",
    "print(\"RMSE: {:.2f}%\".format(rmse_percentage))\n",
    "\n",
    "r2_score(y_test, pred)"
   ]
  },
  {
   "cell_type": "markdown",
   "metadata": {},
   "source": [
    "### 3. (비선형) XGBoost 회귀 중요변수 확인"
   ]
  },
  {
   "cell_type": "code",
   "execution_count": 430,
   "metadata": {},
   "outputs": [
    {
     "data": {
      "image/png": "[encoded data removed]",
      "text/plain": [
       "<Figure size 720x576 with 1 Axes>"
      ]
     },
     "metadata": {
      "needs_background": "light"
     },
     "output_type": "display_data"
    }
   ],
   "source": [
    "# Feature coefficients, feature 선언\n",
    "coefficients = model.feature_importances_\n",
    "features = X.columns\n",
    "\n",
    "# coefficients 순으로 정렬\n",
    "indices = np.argsort(coefficients)\n",
    "sorted_features = [features[i] for i in indices]\n",
    "\n",
    "# 그래프 크기 지정\n",
    "plt.figure(figsize=(10, 8))\n",
    "\n",
    "# 막대그래프 show\n",
    "plt.barh(sorted_features, coefficients[indices])\n",
    "plt.show()"
   ]
  },
  {
   "cell_type": "markdown",
   "metadata": {},
   "source": [
    "### 4. (비선형) LightGBM 회귀 모델 학습"
   ]
  },
  {
   "cell_type": "code",
   "execution_count": 431,
   "metadata": {},
   "outputs": [
    {
     "name": "stdout",
     "output_type": "stream",
     "text": [
      "[LightGBM] [Info] Total Bins 3774\n",
      "[LightGBM] [Info] Number of data points in the train set: 6762, number of used features: 16\n",
      "[LightGBM] [Info] Start training from score 9978.129197\n"
     ]
    },
    {
     "data": {
      "text/plain": [
       "LGBMRegressor(force_col_wise=True)"
      ]
     },
     "execution_count": 431,
     "metadata": {},
     "output_type": "execute_result"
    }
   ],
   "source": [
    "'''\n",
    "   LightGBM에서는 특수 문자나 공백이 포함된 변수명을 지원하지 않습니다.\n",
    "   따라서 'X_train'에서 특수 문자나 공백을 제거하거나, 변수명을 변경해야 합니다.\n",
    "'''\n",
    "X_train.columns = [\"\".join (c if c.isalnum() else \"_\" for c in str(x)) for x in X_train.columns]\n",
    "\n",
    "\n",
    "model = LGBMRegressor(force_col_wise=True) \n",
    "model.fit(X_train, y_train) # 모델 학습"
   ]
  },
  {
   "cell_type": "markdown",
   "metadata": {},
   "source": [
    "### 4. (비선형) LightGBM 회귀 모델 검증"
   ]
  },
  {
   "cell_type": "code",
   "execution_count": 432,
   "metadata": {},
   "outputs": [
    {
     "name": "stdout",
     "output_type": "stream",
     "text": [
      "[LightGBM] [Info] Total Bins 3774\n",
      "[LightGBM] [Info] Number of data points in the train set: 6762, number of used features: 16\n",
      "[LightGBM] [Info] Start training from score 9978.129197\n"
     ]
    },
    {
     "data": {
      "text/plain": [
       "LGBMRegressor(force_col_wise=True)"
      ]
     },
     "execution_count": 432,
     "metadata": {},
     "output_type": "execute_result"
    }
   ],
   "source": [
    "'''\n",
    "   LightGBM에서는 특수 문자나 공백이 포함된 변수명을 지원하지 않습니다.\n",
    "   따라서 'X_train'에서 특수 문자나 공백을 제거하거나, 변수명을 변경해야 합니다.\n",
    "'''\n",
    "X_train.columns = [\"\".join (c if c.isalnum() else \"_\" for c in str(x)) for x in X_train.columns]\n",
    "model = LGBMRegressor(force_col_wise=True)\n",
    "model.fit(X_train, y_train) # 모델 학습"
   ]
  },
  {
   "cell_type": "code",
   "execution_count": 433,
   "metadata": {},
   "outputs": [
    {
     "name": "stdout",
     "output_type": "stream",
     "text": [
      "MAE: 51.63%\n",
      "RMSE: 386.81%\n"
     ]
    },
    {
     "data": {
      "text/plain": [
       "0.5967082964276795"
      ]
     },
     "execution_count": 433,
     "metadata": {},
     "output_type": "execute_result"
    }
   ],
   "source": [
    "# Predict를 수행하고 mean_absolute_error, rmse 결과 출력하기\n",
    "pred = model.predict(X_test)    # X_test를 이용한 예측값 pred \n",
    "mean_absolute_error(y_test, pred)\n",
    "np.sqrt(mean_squared_error(y_test, pred))\n",
    "\n",
    "mae = mean_absolute_error(y_test, pred)\n",
    "rmse = np.sqrt(mean_squared_error(y_test, pred))\n",
    "\n",
    "# MAE 및 RMSE를 백분율로 표시\n",
    "mae_percentage = (mae / np.mean(y_test)) * 100\n",
    "rmse_percentage = (rmse / np.mean(y_test)) * 100\n",
    "\n",
    "print(\"MAE: {:.2f}%\".format(mae_percentage))\n",
    "print(\"RMSE: {:.2f}%\".format(rmse_percentage))\n",
    "\n",
    "r2_score(y_test, pred)"
   ]
  },
  {
   "cell_type": "markdown",
   "metadata": {},
   "source": [
    "### 4. (비선형) LightGBM 회귀 중요변수 확인"
   ]
  },
  {
   "cell_type": "code",
   "execution_count": 434,
   "metadata": {},
   "outputs": [
    {
     "data": {
      "image/png": "[encoded data removed]",
      "text/plain": [
       "<Figure size 720x576 with 1 Axes>"
      ]
     },
     "metadata": {
      "needs_background": "light"
     },
     "output_type": "display_data"
    }
   ],
   "source": [
    "# Feature coefficients, feature 선언\n",
    "coefficients = model.feature_importances_\n",
    "features = X.columns\n",
    "\n",
    "# coefficients 순으로 정렬\n",
    "indices = np.argsort(coefficients)\n",
    "sorted_features = [features[i] for i in indices]\n",
    "\n",
    "# 그래프 크기 지정\n",
    "plt.figure(figsize=(10, 8))\n",
    "\n",
    "# 막대그래프 show\n",
    "plt.barh(sorted_features, coefficients[indices])\n",
    "plt.show()"
   ]
  },
  {
   "cell_type": "markdown",
   "metadata": {},
   "source": [
    "### 5. (비선형) LightGBM 회귀 중요변수 확인"
   ]
  },
  {
   "cell_type": "code",
   "execution_count": 435,
   "metadata": {},
   "outputs": [
    {
     "data": {
      "text/plain": [
       "KNeighborsRegressor(n_neighbors=3, weights='distance')"
      ]
     },
     "execution_count": 435,
     "metadata": {},
     "output_type": "execute_result"
    }
   ],
   "source": [
    "from sklearn.neighbors import KNeighborsRegressor\n",
    "\n",
    "model = KNeighborsRegressor(n_neighbors=3, weights='distance') \n",
    "model.fit(X_train, y_train) # 모델 학습\n",
    "\n"
   ]
  },
  {
   "cell_type": "code",
   "execution_count": 436,
   "metadata": {},
   "outputs": [
    {
     "name": "stderr",
     "output_type": "stream",
     "text": [
      "C:\\Users\\vlrms\\AppData\\Local\\Packages\\PythonSoftwareFoundation.Python.3.7_qbz5n2kfra8p0\\LocalCache\\local-packages\\Python37\\site-packages\\sklearn\\base.py:493: FutureWarning: The feature names should match those that were passed during fit. Starting version 1.2, an error will be raised.\n",
      "Feature names unseen at fit time:\n",
      "- Biomass and waste (billion kWh)\n",
      "- Coal (quad Btu)\n",
      "- Fossil fuels (billion kWh)\n",
      "- Geothermal (billion kWh)\n",
      "- Hydroelectric pumped storage (billion kWh)\n",
      "- ...\n",
      "Feature names seen at fit time, yet now missing:\n",
      "- Biomass_and_waste__billion_kWh_\n",
      "- Coal__quad_Btu_\n",
      "- Fossil_fuels__billion_kWh_\n",
      "- Geothermal__billion_kWh_\n",
      "- Hydroelectric_pumped_storage__billion_kWh_\n",
      "- ...\n",
      "\n",
      "  warnings.warn(message, FutureWarning)\n"
     ]
    },
    {
     "name": "stdout",
     "output_type": "stream",
     "text": [
      "MAE: 63.62%\n",
      "RMSE: 386.38%\n"
     ]
    },
    {
     "data": {
      "text/plain": [
       "0.5976049243332147"
      ]
     },
     "execution_count": 436,
     "metadata": {},
     "output_type": "execute_result"
    }
   ],
   "source": [
    "# Predict를 수행하고 mean_absolute_error, rmse 결과 출력하기\n",
    "pred = model.predict(X_test)    # X_test를 이용한 예측값 pred \n",
    "mean_absolute_error(y_test, pred)\n",
    "np.sqrt(mean_squared_error(y_test, pred))\n",
    "\n",
    "mae = mean_absolute_error(y_test, pred)\n",
    "rmse = np.sqrt(mean_squared_error(y_test, pred))\n",
    "\n",
    "# MAE 및 RMSE를 백분율로 표시\n",
    "mae_percentage = (mae / np.mean(y_test)) * 100\n",
    "rmse_percentage = (rmse / np.mean(y_test)) * 100\n",
    "\n",
    "print(\"MAE: {:.2f}%\".format(mae_percentage))\n",
    "print(\"RMSE: {:.2f}%\".format(rmse_percentage))\n",
    "\n",
    "r2_score(y_test, pred)"
   ]
  }
 ],
 "metadata": {
  "kernelspec": {
   "display_name": "Python 3",
   "language": "python",
   "name": "python3"
  },
  "language_info": {
   "codemirror_mode": {
    "name": "ipython",
    "version": 3
   },
   "file_extension": ".py",
   "mimetype": "text/x-python",
   "name": "python",
   "nbconvert_exporter": "python",
   "pygments_lexer": "ipython3",
   "version": "3.7.9"
  }
 },
 "nbformat": 4,
 "nbformat_minor": 2
}
