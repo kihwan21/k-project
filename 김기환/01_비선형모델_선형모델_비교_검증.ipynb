{
 "cells": [
  {
   "cell_type": "code",
<<<<<<< HEAD
   "execution_count": 395,
=======
   "execution_count": 483,
>>>>>>> 09331ef8b049ae3a6c46de82d5cce68627f8e1a4
   "metadata": {},
   "outputs": [],
   "source": [
    "import pandas as pd"
   ]
  },
  {
   "cell_type": "code",
<<<<<<< HEAD
   "execution_count": 396,
=======
   "execution_count": 484,
>>>>>>> 09331ef8b049ae3a6c46de82d5cce68627f8e1a4
   "metadata": {},
   "outputs": [],
   "source": [
    "df = pd.read_csv(\"국가별_데이터_전처리_세계2.csv\")"
   ]
  },
  {
   "cell_type": "code",
<<<<<<< HEAD
   "execution_count": 397,
=======
   "execution_count": 485,
>>>>>>> 09331ef8b049ae3a6c46de82d5cce68627f8e1a4
   "metadata": {},
   "outputs": [],
   "source": [
    "from sklearn.model_selection import train_test_split\n",
    "from xgboost import XGBRegressor\n",
    "from sklearn.metrics import mean_absolute_error, mean_squared_error, r2_score, accuracy_score\n",
    "\n",
    "from math import sqrt\n",
    "from lightgbm import LGBMRegressor, LGBMClassifier\n",
    "from sklearn.model_selection import cross_val_score\n",
    "from sklearn.neural_network import MLPRegressor\n",
    "from sklearn.ensemble import RandomForestRegressor\n",
    "from sklearn.preprocessing import MinMaxScaler"
   ]
  },
  {
   "cell_type": "code",
<<<<<<< HEAD
   "execution_count": 398,
=======
   "execution_count": 486,
>>>>>>> 09331ef8b049ae3a6c46de82d5cce68627f8e1a4
   "metadata": {},
   "outputs": [
    {
     "data": {
      "image/png": "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",
      "text/plain": [
       "<Figure size 432x288 with 1 Axes>"
      ]
     },
     "metadata": {
      "needs_background": "light"
     },
     "output_type": "display_data"
    }
   ],
   "source": [
    "# 필요한 라이브러리 불러오기\n",
    "\n",
    "import numpy as np\n",
    "import matplotlib.pyplot as plt\n",
    "import seaborn as sns\n",
    "from scipy import stats\n",
    "import matplotlib.font_manager as fm\n",
    "\n",
    "# 한글 폰트 사용을 위해서 세팅\n",
    "from matplotlib import font_manager, rc\n",
    "font_path = \"C:/Windows/Fonts/NGULIM.TTF\"\n",
    "font = font_manager.FontProperties(fname=font_path).get_name()\n",
    "rc('font', family=font)\n",
    " \n",
    "plt.scatter([0, 1, 2, 3, 4, 5], [0, 1, 2, 3, 4, 5])\n",
    "plt.title('산점도')\n",
    "plt.xlabel('변수1')\n",
    "plt.ylabel('변수2')\n",
    "plt.grid(True)\n",
    "plt.show()\n",
    "\n",
    "font_location = fm.findfont('NanumGothic')\n",
    "font_name = fm.FontProperties(fname=font_location).get_name()"
   ]
  },
  {
   "cell_type": "markdown",
   "metadata": {},
   "source": [
    "### 선형회귀와 비선형회귀 검증\n",
    "#### 선형회귀\n",
    "- LinearSVR\n",
    "- 릿지\n",
    "- 라쏘\n",
    "- 엘라스틱넷\n",
    "---------------------------------\n",
    "#### 비선형회귀\n",
    "- 결정 트리\n",
    "- 랜덤포레스트\n",
    "- Xgboost\n",
    "- LightGBM\n",
    "- "
   ]
  },
  {
   "cell_type": "code",
<<<<<<< HEAD
   "execution_count": 399,
=======
   "execution_count": 487,
>>>>>>> 09331ef8b049ae3a6c46de82d5cce68627f8e1a4
   "metadata": {},
   "outputs": [],
   "source": [
    "from sklearn.svm import LinearSVR\n",
    "from sklearn.linear_model import Ridge\n",
    "from sklearn.linear_model import Lasso\n",
    "from sklearn.linear_model import ElasticNet\n",
    "from sklearn.ensemble import RandomForestRegressor\n",
    "from sklearn.tree import DecisionTreeRegressor\n",
    "from lightgbm import LGBMRegressor\n",
    "\n",
    "from sklearn.metrics import mean_absolute_error, mean_squared_error\n",
    "from math import sqrt"
   ]
  },
  {
   "cell_type": "code",
<<<<<<< HEAD
   "execution_count": 400,
   "metadata": {},
   "outputs": [],
   "source": [
    "# df['CO2 emissions (MMtonnes CO2)'] = df['CO2 emissions (MMtonnes CO2)'] *100"
=======
   "execution_count": 488,
   "metadata": {},
   "outputs": [],
   "source": [
    "df2 = df[['CO2 emissions (MMtonnes CO2)']] == 0"
>>>>>>> 09331ef8b049ae3a6c46de82d5cce68627f8e1a4
   ]
  },
  {
   "cell_type": "code",
<<<<<<< HEAD
   "execution_count": 401,
=======
   "execution_count": 489,
   "metadata": {},
   "outputs": [
    {
     "data": {
      "text/html": [
       "<div>\n",
       "<style scoped>\n",
       "    .dataframe tbody tr th:only-of-type {\n",
       "        vertical-align: middle;\n",
       "    }\n",
       "\n",
       "    .dataframe tbody tr th {\n",
       "        vertical-align: top;\n",
       "    }\n",
       "\n",
       "    .dataframe thead th {\n",
       "        text-align: right;\n",
       "    }\n",
       "</style>\n",
       "<table border=\"1\" class=\"dataframe\">\n",
       "  <thead>\n",
       "    <tr style=\"text-align: right;\">\n",
       "      <th></th>\n",
       "      <th>COUNTRY</th>\n",
       "      <th>Year</th>\n",
       "      <th>Biomass and waste (billion kWh)</th>\n",
       "      <th>CO2 emissions (MMtonnes CO2)</th>\n",
       "      <th>Coal (quad Btu)</th>\n",
       "      <th>Coal and coke (MMtonnes CO2)</th>\n",
       "      <th>Consumed natural gas (MMtonnes CO2)</th>\n",
       "      <th>Consumption (quad Btu)</th>\n",
       "      <th>Fossil fuels (billion kWh)</th>\n",
       "      <th>GDP</th>\n",
       "      <th>...</th>\n",
       "      <th>Nuclear, renewables, and other (quad Btu)</th>\n",
       "      <th>Petroleum and other liquids (MMtonnes CO2)</th>\n",
       "      <th>Petroleum and other liquids (quad Btu)</th>\n",
       "      <th>Population</th>\n",
       "      <th>Renewables (billion kWh)</th>\n",
       "      <th>Renewables and other (quad Btu)</th>\n",
       "      <th>Solar (billion kWh)</th>\n",
       "      <th>Solar, tide, wave, fuel cell (billion kWh)</th>\n",
       "      <th>Tide and wave (billion kWh)</th>\n",
       "      <th>Wind (billion kWh)</th>\n",
       "    </tr>\n",
       "  </thead>\n",
       "  <tbody>\n",
       "    <tr>\n",
       "      <th>0</th>\n",
       "      <td>0</td>\n",
       "      <td>1980</td>\n",
       "      <td>0.000000</td>\n",
       "      <td>1.325965</td>\n",
       "      <td>0.002479</td>\n",
       "      <td>0.231314</td>\n",
       "      <td>0.111101</td>\n",
       "      <td>0.026583</td>\n",
       "      <td>0.231000</td>\n",
       "      <td>0.00000</td>\n",
       "      <td>...</td>\n",
       "      <td>0.007386</td>\n",
       "      <td>0.983550</td>\n",
       "      <td>0.014624</td>\n",
       "      <td>13356.50</td>\n",
       "      <td>0.711000</td>\n",
       "      <td>0.007386</td>\n",
       "      <td>0.00000</td>\n",
       "      <td>0.00000</td>\n",
       "      <td>0.0</td>\n",
       "      <td>0.0</td>\n",
       "    </tr>\n",
       "    <tr>\n",
       "      <th>1</th>\n",
       "      <td>0</td>\n",
       "      <td>1981</td>\n",
       "      <td>0.000000</td>\n",
       "      <td>1.509628</td>\n",
       "      <td>0.002604</td>\n",
       "      <td>0.242977</td>\n",
       "      <td>0.166651</td>\n",
       "      <td>0.029949</td>\n",
       "      <td>0.271000</td>\n",
       "      <td>0.00000</td>\n",
       "      <td>...</td>\n",
       "      <td>0.007537</td>\n",
       "      <td>1.100000</td>\n",
       "      <td>0.016668</td>\n",
       "      <td>13171.68</td>\n",
       "      <td>0.721000</td>\n",
       "      <td>0.007537</td>\n",
       "      <td>0.00000</td>\n",
       "      <td>0.00000</td>\n",
       "      <td>0.0</td>\n",
       "      <td>0.0</td>\n",
       "    </tr>\n",
       "    <tr>\n",
       "      <th>2</th>\n",
       "      <td>0</td>\n",
       "      <td>1982</td>\n",
       "      <td>0.000000</td>\n",
       "      <td>1.659605</td>\n",
       "      <td>0.003021</td>\n",
       "      <td>0.281853</td>\n",
       "      <td>0.277752</td>\n",
       "      <td>0.031898</td>\n",
       "      <td>0.245000</td>\n",
       "      <td>0.00000</td>\n",
       "      <td>...</td>\n",
       "      <td>0.007391</td>\n",
       "      <td>1.100000</td>\n",
       "      <td>0.016251</td>\n",
       "      <td>12882.52</td>\n",
       "      <td>0.707000</td>\n",
       "      <td>0.007391</td>\n",
       "      <td>0.00000</td>\n",
       "      <td>0.00000</td>\n",
       "      <td>0.0</td>\n",
       "      <td>0.0</td>\n",
       "    </tr>\n",
       "    <tr>\n",
       "      <th>3</th>\n",
       "      <td>0</td>\n",
       "      <td>1983</td>\n",
       "      <td>0.000000</td>\n",
       "      <td>2.059605</td>\n",
       "      <td>0.003021</td>\n",
       "      <td>0.281853</td>\n",
       "      <td>0.277752</td>\n",
       "      <td>0.039022</td>\n",
       "      <td>0.254000</td>\n",
       "      <td>0.00000</td>\n",
       "      <td>...</td>\n",
       "      <td>0.007848</td>\n",
       "      <td>1.500000</td>\n",
       "      <td>0.022918</td>\n",
       "      <td>12537.73</td>\n",
       "      <td>0.746000</td>\n",
       "      <td>0.007848</td>\n",
       "      <td>0.00000</td>\n",
       "      <td>0.00000</td>\n",
       "      <td>0.0</td>\n",
       "      <td>0.0</td>\n",
       "    </tr>\n",
       "    <tr>\n",
       "      <th>4</th>\n",
       "      <td>0</td>\n",
       "      <td>1984</td>\n",
       "      <td>0.000000</td>\n",
       "      <td>2.065436</td>\n",
       "      <td>0.003083</td>\n",
       "      <td>0.287684</td>\n",
       "      <td>0.277752</td>\n",
       "      <td>0.039202</td>\n",
       "      <td>0.262000</td>\n",
       "      <td>0.00000</td>\n",
       "      <td>...</td>\n",
       "      <td>0.007903</td>\n",
       "      <td>1.500000</td>\n",
       "      <td>0.022981</td>\n",
       "      <td>12204.31</td>\n",
       "      <td>0.757000</td>\n",
       "      <td>0.007903</td>\n",
       "      <td>0.00000</td>\n",
       "      <td>0.00000</td>\n",
       "      <td>0.0</td>\n",
       "      <td>0.0</td>\n",
       "    </tr>\n",
       "    <tr>\n",
       "      <th>...</th>\n",
       "      <td>...</td>\n",
       "      <td>...</td>\n",
       "      <td>...</td>\n",
       "      <td>...</td>\n",
       "      <td>...</td>\n",
       "      <td>...</td>\n",
       "      <td>...</td>\n",
       "      <td>...</td>\n",
       "      <td>...</td>\n",
       "      <td>...</td>\n",
       "      <td>...</td>\n",
       "      <td>...</td>\n",
       "      <td>...</td>\n",
       "      <td>...</td>\n",
       "      <td>...</td>\n",
       "      <td>...</td>\n",
       "      <td>...</td>\n",
       "      <td>...</td>\n",
       "      <td>...</td>\n",
       "      <td>...</td>\n",
       "      <td>...</td>\n",
       "    </tr>\n",
       "    <tr>\n",
       "      <th>9655</th>\n",
       "      <td>229</td>\n",
       "      <td>2017</td>\n",
       "      <td>0.151000</td>\n",
       "      <td>8.992426</td>\n",
       "      <td>0.060448</td>\n",
       "      <td>5.461868</td>\n",
       "      <td>0.000000</td>\n",
       "      <td>0.154422</td>\n",
       "      <td>3.218560</td>\n",
       "      <td>39.06286</td>\n",
       "      <td>...</td>\n",
       "      <td>0.044062</td>\n",
       "      <td>3.530558</td>\n",
       "      <td>0.049911</td>\n",
       "      <td>14751.10</td>\n",
       "      <td>4.130900</td>\n",
       "      <td>0.044062</td>\n",
       "      <td>0.01100</td>\n",
       "      <td>0.01100</td>\n",
       "      <td>0.0</td>\n",
       "      <td>0.0</td>\n",
       "    </tr>\n",
       "    <tr>\n",
       "      <th>9656</th>\n",
       "      <td>229</td>\n",
       "      <td>2018</td>\n",
       "      <td>0.187000</td>\n",
       "      <td>10.290169</td>\n",
       "      <td>0.065284</td>\n",
       "      <td>5.912279</td>\n",
       "      <td>0.000000</td>\n",
       "      <td>0.176781</td>\n",
       "      <td>3.932020</td>\n",
       "      <td>40.89881</td>\n",
       "      <td>...</td>\n",
       "      <td>0.049737</td>\n",
       "      <td>4.377890</td>\n",
       "      <td>0.061759</td>\n",
       "      <td>15052.18</td>\n",
       "      <td>5.254980</td>\n",
       "      <td>0.049737</td>\n",
       "      <td>0.01900</td>\n",
       "      <td>0.01900</td>\n",
       "      <td>0.0</td>\n",
       "      <td>0.0</td>\n",
       "    </tr>\n",
       "    <tr>\n",
       "      <th>9657</th>\n",
       "      <td>229</td>\n",
       "      <td>2019</td>\n",
       "      <td>0.189000</td>\n",
       "      <td>9.408047</td>\n",
       "      <td>0.061204</td>\n",
       "      <td>5.468512</td>\n",
       "      <td>0.000000</td>\n",
       "      <td>0.157368</td>\n",
       "      <td>3.850240</td>\n",
       "      <td>38.40398</td>\n",
       "      <td>...</td>\n",
       "      <td>0.040666</td>\n",
       "      <td>3.939535</td>\n",
       "      <td>0.055498</td>\n",
       "      <td>15354.61</td>\n",
       "      <td>4.380599</td>\n",
       "      <td>0.040666</td>\n",
       "      <td>0.02600</td>\n",
       "      <td>0.02600</td>\n",
       "      <td>0.0</td>\n",
       "      <td>0.0</td>\n",
       "    </tr>\n",
       "    <tr>\n",
       "      <th>9658</th>\n",
       "      <td>229</td>\n",
       "      <td>2020</td>\n",
       "      <td>0.099000</td>\n",
       "      <td>8.253322</td>\n",
       "      <td>0.052825</td>\n",
       "      <td>4.491685</td>\n",
       "      <td>0.000000</td>\n",
       "      <td>0.143299</td>\n",
       "      <td>3.655663</td>\n",
       "      <td>35.34675</td>\n",
       "      <td>...</td>\n",
       "      <td>0.037482</td>\n",
       "      <td>3.761637</td>\n",
       "      <td>0.052992</td>\n",
       "      <td>15669.67</td>\n",
       "      <td>3.938347</td>\n",
       "      <td>0.037482</td>\n",
       "      <td>0.03400</td>\n",
       "      <td>0.03400</td>\n",
       "      <td>0.0</td>\n",
       "      <td>0.0</td>\n",
       "    </tr>\n",
       "    <tr>\n",
       "      <th>9659</th>\n",
       "      <td>229</td>\n",
       "      <td>2021</td>\n",
       "      <td>0.099789</td>\n",
       "      <td>8.118910</td>\n",
       "      <td>0.050509</td>\n",
       "      <td>4.149747</td>\n",
       "      <td>0.000000</td>\n",
       "      <td>0.143806</td>\n",
       "      <td>3.889625</td>\n",
       "      <td>37.54586</td>\n",
       "      <td>...</td>\n",
       "      <td>0.037381</td>\n",
       "      <td>3.969163</td>\n",
       "      <td>0.055915</td>\n",
       "      <td>15993.52</td>\n",
       "      <td>4.141269</td>\n",
       "      <td>0.037381</td>\n",
       "      <td>0.04148</td>\n",
       "      <td>0.04148</td>\n",
       "      <td>0.0</td>\n",
       "      <td>0.0</td>\n",
       "    </tr>\n",
       "  </tbody>\n",
       "</table>\n",
       "<p>9660 rows × 28 columns</p>\n",
       "</div>"
      ],
      "text/plain": [
       "      COUNTRY  Year  Biomass and waste (billion kWh)  \\\n",
       "0           0  1980                         0.000000   \n",
       "1           0  1981                         0.000000   \n",
       "2           0  1982                         0.000000   \n",
       "3           0  1983                         0.000000   \n",
       "4           0  1984                         0.000000   \n",
       "...       ...   ...                              ...   \n",
       "9655      229  2017                         0.151000   \n",
       "9656      229  2018                         0.187000   \n",
       "9657      229  2019                         0.189000   \n",
       "9658      229  2020                         0.099000   \n",
       "9659      229  2021                         0.099789   \n",
       "\n",
       "      CO2 emissions (MMtonnes CO2)  Coal (quad Btu)  \\\n",
       "0                         1.325965         0.002479   \n",
       "1                         1.509628         0.002604   \n",
       "2                         1.659605         0.003021   \n",
       "3                         2.059605         0.003021   \n",
       "4                         2.065436         0.003083   \n",
       "...                            ...              ...   \n",
       "9655                      8.992426         0.060448   \n",
       "9656                     10.290169         0.065284   \n",
       "9657                      9.408047         0.061204   \n",
       "9658                      8.253322         0.052825   \n",
       "9659                      8.118910         0.050509   \n",
       "\n",
       "      Coal and coke (MMtonnes CO2)  Consumed natural gas (MMtonnes CO2)  \\\n",
       "0                         0.231314                             0.111101   \n",
       "1                         0.242977                             0.166651   \n",
       "2                         0.281853                             0.277752   \n",
       "3                         0.281853                             0.277752   \n",
       "4                         0.287684                             0.277752   \n",
       "...                            ...                                  ...   \n",
       "9655                      5.461868                             0.000000   \n",
       "9656                      5.912279                             0.000000   \n",
       "9657                      5.468512                             0.000000   \n",
       "9658                      4.491685                             0.000000   \n",
       "9659                      4.149747                             0.000000   \n",
       "\n",
       "      Consumption (quad Btu)  Fossil fuels (billion kWh)       GDP  ...  \\\n",
       "0                   0.026583                    0.231000   0.00000  ...   \n",
       "1                   0.029949                    0.271000   0.00000  ...   \n",
       "2                   0.031898                    0.245000   0.00000  ...   \n",
       "3                   0.039022                    0.254000   0.00000  ...   \n",
       "4                   0.039202                    0.262000   0.00000  ...   \n",
       "...                      ...                         ...       ...  ...   \n",
       "9655                0.154422                    3.218560  39.06286  ...   \n",
       "9656                0.176781                    3.932020  40.89881  ...   \n",
       "9657                0.157368                    3.850240  38.40398  ...   \n",
       "9658                0.143299                    3.655663  35.34675  ...   \n",
       "9659                0.143806                    3.889625  37.54586  ...   \n",
       "\n",
       "      Nuclear, renewables, and other (quad Btu)  \\\n",
       "0                                      0.007386   \n",
       "1                                      0.007537   \n",
       "2                                      0.007391   \n",
       "3                                      0.007848   \n",
       "4                                      0.007903   \n",
       "...                                         ...   \n",
       "9655                                   0.044062   \n",
       "9656                                   0.049737   \n",
       "9657                                   0.040666   \n",
       "9658                                   0.037482   \n",
       "9659                                   0.037381   \n",
       "\n",
       "      Petroleum and other liquids (MMtonnes CO2)  \\\n",
       "0                                       0.983550   \n",
       "1                                       1.100000   \n",
       "2                                       1.100000   \n",
       "3                                       1.500000   \n",
       "4                                       1.500000   \n",
       "...                                          ...   \n",
       "9655                                    3.530558   \n",
       "9656                                    4.377890   \n",
       "9657                                    3.939535   \n",
       "9658                                    3.761637   \n",
       "9659                                    3.969163   \n",
       "\n",
       "      Petroleum and other liquids (quad Btu)  Population  \\\n",
       "0                                   0.014624    13356.50   \n",
       "1                                   0.016668    13171.68   \n",
       "2                                   0.016251    12882.52   \n",
       "3                                   0.022918    12537.73   \n",
       "4                                   0.022981    12204.31   \n",
       "...                                      ...         ...   \n",
       "9655                                0.049911    14751.10   \n",
       "9656                                0.061759    15052.18   \n",
       "9657                                0.055498    15354.61   \n",
       "9658                                0.052992    15669.67   \n",
       "9659                                0.055915    15993.52   \n",
       "\n",
       "      Renewables (billion kWh)  Renewables and other (quad Btu)  \\\n",
       "0                     0.711000                         0.007386   \n",
       "1                     0.721000                         0.007537   \n",
       "2                     0.707000                         0.007391   \n",
       "3                     0.746000                         0.007848   \n",
       "4                     0.757000                         0.007903   \n",
       "...                        ...                              ...   \n",
       "9655                  4.130900                         0.044062   \n",
       "9656                  5.254980                         0.049737   \n",
       "9657                  4.380599                         0.040666   \n",
       "9658                  3.938347                         0.037482   \n",
       "9659                  4.141269                         0.037381   \n",
       "\n",
       "      Solar (billion kWh)  Solar, tide, wave, fuel cell (billion kWh)  \\\n",
       "0                 0.00000                                     0.00000   \n",
       "1                 0.00000                                     0.00000   \n",
       "2                 0.00000                                     0.00000   \n",
       "3                 0.00000                                     0.00000   \n",
       "4                 0.00000                                     0.00000   \n",
       "...                   ...                                         ...   \n",
       "9655              0.01100                                     0.01100   \n",
       "9656              0.01900                                     0.01900   \n",
       "9657              0.02600                                     0.02600   \n",
       "9658              0.03400                                     0.03400   \n",
       "9659              0.04148                                     0.04148   \n",
       "\n",
       "      Tide and wave (billion kWh)  Wind (billion kWh)  \n",
       "0                             0.0                 0.0  \n",
       "1                             0.0                 0.0  \n",
       "2                             0.0                 0.0  \n",
       "3                             0.0                 0.0  \n",
       "4                             0.0                 0.0  \n",
       "...                           ...                 ...  \n",
       "9655                          0.0                 0.0  \n",
       "9656                          0.0                 0.0  \n",
       "9657                          0.0                 0.0  \n",
       "9658                          0.0                 0.0  \n",
       "9659                          0.0                 0.0  \n",
       "\n",
       "[9660 rows x 28 columns]"
      ]
     },
     "execution_count": 489,
     "metadata": {},
     "output_type": "execute_result"
    }
   ],
   "source": [
    "df"
   ]
  },
  {
   "cell_type": "code",
   "execution_count": 490,
   "metadata": {},
   "outputs": [
    {
     "data": {
      "text/html": [
       "<div>\n",
       "<style scoped>\n",
       "    .dataframe tbody tr th:only-of-type {\n",
       "        vertical-align: middle;\n",
       "    }\n",
       "\n",
       "    .dataframe tbody tr th {\n",
       "        vertical-align: top;\n",
       "    }\n",
       "\n",
       "    .dataframe thead th {\n",
       "        text-align: right;\n",
       "    }\n",
       "</style>\n",
       "<table border=\"1\" class=\"dataframe\">\n",
       "  <thead>\n",
       "    <tr style=\"text-align: right;\">\n",
       "      <th></th>\n",
       "      <th>CO2 emissions (MMtonnes CO2)</th>\n",
       "    </tr>\n",
       "  </thead>\n",
       "  <tbody>\n",
       "    <tr>\n",
       "      <th>0</th>\n",
       "      <td>False</td>\n",
       "    </tr>\n",
       "    <tr>\n",
       "      <th>1</th>\n",
       "      <td>False</td>\n",
       "    </tr>\n",
       "    <tr>\n",
       "      <th>2</th>\n",
       "      <td>False</td>\n",
       "    </tr>\n",
       "    <tr>\n",
       "      <th>3</th>\n",
       "      <td>False</td>\n",
       "    </tr>\n",
       "    <tr>\n",
       "      <th>4</th>\n",
       "      <td>False</td>\n",
       "    </tr>\n",
       "    <tr>\n",
       "      <th>...</th>\n",
       "      <td>...</td>\n",
       "    </tr>\n",
       "    <tr>\n",
       "      <th>9655</th>\n",
       "      <td>False</td>\n",
       "    </tr>\n",
       "    <tr>\n",
       "      <th>9656</th>\n",
       "      <td>False</td>\n",
       "    </tr>\n",
       "    <tr>\n",
       "      <th>9657</th>\n",
       "      <td>False</td>\n",
       "    </tr>\n",
       "    <tr>\n",
       "      <th>9658</th>\n",
       "      <td>False</td>\n",
       "    </tr>\n",
       "    <tr>\n",
       "      <th>9659</th>\n",
       "      <td>False</td>\n",
       "    </tr>\n",
       "  </tbody>\n",
       "</table>\n",
       "<p>9660 rows × 1 columns</p>\n",
       "</div>"
      ],
      "text/plain": [
       "      CO2 emissions (MMtonnes CO2)\n",
       "0                            False\n",
       "1                            False\n",
       "2                            False\n",
       "3                            False\n",
       "4                            False\n",
       "...                            ...\n",
       "9655                         False\n",
       "9656                         False\n",
       "9657                         False\n",
       "9658                         False\n",
       "9659                         False\n",
       "\n",
       "[9660 rows x 1 columns]"
      ]
     },
     "execution_count": 490,
     "metadata": {},
     "output_type": "execute_result"
    }
   ],
   "source": [
    "df2"
   ]
  },
  {
   "cell_type": "code",
   "execution_count": 491,
   "metadata": {},
   "outputs": [
    {
     "data": {
      "text/html": [
       "<div>\n",
       "<style scoped>\n",
       "    .dataframe tbody tr th:only-of-type {\n",
       "        vertical-align: middle;\n",
       "    }\n",
       "\n",
       "    .dataframe tbody tr th {\n",
       "        vertical-align: top;\n",
       "    }\n",
       "\n",
       "    .dataframe thead th {\n",
       "        text-align: right;\n",
       "    }\n",
       "</style>\n",
       "<table border=\"1\" class=\"dataframe\">\n",
       "  <thead>\n",
       "    <tr style=\"text-align: right;\">\n",
       "      <th></th>\n",
       "      <th>COUNTRY</th>\n",
       "      <th>Year</th>\n",
       "      <th>Biomass and waste (billion kWh)</th>\n",
       "      <th>CO2 emissions (MMtonnes CO2)</th>\n",
       "      <th>Coal (quad Btu)</th>\n",
       "      <th>Coal and coke (MMtonnes CO2)</th>\n",
       "      <th>Consumed natural gas (MMtonnes CO2)</th>\n",
       "      <th>Consumption (quad Btu)</th>\n",
       "      <th>Fossil fuels (billion kWh)</th>\n",
       "      <th>GDP</th>\n",
       "      <th>...</th>\n",
       "      <th>Nuclear, renewables, and other (quad Btu)</th>\n",
       "      <th>Petroleum and other liquids (MMtonnes CO2)</th>\n",
       "      <th>Petroleum and other liquids (quad Btu)</th>\n",
       "      <th>Population</th>\n",
       "      <th>Renewables (billion kWh)</th>\n",
       "      <th>Renewables and other (quad Btu)</th>\n",
       "      <th>Solar (billion kWh)</th>\n",
       "      <th>Solar, tide, wave, fuel cell (billion kWh)</th>\n",
       "      <th>Tide and wave (billion kWh)</th>\n",
       "      <th>Wind (billion kWh)</th>\n",
       "    </tr>\n",
       "  </thead>\n",
       "  <tbody>\n",
       "    <tr>\n",
       "      <th>count</th>\n",
       "      <td>9660.00000</td>\n",
       "      <td>9660.000000</td>\n",
       "      <td>9660.000000</td>\n",
       "      <td>9660.000000</td>\n",
       "      <td>9660.000000</td>\n",
       "      <td>9660.000000</td>\n",
       "      <td>9660.000000</td>\n",
       "      <td>9660.000000</td>\n",
       "      <td>9660.000000</td>\n",
       "      <td>9660.000000</td>\n",
       "      <td>...</td>\n",
       "      <td>9660.000000</td>\n",
       "      <td>9660.000000</td>\n",
       "      <td>9660.000000</td>\n",
       "      <td>9.660000e+03</td>\n",
       "      <td>9660.000000</td>\n",
       "      <td>9660.000000</td>\n",
       "      <td>9660.000000</td>\n",
       "      <td>9660.000000</td>\n",
       "      <td>9660.000000</td>\n",
       "      <td>9660.000000</td>\n",
       "    </tr>\n",
       "    <tr>\n",
       "      <th>mean</th>\n",
       "      <td>114.50000</td>\n",
       "      <td>2000.500000</td>\n",
       "      <td>2.073410</td>\n",
       "      <td>232.578126</td>\n",
       "      <td>1.049387</td>\n",
       "      <td>99.796681</td>\n",
       "      <td>44.390043</td>\n",
       "      <td>3.787541</td>\n",
       "      <td>90.690231</td>\n",
       "      <td>625.642962</td>\n",
       "      <td>...</td>\n",
       "      <td>0.522760</td>\n",
       "      <td>88.391402</td>\n",
       "      <td>1.379538</td>\n",
       "      <td>5.305504e+04</td>\n",
       "      <td>30.711509</td>\n",
       "      <td>0.324916</td>\n",
       "      <td>0.998843</td>\n",
       "      <td>1.005471</td>\n",
       "      <td>0.006628</td>\n",
       "      <td>2.672044</td>\n",
       "    </tr>\n",
       "    <tr>\n",
       "      <th>std</th>\n",
       "      <td>66.39809</td>\n",
       "      <td>12.121546</td>\n",
       "      <td>21.143353</td>\n",
       "      <td>1880.749682</td>\n",
       "      <td>9.107460</td>\n",
       "      <td>865.824852</td>\n",
       "      <td>363.886693</td>\n",
       "      <td>30.525783</td>\n",
       "      <td>764.643922</td>\n",
       "      <td>5344.248527</td>\n",
       "      <td>...</td>\n",
       "      <td>4.310244</td>\n",
       "      <td>692.845906</td>\n",
       "      <td>10.851800</td>\n",
       "      <td>4.240884e+05</td>\n",
       "      <td>267.051964</td>\n",
       "      <td>2.754344</td>\n",
       "      <td>19.047750</td>\n",
       "      <td>19.073880</td>\n",
       "      <td>0.065737</td>\n",
       "      <td>40.616540</td>\n",
       "    </tr>\n",
       "    <tr>\n",
       "      <th>min</th>\n",
       "      <td>0.00000</td>\n",
       "      <td>1980.000000</td>\n",
       "      <td>0.000000</td>\n",
       "      <td>0.000000</td>\n",
       "      <td>0.000000</td>\n",
       "      <td>-0.005130</td>\n",
       "      <td>0.000000</td>\n",
       "      <td>0.000000</td>\n",
       "      <td>0.000000</td>\n",
       "      <td>0.000000</td>\n",
       "      <td>...</td>\n",
       "      <td>-0.168214</td>\n",
       "      <td>0.000000</td>\n",
       "      <td>0.000000</td>\n",
       "      <td>0.000000e+00</td>\n",
       "      <td>0.000000</td>\n",
       "      <td>-0.168214</td>\n",
       "      <td>0.000000</td>\n",
       "      <td>0.000000</td>\n",
       "      <td>0.000000</td>\n",
       "      <td>0.000000</td>\n",
       "    </tr>\n",
       "    <tr>\n",
       "      <th>25%</th>\n",
       "      <td>57.00000</td>\n",
       "      <td>1990.000000</td>\n",
       "      <td>0.000000</td>\n",
       "      <td>0.500000</td>\n",
       "      <td>0.000000</td>\n",
       "      <td>0.000000</td>\n",
       "      <td>0.000000</td>\n",
       "      <td>0.008079</td>\n",
       "      <td>0.063630</td>\n",
       "      <td>0.000000</td>\n",
       "      <td>...</td>\n",
       "      <td>0.000000</td>\n",
       "      <td>0.484886</td>\n",
       "      <td>0.006991</td>\n",
       "      <td>1.709688e+02</td>\n",
       "      <td>0.000000</td>\n",
       "      <td>0.000000</td>\n",
       "      <td>0.000000</td>\n",
       "      <td>0.000000</td>\n",
       "      <td>0.000000</td>\n",
       "      <td>0.000000</td>\n",
       "    </tr>\n",
       "    <tr>\n",
       "      <th>50%</th>\n",
       "      <td>114.50000</td>\n",
       "      <td>2000.500000</td>\n",
       "      <td>0.000000</td>\n",
       "      <td>4.299291</td>\n",
       "      <td>0.000000</td>\n",
       "      <td>0.000081</td>\n",
       "      <td>0.000000</td>\n",
       "      <td>0.092087</td>\n",
       "      <td>0.872160</td>\n",
       "      <td>17.212815</td>\n",
       "      <td>...</td>\n",
       "      <td>0.004995</td>\n",
       "      <td>3.061781</td>\n",
       "      <td>0.043368</td>\n",
       "      <td>3.989538e+03</td>\n",
       "      <td>0.354500</td>\n",
       "      <td>0.004573</td>\n",
       "      <td>0.000000</td>\n",
       "      <td>0.000000</td>\n",
       "      <td>0.000000</td>\n",
       "      <td>0.000000</td>\n",
       "    </tr>\n",
       "    <tr>\n",
       "      <th>75%</th>\n",
       "      <td>172.00000</td>\n",
       "      <td>2011.000000</td>\n",
       "      <td>0.049000</td>\n",
       "      <td>43.280036</td>\n",
       "      <td>0.032710</td>\n",
       "      <td>3.333108</td>\n",
       "      <td>6.440262</td>\n",
       "      <td>0.788267</td>\n",
       "      <td>14.704384</td>\n",
       "      <td>143.551025</td>\n",
       "      <td>...</td>\n",
       "      <td>0.073468</td>\n",
       "      <td>23.769775</td>\n",
       "      <td>0.350614</td>\n",
       "      <td>1.576925e+04</td>\n",
       "      <td>5.338566</td>\n",
       "      <td>0.055075</td>\n",
       "      <td>0.001000</td>\n",
       "      <td>0.001000</td>\n",
       "      <td>0.000000</td>\n",
       "      <td>0.000325</td>\n",
       "    </tr>\n",
       "    <tr>\n",
       "      <th>max</th>\n",
       "      <td>229.00000</td>\n",
       "      <td>2021.000000</td>\n",
       "      <td>639.969020</td>\n",
       "      <td>35655.030690</td>\n",
       "      <td>173.359051</td>\n",
       "      <td>16460.029080</td>\n",
       "      <td>7948.649507</td>\n",
       "      <td>603.320807</td>\n",
       "      <td>16832.819160</td>\n",
       "      <td>131934.428000</td>\n",
       "      <td>...</td>\n",
       "      <td>100.872893</td>\n",
       "      <td>12188.747950</td>\n",
       "      <td>198.201126</td>\n",
       "      <td>7.907777e+06</td>\n",
       "      <td>7801.504076</td>\n",
       "      <td>72.842014</td>\n",
       "      <td>1036.244409</td>\n",
       "      <td>1037.218409</td>\n",
       "      <td>1.348000</td>\n",
       "      <td>1807.798762</td>\n",
       "    </tr>\n",
       "  </tbody>\n",
       "</table>\n",
       "<p>8 rows × 28 columns</p>\n",
       "</div>"
      ],
      "text/plain": [
       "          COUNTRY         Year  Biomass and waste (billion kWh)  \\\n",
       "count  9660.00000  9660.000000                      9660.000000   \n",
       "mean    114.50000  2000.500000                         2.073410   \n",
       "std      66.39809    12.121546                        21.143353   \n",
       "min       0.00000  1980.000000                         0.000000   \n",
       "25%      57.00000  1990.000000                         0.000000   \n",
       "50%     114.50000  2000.500000                         0.000000   \n",
       "75%     172.00000  2011.000000                         0.049000   \n",
       "max     229.00000  2021.000000                       639.969020   \n",
       "\n",
       "       CO2 emissions (MMtonnes CO2)  Coal (quad Btu)  \\\n",
       "count                   9660.000000      9660.000000   \n",
       "mean                     232.578126         1.049387   \n",
       "std                     1880.749682         9.107460   \n",
       "min                        0.000000         0.000000   \n",
       "25%                        0.500000         0.000000   \n",
       "50%                        4.299291         0.000000   \n",
       "75%                       43.280036         0.032710   \n",
       "max                    35655.030690       173.359051   \n",
       "\n",
       "       Coal and coke (MMtonnes CO2)  Consumed natural gas (MMtonnes CO2)  \\\n",
       "count                   9660.000000                          9660.000000   \n",
       "mean                      99.796681                            44.390043   \n",
       "std                      865.824852                           363.886693   \n",
       "min                       -0.005130                             0.000000   \n",
       "25%                        0.000000                             0.000000   \n",
       "50%                        0.000081                             0.000000   \n",
       "75%                        3.333108                             6.440262   \n",
       "max                    16460.029080                          7948.649507   \n",
       "\n",
       "       Consumption (quad Btu)  Fossil fuels (billion kWh)            GDP  ...  \\\n",
       "count             9660.000000                 9660.000000    9660.000000  ...   \n",
       "mean                 3.787541                   90.690231     625.642962  ...   \n",
       "std                 30.525783                  764.643922    5344.248527  ...   \n",
       "min                  0.000000                    0.000000       0.000000  ...   \n",
       "25%                  0.008079                    0.063630       0.000000  ...   \n",
       "50%                  0.092087                    0.872160      17.212815  ...   \n",
       "75%                  0.788267                   14.704384     143.551025  ...   \n",
       "max                603.320807                16832.819160  131934.428000  ...   \n",
       "\n",
       "       Nuclear, renewables, and other (quad Btu)  \\\n",
       "count                                9660.000000   \n",
       "mean                                    0.522760   \n",
       "std                                     4.310244   \n",
       "min                                    -0.168214   \n",
       "25%                                     0.000000   \n",
       "50%                                     0.004995   \n",
       "75%                                     0.073468   \n",
       "max                                   100.872893   \n",
       "\n",
       "       Petroleum and other liquids (MMtonnes CO2)  \\\n",
       "count                                 9660.000000   \n",
       "mean                                    88.391402   \n",
       "std                                    692.845906   \n",
       "min                                      0.000000   \n",
       "25%                                      0.484886   \n",
       "50%                                      3.061781   \n",
       "75%                                     23.769775   \n",
       "max                                  12188.747950   \n",
       "\n",
       "       Petroleum and other liquids (quad Btu)    Population  \\\n",
       "count                             9660.000000  9.660000e+03   \n",
       "mean                                 1.379538  5.305504e+04   \n",
       "std                                 10.851800  4.240884e+05   \n",
       "min                                  0.000000  0.000000e+00   \n",
       "25%                                  0.006991  1.709688e+02   \n",
       "50%                                  0.043368  3.989538e+03   \n",
       "75%                                  0.350614  1.576925e+04   \n",
       "max                                198.201126  7.907777e+06   \n",
       "\n",
       "       Renewables (billion kWh)  Renewables and other (quad Btu)  \\\n",
       "count               9660.000000                      9660.000000   \n",
       "mean                  30.711509                         0.324916   \n",
       "std                  267.051964                         2.754344   \n",
       "min                    0.000000                        -0.168214   \n",
       "25%                    0.000000                         0.000000   \n",
       "50%                    0.354500                         0.004573   \n",
       "75%                    5.338566                         0.055075   \n",
       "max                 7801.504076                        72.842014   \n",
       "\n",
       "       Solar (billion kWh)  Solar, tide, wave, fuel cell (billion kWh)  \\\n",
       "count          9660.000000                                 9660.000000   \n",
       "mean              0.998843                                    1.005471   \n",
       "std              19.047750                                   19.073880   \n",
       "min               0.000000                                    0.000000   \n",
       "25%               0.000000                                    0.000000   \n",
       "50%               0.000000                                    0.000000   \n",
       "75%               0.001000                                    0.001000   \n",
       "max            1036.244409                                 1037.218409   \n",
       "\n",
       "       Tide and wave (billion kWh)  Wind (billion kWh)  \n",
       "count                  9660.000000         9660.000000  \n",
       "mean                      0.006628            2.672044  \n",
       "std                       0.065737           40.616540  \n",
       "min                       0.000000            0.000000  \n",
       "25%                       0.000000            0.000000  \n",
       "50%                       0.000000            0.000000  \n",
       "75%                       0.000000            0.000325  \n",
       "max                       1.348000         1807.798762  \n",
       "\n",
       "[8 rows x 28 columns]"
      ]
     },
     "execution_count": 491,
     "metadata": {},
     "output_type": "execute_result"
    }
   ],
   "source": [
    "df.describe()"
   ]
  },
  {
   "cell_type": "code",
   "execution_count": 492,
>>>>>>> 09331ef8b049ae3a6c46de82d5cce68627f8e1a4
   "metadata": {},
   "outputs": [
    {
     "data": {
      "text/plain": [
       "Index(['COUNTRY', 'Year', 'Biomass and waste (billion kWh)',\n",
       "       'CO2 emissions (MMtonnes CO2)', 'Coal (quad Btu)',\n",
       "       'Coal and coke (MMtonnes CO2)', 'Consumed natural gas (MMtonnes CO2)',\n",
       "       'Consumption (quad Btu)', 'Fossil fuels (billion kWh)', 'GDP',\n",
       "       'Generation (billion kWh)', 'Geothermal (billion kWh)',\n",
       "       'Hydroelectric pumped storage (billion kWh)',\n",
       "       'Hydroelectricity (billion kWh)', 'Natural gas (quad Btu)',\n",
       "       'Non-hydroelectric renewables (billion kWh)', 'Nuclear (billion kWh)',\n",
       "       'Nuclear (quad Btu)', 'Nuclear, renewables, and other (quad Btu)',\n",
       "       'Petroleum and other liquids (MMtonnes CO2)',\n",
       "       'Petroleum and other liquids (quad Btu)', 'Population',\n",
       "       'Renewables (billion kWh)', 'Renewables and other (quad Btu)',\n",
       "       'Solar (billion kWh)', 'Solar, tide, wave, fuel cell (billion kWh)',\n",
       "       'Tide and wave (billion kWh)', 'Wind (billion kWh)'],\n",
       "      dtype='object')"
      ]
     },
<<<<<<< HEAD
     "execution_count": 401,
=======
     "execution_count": 492,
>>>>>>> 09331ef8b049ae3a6c46de82d5cce68627f8e1a4
     "metadata": {},
     "output_type": "execute_result"
    }
   ],
   "source": [
    "df.columns"
   ]
  },
  {
   "cell_type": "markdown",
   "metadata": {},
   "source": [
    "### 테스트 데이터 분리"
   ]
  },
  {
   "cell_type": "code",
<<<<<<< HEAD
   "execution_count": 402,
=======
   "execution_count": 493,
>>>>>>> 09331ef8b049ae3a6c46de82d5cce68627f8e1a4
   "metadata": {},
   "outputs": [],
   "source": [
    "# ['COUNTRY','CO2 emissions (MMtonnes CO2)', 'Coal and coke (MMtonnes CO2)', 'Consumed natural gas (MMtonnes CO2)','CO2 emissions (MMtonnes CO2)','Generation (billion kWh)','Consumption (quad Btu)','Non-hydroelectric renewables (billion kWh)','Solar, tide, wave, fuel cell (billion kWh)','Nuclear, renewables, and other (quad Btu)','Petroleum and other liquids (MMtonnes CO2)','Renewables (billion kWh)']\n",
    "#X = df.drop(['CO2 emissions (MMtonnes CO2)'], axis=1)\n",
    "# 'Coal and coke (MMtonnes CO2)', 'Consumed natural gas (MMtonnes CO2)', 'Petroleum and other liquids (MMtonnes CO2)', 'CO2 emissions (MMtonnes CO2)'\n",
    "X = df.drop(['Year','COUNTRY','CO2 emissions (MMtonnes CO2)', 'Coal and coke (MMtonnes CO2)', 'Consumed natural gas (MMtonnes CO2)','CO2 emissions (MMtonnes CO2)','Generation (billion kWh)','Consumption (quad Btu)','Non-hydroelectric renewables (billion kWh)','Solar, tide, wave, fuel cell (billion kWh)','Nuclear, renewables, and other (quad Btu)','Petroleum and other liquids (MMtonnes CO2)','Renewables (billion kWh)'], axis=1)\n",
    "y = df['CO2 emissions (MMtonnes CO2)']\n",
    "# train_test_split() 함수로 학습 데이터와 테스트 데이터 분리하기\n",
    "X_train, X_test, y_train, y_test = train_test_split(X, y, test_size = 0.3, random_state = 100, shuffle = False)"
   ]
  },
  {
   "cell_type": "code",
<<<<<<< HEAD
   "execution_count": 403,
=======
   "execution_count": 494,
>>>>>>> 09331ef8b049ae3a6c46de82d5cce68627f8e1a4
   "metadata": {},
   "outputs": [
    {
     "data": {
      "text/html": [
       "<div>\n",
       "<style scoped>\n",
       "    .dataframe tbody tr th:only-of-type {\n",
       "        vertical-align: middle;\n",
       "    }\n",
       "\n",
       "    .dataframe tbody tr th {\n",
       "        vertical-align: top;\n",
       "    }\n",
       "\n",
       "    .dataframe thead th {\n",
       "        text-align: right;\n",
       "    }\n",
       "</style>\n",
       "<table border=\"1\" class=\"dataframe\">\n",
       "  <thead>\n",
       "    <tr style=\"text-align: right;\">\n",
       "      <th></th>\n",
       "      <th>Biomass and waste (billion kWh)</th>\n",
       "      <th>Coal (quad Btu)</th>\n",
       "      <th>Fossil fuels (billion kWh)</th>\n",
       "      <th>GDP</th>\n",
       "      <th>Geothermal (billion kWh)</th>\n",
       "      <th>Hydroelectric pumped storage (billion kWh)</th>\n",
       "      <th>Hydroelectricity (billion kWh)</th>\n",
       "      <th>Natural gas (quad Btu)</th>\n",
       "      <th>Nuclear (billion kWh)</th>\n",
       "      <th>Nuclear (quad Btu)</th>\n",
       "      <th>Petroleum and other liquids (quad Btu)</th>\n",
       "      <th>Population</th>\n",
       "      <th>Renewables and other (quad Btu)</th>\n",
       "      <th>Solar (billion kWh)</th>\n",
       "      <th>Tide and wave (billion kWh)</th>\n",
       "      <th>Wind (billion kWh)</th>\n",
       "    </tr>\n",
       "  </thead>\n",
       "  <tbody>\n",
       "    <tr>\n",
       "      <th>0</th>\n",
       "      <td>0.0</td>\n",
       "      <td>0.002479</td>\n",
       "      <td>0.231</td>\n",
       "      <td>0.0</td>\n",
       "      <td>0.0</td>\n",
       "      <td>0.0</td>\n",
       "      <td>0.711</td>\n",
       "      <td>0.002094</td>\n",
       "      <td>0.0</td>\n",
       "      <td>0.0</td>\n",
       "      <td>0.014624</td>\n",
       "      <td>13356.50</td>\n",
       "      <td>0.007386</td>\n",
       "      <td>0.0</td>\n",
       "      <td>0.0</td>\n",
       "      <td>0.0</td>\n",
       "    </tr>\n",
       "    <tr>\n",
       "      <th>1</th>\n",
       "      <td>0.0</td>\n",
       "      <td>0.002604</td>\n",
       "      <td>0.271</td>\n",
       "      <td>0.0</td>\n",
       "      <td>0.0</td>\n",
       "      <td>0.0</td>\n",
       "      <td>0.721</td>\n",
       "      <td>0.003141</td>\n",
       "      <td>0.0</td>\n",
       "      <td>0.0</td>\n",
       "      <td>0.016668</td>\n",
       "      <td>13171.68</td>\n",
       "      <td>0.007537</td>\n",
       "      <td>0.0</td>\n",
       "      <td>0.0</td>\n",
       "      <td>0.0</td>\n",
       "    </tr>\n",
       "    <tr>\n",
       "      <th>2</th>\n",
       "      <td>0.0</td>\n",
       "      <td>0.003021</td>\n",
       "      <td>0.245</td>\n",
       "      <td>0.0</td>\n",
       "      <td>0.0</td>\n",
       "      <td>0.0</td>\n",
       "      <td>0.707</td>\n",
       "      <td>0.005235</td>\n",
       "      <td>0.0</td>\n",
       "      <td>0.0</td>\n",
       "      <td>0.016251</td>\n",
       "      <td>12882.52</td>\n",
       "      <td>0.007391</td>\n",
       "      <td>0.0</td>\n",
       "      <td>0.0</td>\n",
       "      <td>0.0</td>\n",
       "    </tr>\n",
       "    <tr>\n",
       "      <th>3</th>\n",
       "      <td>0.0</td>\n",
       "      <td>0.003021</td>\n",
       "      <td>0.254</td>\n",
       "      <td>0.0</td>\n",
       "      <td>0.0</td>\n",
       "      <td>0.0</td>\n",
       "      <td>0.746</td>\n",
       "      <td>0.005235</td>\n",
       "      <td>0.0</td>\n",
       "      <td>0.0</td>\n",
       "      <td>0.022918</td>\n",
       "      <td>12537.73</td>\n",
       "      <td>0.007848</td>\n",
       "      <td>0.0</td>\n",
       "      <td>0.0</td>\n",
       "      <td>0.0</td>\n",
       "    </tr>\n",
       "    <tr>\n",
       "      <th>4</th>\n",
       "      <td>0.0</td>\n",
       "      <td>0.003083</td>\n",
       "      <td>0.262</td>\n",
       "      <td>0.0</td>\n",
       "      <td>0.0</td>\n",
       "      <td>0.0</td>\n",
       "      <td>0.757</td>\n",
       "      <td>0.005235</td>\n",
       "      <td>0.0</td>\n",
       "      <td>0.0</td>\n",
       "      <td>0.022981</td>\n",
       "      <td>12204.31</td>\n",
       "      <td>0.007903</td>\n",
       "      <td>0.0</td>\n",
       "      <td>0.0</td>\n",
       "      <td>0.0</td>\n",
       "    </tr>\n",
       "  </tbody>\n",
       "</table>\n",
       "</div>"
      ],
      "text/plain": [
       "   Biomass and waste (billion kWh)  Coal (quad Btu)  \\\n",
       "0                              0.0         0.002479   \n",
       "1                              0.0         0.002604   \n",
       "2                              0.0         0.003021   \n",
       "3                              0.0         0.003021   \n",
       "4                              0.0         0.003083   \n",
       "\n",
       "   Fossil fuels (billion kWh)  GDP  Geothermal (billion kWh)  \\\n",
       "0                       0.231  0.0                       0.0   \n",
       "1                       0.271  0.0                       0.0   \n",
       "2                       0.245  0.0                       0.0   \n",
       "3                       0.254  0.0                       0.0   \n",
       "4                       0.262  0.0                       0.0   \n",
       "\n",
       "   Hydroelectric pumped storage (billion kWh)  Hydroelectricity (billion kWh)  \\\n",
       "0                                         0.0                           0.711   \n",
       "1                                         0.0                           0.721   \n",
       "2                                         0.0                           0.707   \n",
       "3                                         0.0                           0.746   \n",
       "4                                         0.0                           0.757   \n",
       "\n",
       "   Natural gas (quad Btu)  Nuclear (billion kWh)  Nuclear (quad Btu)  \\\n",
       "0                0.002094                    0.0                 0.0   \n",
       "1                0.003141                    0.0                 0.0   \n",
       "2                0.005235                    0.0                 0.0   \n",
       "3                0.005235                    0.0                 0.0   \n",
       "4                0.005235                    0.0                 0.0   \n",
       "\n",
       "   Petroleum and other liquids (quad Btu)  Population  \\\n",
       "0                                0.014624    13356.50   \n",
       "1                                0.016668    13171.68   \n",
       "2                                0.016251    12882.52   \n",
       "3                                0.022918    12537.73   \n",
       "4                                0.022981    12204.31   \n",
       "\n",
       "   Renewables and other (quad Btu)  Solar (billion kWh)  \\\n",
       "0                         0.007386                  0.0   \n",
       "1                         0.007537                  0.0   \n",
       "2                         0.007391                  0.0   \n",
       "3                         0.007848                  0.0   \n",
       "4                         0.007903                  0.0   \n",
       "\n",
       "   Tide and wave (billion kWh)  Wind (billion kWh)  \n",
       "0                          0.0                 0.0  \n",
       "1                          0.0                 0.0  \n",
       "2                          0.0                 0.0  \n",
       "3                          0.0                 0.0  \n",
       "4                          0.0                 0.0  "
      ]
     },
<<<<<<< HEAD
     "execution_count": 403,
=======
     "execution_count": 494,
>>>>>>> 09331ef8b049ae3a6c46de82d5cce68627f8e1a4
     "metadata": {},
     "output_type": "execute_result"
    }
   ],
   "source": [
    "X.head()"
   ]
  },
  {
   "cell_type": "code",
<<<<<<< HEAD
   "execution_count": 404,
=======
   "execution_count": 495,
>>>>>>> 09331ef8b049ae3a6c46de82d5cce68627f8e1a4
   "metadata": {},
   "outputs": [
    {
     "data": {
      "text/plain": [
<<<<<<< HEAD
       "0        132.596452\n",
       "1        150.962773\n",
       "2        165.960468\n",
       "3        205.960468\n",
       "4        206.543611\n",
       "           ...     \n",
       "9655     899.242581\n",
       "9656    1029.016869\n",
       "9657     940.804718\n",
       "9658     825.332175\n",
       "9659     811.890979\n",
       "Name: CO2 emissions (MMtonnes CO2), Length: 9660, dtype: float64"
      ]
     },
     "execution_count": 404,
=======
       "0        1.325965\n",
       "1        1.509628\n",
       "2        1.659605\n",
       "3        2.059605\n",
       "4        2.065436\n",
       "          ...    \n",
       "9655     8.992426\n",
       "9656    10.290169\n",
       "9657     9.408047\n",
       "9658     8.253322\n",
       "9659     8.118910\n",
       "Name: CO2 emissions (MMtonnes CO2), Length: 9660, dtype: float64"
      ]
     },
     "execution_count": 495,
>>>>>>> 09331ef8b049ae3a6c46de82d5cce68627f8e1a4
     "metadata": {},
     "output_type": "execute_result"
    }
   ],
   "source": [
    "y"
   ]
  },
  {
   "cell_type": "code",
<<<<<<< HEAD
   "execution_count": 405,
=======
   "execution_count": 496,
>>>>>>> 09331ef8b049ae3a6c46de82d5cce68627f8e1a4
   "metadata": {},
   "outputs": [
    {
     "name": "stdout",
     "output_type": "stream",
     "text": [
      "                            OLS Regression Results                            \n",
      "==============================================================================\n",
      "Dep. Variable:                      y   R-squared:                       1.000\n",
      "Model:                            OLS   Adj. R-squared:                  1.000\n",
      "Method:                 Least Squares   F-statistic:                 1.217e+07\n",
      "Date:                Mon, 06 Nov 2023   Prob (F-statistic):               0.00\n",
<<<<<<< HEAD
      "Time:                        17:57:56   Log-Likelihood:                -83141.\n",
      "No. Observations:                9660   AIC:                         1.663e+05\n",
      "Df Residuals:                    9643   BIC:                         1.664e+05\n",
=======
      "Time:                        18:07:39   Log-Likelihood:                -38655.\n",
      "No. Observations:                9660   AIC:                         7.734e+04\n",
      "Df Residuals:                    9643   BIC:                         7.747e+04\n",
>>>>>>> 09331ef8b049ae3a6c46de82d5cce68627f8e1a4
      "Df Model:                          16                                         \n",
      "Covariance Type:            nonrobust                                         \n",
      "==============================================================================\n",
      "                 coef    std err          t      P>|t|      [0.025      0.975]\n",
      "------------------------------------------------------------------------------\n",
<<<<<<< HEAD
      "Intercept      3.1950     13.591      0.235      0.814     -23.447      29.837\n",
      "X[0]          59.7195      4.668     12.795      0.000      50.570      68.869\n",
      "X[1]        9763.4217     16.413    594.871      0.000    9731.249    9795.594\n",
      "X[2]         -10.9680      0.453    -24.187      0.000     -11.857     -10.079\n",
      "X[3]          -0.1381      0.054     -2.565      0.010      -0.244      -0.033\n",
      "X[4]         136.2947     14.375      9.482      0.000     108.117     164.472\n",
      "X[5]        -437.8015     44.424     -9.855      0.000    -524.882    -350.721\n",
      "X[6]         -28.4302      1.215    -23.397      0.000     -30.812     -26.048\n",
      "X[7]        5714.0301     19.200    297.605      0.000    5676.394    5751.666\n",
      "X[8]        -248.5039     11.918    -20.852      0.000    -271.865    -225.143\n",
      "X[9]        2.478e+04   1147.354     21.602      0.000    2.25e+04     2.7e+04\n",
      "X[10]       6232.1361     16.402    379.965      0.000    6199.985    6264.287\n",
      "X[11]          0.0058      0.000     27.477      0.000       0.005       0.006\n",
      "X[12]       2369.2199    128.049     18.502      0.000    2118.217    2620.223\n",
      "X[13]         47.4288      3.298     14.382      0.000      40.964      53.893\n",
      "X[14]      -1289.2231    387.853     -3.324      0.001   -2049.497    -528.949\n",
      "X[15]        -84.1283      3.199    -26.297      0.000     -90.399     -77.857\n",
=======
      "Intercept      0.0320      0.136      0.235      0.814      -0.234       0.298\n",
      "X[0]           0.5972      0.047     12.795      0.000       0.506       0.689\n",
      "X[1]          97.6342      0.164    594.871      0.000      97.312      97.956\n",
      "X[2]          -0.1097      0.005    -24.187      0.000      -0.119      -0.101\n",
      "X[3]          -0.0014      0.001     -2.565      0.010      -0.002      -0.000\n",
      "X[4]           1.3629      0.144      9.482      0.000       1.081       1.645\n",
      "X[5]          -4.3780      0.444     -9.855      0.000      -5.249      -3.507\n",
      "X[6]          -0.2843      0.012    -23.397      0.000      -0.308      -0.260\n",
      "X[7]          57.1403      0.192    297.605      0.000      56.764      57.517\n",
      "X[8]          -2.4850      0.119    -20.852      0.000      -2.719      -2.251\n",
      "X[9]         247.8492     11.474     21.602      0.000     225.359     270.340\n",
      "X[10]         62.3214      0.164    379.965      0.000      62.000      62.643\n",
      "X[11]       5.841e-05   2.13e-06     27.477      0.000    5.42e-05    6.26e-05\n",
      "X[12]         23.6922      1.280     18.502      0.000      21.182      26.202\n",
      "X[13]          0.4743      0.033     14.382      0.000       0.410       0.539\n",
      "X[14]        -12.8922      3.879     -3.324      0.001     -20.495      -5.289\n",
      "X[15]         -0.8413      0.032    -26.297      0.000      -0.904      -0.779\n",
>>>>>>> 09331ef8b049ae3a6c46de82d5cce68627f8e1a4
      "==============================================================================\n",
      "Omnibus:                    11626.620   Durbin-Watson:                   0.774\n",
      "Prob(Omnibus):                  0.000   Jarque-Bera (JB):         22072356.255\n",
      "Skew:                          -5.432   Prob(JB):                         0.00\n",
      "Kurtosis:                     236.923   Cond. No.                     3.64e+07\n",
      "==============================================================================\n",
      "\n",
      "Notes:\n",
      "[1] Standard Errors assume that the covariance matrix of the errors is correctly specified.\n",
      "[2] The condition number is large, 3.64e+07. This might indicate that there are\n",
      "strong multicollinearity or other numerical problems.\n"
     ]
    }
   ],
   "source": [
    "# 코드 10-2\n",
    "# 스탯츠모델스, 사이킷런 ==========\n",
    "from statsmodels.formula.api import ols \n",
    "from sklearn.linear_model import LinearRegression\n",
    "\n",
    "# 선형 회귀모형 형태(종속변수 ~ 독립변수1 + 독립변수2 + 독립변수3 + ···)\n",
    "# 단순 선형 회귀분석 ==========\n",
    "\n",
<<<<<<< HEAD
    "fit = ols('y~X', data=df).fit()\n",
    "print(fit.summary())"
=======
    "model = ols(formula='y ~ X', data={'y': y, 'X': X}).fit()\n",
    "print(model.summary())"
>>>>>>> 09331ef8b049ae3a6c46de82d5cce68627f8e1a4
   ]
  },
  {
   "cell_type": "code",
<<<<<<< HEAD
   "execution_count": 406,
=======
   "execution_count": 497,
>>>>>>> 09331ef8b049ae3a6c46de82d5cce68627f8e1a4
   "metadata": {},
   "outputs": [],
   "source": [
    "# alphas = [0.0001, 0.001, 0.01, 0.05, 0.1, 0.5, 2, 5, 10, 100]\n",
    "\n",
    "# for alpha in alphas:\n",
    "#     model = LinearSVR(epsilon=alpha, random_state=43)\n",
    "#     model.fit(X_train, y_train) # 모델 학습ㄴ\n",
    "    \n",
    "    \n",
    "#     # Predict를 수행하고 mean_absolute_error, rmse 결과 출력하기\n",
    "#     pred = model.predict(X_test)    # X_test를 이용한 예측값 pred \n",
    "#     mean_absolute_error(y_test, pred)\n",
    "#     np.sqrt(mean_squared_error(y_test, pred))\n",
    "\n",
    "#     mae = mean_absolute_error(y_test, pred)\n",
    "#     rmse = np.sqrt(mean_squared_error(y_test, pred))\n",
    "\n",
    "#     # MAE 및 RMSE를 백분율로 표시\n",
    "#     mae_percentage = (mae / np.mean(y_test)) * 100\n",
    "#     rmse_percentage = (rmse / np.mean(y_test)) * 100\n",
    "\n",
    "#     print(\"MAE: {:.2f}%\".format(mae_percentage))\n",
    "#     print(\"RMSE: {:.2f}%\".format(rmse_percentage))\n",
    "\n",
    "#     r2_score(y_test, pred)\n",
    "    \n",
    "        \n",
    "#         # Feature importance, feature 선언\n",
    "#     importances = model.coef_\n",
    "#     features = X.columns\n",
    "\n",
    "#     # 중요한 변수 순으로 정렬\n",
    "#     indices = np.argsort(importances)\n",
    "#     sorted_features = [features[i] for i in indices]\n",
    "\n",
    "#     # 그래프 크기 지정\n",
    "#     plt.title(alpha)\n",
    "#     plt.figure(figsize=(10, 8))\n",
    "\n",
    "#     # 막대그래프 show\n",
    "#     plt.barh(sorted_features, importances[indices])\n",
    "#     plt.show()"
   ]
  },
  {
   "cell_type": "markdown",
   "metadata": {},
   "source": [
    "### 1. LinearSVR 모델 학습"
   ]
  },
  {
   "cell_type": "code",
<<<<<<< HEAD
   "execution_count": 407,
=======
   "execution_count": 498,
>>>>>>> 09331ef8b049ae3a6c46de82d5cce68627f8e1a4
   "metadata": {},
   "outputs": [
    {
     "name": "stderr",
     "output_type": "stream",
     "text": [
      "C:\\Users\\vlrms\\AppData\\Local\\Packages\\PythonSoftwareFoundation.Python.3.7_qbz5n2kfra8p0\\LocalCache\\local-packages\\Python37\\site-packages\\sklearn\\svm\\_base.py:1208: ConvergenceWarning: Liblinear failed to converge, increase the number of iterations.\n",
      "  ConvergenceWarning,\n"
     ]
    },
    {
     "data": {
      "text/plain": [
       "LinearSVR(epsilon=0.5, random_state=43)"
      ]
     },
<<<<<<< HEAD
     "execution_count": 407,
=======
     "execution_count": 498,
>>>>>>> 09331ef8b049ae3a6c46de82d5cce68627f8e1a4
     "metadata": {},
     "output_type": "execute_result"
    }
   ],
   "source": [
    "model = LinearSVR(epsilon=0.5, random_state=43)\n",
    "model.fit(X_train, y_train) # 모델 학습ㄴ"
   ]
  },
  {
   "cell_type": "markdown",
   "metadata": {},
   "source": [
    "### 1. LinearSVR 모델 검증"
   ]
  },
  {
   "cell_type": "code",
<<<<<<< HEAD
   "execution_count": 408,
=======
   "execution_count": 499,
>>>>>>> 09331ef8b049ae3a6c46de82d5cce68627f8e1a4
   "metadata": {},
   "outputs": [
    {
     "name": "stdout",
     "output_type": "stream",
     "text": [
<<<<<<< HEAD
      "MAE: 14.59%\n",
      "RMSE: 81.80%\n"
=======
      "MAE: 16.08%\n",
      "RMSE: 83.98%\n"
>>>>>>> 09331ef8b049ae3a6c46de82d5cce68627f8e1a4
     ]
    },
    {
     "data": {
      "text/plain": [
<<<<<<< HEAD
       "0.9819663336532433"
      ]
     },
     "execution_count": 408,
=======
       "0.9809915646180452"
      ]
     },
     "execution_count": 499,
>>>>>>> 09331ef8b049ae3a6c46de82d5cce68627f8e1a4
     "metadata": {},
     "output_type": "execute_result"
    }
   ],
   "source": [
    "# Predict를 수행하고 mean_absolute_error, rmse 결과 출력하기\n",
    "pred = model.predict(X_test)    # X_test를 이용한 예측값 pred \n",
    "mean_absolute_error(y_test, pred)\n",
    "np.sqrt(mean_squared_error(y_test, pred))\n",
    "\n",
    "mae = mean_absolute_error(y_test, pred)\n",
    "rmse = np.sqrt(mean_squared_error(y_test, pred))\n",
    "\n",
    "# MAE 및 RMSE를 백분율로 표시\n",
    "mae_percentage = (mae / np.mean(y_test)) * 100\n",
    "rmse_percentage = (rmse / np.mean(y_test)) * 100\n",
    "\n",
    "print(\"MAE: {:.2f}%\".format(mae_percentage))\n",
    "print(\"RMSE: {:.2f}%\".format(rmse_percentage))\n",
    "\n",
    "r2_score(y_test, pred)"
   ]
  },
  {
   "cell_type": "markdown",
   "metadata": {},
   "source": [
    "### 1. LinearSVR 중요변수 확인"
   ]
  },
  {
   "cell_type": "code",
<<<<<<< HEAD
   "execution_count": 409,
=======
   "execution_count": 500,
>>>>>>> 09331ef8b049ae3a6c46de82d5cce68627f8e1a4
   "metadata": {},
   "outputs": [
    {
     "data": {
<<<<<<< HEAD
      "image/png": "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",
=======
      "image/png": "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",
>>>>>>> 09331ef8b049ae3a6c46de82d5cce68627f8e1a4
      "text/plain": [
       "<Figure size 720x576 with 1 Axes>"
      ]
     },
     "metadata": {
      "needs_background": "light"
     },
     "output_type": "display_data"
    }
   ],
   "source": [
    "# Feature importance, feature 선언\n",
    "importances = model.coef_\n",
    "features = X.columns\n",
    "\n",
    "# 중요한 변수 순으로 정렬\n",
    "indices = np.argsort(importances)\n",
    "sorted_features = [features[i] for i in indices]\n",
    "\n",
    "# 그래프 크기 지정\n",
    "plt.figure(figsize=(10, 8))\n",
    "\n",
    "# 막대그래프 show\n",
    "plt.barh(sorted_features, importances[indices])\n",
    "plt.show()"
   ]
  },
  {
   "cell_type": "code",
   "execution_count": null,
   "metadata": {},
   "outputs": [],
   "source": []
  },
  {
   "cell_type": "markdown",
   "metadata": {},
   "source": [
    "### 2. 릿지 회귀 학습"
   ]
  },
  {
   "cell_type": "code",
<<<<<<< HEAD
   "execution_count": 410,
=======
   "execution_count": 501,
>>>>>>> 09331ef8b049ae3a6c46de82d5cce68627f8e1a4
   "metadata": {},
   "outputs": [
    {
     "data": {
      "text/plain": [
       "Ridge(alpha=0.5)"
      ]
     },
<<<<<<< HEAD
     "execution_count": 410,
=======
     "execution_count": 501,
>>>>>>> 09331ef8b049ae3a6c46de82d5cce68627f8e1a4
     "metadata": {},
     "output_type": "execute_result"
    }
   ],
   "source": [
    "model = Ridge(alpha=0.5) \n",
    "model.fit(X_train, y_train) # 모델 학습"
   ]
  },
  {
   "cell_type": "markdown",
   "metadata": {},
   "source": [
    "### 2. 릿지 회귀 모델 검증"
   ]
  },
  {
   "cell_type": "code",
<<<<<<< HEAD
   "execution_count": 411,
=======
   "execution_count": 502,
>>>>>>> 09331ef8b049ae3a6c46de82d5cce68627f8e1a4
   "metadata": {},
   "outputs": [
    {
     "name": "stdout",
     "output_type": "stream",
     "text": [
      "MAE: 2.33%\n",
      "RMSE: 11.46%\n"
     ]
    },
    {
     "data": {
      "text/plain": [
<<<<<<< HEAD
       "0.9996457268887717"
      ]
     },
     "execution_count": 411,
=======
       "0.9996457268887702"
      ]
     },
     "execution_count": 502,
>>>>>>> 09331ef8b049ae3a6c46de82d5cce68627f8e1a4
     "metadata": {},
     "output_type": "execute_result"
    }
   ],
   "source": [
    "# Predict를 수행하고 mean_absolute_error, rmse 결과 출력하기\n",
    "pred = model.predict(X_test)    # X_test를 이용한 예측값 pred \n",
    "mean_absolute_error(y_test, pred)\n",
    "np.sqrt(mean_squared_error(y_test, pred))\n",
    "\n",
    "mae = mean_absolute_error(y_test, pred)\n",
    "rmse = np.sqrt(mean_squared_error(y_test, pred))\n",
    "\n",
    "# MAE 및 RMSE를 백분율로 표시\n",
    "mae_percentage = (mae / np.mean(y_test)) * 100\n",
    "rmse_percentage = (rmse / np.mean(y_test)) * 100\n",
    "\n",
    "print(\"MAE: {:.2f}%\".format(mae_percentage))\n",
    "print(\"RMSE: {:.2f}%\".format(rmse_percentage))\n",
    "\n",
    "r2_score(y_test, pred)"
   ]
  },
  {
   "cell_type": "code",
<<<<<<< HEAD
   "execution_count": 412,
=======
   "execution_count": 503,
>>>>>>> 09331ef8b049ae3a6c46de82d5cce68627f8e1a4
   "metadata": {},
   "outputs": [
    {
     "name": "stdout",
     "output_type": "stream",
     "text": [
<<<<<<< HEAD
      "Train MAE: 235.92\n",
      "Train RMSE: 714.82\n",
      "Test MAE: 1261.74\n",
      "Test RMSE: 6218.79\n"
=======
      "Train MAE: 2.36\n",
      "Train RMSE: 7.15\n",
      "Test MAE: 12.62\n",
      "Test RMSE: 62.19\n"
>>>>>>> 09331ef8b049ae3a6c46de82d5cce68627f8e1a4
     ]
    }
   ],
   "source": [
    "# 훈련 데이터에 대한 성능 확인\n",
    "train_pred = model.predict(X_train)\n",
    "train_mae = mean_absolute_error(y_train, train_pred)\n",
    "train_rmse = np.sqrt(mean_squared_error(y_train, train_pred))\n",
    "\n",
    "print(\"Train MAE: {:.2f}\".format(train_mae))\n",
    "print(\"Train RMSE: {:.2f}\".format(train_rmse))\n",
    "\n",
    "# 테스트 데이터에 대한 성능 확인\n",
    "test_mae = mean_absolute_error(y_test, pred)\n",
    "test_rmse = np.sqrt(mean_squared_error(y_test, pred))\n",
    "\n",
    "print(\"Test MAE: {:.2f}\".format(mae))\n",
    "print(\"Test RMSE: {:.2f}\".format(rmse))\n"
   ]
  },
  {
   "cell_type": "markdown",
   "metadata": {},
   "source": [
    "### 2. 릿지회귀 중요변수 확인"
   ]
  },
  {
   "cell_type": "code",
<<<<<<< HEAD
   "execution_count": 413,
=======
   "execution_count": 504,
>>>>>>> 09331ef8b049ae3a6c46de82d5cce68627f8e1a4
   "metadata": {},
   "outputs": [
    {
     "data": {
<<<<<<< HEAD
      "image/png": "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",
=======
      "image/png": "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",
>>>>>>> 09331ef8b049ae3a6c46de82d5cce68627f8e1a4
      "text/plain": [
       "<Figure size 720x576 with 1 Axes>"
      ]
     },
     "metadata": {
      "needs_background": "light"
     },
     "output_type": "display_data"
    }
   ],
   "source": [
    "# Feature coefficients, feature 선언\n",
    "coefficients = model.coef_\n",
    "features = X.columns\n",
    "\n",
    "# coefficients 순으로 정렬\n",
    "indices = np.argsort(coefficients)\n",
    "sorted_features = [features[i] for i in indices]\n",
    "\n",
    "# 그래프 크기 지정\n",
    "plt.figure(figsize=(10, 8))\n",
    "\n",
    "# 막대그래프 show\n",
    "plt.barh(sorted_features, coefficients[indices])\n",
    "plt.show()"
   ]
  },
  {
   "cell_type": "markdown",
   "metadata": {},
   "source": [
    "### 3. 라쏘 회귀 모델 학습"
   ]
  },
  {
   "cell_type": "code",
<<<<<<< HEAD
   "execution_count": 414,
=======
   "execution_count": 505,
>>>>>>> 09331ef8b049ae3a6c46de82d5cce68627f8e1a4
   "metadata": {},
   "outputs": [
    {
     "data": {
      "text/plain": [
       "Lasso(alpha=0.5)"
      ]
     },
<<<<<<< HEAD
     "execution_count": 414,
=======
     "execution_count": 505,
>>>>>>> 09331ef8b049ae3a6c46de82d5cce68627f8e1a4
     "metadata": {},
     "output_type": "execute_result"
    }
   ],
   "source": [
    "model = Lasso(alpha=0.5) \n",
    "model.fit(X_train, y_train) # 모델 학습"
   ]
  },
  {
   "cell_type": "markdown",
   "metadata": {},
   "source": [
    "### 3. 라쏘 회귀 모델 검증"
   ]
  },
  {
   "cell_type": "code",
<<<<<<< HEAD
   "execution_count": 415,
=======
   "execution_count": 506,
>>>>>>> 09331ef8b049ae3a6c46de82d5cce68627f8e1a4
   "metadata": {},
   "outputs": [
    {
     "name": "stdout",
     "output_type": "stream",
     "text": [
<<<<<<< HEAD
      "MAE: 1.97%\n",
      "RMSE: 9.42%\n"
=======
      "MAE: 1.56%\n",
      "RMSE: 7.06%\n"
>>>>>>> 09331ef8b049ae3a6c46de82d5cce68627f8e1a4
     ]
    },
    {
     "data": {
      "text/plain": [
<<<<<<< HEAD
       "0.9997607010223076"
      ]
     },
     "execution_count": 415,
=======
       "0.9998655059754192"
      ]
     },
     "execution_count": 506,
>>>>>>> 09331ef8b049ae3a6c46de82d5cce68627f8e1a4
     "metadata": {},
     "output_type": "execute_result"
    }
   ],
   "source": [
    "# Predict를 수행하고 mean_absolute_error, rmse 결과 출력하기\n",
    "pred = model.predict(X_test)    # X_test를 이용한 예측값 pred \n",
    "mean_absolute_error(y_test, pred)\n",
    "np.sqrt(mean_squared_error(y_test, pred))\n",
    "\n",
    "mae = mean_absolute_error(y_test, pred)\n",
    "rmse = np.sqrt(mean_squared_error(y_test, pred))\n",
    "\n",
    "# MAE 및 RMSE를 백분율로 표시\n",
    "mae_percentage = (mae / np.mean(y_test)) * 100\n",
    "rmse_percentage = (rmse / np.mean(y_test)) * 100\n",
    "\n",
    "print(\"MAE: {:.2f}%\".format(mae_percentage))\n",
    "print(\"RMSE: {:.2f}%\".format(rmse_percentage))\n",
    "\n",
    "r2_score(y_test, pred)"
   ]
  },
  {
   "cell_type": "code",
<<<<<<< HEAD
   "execution_count": 416,
=======
   "execution_count": 507,
>>>>>>> 09331ef8b049ae3a6c46de82d5cce68627f8e1a4
   "metadata": {},
   "outputs": [
    {
     "data": {
<<<<<<< HEAD
      "image/png": "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",
=======
      "image/png": "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",
>>>>>>> 09331ef8b049ae3a6c46de82d5cce68627f8e1a4
      "text/plain": [
       "<Figure size 720x576 with 1 Axes>"
      ]
     },
     "metadata": {
      "needs_background": "light"
     },
     "output_type": "display_data"
    }
   ],
   "source": [
    "# Feature coefficients, feature 선언\n",
    "coefficients = model.coef_\n",
    "features = X.columns\n",
    "\n",
    "# coefficients 순으로 정렬\n",
    "indices = np.argsort(coefficients)\n",
    "sorted_features = [features[i] for i in indices]\n",
    "\n",
    "# 그래프 크기 지정\n",
    "plt.figure(figsize=(10, 8))\n",
    "\n",
    "# 막대그래프 show\n",
    "plt.barh(sorted_features, coefficients[indices])\n",
    "plt.show()"
   ]
  },
  {
   "cell_type": "code",
<<<<<<< HEAD
   "execution_count": 417,
=======
   "execution_count": 508,
>>>>>>> 09331ef8b049ae3a6c46de82d5cce68627f8e1a4
   "metadata": {},
   "outputs": [
    {
     "name": "stdout",
     "output_type": "stream",
     "text": [
<<<<<<< HEAD
      "Train MAE: 234.15\n",
      "Train RMSE: 730.56\n",
      "Test MAE: 1065.93\n",
      "Test RMSE: 5111.02\n"
=======
      "Train MAE: 2.62\n",
      "Train RMSE: 7.87\n",
      "Test MAE: 8.44\n",
      "Test RMSE: 38.32\n"
>>>>>>> 09331ef8b049ae3a6c46de82d5cce68627f8e1a4
     ]
    }
   ],
   "source": [
    "# 훈련 데이터에 대한 성능 확인\n",
    "train_pred = model.predict(X_train)\n",
    "train_mae = mean_absolute_error(y_train, train_pred)\n",
    "train_rmse = np.sqrt(mean_squared_error(y_train, train_pred))\n",
    "\n",
    "print(\"Train MAE: {:.2f}\".format(train_mae))\n",
    "print(\"Train RMSE: {:.2f}\".format(train_rmse))\n",
    "\n",
    "# 테스트 데이터에 대한 성능 확인\n",
    "test_mae = mean_absolute_error(y_test, pred)\n",
    "test_rmse = np.sqrt(mean_squared_error(y_test, pred))\n",
    "\n",
    "print(\"Test MAE: {:.2f}\".format(mae))\n",
    "print(\"Test RMSE: {:.2f}\".format(rmse))\n"
   ]
  },
  {
   "cell_type": "markdown",
   "metadata": {},
   "source": [
    "### 4. 엘라스틱넷 회귀 모델 학습"
   ]
  },
  {
   "cell_type": "code",
<<<<<<< HEAD
   "execution_count": 418,
=======
   "execution_count": 509,
>>>>>>> 09331ef8b049ae3a6c46de82d5cce68627f8e1a4
   "metadata": {},
   "outputs": [
    {
     "data": {
      "text/plain": [
       "ElasticNet(alpha=0.5)"
      ]
     },
<<<<<<< HEAD
     "execution_count": 418,
=======
     "execution_count": 509,
>>>>>>> 09331ef8b049ae3a6c46de82d5cce68627f8e1a4
     "metadata": {},
     "output_type": "execute_result"
    }
   ],
   "source": [
    "model = ElasticNet(alpha=0.5, l1_ratio=0.5) \n",
    "model.fit(X_train, y_train) # 모델 학습"
   ]
  },
  {
   "cell_type": "markdown",
   "metadata": {},
   "source": [
    "### 4. 엘라스틱넷  회귀 모델 검증"
   ]
  },
  {
   "cell_type": "code",
<<<<<<< HEAD
   "execution_count": 419,
=======
   "execution_count": 510,
>>>>>>> 09331ef8b049ae3a6c46de82d5cce68627f8e1a4
   "metadata": {},
   "outputs": [
    {
     "name": "stdout",
     "output_type": "stream",
     "text": [
<<<<<<< HEAD
      "MAE: 5.96%\n",
      "RMSE: 26.29%\n"
=======
      "MAE: 6.01%\n",
      "RMSE: 26.59%\n"
>>>>>>> 09331ef8b049ae3a6c46de82d5cce68627f8e1a4
     ]
    },
    {
     "data": {
      "text/plain": [
<<<<<<< HEAD
       "0.9981371009370414"
      ]
     },
     "execution_count": 419,
=======
       "0.9980935788872685"
      ]
     },
     "execution_count": 510,
>>>>>>> 09331ef8b049ae3a6c46de82d5cce68627f8e1a4
     "metadata": {},
     "output_type": "execute_result"
    }
   ],
   "source": [
    "# Predict를 수행하고 mean_absolute_error, rmse 결과 출력하기\n",
    "pred = model.predict(X_test)    # X_test를 이용한 예측값 pred \n",
    "mean_absolute_error(y_test, pred)\n",
    "np.sqrt(mean_squared_error(y_test, pred))\n",
    "\n",
    "mae = mean_absolute_error(y_test, pred)\n",
    "rmse = np.sqrt(mean_squared_error(y_test, pred))\n",
    "\n",
    "# MAE 및 RMSE를 백분율로 표시\n",
    "mae_percentage = (mae / np.mean(y_test)) * 100\n",
    "rmse_percentage = (rmse / np.mean(y_test)) * 100\n",
    "\n",
    "print(\"MAE: {:.2f}%\".format(mae_percentage))\n",
    "print(\"RMSE: {:.2f}%\".format(rmse_percentage))\n",
    "\n",
    "r2_score(y_test, pred)"
   ]
  },
  {
   "cell_type": "markdown",
   "metadata": {},
   "source": [
    "### 4. 엘라스틱넷 회귀 중요변수 확인\n"
   ]
  },
  {
   "cell_type": "code",
<<<<<<< HEAD
   "execution_count": 420,
=======
   "execution_count": 511,
>>>>>>> 09331ef8b049ae3a6c46de82d5cce68627f8e1a4
   "metadata": {},
   "outputs": [
    {
     "data": {
<<<<<<< HEAD
      "image/png": "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",
=======
      "image/png": "iVBORw0KGgoAAAANSUhEUgAAAw8AAAHSCAYAAACq4/cOAAAAOXRFWHRTb2Z0d2FyZQBNYXRwbG90bGliIHZlcnNpb24zLjUuMSwgaHR0cHM6Ly9tYXRwbG90bGliLm9yZy/YYfK9AAAACXBIWXMAAAsTAAALEwEAmpwYAABeJElEQVR4nO3deZwcVb3+8c8DZCHsQkS2GAUFXFEHBEQBwe1y3RAVEJFNxA1EtijXC8giyCqiIjuILAIq3ovgdQsCopAobj9BAUEFkS1hTUKW5/dHnSaVpnumMpnMTCbP+/XKq6tOnTrnW9WN1rfPOT2yTURERERERF+WGeoAIiIiIiJiyZDkISIiIiIiGknyEBERERERjSR5iIiIiIiIRpI8REREREREI0keIiIiIiKikeWGOoCIpcUaa6zhiRMnDnUYEREREX2aOnXqw7bHt5cneYgYJBMnTmTKlClDHUZEREREnyTd26k805YiIiIiIqKRJA8REREREdFIkoeIiIiIiGgkyUNERERERDSS5CEiIiIiIhpJ8hAREREREY0keYiIiIiIiEaSPERERERERCNJHiIiIiIiopEkDxERERER0UiSh4iIiIiIaCTJQ0RERERENJLkISIiIiIiGknyEBERERERjSR5iIiIiIiIRpI8REREREREI0keIiIiIiKikSQPERERERHRyHJDHUBELLkmTrpmqEOIiIhYqtxz/A5D2n9GHiIiIiIiopEkDxERERER0UiSh4iIiIiIaCTJQ0RERERENJLkIYYVSaOHOoaFocoSFXNEREREfyV5iGFD0lrACUMdx0JaEThzqIOIiIiIGAxJHqIRSeMlnSfpYknfknRAP9tZR9LBXQ4fCJzR/yj77HtLSe/vUP4OSd+TdI6kc8s1rlKOndJbm7afAP4laePFFHZERETEsJHkIZr6EnCU7d1sfxhYQdL2/WhnFDC2vVCSgLVs37WIcfZmNDCmQ/nrgf1t72N7b+AbwK7l2MoN2j0X2GVgQoyIiIgYvpI8RJ8kvRS4x/a9teKvAy8sx18h6dLyrf0XJS1TyrcroxRnSzqxj24mAM8mDpJWl3SqpCMkfVnS6aX8UElrlu21JR1Utl8l6duSvln6G1XKt5d0iaTLgQ/00r9r22sDD0p6DbCVpDMkLSPp5Fp8O0vaFMD23cC6fVxfRERExBIvf2E6mtgYuK1eYHs61TfuAIcDe9meIWkf4J3A1cD7gN1tW9JpklbvpY+1gH/W9icBJ9h+QNLrmL8WYhzV6AVUIwnLl+09gb1tz5T0GeBVkv5UynejSg4u6KX/4yU9STUqsgmwqe3Zkm60/SmA1lSmYiwLjmLM69SopH2BfQEmTJjQS/cRERERw19GHmKRSFoVuM/2jFJ0GbBt2T4UeI+kY4A3Mf9Bv5NlWPDb/5VtPwBgeyrwSB+hTALeLOkI4D2lr42BX9qeZ9vAd3s73/Z+tvcAPgZ8vo/+GrF9lu0e2z3jx48fiCYjIiIihkySh2jiduBV9QJJa0o6skNdleOjgAuBR4HjgR/00cfDwJq1/WdHxcp6iL5Gyc6mSj5Op/cRhj7Z/jVlStZCyCheREREjHhJHqJPtu8A1pe0Xq3408CPy/SldSS1RhU+CPwcWA24y/b1wFPAhn10czfwitr+9LLWAmB7oDVlaEZte/Na/Xm2r7U9DdiolP0Z2LK1BgPYsZf+9eyGtA4wff6uWseWLWsfVO+7rMF4vI/ri4iIiFji5dvSaOrzwAmSlgPmAtfbvqkcOxY4T9LTwP3AeVSjAKMknUu1RuFxYA/gfKoEYAG250iaIWk92/8AjgFOLQ/+TwL3laqXAKdIeooq4Xi6lN8h6XyqhHg61VqLG0vZxZKWLW3M6nBttwJfl/RvqiRiHHBQOXYzcJGkvYBLqaZlzQKmAc+UOnsDVza4hxERERFLNFVTwSOGnqQNgQNt79fh2Dm29xmCsHpV1nycC+zkPv5j6unp8ZQpUwYlrsEycdI1Qx1CRETEUuWe43cYlH4kTbXd016eaUsxbJTpUd3+gFxfC6aHyuOUX5Qa6kAiIiIiFrdMW4phxfaTXcoPG+xYmrA9j2pNR0RERMSIl5GHiIiIiIhoJMlDREREREQ0kmlLEdFvg7VoKyIiIoaHjDxEREREREQjSR4iIiIiIqKRJA8REREREdFIkoeIiIiIiGgkC6Yjot/yF6Yjli75kYSIyMhDREREREQ0kuQhIiIiIiIaSfIQERERERGNJHmIiIiIiIhGkjzEsCJp9FDHsDBUWaJijoiIiOivJA8xbEhaCzhhqONYSCsCZw51EBERERGDYUiSB0mjJf1I0jmSzpV0paRX93HOKQvZx6mLFuXiJ2kXSZv2p76kSZLWHIAYtpT0gbI9uZ9tHClp2y5tv38hmjoQOKM/MTTRLR5J75D0vdrn8WJJq5RjvX7ubD8B/EvSxosp7IiIiIhhY6j+zsPawA22jwGQtAJwOrB3L+esvJB9rNTP2AbTmPKvP/XHAqMGIIbR5R/AO/rZxvHAM13abnR9kgSsZfuufsbQRLd4Xg/sb/sfJZY3ALsC36DZ5+5cYA/gvwcmzIiIiIjhabj8kbg1gKcBJL0O+AQg4Ebb50n6ILCVpM/YPk3SD4HpwMHlvJNKfQMH255eb1zSQcD6VA+CR9q+U9KhwIW2/y1pbWAX2ydLOgOYU+reDoynSkRmAZ+x7ba2XwUcBjxJNZLzCduzJV1Q2pkHPGp7Uqn/YeAtwArA48Cd7TdD0qrt11Ta+gjwuKQHStVPS1qDaurMwbb/IelFwOGl37/Z/lJp89l7Zvv+Lu/DccCBkpYF/quUjQfG2/6gpC2AdWxfWdo82fZBwHuBu4BbJG0P7AUsCzwC/LIkBqeXOFcATrA9ta3vCaWN1j1YvcQwvZwz1vb+vbxv3d6H58TT5drr7+vawIOSXkP1uTsD2B84sVwvknYG7rJ9q+27Ja3bpd2IiIiIEWMok4d3lwcuUT0YH1UeMncG9rFtSadIWsv25ZLeYvu0cu5o4EOlzolUD6N/lbQR1YPzIa1OJL0W+Fd5wFwJOAX4KDCO+d/cjwaWL9trA3vbnibpUuAo27dLOhlYD/h723XsWerPlPQZ4FXAVGBzYDPbj5frWL30s4Xt3csD+k+63JvD26/J9iGSLgTuLMkPwM22vy/p5VTflJ8A7At8vDw4HyzpdeVB/dl71st70hqteQ9wm+2rJY0D/lrKx1CNeLSsUisfLWlsuR+7UT2MX1COrw7Mtr1nSYz2L/eobi3gn7X9SeUePFASytZaiG7v23PeB0l/6hJPJ8dLerJc3ybApuUe3mj7UwCtqUzFWBYcxZjXqVFJ+1K9J0yYMKGX7iMiIiKGv6FMHq5uTVtqkbQa8GbgG+XheHXghcC/2s69p/YQvJrtvwKUh/zV2upuDWwq6U1lfxV696jtaWX7Kdu3l+1pzJ/eUzcJ2K6sRdgWmFLKb7T9eNl+nOohd1PgmhLrXEnf7xJDX9fU0urrMeY/RG8HrFbu34rA3VQP6vf0kTjUvRH4XOn/aUk3NjxvY+CXtucBSPouVULyCLCcpJOAS21/scO5y7Dgt/8r236gxDBV0iN99N3pfegWT8fzbf+z1Hs98HngqL4uuC+2zwLOAujp6Wl6/yMiIiKGpeEybanuRtsHwLM/2zl7ANo80fZva20OpLOBS6mm5dw7wG33x+229wMooxv9IRb8bCzS56SMEB1ANaqzj6Q32W5f0P4wUF8A/myfZUSqrxgG7H2w/WtJH1vI04bjf0sRERERA2q4/VTrdODFZaoMwNeo5txD9UDbyTRJLwEoU3ymtR2/CWj9mtAaVItgAWYwfxRi80WIeZ7ta8toxUZ91P0VsEOJZVmq6UGd9HZN3e5DyyhJzy/b/w28so/6nUwG3l/6Hw9sU8qfvWeSNmD+e9PyZ2BLSa3P1Y6l7ouAz9q+DzgW6PTLWncDr6jtT5f00rK9PfPfq27vW6f3oWM8XTx7XyWtQ/VZLLtqHVtW0jJlf/Na/TWpRpciIiIiRrSh+rZ0NmWBdF35hvoY4CJJzwA/tv1gOTxT0qG2v0w1TaflWODk8nzXWlxMq47tWyS9rawXWJ4yHQe4BDhF0lNUD65P188r6g+EM+j8i0J3SDqfKhGbDuwO3NjWzgyqOf//lnSzpIuo5u7/uUub3a5pSin/dKvNUj677AN8Afi6pBnAn2zf1uG66maVfzD/gflq4NhyXSsCt5TyqcC+ks4DHmL+N/wzgZllvcH5wMUlObqvtH0vsF45b0Xgm+1B2J4jaYak9cqvHh0DnFoe/J8sbUH39+0574PtG7vE0+7Wcs/+TZVEjAMOKsdupvo87kU1snFZaWMa89+7vYErO7QbERERMaKo+TT4WFpJOsf2PoPQz4bAga1pV0MRw8IqC8DPBXbqa01JT0+Pp0yZ0luVJc7ESdcMdQgRMYjuOX6HoQ4hIgaJpKm2e9rLh9u0pRie+lqsPCBs38H8UZYhiaEfHqca5UgWHhERESNeFnlGn2wfNoh9PTnUMSyM8ktOTw11HBERERGDISMPERERERHRSJKHiIiIiIhoJNOWIqLfsngyIiJi6ZKRh4iIiIiIaCTJQ0RERERENJLkISIiIiIiGknyEBERERERjWTBdET0W/7CdMTIkB8/iIimMvIQERERERGNJHmIiIiIiIhGkjxEREREREQjSR4iIiIiIqKRJA8xrEgaPdQxLAxVlqiYIyIiIvorycMSQNJykl4x1HEsbpLWAk4Y6jgW0orAmUMdRERERMRgSPKwZFgXmCxp1VaBpNN6O0HSFpLev6gdS5ok6QWL2k5DBwJnLK7GJW3Z6Z5Ieoek70k6R9K5ki6WtEo5dkpvbdp+AviXpI0XU9gRERERw0aShyXHv4BDa/sr9lF/TPm3qMYyCH8PRJKAtWzftRi7GU3ne/J6YH/b+9jeG/gGsGs5tnKDds8FdhmYECMiIiKGr/yRuCXHFcD2kta2fX+rsDx0HwM8HxgHfMv2dcAngDUk/RV4EXCX7VvLOSfbPkjSV4A5wK3A5V3a6UjSesCxwEzg38AKtj8raR3gy8ATwErAJ4HHgNOpEp4VgBNsT21rcgLwbOIgaXXgv4Dp5ZyxtveXdChwoe1/S1ob2MX2yZJeBRwGPEmVFH/C9mxJ2wN7AcsCjwC/7HJJrm2vDTwo6TXAVpLOAPYHTrR9UIlv59Y9tX23pHW73auIiIiIkSLJw5JjHnAUcATwsVr5BOAJ24dLWgY4H7gO+Dqwru1flyk19W/cVymvKwNH2r5X0gu7tNPNkcBnbD8qaR9g81K+J3Co7fskvQfYDrgemG17zzL1an+gPXlYC/hnbX8SVZLxgKTXMX8txDhgVNkeDSxf63dv2zMlfQZ4laQ/lfLdqJKDC3q5nuMlPUk10rIJsGlJPm60/SmA1lSmYiwL3tN5nRqVtC+wL8CECRN66T4iIiJi+Mu0pSWI7Z8Ca0vasFZ2L3CFpP2Ak4HVFqLJueX8/rQzz/ajZfvKWvmXgJdK+jzVN/7LU33jv5ykk4D1bX+xQ3vLsOC3/yvbfqDENrW00ZtJwJslHQG8p/S7MfBL2/NsG/hub+fb3s/2HlTJ2ef76K8R22fZ7rHdM378+IFoMiIiImLIJHlY8hxONb0IAEnbAZ+i+nb/YODB/jTaj3ZU264/9J8CrAGcU7YpD+4HAKcC/ynpwA7tPQysWdt/dlSsTM3qa5Ts7BLH6fQ+wtAn278GXriQp2UULyIiIka8JA9LGNu/p5rXv2kpeh1wtu0/A+OBVWvVWw/4MyhTlSRtTme9tdPJspJaoxM71spXsX2F7QeBjUqfLwI+a/s+qnUSr+7Q3t1A/edop0t6adnenvlTrWbUtuvXMs/2tbantfoF/gxsWaZhtcfZ7tlkqKzbmD5/V61jy0papuxvXqu/JvB4L21HREREjAj5tnTJ8AzwdG3/C8AfyvYVzJ+v/wwwTtImwJ+AL0i6C7gW+KaknYC/MP9B97Fam93amQHM7hDTUcAZkgzcUyu/QdJFVGsAHqRKCC4B1pN0HtWi6W+2N2Z7jqQZktaz/Q+q0ZVTy4P/k8B9peolwCmSnqJKOFr35Q5J51MlxNOB3W3fWMoulrRsaWNWh2u5Ffi6pH9TJRHjgIPKsZuBiyTtBVwKXFbamFbuE8DeLDh1KyIiImJEUjWjJJY0kjYuowRD1f+HgEttzytJxnttH7GIbW4IHGh7vw7HzrG9z6K0vziUBeDnAju5j/+Yenp6PGXKlEGJa7BMnHTNUIcQEQPgnuN3GOoQImKYkTTVdk97eUYellBDmTgUM6m+0X+C6leHPruoDdq+Q9LBXQ73tWB6qDxONcqRLDwiIiJGvCQP0S+2rwKuWgztPtml/LCB7msg2J4HPDXUcUREREQMhiyYjoiIiIiIRpI8REREREREI5m2FBH9lkWWERERS5eMPERERERERCNJHiIiIiIiopEkDxERERER0UiSh4iIiIiIaCQLpiOi35bmvzCdxeIREbE0yshDREREREQ0kuQhIiIiIiIaSfIQERERERGNJHmIQSVp9FDHMNBG4jVFREREdJLkIQaNpFcDBw11HO0krSxpfC/H15S0QpdjAr5VXiMiIiJGtCQPw4CkNSSdLemS8vpVSSv1s61dJG1atidJWnNgo+2z/y0lfaDL4f2Bb5R6p3Y5/1xJG0haR9LB9bqS9pS0xwDEeEpb0TrAx2rHD5N0YO34AcD4TjHbNvBT4G2LGldERETEcJefah0ejgeOtf03AEmbAMdQPbQurDHlH8BYYNRABLgQRpd/CyjJ0Czb00tRt+ToU8BM4IVU8dfrXjxAMa7ctn87sHFt/1XAnNr+RNv39JLQXQKcBFw3QPFFREREDEtJHoaYpJcCf2slDgC2b5N0Szm+LHAksAbVw/Shth+StCrVA6sAAwdTPfB+BHhc0gOluU9LWgNYETjY9j8kvQg4HJhX+v5S6euHwPTS1meBp4F1gQeBx4GJVJ+Zj9ueJWlX4C2lnTtsf7mXS30tcEttfzlJX6NKbkYDB9l+hGp04sIubfQA6wHfkfSKcg1PA/cBR9qeV9p0aVcl1rmdGpM0Bjir9Dlb0thyLbOBuZKWo7rnT80/RUcBawPjgP1sP2H7yax7iIiIiKVBpi0NvY2B3wFIGiXpa5LOBP6jHH83cJ3tjwNfAA4r5YcDJ9jemyqJONz2k1QP3ifavrPUu7nU+SKwaynbl+qhel+qh+bXlfLRwIds3w+sDpxney+qh/HflPq/BV5f6m9le8/S/iv7uM61gH/W9icCV5U2jwM+X8qXp3tSO4b5oxqHA3uVvv8OvLOUvx44zvbHgD8Cm3RqqCQG3wC+Yvsx4NfA5lQJypRyna8B3gDcVE5bBrja9kepRhv+o9bkvO6XHhERETEyZORhGLE9G/gkgKQflOKtgbGSPtyqVl5Xs/3Xct7tklbr0uyU8voY1YM5wHbAamWN74rA3cBU4J4yhx9gru17yvZTVFN7AKYx/wH+C5J2AV4NbNrH5S1Tix3gEeDnJf6/lJGURkrd+2zPKEWXUU3zuhq4rSQ/UI2WLP/cFhBwBvBv278pZZOBnYEZQOvPJr8VGA+cWfbn1uo/Vo71Feu+VMkaEyZMaHB1EREREcNXkoehdzvwPuB/WwVlqtLLanUm2Z5Wjg3E9Jjbbe9X62uhSVqd6qH6ROD7VNOqevMwUF+8PbeWqAB0nFrUNJyFrL8sVcLxAUlrl2Tjdqp7PhNoTb86EFi+lkT1puN/S7bPopoaRU9PjzvViYiIiFhSZNrSELN9B7C+pBfWivdm/gPxTcAHACRtSPUNO8A0SS8p5RtRjQi09PUwPUrS88v2f9P3lKNO1gd+bvsWqrUW6/dR//fMn+4E8HxJrwWQtDYLxt+rsuh6HUmtUYUPUkYxGppj+8fA0eVf61eTZgLzbM+zPY/qPj7ZV2MloetXEhYRERGxJMnIw/AwCTi+9jD8G+B7Zfsq4GRJ51NNF2r9AtOxpRzmL5iGaprSyZI+TTUFZ3Ypn132oVo78XVJM4A/2b6tlD9Wi6m+PbPWzqyyfxuwn6RzSlz3S9od+GupswDbD0haV9KKZW3Gn4GPSnoEWIHyEE+1AHp2uaZWvK1YWn23rv88SU8D9wPndYn7ObG06tj+u6R7JG1u+1dUU5fqv051C9UC8k735JlaLDsBP+7QT0RERMSIogVnjkQsPpK2Bd5o+4tDHUtLmbY1yvbMPit3Pn8Zqiln77H9TG91e3p6PGXKlN6qLHEmTrqm70oj1D3H7zDUIURERCw2kqba7mkvz8hDDBrbP5d061DHUVd+xrXf6y3Kz8N+oK/EISIiImIkyJqHGFRlytKIMhKvKSIiIqKTJA8REREREdFIkoeIiIiIiGgkyUNERERERDSSBdMR0W/5xaGIiIilS0YeIiIiIiKikSQPERERERHRSJKHiIiIiIhoJMlDREREREQ0kgXTEdFvEyddM9QhPEcWcUdERCw+GXmIiIiIiIhGkjxEREREREQjSR4iIiIiIqKRJA8xaCSNHuoYBtpIvKaIiIiIbpI8xKCQNA745lDH0Ymk9Xs5NkrSer2cfoqkNRdDWBERERHDzlKTPJSHwOsknSPpXEnfkbR9OXakpG2HOsaBIumUxdz+FpLev5Cn7Q1cWM4/TNILOrS7p6Q9yvap5XWSpBdI2kDSuYsYOpJ2kbRZW/FRteNbSPpe7di2wHZdzgM4AzhgUeOKiIiIWBIsTT/Vug5wk+2jASQtQ/Uw+xPgeOCZIYxtoK3cXiBpRdtPdigfDSxje+ZCtD+m/FsYm1E9aAMsT+fP3sW17ZXK69hS9y7gUwvZZydjgPapRnMkjbE9C9geeL6kUbZnA9sAZ5XX50xRsn27pPUkybYHIL6IiIiIYWtpSh4A6g93KwEzyvZ7qR5Ob5G0DfAxYCZwm+2vAEi6CniM6gHyOqpvpAFusf1NScsBX6G6p6sAX7b9G0n7AW8E5gE/tX2BpPcCOwNPA7fbPqE9UEm7Am8p591h+8uStgDeA7wAEHCd7UtKInQMsBYwjvkP3nWflHSN7T9KmgT82vbPgX2AP0u6oWn8wCeANST9FZgCHAmsQfWgf6jth9quZRTwdNvD9WclrQSsCJxo+zdAD7Ae8J324G1b0nHAgZJWBU4q98DAwbanlxGX+4CNyj04yPZ9He5FK67DgcnAr4HXA78o514KvAa4BXiR7XskAewsae9yj79k+7bS1L3A2qXviIiIiBFraUse3i1pXaqHzq2Y/032GGC0pLHAvsButudKOlrSJuUhcVXg/VQPqzcBb7Y9U9J3qObyvwG4wfZl5eH2aOA3wJa2P6Tq6fOk0t97gF1sz5N0cpdvrbeyvSeApG/V4ly3xGdJFwCXlPb+bPvzklYHbu9w7dcBOwB/BF5BlSD8vNyHcxYy/q8D69r+taQdqZKYm8q9PQw4uK3v1YGH2sqetP1ZScsDF5V722lUoK6VFB0OnGD7r5I2KvuHAM8rsZws6VVUCdrJnRqS9Bng3yXuR4EPSroZmE2VULxD0v8D6qM1d9o+TdKKwJepkiiokoYXkOQhIiIiRrilLXm42vYxAK2HVkm/qB3fCPil7bll/3KqaSy3AX+zPa+c+/9q03yeLq+/AF4uaX/gpVTfwgP8QtL5wJVUD9YAVwDfLnPrD+8y3eULknYBXg1sWiu/tlZ/TnndGvg8gO1HJE3u0N7vgUMkrQI8AKxa7sEc28+U+9A0/rqtgbGSPlz2O13LMh3KryjxzpB0fxmFaGo1238t598uabVSPsf2/5Xtx6mmR3WyF/BC29uV/duBjYHXAVOB/wccRJVY3Vg7b0rp88m2X1kyXdYPSdqXKiFlwoQJjS8wIiIiYjhaahZMt7M9A/grMH6AmtwdeBfwv8Cna+Xnlv01qL7hB7gG2IPq4f9SScvWGyqjB2dSTaU6igUfYPulJBzTgB2pvll/CPgg8LN+xN9uku39bO9H58XDj/Lc+zy3tj2HwXU/cKWk/4Rn780s4O3A9SVJnAdsB1zfoL01gYc7HbB9lu0e2z3jxw/URy0iIiJiaCxtyYOe3aim4UwAHqkdvx3YsvYwvzPVg3YTmwFfsX03sGGt/HTbT9q+EGi1ezrwjO3vAvcAq7Gg9YGf276F6sG660+JFtdTJQWtxGObLvV+BPx3qf8T4IvAtf2IH+bfy5uAD5S+N6Rae7GAMkrTfo1vL+csC6xu+4k+rrFumqSXlPM3okqKFsZ1wNnAXmX0BeBmYBeqaV1QjdRsY/ueBu1tRLXuISIiImJEW5qmLd0PbCPphWV/BeC7tmdLmgnMLGsYzgYuLmW31RbFPlZr6/Ha9vTyegFwnqSnqL5p36CsAfi9pIuoHrZ/W+r+hGra0izg3yyYwEA1TWo/SedQrQG4X9LuVCMl9V9FasX0feCYMr1oHPDjLvfgZ+WanpD0K+C3tv/dj/j/RDWt6i7gKuDk0vdouv9s6R2SXm/711QL1SdKOoFqncNppc6s2vW1rm0G1ToEmH+vjy19Qlkw3XYO5ZwZPNcsYJbtOZJOA/YHTgB+SrXOZF6p9xOqpKBlZjm35XGA8nl6onZeRERExIil/LpkDAZJawDfsL2wfx9isZI0zvbTfdfsev5ZVL9MdWdfdXt6ejxlypT+djUsTZx0zVCH8Bz3HL/DUIcQERGxxJM01XZPe/nSNPIQQ8j2w5L2HOo42i1K4lB8ttPfz4iIiIgYiZa2NQ8xhEbiQ/ZIvKaIiIiIbpI8REREREREI0keIiIiIiKikSQPERERERHRSBZMR0S/5ZeNIiIili4ZeYiIiIiIiEaSPERERERERCNJHiIiIiIiopEkDxERERER0UgWTEdEv02cdM2g9JOF2REREcNDRh4iIiIiIqKRJA8REREREdFIkoeIiIiIiGgkyUNERERERDSS5CEGjaTRQx3DQBuJ1xQRERHRTZKHGBSSlgEuGOo4OpG0fi/HJOnFvZw+SdIrF0NYEREREcNOr8mDpHUkHdxWtqWk9zdpvJx/0KIEWNo5tZ/nHSZpzQ7l20o6YlHjGirdrqtL3V0kbbq4Y2pgB+D/4NmYNmuvUH9fWu+5pF0lbSZpnKRrFzUISVt0+PweVTu+rqQptWMvAXbv5XP/NWD/RY0rIiIiYknQ1995GAWMbSsbDYxp2P4oYPmFDaqDlfp53vIlhnbXAzf3P5wh1+26OhlD8/drcXoncEDZHkP1OWpXf19a7/loYLTtpyXtOABxdLof90laz/Y/gG2BUZJeYPsBYBtgMl0+97YfkTRP0gq2nxqA+CIiIiKGrX7/kThJ2wG/sT2t7H/Q9uWSNgEOA+YBDwCt498EBFwO/Jzq2951qB6Ej7X9R0nLAkcCa1AlLYfafqit34OA9YGVgSNt3ylpeeBEqgfqlUr/Av4TWF/SAcARwBzgVuAGYBfgJEkTgaOBGSXmT9ue3dbnScBjwHol3sNt/13SocCFtv8taW1gF9snSzqj9LUycDswvsQ1C/gMsFaJZxwwE7jd9smlr3cAO5brv9T2D0v5wcDLS5vzurwn/w1sUO7DhcCNwEeAxyU9APwD+DKwItXD8Ods/1PS54A1gbtsf7Xcr1cBywKTbV9Qph19EXh+iXtZ27t0e086hLec7Rm1/V0l7U31QH6h7R+V+7ILcFKn6wOOAw6UNKbLdbQ+dxuVY8fY/kOXtpC0B/AUVXKwLXAR8AbgeOBNwHeALUr55sCbJb213N/zbP+4NHUrsAlwU7e+IiIiIkaCJsnDuyWtW9tfm+qhahSwE3B2eXB+o6TvUD2472l7pqSjaueNB/ayPV3Se4C7bX9B0jjgfOCDwLuB62zfVPo8DHh22pSk1wL/Kg/oKwGnAB8FPgFcZvtGSS+iSgAOlfS/wDm2H5XUerC9tyQMrRGV/wb2tz1N0u7A24H/absHawC32T5a0vOoEpW9qR6iWyMAo5k/yrI2sHdp81LgKNu3SzqZKgFZBtgKeK3tWZKOlPRq4A7gDbY/KknA+ZJ+SpU0LG97z5Io3dblvdrA9u6SlgO+ZPs6SRcCd5Yk6zPA923/XNJ44ARgL6oH+Kts31AWAL/Y9t7lnn+Laq3Cu4C/2v4vSWtQJUW9vSft2hOeFUusywCXSZpM55GuutZoxMe7XMfywH229y7v97HApzs1JGknYKLtI0vdU6iShJWAHwJHS7oCGFs+ywCP2/5MSXLPAVrJw33AC7r0sy+wL8CECRN6ubSIiIiI4a9J8nC17WNaO5K2AdYFfgJ8Czgb+ABwCbAq8E/bM0v171JNVwF41Pb0sr0N8F8AZTrKPyStCmwNjJX04VLPbbFsDWwq6U1lf5XyulHrm3vbf5M0qcN1zLV9b5fyaWX7W1QjFp18r7T/qKSO3/zXPFpr8ynbt5ftaVRJxhzgh7Zn1dp+IyWpkHRmKV+N6qF0a6p7ie0Zkn7Ypd+/SPoaVXJ3aIfjr7B9Wmnnobbr+Fspf0bSCeVb+ZdTjSjAgu/Zw+VhH7q/J325orQ1T9LNwEuBJxqe29t1XFvKHy+JVidvA15LNbrSqruypLWAB2w/VhKKDSlJUjGl1J8raW6t3HRZP2T7LOAsgJ6envbPc0RERMQSpd/TlmzPkfRAGXXYDPgKVfKwqCbVpkJ1mhd/ou3fth1vf3DbAPhLw/7q546lGiH5e4d66rI9EOrtXW27tVh4dHmYb9rOscDzgA9RTdk6ZKEDkTamSjxOA74NfKMWY/3ht77d6T1p1/5Zqz98z1nYOAfAocB+VAueoUqePkK17gLgYeB9VFOa+rImnT8zERERESPKov5U62VUU4v+atvAdGBdSa2pJ90WuE4G3g9Qpi2tV0YlbqIaxUDShsAxbefVj6/B/AfbuyRtWcrXBj5bO6evJ+8xZdQDqqk5b+xS7321fltmMP+b9s376Kfdf7bdp19Qfcu9raRly3SeS8oUmetLHcq36f/R3pikUcApth8BvsqC02ha9+CPkrYt9cfT+f1/JXCF7d9RJVOtKWu/qMWwOtVIBHR/T9otV2JseXs5R8CraZ7sNb2O3vzI9jXA5pr/q1WTqT43N5T9G6imR/26QXubAV3XVkRERESMFH2NPMymekCum1X+AdxCNdXnPwFsW9IJVHP151F9G/t4qftYrY0fAEdJOo9qnvrRpfwq4GRJ51NN7zmgfq7tWyS9rczjXx74XDl+OnBKWYC7AtCatnQzcEYpr/c/G3i6bH8ROFPSU1Tz8j/Z4T7MBV4m6WKqB/FW+5eUfp8C7q61We/r8dr2DOAZqofdP1LN9Z8G/N727wEknQ1cWuqfZ3su8BtJby73ZeVyXQss6rY9W9Ijki6gWsPQWrcxheqefprqwf5ESbtRFhrX4mq192Pg65LeV671KUlvAb4PHFtiWIFqkXBv70m7n1ElH5dTfX7GSTqFatTh8rL2o/6+tO5h/fM2vbx2u46n2+5L/X1omUW1SB2q9/7zVJ+zm4A/1Kab3QBMqU3Bq58H5X0t6zyeb/vhLtcdERERMWKoGjDo58nVwtyLbe88cCENP5LOsb3PALY3EditvpZkuJP0RuAftu8poyFX2n7vQpw/BrgaeIcX5UM3wCSNs/103zW7nn8U8BPbN/RVt6enx1OmTOmr2hJl4qRrBqWfe47fYVD6iYiIiIqkqbZ72ssX5adaN6L6udVzFyWwJcQjA9zeLODJAW5zcbuL6qdtn6T6RaKv9VF/AWVkYafhlDhAtWB/EZs40faS9l5GRERE9MuiLJi+nernVUc824cNcHv/olqQvMSwfT+w6yK2MeIeskfiNUVERER0s6gLpiMiIiIiYimR5CEiIiIiIhrp97SliIgsZI6IiFi6ZOQhIiIiIiIaSfIQERERERGNJHmIiIiIiIhGkjxEREREREQjWTAdEf22sH9hOgusIyIilmwZeYiIiIiIiEaSPERERERERCNJHiIiIiIiopEkDzFoJC0naUR95iSNlqShjiMiIiJiMIyoB7kY9o4FJgx1EO0krd/H8Rf3cvgNwMcHNqKIiIiI4SnJwzBQvr2+TtI5tX9vHYB2x0m6tmxPkvSCDnXWlfRTSZv0o/1TF6LuGsCqtu+RtI6kg5vEW68r6VpJ4xY2zg79nNJW9FFJ69aO/1bSWmVbwDFlu9P1Tga2kbTsosYVERERMdwleRge1gZusr1P7d//LWqjtp8Gdiy7Y+n807wbAOfbvq0fXay0EHXfB1xctkeVeBbQJd563R1LnUW1ctv+9cC2AJLWA5YFti7HXgL8pWw/53ptG7iuVj8iIiJixEryMHy4U6GkAySdJ+lSSduUspdI+q6ks8qxUZLWkPQdSWeXuquWJo7r1mFZf/BJYC9Jr5a0haSdasdPLq/LSzpV0pmSvtH+7b+kLSVdVUZMTu6yBuC1wK9r+6+UdEk557Baedd468e63JctJJ0g6UJJF0natZe2kLSJpOOAm4A3luI3AV+imo4EVVIxuWyvJ+kCSedKOqTW1C+ALXrrKyIiImIkyB+JGz7eXZs6Mw+YBLwYWM32XmVazCWSfgW8GzjS9u8l7QlsBGwIXGz7B5K2B7YEfkgvowO250n6GrCu7d+Vh/D6iMAq5XUf4DTb90ralGqO/8m1ersCe9p+XNJ/AasBj7Z1t6ztZ2r7rwFebXuGpKMlbVJGP3obzVgJqof+LvdlDLAusJttS7oAuKRTQ5I2BA4B9rY9U1LrWreiuvdvK/ubAxeW7dWAd9meJenCWnP3Ac+ZEhYREREx0iR5GD6utn1MvaA8zF8JYHuupBuoEoXvASdK+hlwue2HJN0HfFPSxsAltv8xgLG9Hnh5GVAQ8FDb8YuA8yX9L3C67ccbtPk/tmeU7e9SffN/W8N4tqHzfQG4tkwlApjT5fwJwA+Ad9ueWcrukfQiYGXbj0l6WNJ4YEytzu9tzyrbs2vtmS6jeJL2BfYFmDBh2K0Vj4iIiFgomba0ZLqbag3BVKqEYX1gGvAB4FrgWElv6OX8hTUX+Ljt/Wx/DPhi2/FbgQ8C/wS+XZsyVae2RcVza9vdHvIXl3WAd1GNPLRMBnYGHij7v6AacbmjQXtrAg93OmD7LNs9tnvGjx/f74AjIiIihoMkD8PbZGAngPLg/UbgduC/gPG2b6aaUvMa4CPAa23/nmpKUX/m4M+gTFWStAHQetr9E/DWUv5m4BNt550MyPaPgZ9QLcJu9xfg1bX9t9SSibcCNyxEnJPpfF+autn2HcD/k9SannQTcABV0kCJ50Dmr3fozeuB3y9E/xERERFLpExbGh5mUz24L8D2bZK2lnQ+1VqEb5T5+ZcBX5X0BDAO2A8YDZwu6WmqXxP6bGlmenmdwYJTbVpmAa1pOVOBfSWdRzU16d5Sfkbpb2eqUYL9S/lj5fUK4GJJT1Kt1/hah36uKjF9osRxF9WoyT+BabVfe2qP17V7M72P+1K/lnp87VrlXwW+A/yorNf4HSWJsT1N0m0suMi73l59atYHqZK3iIiIiBFN86eHRyxeks4BvmT7rqGOpUXSuEX5+dcyErOF7WP7qtvT0+MpU6b0t6thaeKkaxaq/j3H77CYIomIiIiBJGmq7Z728ow8xGD6FAuudRhyA/B3I35F9XciIiIiIka8JA8xaGq/WjRiDNAfrYuIiIhYImTBdERERERENJLkISIiIiIiGknyEBERERERjWTNQ0T0W349KSIiYumSkYeIiIiIiGgkyUNERERERDSS5CEiIiIiIhpJ8hAREREREY1kwXRE9NvESdd0LM9C6oiIiJEpIw8REREREdFIkoeIiIiIiGgkyUNERERERDSS5CEGjaTRQx3DQBuJ1xQRERHRTZKHEULScpJeMdRxdCNpGeCCoY6jE0nr93JMkl7cy+mTJL1yMYQVERERMewkeRg51gUmS1q1VSDptP40JOnUAYqpbgfg/0r7u0jarEO/20o6oh6DpF0lbSZpnKRrFzUISVtIen9b8VG14+tKmlI79hJgd0lbdjgP4GvA/osaV0RERMSSIMnDyPIv4NDa/or9bGelAYil3TuBy8v2GKDTdJ/rgRPaYhgNjLb9NLDjAMQxpvyru0/SemV7W2CUpBeU/W2AySWO9vOw/QgwT9IKAxBbRERExLCW5GFkuQLYStLa9cLybftOtf2Ty+vyks6Q9E1Jl9QeoFv1lpV0tKRvSDpf0vhSvo6kb0s6s7yuWsq/LekiSa/qENtytmfU9nctbV4i6W2lbC3gU71c33GlnzGSviLpXEnfkrRuKT9M0iGl/PK+phNJ2qOMJkymShoA3gAcD7yp7G8B/Kpsv7lc36WS3lJr6lZgk976ioiIiBgJkjyMLPOopuAc0VY+Bhhb21+lvH4CuMz2x4DDgU+3nfdu4DrbHwe+ABxWyvcEDrW9H1XCsl0pfx6wj+3fd4mtbkXbewK7AXtLGgOMaouzXWs04uPA923vDXwW+GIpXx6YXso/CuzbraGSTE20fQVwE/OThZWAH1IlYQLG2p5Zjj1ue/cS86615u4DXkBERETECJe/MD3C2P6ppM9I2rBB9Y1sn1zO+5ukSW3HtwbGSvpwq/ny+iXgTZI+AmwOfKeU32f7mYahXlH6nSfpZuClwBMNz32F7dPK+Q9Jqicm15byxyUt3+X8twGvBV5Vq7uypLWAB2w/JmllYEPg9tp5U0r9uZLm1spNl0Rc0r6UJGbChAkNLy8iIiJieEryMDIdDhwDPNZHvfYH3g2Av7SVTbI9DRb4WdJTgBuBc4BfUi3W7kv7Z63+8D2nwfkD7VBgP6oFzwB/Az5Cte4C4GHgfVRTmvqyJvD3TgdsnwWcBdDT0+NOdSIiIiKWFJm2NAKVaUNPApuWohmUqUqSNgDGl/K7JG1ZytemmgJUdxPwgXJ8Q6qEBGAV21fYfhDYqGFYy0kaVdt/e2lXwKt5btLSmz9K2racP56F/xz/yPY1wOaS1ixlk6mu/4ayfwPV9KhfN2hvM+APCxlDRERExBInIw8jxzPA07X9LzD/gXYqsK+k84CHgHtL+enAKZL2BlYAWtOWWiMWVwEnSzqf6teGDijlN0i6iGodw4PAK4CL6X2k42dUv5Z0OTALGCfpFKpRh8ttz5I0u3YNrbZmlX8A08vrN4ATJe1W4vpcKX8amF3rs1M8s4DWGoYvAp8v13UT8IfWKAtV8jCltt6hfh7A4wCSVgKeb/vhXq49IiIiYkSQnZkUI5WkjW3/eajjgOoXkoCrgXd4GH3oJI0rPwPb3/OPAn5i+4a+6vb09HjKlCl9VVuiTJx0Tcfye47fYZAjiYiIiIEkaartnvbyjDyMYMMlcQAoIws7DafEAWBREofiRNtPDkgwEREREcNc1jzEoBmJD9kj8ZoiIiIiuknyEBERERERjSR5iIiIiIiIRpI8REREREREI1kwHRH9ll9VioiIWLpk5CEiIiIiIhpJ8hAREREREY0keYiIiIiIiEaSPERERERERCNZMB0R/TZx0jUL7GcBdURExMiWkYeIiIiIiGgkyUNERERERDSS5CEiIiIiIhpJ8hAREREREY0keYhBI2m0JA11HANJ0uihjiEiIiJisCR5iMF0JjBuqINoJ2n9Po6/uJfDH5L0HwMcUkRERMSwlOShHyStI+ngtrItJb1/Ic4/aADiOLWf5x0mac0O5dtKOqKX88ZJurZsb9H0ekv9VwJ/t/1UOfcDHepsIOncsn1qed2yVVfS5Kb99RLHc9474HBJY8rxMZLulDSq7K8IfK7LeQDfBnZf1LgiIiIilgRJHvpnFDC2rWw0MGYhzl9+AOJYqZ/nLV9iaHc9cEK3k2w/DexYdsfQ/HoBdgXOrZ3babrPXcCnynbr2kbX6r5jIfrrptN7dyuwWdneDHgaeF3Z3xK4qct52H4GuKOv0YuIiIiIkSB/JG6ASdoO+I3taWX/g7Yvl7QJcBgwD3gAaB3/JiDgcuDnwFHAOlQP+Mfa/qOkZYEjgTWoHmAPtf1QW78HAesDKwNH2r5T0vLAiVQPviuV/gX8J7C+pAOAI4A5VA/QNwC7ACdJmggcDcwoMX/a9mzgOOBA4BPAGpL+Cqxr+6oSx8sB2f5j261Z0/Y/avtvlvT20vfPbV9o25Ja7XdyHHCgpGW63KddgJcAE0v52bZ/1qUtJL0VeBnwI+D95frfVK77TcCvgG2Bb5ZTXiXpW4CBH9v+Vim/AdicKvmJiIiIGLEy8tB/75Z0Zusf8NlSPgrYCUDS2sAbyyLhw4A9bX8IeLLWzniqZOCnwLuAu23vBewNfKHVF3Cd7Y+XssPqgUh6LfAv258APl47/gngMtsfAw6nSgD+Dvwv8Dnbj1IlG6fbvowFv13/b2B/2/sCvwTeXspbIwJfB86z/Wtg5/JAT+n/0Q73a17b/ouBj9jeo9yj1jSq3kZTWse63acxwJhSvlv515GkrYD3AqcDt1MlEZTXq2r7E23fU7ZHlZh3B7avNXcf8IIu/ewraYqkKQ899FCnKhERERFLjIw89N/Vto9p7UjaBlgX+AnwLeBs4APAJcCqwD9tzyzVvwu8s2w/ant62d4G+C+opghJ+oekVYGtgbGSPlzquS2WrYFNJb2p7K9SXjeyfXJp72+SJnW4jrm27+1SPq1sf4tqxKKbXwBbSboZeJ7t+3up23KV7bll+xqq6UL/0+A86H6fAK4t5XMltScsLa+hSjpeY3segKRnJK0EzLE9T9JcSauwYKI3tVUfmF0rN10ScdtnAWcB9PT0tL9vEREREUuUJA8DzPYcSQ+UUYfNgK9QJQ+LalJtKlSn9QIn2v5t2/H2B9oNgL807K9+7liqEZK/d6l7OdW3/+OA67rUaf+sza1tz2kY00BZjWp0aFL5B3Az8Elgatn/HdXIzY0N2lsTeHiAY4yIiIgYdjJtafG4jGrq0F9tG5gOrCupNSVoxy7nTaaae4+kccB6ZVTiJqpRDCRtCBzTdl79+BrAN0r5XZK2LOVrM39qFfQ+kgAwpvZt/ruAN3aoIwDbD1KNdrwP+F6X9p4qsbW8vfY3H7YGbukjnrrJdL5PTf3M9lSqa3xFrc2DqRaNU14Pqu335vXA7xei/4iIiIglUpKH/plNtZC4blb5B9WD8DuofsaTkkCcAJwv6dtUvx7UOv+xWhs/AF4s6TyqXyY6upRfBWws6XyqtQhfrp9r+xbgaUkXUq1FOK4cPx3Yo/z86SnA8aX8ZuCM8jBf73821S8NAXwROLOcuz1wRSmfXl7/VNresuz/H7C87Sfab1btGvYu288AjwNfk3Q0cJvtf7e134qrfl9bx7rdp5m1uvU26urXeDTzRx5uB+4E/lD2/wD8obbeof09fxxA0nJUi6t/26GviIiIiBFF1XNtDKTyQHmx7Z2HOpbBImlv4H7b13Y5LuD7wG69JBiDTtK48hO0/T1/L2CW7W/3Vbenp8dTpkzpb1fD0sRJ1yywf8/xOwxRJBERETGQJE213dNenjUPA0zSRlQ/I3puX3VHCkmHAC8H9upWp/wM667M/9Z/WFiUxKH4DvDUQMQSERERMdwleRhgtm8HPjjUcQwm2yc2rDfiHrJtP9l3rYiIiIiRIWseIiIiIiKikSQPERERERHRSKYtRUS/ZYF0RETE0iUjDxERERER0UiSh4iIiIiIaCTJQ0RERERENJLkISIiIiIiGknyEBERERERjSR5iIiIiIiIRpI8REREREREI0keIiIiIiKikSQPERERERHRSJKHiIiIiIhoJMlDDBuSRkv6kaRzJJ0r6UpJrx7A9k/t4/gpte1rJY0bqL4jIiIiRoLlhjqAiJq1gRtsHwMgaQXgdGDvAWp/pT6Or1zb3tH2jAHqNyIiImJESPIQw9kawNOSXgEcDjwN3AccaXuepG8AohpBmwUcYnumpJNtHwQgaWfgLtu3thqVtA7wZeAJqoTik8CLgK0knQHsDxwHHFjqHwC8Glge+KbtyZK2AN4DvKDEcJ3tSxbr3YiIiIgYYkkeYrh5t6R1qR7I5wBHAV8B9rI9Q9I+wDuBq4HtgbfZvlvSNsDHSt1Vau2NBca09bEncKjt+yS9B9jO9lWSbrT9KQBJK5XXTYDVbO8laVngEkm/Km2uC+xm25IuAJI8RERExIiWNQ8x3Fxtez/bH7P9SeAZ4L7aFKLLgG3L9m227y7b1wOvaNjHl4CXSvo8sBfViEI32wBXAtieC9wAbFSOXWvbZXtOp5Ml7StpiqQpDz30UMPwIiIiIoanJA+xpFE/j9WdQjUl6pyyvdjYPst2j+2e8ePHL86uIiIiIha7JA8xrNmeDqwjqTU68EHg52X7NZI2KNtvBn5XtpeVtIwkAZt3aHYV21fYfpD5owgAKufUTQZ2KgeXBd4I3L4IlxQRERGxxMqahxhOZlMtim53LHCepKeB+4HzSvltwFGSZlMtfj64lF9KNb1pFjCNauoTwGPl9QZJFwHzgAeppjtdDNwMXCRpL2A6gO3bJG0t6Xyq9RPfKIuyZwEzazE+RkRERMQIp/lTtiOWLJLOsb3PUMfRVE9Pj6dMmTLUYURERET0SdJU2z3t5Zm2FEuyR4Y6gIiIiIilSZKHWGLZPmyoY4iIiIhYmiR5iIiIiIiIRpI8REREREREI0keIiIiIiKikSQPERERERHRSJKHiIiIiIhoJMlDREREREQ0kuQhIiIiIiIaSfIQERERERGNJHmIiIiIiIhGkjxEREREREQjSR4iIiIiIqKRJA8REREREdFIkocYNJJGS9JQxzGQJI0e6hgiIiIiBkuShxhMZwLjhjqIdpLW7+P4i3s5/CFJ/zHAIUVEREQMS0keBoCkgyWdI+k3ki4t26+TtK2kI7qcc8ogxbaOpIMGo68+4ngl8HfbT0naQtIHOtTZQNK5ZfvU8rplq66kyQMQxzqSDm4rPlzSmHJ8jKQ7JY0q+ysCn+tyHsC3gd0XNa6IiIiIJcFyQx3ASGD7JABJRwLn2P5n2V8GuLnLaSsPTnSMApavF5SpQyvYfrK9sqSVbT/eqSFJz7f9YK2NNWw/1DCOXYGvl+0xQKfpPncBnyrbK5XX0bW672jYV29GAWPbym4FNgNuKK9PA68DfgVsCdzU5TxsPyPpDknr275rAOKLiIiIGLaSPCxeawG7ACdJeiFwHGDg7lYFSasDx5bdJ4HDbM+tNyJpJeCrwCxgVeBQ2/eWb+dnAGtQTQfaz/aTkjYBDgPmAQ8A09riWra0t6ekscB3bL+rJDtnAx+UtB2wBzATmG77EOBkSfvYngX0ANsBx0v6CLA5VUJ0mu1bO9yLNW3/o7b/ZklvB+YAP7d9oW1LOg44sMv9PA44sMR5FLAOVWJ0rO0/StoFeAkwsZSfbftnXdpC0luBlwE/At5PlTy8CTi6vP4K2Bb4ZjnlVZK+RfUe/tj2t0r5DeX6kzxERETEiJZpS4tX/dvqI4BP2d4N+FutziepEob9gF8D7+nQzo7AmbY/BnwJ2KmUbwxcantf4DvA28qIwGHAnrY/RJWQLMD2HKrBg9HAVsBLJa1C9W37b0q19wG72/4oMKokOT+hShhaMV0l6QXAeNsfBz4C7N/lXsxr238x8BHbewBvlLRmKV+J7lrH3gXcbXsvYG/gC6V8DDCmlO9W/nUkaSvgvcDpwO1USQTl9ara/kTb95TtUSXm3YHta83dB7ygl7gjIiIiRoSMPAyeebZbIwDfBd5QtrcA1i4/QjQamNrh3IuAzSQdArwKuKOU/9P2H8r248C6VCMT/7Q9s9bXOzu0eUOJ4S1U37RvA2xC9eAMcCjwHkmvo/oWfnngB1SjJD8EXmj7r5LeC2wtaYNy3hqSRtt+po/7cVVthOUaqulC/9PHOS3bAP8FYPtpSf+QtGo5dm0pnyupPWFpeQ1V0vEa2/MAJD1TRnjm2J4naW5JqOrJ19RWfWB2rdx0ScQl7QvsCzBhwoSGlxcRERExPCV5GHoPlVGH1jqCTu/J54GHgEuBK4EPDUC/PwQ+CzwP+B5wDNU0oC+WxcIXUn0rfzzV1CJsT5O0gqRXAL+vtXWe7e+Va+iWOLRfV31q1pwBuJ6FsRrV6M2k8g+qtSmfZH7y9jvgE8CNDdpbE3i40wHbZwFnAfT09Lj/IUdEREQMvUxbGjzLSFqtbO9YK39M0sZlew9ghw7nbkA1f/+fwIZ99DMdWLesZWjv61m2/wW8FHjQ9tPA84F/2zbVw/Vdtq8HnmrrczJwMnBF2b+FavoPpc9v0dlTktao7b+99jcfti7tNDWZao0CksYB69mevhDn/8z2VGBMSYRabR4MXF/2rwcOqu335vUsmExFREREjEgZeRhYM1hwOstsql/ugWqB7xllKs09wGOl/IvA6ZJmAY9QTRdqdyVwiaSZwP1U04ROrbUB1WLqWWXR8QnA+aWvv1NNaerkFuZ/s/5bqm/boRrlGFV+NnVUOX8PqtGJq4EPtX5ZyPZ9km6UdDHVmoMvd+nrKqqpQicAz5Q2vybpEeA22/8u9aaX19a1zSr/6sd+ABwl6Tyq6VRHl/KZtbr1Nurq78nRVKMru1Gte7gTaE0D+wPwh9p6h9lU72/L4wCSlqOa1nVSl+uOiIiIGDFUfdEcsXiVUYbvA7vZfmKIw3mWpHFl5KW/5+9FlbR9u6+6PT09njJlSn+7ioiIiBg0kqba7mkvz8hDDIoyIrIr87/1HxYWJXEovkM1tSsiIiJixEvyEIPG9oh7yO70h/YiIiIiRqosmI6IiIiIiEaSPERERERERCNJHiIiIiIiopEkDxERERER0UiSh4iIiIiIaCTJQ0RERERENJLkISIiIiIiGknyEBERERERjSR5iIiIiIiIRpI8REREREREI0keIiIiIiKikSQPERERERHRSJKHiIiIiIhoJMlDDCuSRg91DAtD0mhJGuo4IiIiIgZDkocYNiT9J/CBoY5jIb0B+PhQBxERERExGEZk8lC+Df6RpHMknSvpckkfHAZxnbow5YNF0in9rT/AsX8YuGwA21uApMMkrdmh/AhJF5TPy3mSvtwaTWhwbyYD20hadjGEHBERETGsLDfUASwmawM32D4GoDwIXgZcPhCNS1rR9pMdylcGnrDtLqeutJDlg2XlRag/ILFL2hD4o+05A9FeF8sDozqUT7C9Ry2Ww4GNgD/Tx72xbUnXAVsDPxu4UCMiIiKGn5GaPLQbCxhA0vLAcVQPkgYOsv10+QZ9BrAGMA7Yz/aTkl4HfAIQcKPt84CvSdrT9jxJ3wU+bPsp4AzgY5KeB3wZeILq4fqTtqcDK0u6AHgGmFP6ntEKsnx7fWSJYSxwqO2HJO0HvBGYB/zU9gXtFyjpAOBVwLLAZNsXSNoFeAkwsVzv2bZ/JmkscBKwItXoU8d1BpK2AT4GzARus/0VSdsDW0k62vYXgFUlnVXuz3Tbh5RzPwJsTvXwfZrtWyXtCmwDPGD7v9u62xy4odb3a4CPAI+Ve/Fv26dIOtn2QaXOzsBdtbbfUu7RHba/XOocDLy8xDGv03VSPhs1zwemldGqrSR9xvZpbX0/uw38AvggSR4iIiJihBvJycO7Ja1L9VC7OXBoKd+H6mH2XkmbUs1XPxnYGDjE9h8kvQt4W0kMdgb2Kd8wnyJpLeA3wKaS/kj1DfXWkn4MjLI9Q9KeVA/+90l6D7AdcBXwOuAdtv8iaTuqB/PT6jED19m+qcR+GHAwsKXtD5URlJPaL7QsMn6x7b3L/reAC4AxwBjbe5XE5GyqB9xPAJfbvkHSS4D/7dDmWGBfYDfbcyUdLWkT2z+RdGNJHADGl/szXdKJZVqQgPG2Py5pOeB8qilJo6lGhL7V4f1aC7ip9C3gAGDv0vdBVAkdwCq1c8aWawTYyvaetetH0muB5W3vWZLG2zr0C/B8SWeW7RdQJUEPAJdLeovt0zr0Xd++r5z3HJL2pbqPTJgwoUv3EREREUuGkZw8XF2btrQCcCbwI+D1wMtbU9qBh0r9f9r+Q9l+HFgXWBV4M/CNUn914IXANVQPw2sAx1N9m/4U5eEX+BLwptq3798p5bfZ/kvZ/hmwa1vMWwNjJX247Le+Ef+FpPOBK6kSigXYfkbSCZL2oPqWff3a4WtLnbmSWt+8v8z2KaX8r5J+394mVVL0S9tzy/7lwPY89wH8r2VUBapRguWB11AlVBuU8jVqv6L0tw59QTUC0rreValGGlp9/x9VYtWbL5SRllcDm5ayrYHvApSk7oddzn3Q9n6tHUmHSNrW9s/76LPFdFk/ZPss4CyAnp6ebtPZIiIiIpYIIzl5eJbtpyS15tLPBT7eWpfQ4KdBb7R9QK3u7DIK8WKqKUlfBLYE/oMqQQE4BbgROAf4JVUi0uq7FZMlPbtfM8n2tLbYzqVas/G+0uYe9RMkbUw1snIa8G3gG31c02A4z/b3oLqOkuD0Vv9hYE3grrJf/2z2+jmVtDrVvT8R+D5VUrcorgZ2BJomD2tSxR8RERExoo3IX1vqojXt5U/AWwEkvZlqCk8304EXS2qd+zWqaToADwAvLN+63w9sYrv1rfoqtq+w/SDVN/gtr5a0dun7dSWWupsoP1VaFhAfU8pPt/2k7Qup1jS0eyVwhe3fUU3lWbdDnbr/J+mNpZ+XUK2VaHc7sGXtV4R2pvplIahGbHpzC/De0v5YoNM0pXa/oxqlgeq+r1emGgHsVKu3rKRlytSmVv31gZ/bvoVqLUlr5OV6qiSgtdblP7r03X49rwbu7HBsVGlrHAves9cDnUZvIiIiIkaUkTry8AzVNKK6KyQtQ7Wo+atlse0cYP9y/LFa3VnArDI6cAxwkaRngB+XhADgB1TTlaCaGlS/lzdIuohqge6DwCuAi4FbgaMl3Uc1///Itr6vAk4uU5RGU837B/h9aU/Abztc74+Br0t6X6nzlKS3UC10nlWr1+rn68BJkvYu+9e3N2h7pqSzgYsltRZM31YO/13SSbYPbrtvM6lGZu6TdKOki6nWJHy5drweT92tVFOPvlKmWB0HXFBGZx6kWswOcCnVKMwsYBrVe30bsJ+kc6ju2/2Sdrd9kaQ3l/u5MnAzMLtD3/eX+/sMVUI9g/n3fqakQ8sC7D+VBe9zmZ9cQLVY+iNdrisiIiJixFD3XxWNGFxlzYbLCEu9fCLVwu1jOp03lMro1Ra2j+2rbk9Pj6dMmTIIUUVEREQsGklTbfe0l4/UkYdYMl0IrNChfCbPHUkaLn5Fh5GbiIiIiJEoyUMMG2UR+3P++F752dQh/Svc3dh+eqhjiIiIiBgsS9OC6YiIiIiIWARJHiIiIiIiopEkDxERERER0UiSh4iIiIiIaCTJQ0RERERENJLkISIiIiIiGknyEBERERERjSR5iIiIiIiIRpI8REREREREI0keIiIiIiKikSQPERERERHRSJKHiIiIiIhoJMlDDBuSRg91DAtrSYw5IiIior+SPCwlJC0n6RVDHUc3kpYBLhjqOPrhHEljhzqIiIiIiMGQ5GHpsS4wWdKqrQJJp/WnIUmnDlBMdTsA/7cY2n2WpFM6lD1f0o8lnSPpXElXSHp1ObaLpE37aPZiYI/FEG5ERETEsJPkYenyL+DQ2v6K/WxnpQGIpd07gcsXQ7t1K3coexlwke19bO8N7A58qhwbU/715ifAlgMXYkRERMTwtdxQBxCD6gpge0lr276/VShpC2Ad21eW/ZNtHyRpeeBEYBRVwnCY7X/UzlsWOBJYAxgLHGr7IUnrAF8GnijnfdL2dEnfBuYCJ9n+fVtsy9meUWv3v0r5eGC87Q/2EudKwFeBWcCqJY57Jb0QOA4wcHcv98W17TWA6ZJWBD4CPC7pAWBH4ELb/5a0NrCL7ZNtz5M0S9Kytuf20kdERETEEi/Jw9JlHnAUcATwsVr5GKqH/5ZVyusngMts3yjpRcCnWXDk4t3AdbZvkrQucBhwMLAn1QP8fZLeA2wHXAU8D3i37We6xNbyHuA221dLGgf8tY84dwTOtP0rSZsAOwEnl+v8lO1pkvYE1u5yX/aStBXVSNx2wNttPynpQuBO23eWOEaV+qOB5WvnP0qVtDzS3rCkfYF9ASZMmNCl+4iIiIglQ6YtLWVs/xRYW9KGDapvZPvGct7fgEltx7cGdpd0JtVIwQql/EvASyV9HtiL+Q/a93VJHNq9kbL+wfbTwI191L8IsKRDgINq/c2zPa1sf7eX88+zvZ/tfYFNqZKOhWG6/Ldk+yzbPbZ7xo8fv5DNRkRERAwvGXlYOh0OHAM81ke99gfiDYC/tJVNaj2g13629BSqB/5zgF9SLdbuS/2zqLb9vj6nnwceAi4FrgQ+1KC/jmw/KqlJglO3On3fy4iIiIglXkYelkJlvcGTVN+yA8ygTAGStAHVOgOAuyRtWcrXBj7b1tRNwAfK8Q2pEhKAVWxfYftBYKOGYS0nqTUtaDLw/tLueGCbPuLcADjb9j+B+ojKMpJWK9s79tK3nt2o1luM7XDs2b6BzWv1BazccEQlIiIiYomWkYelxzPA07X9LwB/KNtTgX0lnUf1Df69pfx04BRJe1NNSWpNW2p9y34VcLKk86nWARxQym+QdBHVOoYHgVdQ/aRpb9/O/4zqAf9y4Grg2NLuisAtfcR5JXCJpJnA/cDW5edkjwLOkDQPuKdL/7cDR0jamipRWJlq8TXAlHJ9nwYuKffiKarF1617uQXwp16uKyIiImLEkO2+a8WIJGlj238e6jgAJI2hShre4bYPpaRzbO8zNJH1TtKVwL62H+2rbk9Pj6dMmTIIUUVEREQsGklTbfe0l2fkYSk2XBIHANuzJO3UnjgUz/kVo2FkD9tPDnUQEREREYMhax5i2Oj2EG77sMGOpakkDhEREbE0SfIQERERERGNJHmIiIiIiIhGkjxEREREREQjSR4iIiIiIqKRJA8REREREdFIkoeIiIiIiGgkyUNERERERDSS5CEi+mXipGuGOoSIiIgYZEkeIiIiIiKikSQPERERERHRSJKHiIiIiIhoJMlDREREREQ0kuQhIiIiIiIaWW6oA4gYSpLWAL4ErAA8BcwEPg+8CPgy8E9gZeARYJLtxySNBv4H+AcgYBXgaNu/G/wriIiIiBg8SR5iaXc8cKztvwFI2gQ4BvhtKb+hlL8WOBnYB1gbuMH2MeXYCsDpwN6DHn1ERETEIMq0pVhqSXop8LdW4gBg+zbgltZurfw3wEOSXtShqTWApxdjqBERERHDQkYeYmm2MfA7AEmjgNOAZYGVgB93qH8L8DLgT8C7Ja1LNW1pDnDUIMQbERERMaSSPEQAtmcDnwSQ9IMu1VTbvro1bak3kvYF9gWYMGHCooYZERERMaQybSmWZrcDr6oXSFqWanShk82oRh0as32W7R7bPePHj+9flBERERHDRJKHWGrZvgNYX9ILa8V7M3+E4dmRBkkvA1a3fc/gRRgRERExvGTaUiztJgHHS1q+7P8G+F55PVHSP6j+O3kKOKjUmU0WSEdERMRSKMlDLNVsP0T3n1h9W5dz7gNOWWxBRURERAxTmbYUERERERGNJHmIiIiIiIhGkjxEREREREQjSR4iIiIiIqKRJA8REREREdFIkoeI6Jd7jt9hqEOIiIiIQZbkISIiIiIiGknyEBERERERjSR5iIiIiIiIRpI8REREREREI8sNdQARMfxMnHRNo3pZNB0REbF0ychDREREREQ0kuQhIiIiIiIaSfIQERERERGNJHmIiIiIiIhGkjzEoJE0eqhjGGgj8ZoiIiIiuknysJSStH4fx188wP2NA745kG0OlN7uhaRRktbr5fRTJK25GMKKiIiIGHaSPCy9Dpc0BkDSGEl3ShpV9lcEPidpA0nnLkyjkk7pcmhv4MJS5zBJL+hw7p6S9ijbp5bXSZJe0J9YusS3i6TN2oqPqh3fQtL3ase2Bbbrch7AGcABixpXRERExJIgycPS61ag9TC8GfA08LqyvyVwE3AX8KmFbHflLuWbAdeX7eXp/DdGLga+XbZXKq9jS93+xNLJGKB9qtGcViIFbA88v5VIAdsAk7uch+3bgfUkaQBii4iIiBjWkjwsvSZTfasO8Cbg6PJKKZ9s28BxUI0oSDpI0tmSLpO0Til/oaRvS7pY0hc7dVQexJ8u7bV8trR1qaTXlrIe4L2d2miLZVVJ50g6t7yu2luM3Ug6XNIbgF8Dry/FGwGXAq8p+y+yfU/Z3lnS+ZIul7RJral7gbV76ysiIiJiJEjysPS6HXhZ2X4ZcFVtf2Ltgbk1AvA84A+2P0r1EL9zKT8C+JTt3YC/delrdeChtrInS1t7AZ8rZR2/3a9pxXI4cILtvYGTyn5vMT6HpM8A/7Z9E1Ui9eaS5Mwu+1uX6VtP1k670/aeVFOw9q2V3wc8ZxpW6WdfSVMkTXnoofZbEBEREbFkSfKwlCrf5D8jaSVgju15wFxJq7DgA3PLHNv/V7Yfp5p6BDDP9rSy/d0u3S0DuK3sihLHDOD+EkdTq9n+azn/dmC1PmJstxfwTtvnlP3bgY2ppm1NBf4fVSK1FXBj7bwppc8nWTDJMV3+W7J9lu0e2z3jx49vfoURERERw1CSh6XbzcAnqR6YAX4HfIIFH5gHwqNA+5Pz3Nr2nAHury/3A1dK+k94NpGaBbwduL4kUvOA7Zi/TqM3awIPL6ZYIyIiIoaNJA9Lt8nAwcx/QL4eOIhmD8wty0hqffO/Y6cKtmcyf3Sg5e0AkpYFVrf9xEL0OU3SS8r5GwHT+qjf7jrgbGAvSa3RiZuBXYA/lv3fA9vUpm/1ZiOqdQ8RERERI1qnX7yJpcftwJ3AH8r+H6jWDNxTqzO9vD5WK5sNzCjbRwFnSJoH3NNWr+4OSa+3/ety7kRJJ1Ctczit1JkFzGzrb0bprx7LscDJ5QeOTJUA9RZj3Sxglu05kk4D9gdOAH4KbFVGHQB+QpUUtMws57Y8DtWCceCJ2nkRERERI5YW/AGciMVD0hrAN2y/f6hjqZM0zvbTi3D+WcCXbd/ZV92enh5PmTKlv10NqomTrmlU757jd1jMkURERMRQkDTVdk97eUYeYlDYfljSnkMdR7tFSRyKz5YF1BEREREjXtY8xKAZiQ/ZI/GaIiIiIrpJ8hAREREREY0keYiIiIiIiEay5iEiniMLoSMiIqKTjDxEREREREQjSR4iIiIiIqKRJA8REREREdFIkoeIiIiIiGgkC6YjRpCmfxl6oGRhdURExNIlIw8REREREdFIkoeIiIiIiGgkyUNERERERDSS5CEiIiIiIhpJ8hCDRtJykkbUZ07SaEka6jgiIiIiBsOIepCLYe9YYMJQB9FO0vp9HH9xL4ffAHx8YCOKiIiIGJ6SPCylVPmCpPMlnSPpa5JG9XHOqYvQ3xrAqrbvkbSOpIM71Bkn6dqyPUnSC+p1JV0raVx/Y6j1c0pb0UclrVs7/ltJa5VtAceU7U7XPxnYRtKyixpXRERExHCX5GHp9TJAtve0vQ/wC2CXPs5ZaRH6ex9wcdkeBYxtr2D7aWDHsjuW6u+Q1OvuWOosqpXb9q8HtgWQtB6wLLB1OfYS4C9l+znXb9vAdbX6ERERESNWkoel11PA8rX97wO/AZC0rqSLJZ0r6SuSxtRPLGsXvibpm5Iuk/TaUv4VSSdL2rlDf68Ffl3bf6WkS8qox2G18uN6ifnZY5IOkHSepEslbVPKtpB0gqQLJV0kadfeboCkTSQdB9wEvLEUvwn4EtV0JKiSisllez1JF5T7ckitqV8AW/TWV0RERMRIkORhKWX7HuD/STpL0n7Aarb/WA4fBRxge2/gf4D92k5/A3CD7Y+VY3uW8pWB021f1qHLZW0/U9t/DbB3GfVYUdImpby30Y2VoHroL/HuBewGfFzSWGAMsC6wh+3dgbd2a0jShsAhwBdtPw6sUg5tBfywFsfmwK/K9mrAx8p9eUWtufuAF3TpZ19JUyRNeeihh3q5tIiIiIjhL8nDUsz2t4CPAbcCX5T01vmH/EjZ/inwyrZTfwH8UdL+VOsBWiMYc23f27D7/7E9o2x/l/nf/DexDXBlCXQucAOwUTl2bZlKBDCny/kTgB8AR9ueWcrukfQiYGXbjwEPSxoPjKnV+b3tWWV7dq090+W/Jdtn2e6x3TN+/PiFuMSIiIiI4SfJw1JK0g6SXuLKVKpfDPpgw9N3B94F/C/w6eZdLrCoeG5tu9tD/uKyDlX89alHk4GdgQfK/i+AfYA7GrS3JvDwAMYXERERMSwleVh63Qd8oLa/DtBajCxJq5ft7YA/tJ27GfAV23cDGzbs7y/Aq2v7b6klE2+lGj1oajKwUwl0WapRi9sX4vybbd9BNW3rbaXsJuAAqqSBEs+BzF/v0JvXA79fiP4jIiIilkjLDXUAMTRs3yZpa0kXUk3BGQW0fj71COArkmYBTwKHlvLHyusFwHmSngIeBTYoP3XaOt7JVcBngU+U/u4Cvinpn8A027eVetPL64xSz2X72WO12M+n+iWmb9ieWeJtTTGqx9uuVf5V4DvAj2w/Lul3lCTG9jRJt7HgIu96e4/Xtj8IfKSXa4+IiIgYETR/enjE4iXpHOBLtu8a6lhaJI1blJ9/lfRmYAvbx/ZVt6enx1OmTOlvV41MnHTNYm2/3T3H7zCo/UVERMTgkDTVdk97eUYeYjB9igXXOgy5Afi7Eb+i+jsRERERESNekocYNLVfLRoxBuiP1kVEREQsEbJgOiIiIiIiGknyEBERERERjWTaUsQIkgXMERERsThl5CEiIiIiIhpJ8hAREREREY0keYiIiIiIiEaSPERERERERCNJHiIiIiIiopEkDxERERER0UiSh4iIiIiIaCTJQ0RERERENJLkISIiIiIiGknyEBERERERjSR5iIiIiIiIRpI8REREREREI0keIiIiIiKikSQPERERERHRSJKHiIiIiIhoJMlDREREREQ0kuQhIiIiIiIaSfIQERERERGNJHmIiIiIiIhGZHuoY4hYKkh6CLh3qOMYYGsADw91ECNc7vHilfu7+OUeL365x4vf0niPX2h7fHthkoeI6DdJU2z3DHUcI1nu8eKV+7v45R4vfrnHi1/u8XyZthQREREREY0keYiIiIiIiEaSPETEojhrqANYCuQeL165v4tf7vHil3u8+OUeF1nzEBERERERjWTkISIiIiIiGlluqAOIiCWTpP8Adqf6EuIQ2yPtZ2iHhKStgHVtX1b2JwEbA7OBT9h+ZijjW9JJOpTqfo4Fzrb9s9zjgSXpSOCFVPf4O7a/J2kv4M2AgE/ZnjaEIY4Ykj4H3GX7O/kcDyxJ3wEeL7u/s/3V3ONKRh4iYqFJWgbYGdgF+BhwyNBGNDJI2h44mvLFjqQNgdG2PwJcDHxkCMNb4kl6MbCa7T2BDwEfzT0eWJJeBswp93hXYGdJqwA9tncDjgAOHMoYRwpJGwHbA6PzOV4sHrG9T/n31dzj+ZI8RER/9AC/dGUaMLYkFLEIbP8EOKpW9G7gO2X7emDzQQ9qZFke+DGA7XnATHKPB9rfgK+W7THAPOBtwA8AbN8JrDM0oY0c5X9vDwVOKkX5HA8gSSsAG0o6R9JZktYm9/hZ+T/7iOiPFwJ31/YfAp43RLGMZC+kehjD1a9bzBvacJZstv9k+2cAkl5H9ddic48HkO0Zth+TtCswhSpZa//fi9zjRfdR4BJgRtnP53hgrQxcS3WfjwBOJPf4WUkeIqI/8jNtgyP3eTGQtAfVt+GfI/d4sbB9CfBa4C1UIxAxQMq34C8vI5Ut+RwPINv/sn1iGV3/FzCNauQySPIQEf1zL/Di2v544NEhimUkuxd4EYAkUS02jUVQFjw+aPs423PIPR5QknaStDlAWUx6I9Xi0vr/XuTZY9FsA6wu6Uzgs8BeVKO/+RwvPrPJ/1Y8K/8BR0R/TAW2UGU1YEaZQx4D62rgA2V7a+DmIYxliSdpA2C27R/WinOPB9YdwDvg2QesTYDLgHeWsvWBfwxVcCOB7Utsf8j2fsApwHnApeRzPGAkfaD8omBr/cOLyT1+Vn6qNSIWmu15ki6j+h/TZcivLQ2kmZR5zLb/ImmWpAuBZ4BPDmlkS743Am+WtHHZnwscAOQeDxDbf5D0FkkXAKOA79m+V9IUSRdTfVubezxwZgEz878VA+4HwGmSdgJWAo7KPZ4vf2E6IiIiIiIaybSliIiIiIhoJMlDREREREQ0kuQhIiIiIiIaSfIQERERERGNJHmIiIiIiIhGkjxEREREREQjSR4iIiIiIqKRJA8REREREdHI/wfvRbF9K0GgSgAAAABJRU5ErkJggg==",
>>>>>>> 09331ef8b049ae3a6c46de82d5cce68627f8e1a4
      "text/plain": [
       "<Figure size 720x576 with 1 Axes>"
      ]
     },
     "metadata": {
      "needs_background": "light"
     },
     "output_type": "display_data"
    }
   ],
   "source": [
    "# Feature coefficients, feature 선언\n",
    "coefficients = model.coef_\n",
    "features = X.columns\n",
    "\n",
    "# coefficients 순으로 정렬\n",
    "indices = np.argsort(coefficients)\n",
    "sorted_features = [features[i] for i in indices]\n",
    "\n",
    "# 그래프 크기 지정\n",
    "plt.figure(figsize=(10, 8))\n",
    "\n",
    "# 막대그래프 show\n",
    "plt.barh(sorted_features, coefficients[indices])\n",
    "plt.show()"
   ]
  },
  {
   "cell_type": "code",
<<<<<<< HEAD
   "execution_count": 421,
=======
   "execution_count": 512,
>>>>>>> 09331ef8b049ae3a6c46de82d5cce68627f8e1a4
   "metadata": {},
   "outputs": [
    {
     "name": "stdout",
     "output_type": "stream",
     "text": [
<<<<<<< HEAD
      "Train MAE: 1267.11\n",
      "Train RMSE: 3207.80\n",
      "Test MAE: 3234.42\n",
      "Test RMSE: 14260.40\n"
=======
      "Train MAE: 12.81\n",
      "Train RMSE: 32.45\n",
      "Test MAE: 32.57\n",
      "Test RMSE: 144.26\n"
>>>>>>> 09331ef8b049ae3a6c46de82d5cce68627f8e1a4
     ]
    }
   ],
   "source": [
    "# 훈련 데이터에 대한 성능 확인\n",
    "train_pred = model.predict(X_train)\n",
    "train_mae = mean_absolute_error(y_train, train_pred)\n",
    "train_rmse = np.sqrt(mean_squared_error(y_train, train_pred))\n",
    "\n",
    "print(\"Train MAE: {:.2f}\".format(train_mae))\n",
    "print(\"Train RMSE: {:.2f}\".format(train_rmse))\n",
    "\n",
    "# 테스트 데이터에 대한 성능 확인\n",
    "test_mae = mean_absolute_error(y_test, pred)\n",
    "test_rmse = np.sqrt(mean_squared_error(y_test, pred))\n",
    "\n",
    "print(\"Test MAE: {:.2f}\".format(mae))\n",
    "print(\"Test RMSE: {:.2f}\".format(rmse))\n"
   ]
  },
  {
   "cell_type": "markdown",
   "metadata": {},
   "source": [
    "### 1. (비선형) 결정 트리 회귀 모델 학습"
   ]
  },
  {
   "cell_type": "code",
<<<<<<< HEAD
   "execution_count": 422,
=======
   "execution_count": 513,
>>>>>>> 09331ef8b049ae3a6c46de82d5cce68627f8e1a4
   "metadata": {},
   "outputs": [
    {
     "data": {
      "text/plain": [
       "DecisionTreeRegressor(random_state=3)"
      ]
     },
<<<<<<< HEAD
     "execution_count": 422,
=======
     "execution_count": 513,
>>>>>>> 09331ef8b049ae3a6c46de82d5cce68627f8e1a4
     "metadata": {},
     "output_type": "execute_result"
    }
   ],
   "source": [
    "model = DecisionTreeRegressor(random_state=3) \n",
    "model.fit(X_train, y_train) # 모델 학습"
   ]
  },
  {
   "cell_type": "markdown",
   "metadata": {},
   "source": [
    "### 1. (비선형) 결정 트리 회귀 모델 검증"
   ]
  },
  {
   "cell_type": "code",
<<<<<<< HEAD
   "execution_count": 423,
=======
   "execution_count": 514,
>>>>>>> 09331ef8b049ae3a6c46de82d5cce68627f8e1a4
   "metadata": {},
   "outputs": [
    {
     "name": "stdout",
     "output_type": "stream",
     "text": [
<<<<<<< HEAD
      "MAE: 51.32%\n",
      "RMSE: 378.26%\n"
=======
      "MAE: 47.24%\n",
      "RMSE: 363.02%\n"
>>>>>>> 09331ef8b049ae3a6c46de82d5cce68627f8e1a4
     ]
    },
    {
     "data": {
      "text/plain": [
<<<<<<< HEAD
       "0.6143423383392367"
      ]
     },
     "execution_count": 423,
=======
       "0.6447952262571646"
      ]
     },
     "execution_count": 514,
>>>>>>> 09331ef8b049ae3a6c46de82d5cce68627f8e1a4
     "metadata": {},
     "output_type": "execute_result"
    }
   ],
   "source": [
    "# Predict를 수행하고 mean_absolute_error, rmse 결과 출력하기\n",
    "pred = model.predict(X_test)    # X_test를 이용한 예측값 pred \n",
    "mean_absolute_error(y_test, pred)\n",
    "np.sqrt(mean_squared_error(y_test, pred))\n",
    "\n",
    "mae = mean_absolute_error(y_test, pred)\n",
    "rmse = np.sqrt(mean_squared_error(y_test, pred))\n",
    "\n",
    "# MAE 및 RMSE를 백분율로 표시\n",
    "mae_percentage = (mae / np.mean(y_test)) * 100\n",
    "rmse_percentage = (rmse / np.mean(y_test)) * 100\n",
    "\n",
    "print(\"MAE: {:.2f}%\".format(mae_percentage))\n",
    "print(\"RMSE: {:.2f}%\".format(rmse_percentage))\n",
    "\n",
    "r2_score(y_test, pred)"
   ]
  },
  {
   "cell_type": "markdown",
   "metadata": {},
   "source": [
    "### 1. (비선형) 결정 트리 회귀 중요변수 확인"
   ]
  },
  {
   "cell_type": "code",
<<<<<<< HEAD
   "execution_count": 424,
=======
   "execution_count": 515,
>>>>>>> 09331ef8b049ae3a6c46de82d5cce68627f8e1a4
   "metadata": {},
   "outputs": [
    {
     "data": {
<<<<<<< HEAD
      "image/png": "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",
=======
      "image/png": "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",
>>>>>>> 09331ef8b049ae3a6c46de82d5cce68627f8e1a4
      "text/plain": [
       "<Figure size 720x576 with 1 Axes>"
      ]
     },
     "metadata": {
      "needs_background": "light"
     },
     "output_type": "display_data"
    }
   ],
   "source": [
    "# Feature coefficients, feature 선언\n",
    "coefficients = model.feature_importances_\n",
    "features = X.columns\n",
    "\n",
    "# coefficients 순으로 정렬\n",
    "indices = np.argsort(coefficients)\n",
    "sorted_features = [features[i] for i in indices]\n",
    "\n",
    "# 그래프 크기 지정\n",
    "plt.figure(figsize=(10, 8))\n",
    "\n",
    "# 막대그래프 show\n",
    "plt.barh(sorted_features, coefficients[indices])\n",
    "plt.show()"
   ]
  },
  {
   "cell_type": "markdown",
   "metadata": {},
   "source": [
    "### 2. (비선형) 랜덤포레스트 회귀 모델 학습"
   ]
  },
  {
   "cell_type": "code",
<<<<<<< HEAD
   "execution_count": 425,
=======
   "execution_count": 516,
>>>>>>> 09331ef8b049ae3a6c46de82d5cce68627f8e1a4
   "metadata": {},
   "outputs": [
    {
     "data": {
      "text/plain": [
       "RandomForestRegressor(random_state=4)"
      ]
     },
<<<<<<< HEAD
     "execution_count": 425,
=======
     "execution_count": 516,
>>>>>>> 09331ef8b049ae3a6c46de82d5cce68627f8e1a4
     "metadata": {},
     "output_type": "execute_result"
    }
   ],
   "source": [
    "model = RandomForestRegressor(n_estimators=100, random_state=4) \n",
    "model.fit(X_train, y_train) # 모델 학습"
   ]
  },
  {
   "cell_type": "markdown",
   "metadata": {},
   "source": [
    "### 2. (비선형) 랜덤포레스트 회귀 모델 검증"
   ]
  },
  {
   "cell_type": "code",
<<<<<<< HEAD
   "execution_count": 426,
=======
   "execution_count": 517,
>>>>>>> 09331ef8b049ae3a6c46de82d5cce68627f8e1a4
   "metadata": {},
   "outputs": [
    {
     "name": "stdout",
     "output_type": "stream",
     "text": [
<<<<<<< HEAD
      "MAE: 49.16%\n",
      "RMSE: 373.43%\n"
=======
      "MAE: 46.98%\n",
      "RMSE: 373.52%\n"
>>>>>>> 09331ef8b049ae3a6c46de82d5cce68627f8e1a4
     ]
    },
    {
     "data": {
      "text/plain": [
<<<<<<< HEAD
       "0.6241280876577175"
      ]
     },
     "execution_count": 426,
=======
       "0.6239354021886145"
      ]
     },
     "execution_count": 517,
>>>>>>> 09331ef8b049ae3a6c46de82d5cce68627f8e1a4
     "metadata": {},
     "output_type": "execute_result"
    }
   ],
   "source": [
    "# Predict를 수행하고 mean_absolute_error, rmse 결과 출력하기\n",
    "pred = model.predict(X_test)    # X_test를 이용한 예측값 pred \n",
    "mean_absolute_error(y_test, pred)\n",
    "np.sqrt(mean_squared_error(y_test, pred))\n",
    "\n",
    "mae = mean_absolute_error(y_test, pred)\n",
    "rmse = np.sqrt(mean_squared_error(y_test, pred))\n",
    "\n",
    "# MAE 및 RMSE를 백분율로 표시\n",
    "mae_percentage = (mae / np.mean(y_test)) * 100\n",
    "rmse_percentage = (rmse / np.mean(y_test)) * 100\n",
    "\n",
    "print(\"MAE: {:.2f}%\".format(mae_percentage))\n",
    "print(\"RMSE: {:.2f}%\".format(rmse_percentage))\n",
    "\n",
    "r2_score(y_test, pred)"
   ]
  },
  {
   "cell_type": "markdown",
   "metadata": {},
   "source": [
    "### 2. (비선형) 랜덤포레스트 회귀 중요변수 확인"
   ]
  },
  {
   "cell_type": "code",
<<<<<<< HEAD
   "execution_count": 427,
=======
   "execution_count": 518,
>>>>>>> 09331ef8b049ae3a6c46de82d5cce68627f8e1a4
   "metadata": {},
   "outputs": [
    {
     "data": {
<<<<<<< HEAD
      "image/png": "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",
=======
      "image/png": "iVBORw0KGgoAAAANSUhEUgAAAw8AAAHSCAYAAACq4/cOAAAAOXRFWHRTb2Z0d2FyZQBNYXRwbG90bGliIHZlcnNpb24zLjUuMSwgaHR0cHM6Ly9tYXRwbG90bGliLm9yZy/YYfK9AAAACXBIWXMAAAsTAAALEwEAmpwYAABe7ElEQVR4nO3deZwdVZ3+8c9DyEKABISIIaAoIOCIogYERAFxHWZcEBUQ2UXcQAUhio4giyCyyKAoO4gsAirOIDhuQUAUg6LoT1DBoASRNWHJQkie3x91Lqlc7u2uJJ3uTvfzfr36datOnTr1raoO1Peec6plm4iIiIiIiN6sNNABRERERETEiiHJQ0RERERENJLkISIiIiIiGknyEBERERERjSR5iIiIiIiIRpI8REREREREIysPdAARw8Xaa6/tDTbYYKDDiIiIiOjVrbfe+pDtCe3lSR4i+skGG2zAtGnTBjqMiIiIiF5JuqdTeYYtRUREREREI0keIiIiIiKikSQPERERERHRSJKHiIiIiIhoJMlDREREREQ0kuQhIiIiIiIaSfIQERERERGNJHmIiIiIiIhGkjxEREREREQjSR4iIiIiIqKRJA8REREREdFIkoeIiIiIiGgkyUNERERERDSS5CEiIiIiIhpJ8hAREREREY0keYiIiIiIiEaSPERERERERCNJHiIiIiIiopGVBzqAiOHi9hmz2GDKNQMdRkRERKygpp+w80CHkJ6HiIiIiIhoJslDREREREQ0kuQhIiIiIiIaSfIQERERERGNJHmIQUXSqIGOYUmoskLFHBEREbG0kjzEoCFpInDiQMexhFYDvj7QQURERET0hyQP0YikCZLOk3SxpG9KOmQp25kk6bAumz8BnLH0UfZ67G0lvbtD+VslfVfSOZLOLec4vmw7pac2bT8O/FPSZssp7IiIiIhBI8lDNPVF4Gjbe9p+P7CqpDcsRTsjgTHthZIETLR91zLG2ZNRwOgO5a8GDrZ9gO39gTOBPcq2cQ3aPRfYvW9CjIiIiBi8kjxEryS9GJhu+55a8deAF5TtL5V0afnW/guSVirlO5VeirMlndTLYZ4PPJM4SFpL0qmSPi/pS5JOL+WHS1qnLK8r6dCy/DJJ35L0jXK8kaX8DZIukXQ58J4eju/a8rrAA5JeAWwn6QxJK0k6uRbfbpK2BLB9N7BeL+cXERERscLLX5iOJjYDbqsX2J5J9Y07wJHAfrbnSDoA+E/gauBdwF62Lek0SWv1cIyJwL219SnAibbvl/QqFs2FGEvVewFVT8IqZXlfYH/bcyV9HHiZpD+W8j2pkoMLejj+CZKeoOoV2QLY0vZ8STfa/ihAayhTMYbFezEWdmpU0oHAgQAjxk3o4fARERERg1+Sh1gmktYAZtieU4ouA46lSh4OB95RHv5fx6IH/U5WYvFv/8fZvh/A9q2SHu4llCnATqU3YEdgGlXS8wvbC0us3wFW77a/7XtLvVcDnwGO7uWYvbJ9FnAWwOiJG7uX6hERERGDWoYtRRN3AC+rF0haR9JRHeqqbB8JXAg8ApwAfL+XYzwErFNbfyaxLfMhekt0z6ZKPk6n5x6GXtn+FWVI1hJIIh4RERFDXpKH6JXtO4ENJa1fK/4Y8KMyfGmSpFavwnuBnwFrAnfZvh54Etikl8PcDby0tj6zzLUAeAPQGjI0p7a8da3+QtvX2n4U2LSU/QnYtjUHA9ilh+PrmQVpEjBz0apa20aUuQ+qH7vMwXisl/OLiIiIWOHl29Jo6jPAiZJWBhYA19u+qWw7DjhP0mzgPuA8ql6AkZLOpZqj8BiwD3A+VQKwGNtPS5ojaX3b/6Aa+nRqefB/AphRql4CnCLpSaqEY3Ypv1PS+VQJ8UyquRY3lrKLJY0obczrcG6/Br4m6V9UScRY4NCy7WbgIkn7AZdSDcuaBzwKPFXq7A9c2eAaRkRERKzQZGcYdgwOkjYBPmH7oA7bzrF9wACE1aMy5+NcYFf38o9p9MSNPXHv0/ojrIiIiBiCpp+wc78dS9Kttie3l2fYUgwaZXhUtz8g19uE6YHyGOWNUgMdSERERMTylmFLMajYfqJL+RH9HUsT5U1OTw50HBERERH9IT0PERERERHRSJKHiIiIiIhoJMOWIvrJ5pPGM60fJzpFRERE9LX0PERERERERCNJHiIiIiIiopEkDxERERER0UiSh4iIiIiIaCQTpiP6ye0zZrHBlGsGOoyIYa0//zprRMRQlJ6HiIiIiIhoJMlDREREREQ0kuQhIiIiIiIaSfIQ/UbSypKG1O+cpFGSNNBxRERERPSHIfUgF4PeccDzBzqIdpI27GX7i3rY/BrgQ30bUURERMTglORhECjfXl8n6Zzaz5v6oN2xkq4ty1MkPa9DnfUk/UTSFkvR/qlLUHdtYA3b0yVNknRYk3jrdSVdK2nsksbZ4TintBV9QNJ6te2/lTSxLAs4tix3Ot+pwA6SRixrXBERERGDXZKHwWFd4CbbB9R+/m9ZG7U9G9ilrI6h86t5NwLOt33bUhxi9SWo+y7g4rI8ssSzmC7x1uvuUuosq3Ft69cDOwJIWh8YAWxftm0M/LksP+t8bRu4rlY/IiIiYshK8jB4uFOhpEMknSfpUkk7lLKNJX1H0lll20hJa0v6tqSzS901ShPHdztgmX/wEWA/SS+XtI2kXWvbTy6fq0g6VdLXJZ3Z/u2/pG0lXVV6TE7uMgfglcCvauubS7qk7HNErbxrvPVtXa7LNpJOlHShpIsk7dFDW0jaQtLxwE3Aa0vx64AvUg1HgiqpmFqW15d0gaRzJX2q1tTPgW16OlZERETEUJA/Ejd4vL02dGYhMAV4EbCm7f3KsJhLJP0SeDtwlO3fS9oX2BTYBLjY9vclvQHYFvgBPfQO2F4o6avAerZ/Vx7C6z0C48vnAcBptu+RtCXVGP+Ta/X2APa1/ZikzwJrAo+0HW6E7adq668AXm57jqRjJG1Rej966s1YHaqH/i7XZTSwHrCnbUu6ALikU0OSNgE+Bexve66k1rluR3Xt31zWtwYuLMtrAm+zPU/ShbXmZgDPGhIWERERMdQkeRg8rrZ9bL2gPMxfCWB7gaQbqBKF7wInSfopcLntByXNAL4haTPgEtv/6MPYXg38W+lQEPBg2/aLgPMl/S9wuu3HGrT5P7bnlOXvUH3zf1vDeHag83UBuLYMJQJ4usv+zwe+D7zd9txSNl3SC4FxtmdJekjSBGB0rc7vbc8ry/Nr7ZkuvXiSDgQOBBgxbkLD04uIiIgYnDJsacV0N9UcglupEoYNgUeB9wDXAsdJek0P+y+pBcCHbB9k+4PAF9q2/xp4L3Av8K3akKk6tU0qXlBb7vaQv7xMAt5G1fPQMhXYDbi/rP+cqsflzgbtrQM81GmD7bNsT7Y9ecTY8Z2qRERERKwwkjwMblOBXQHKg/drgTuAzwITbN9MNaTmFcDewCtt/55qSNHSjMGfQxmqJGkjoPVV+R+BN5Xy1wMfbtvvZEC2fwT8mGoSdrs/Ay+vrb+xlky8CbhhCeKcSufr0tTNtu8E/p+k1vCkm4BDqJIGSjyfYNF8h568Gvj9Ehw/IiIiYoWUYUuDw3yqB/fF2L5N0vaSzqeai3BmGZ9/GfDfkh4HxgIHAaOA0yXNpnqb0CdLMzPL5xwWH2rTMg9oDcu5FThQ0nlUQ5PuKeVnlOPtRtVLcHApn1U+rwAulvQE1XyNr3Y4zlUlpg+XOO6i6jW5F3i09ran9nhduzYze7ku9XOpx9euVf7fwLeBH5b5Gr+jJDG2H5V0G4tP8q63Vx+a9V6q5C0iIiJiSNOi4eERy5ekc4Av2r5roGNpkTR2WV7/WnpitrF9XG91R0/c2BP3Pm1pDxURfWD6CTsPdAgRESsESbfantxenp6H6E8fZfG5DgOuD/5uxC+p/k5ERERExJCX5CH6Te2tRUNGH/3RuoiIiIgVQiZMR0REREREI0keIiIiIiKikSQPERERERHRSOY8RPSTzSeNZ1re9BIRERErsPQ8REREREREI0keIiIiIiKikSQPERERERHRSJKHiIiIiIhoJBOmI/rJ7TNmscGUawY6jBimpmeyfkRE9IH0PERERERERCNJHiIiIiIiopEkDxERERER0UiSh4iIiIiIaCTJQwwqkkYNdAxLQpUVKuaIiIiIpZXkIQYNSROBEwc6jiW0GvD1gQ4iIiIioj8MSPIgaZSkH0o6R9K5kq6U9PJe9jllCY9x6rJFufxJ2l3SlktTX9IUSev0QQzbSnpPWZ66lG0cJWnHLm2/ewma+gRwxtLE0ES3eCS9VdJ3a7+PF0saX7b1+Htn+3Hgn5I2W05hR0RERAwaA/V3HtYFbrB9LICkVYHTgf172GfcEh5j9aWMrT+NLj9LU38MMLIPYhhVfgDeupRtnAA81aXtRucnScBE23ctZQxNdIvn1cDBtv9RYnkNsAdwJs1+784F9gH+q2/CjIiIiBicBssfiVsbmA0g6VXAhwEBN9o+T9J7ge0kfdz2aZJ+AMwEDiv7fbnUN3CY7Zn1xiUdCmxI9SB4lO2/SjocuND2vyStC+xu+2RJZwBPl7p3ABOoEpF5wMdtu63tlwFHAE9Q9eR82PZ8SReUdhYCj9ieUuq/H3gjsCrwGPDX9oshaY32cypt7Q08Jun+UvVjktamGjpzmO1/SHohcGQ57t9sf7G0+cw1s31fl/twPPAJSSOAz5ayCcAE2++VtA0wyfaVpc2TbR8KvBO4C7hF0huA/YARwMPAL0picHqJc1XgRNu3th37+aWN1jVYq8Qws+wzxvbBPdy3bvfhWfF0Off6fV0XeEDSK6h+784ADgZOKueLpN2Au2z/2vbdktbr0m5ERETEkDGQycPbywOXqB6Mjy4PmbsBB9i2pFMkTbR9uaQ32j6t7DsKeF+pcxLVw+hfJG1K9eD8qdZBJL0S+Gd5wFwdOAX4ADCWRd/cjwJWKcvrAvvbflTSpcDRtu+QdDKwPvD3tvPYt9SfK+njwMuAW4Gtga1sP1bOY61ynG1s71Ue0H/c5doc2X5Otj8l6ULgryX5AbjZ9vck/RvVN+UnAgcCHyoPzodJelV5UH/mmvVwT1q9Ne8AbrN9taSxwF9K+WiqHo+W8bXyUZLGlOuxJ9XD+AVl+1rAfNv7lsTo4HKN6iYC99bWp5RrcH9JKFtzIbrdt2fdB0l/7BJPJydIeqKc3xbAluUa3mj7owCtoUzFGBbvxVjYqVFJB1LdE0aMm9DD4SMiIiIGv4FMHq5uDVtqkbQm8HrgzPJwvBbwAuCfbftOrz0Er2n7LwDlIX/NtrrbA1tKel1ZH0/PHrH9aFl+0vYdZflRFg3vqZsC7FTmIuwITCvlN9p+rCw/RvWQuyVwTYl1gaTvdYmht3NqaR1rFoseoncC1izXbzXgbqoH9em9JA51rwU+XY4/W9KNDffbDPiF7YUAkr5DlZA8DKws6cvApba/0GHflVj82/9xtu8vMdwq6eFejt3pPnSLp+P+tu8t9V4NfAY4urcT7o3ts4CzAEZP3Ljp9Y+IiIgYlAbLsKW6G20fAs+8tnN+H7R5ku3f1trsS2cDl1INy7mnj9teGnfYPgig9G4sDbH478Yy/Z6UHqJDqHp1DpD0OtvtE9ofAuoTwJ85ZumR6i2GPrsPtn8l6YNLuNtg/LcUERER0acG26taZwIvKkNlAL5KNeYeqgfaTh6VtDFAGeLzaNv2m4DW24TWppoECzCHRb0QWy9DzAttX1t6Kzbtpe4vgZ1LLCOohgd10tM5dbsOLSMlPbcs/xeweS/1O5kKvLscfwKwQyl/5ppJ2ohF96blT8C2klq/V7uUui8EPml7BnAc0OnNWncDL62tz5T04rL8Bhbdq273rdN96BhPF89cV0mTqH4Xy6pa20ZIWqmsb12rvw5V71JERETEkDZQ35bOp0yQrivfUB8LXCTpKeBHth8om+dKOtz2l6iG6bQcB5xcnu9ak4tp1bF9i6Q3l/kCq1CG4wCXAKdIepLqwXV2fb+i/kA4h85vFLpT0vlUidhMYC/gxrZ25lCN+f+XpJslXUQ1dv9PXdrsdk7TSvnHWm2W8vllHeBzwNckzQH+aPu2DudVN6/8wKIH5quB48p5rQbcUspvBQ6UdB7wIIu+4Z8LzC3zDc4HLi7J0YzS9j3A+mW/1YBvtAdh+2lJcyStX956dCxwannwf6K0Bd3v27Pug+0bu8TT7tflmv2LKokYCxxatt1M9fu4H1XPxmWljUdZdO/2B67s0G5ERETEkKLmw+BjuJJ0ju0D+uE4mwCfaA27GogYllSZAH4usGtvc0pGT9zYE/c+rT/CiniW6SfsPNAhRETECkTSrbYnt5cPtmFLMTj1Nlm5T9i+k0W9LAMSw1J4jKqXI1l4REREDHmZ5Bm9sn1EPx7riYGOYUmUNzk9OdBxRERERPSH9DxEREREREQjSR4iIiIiIqKRDFuK6CebTxrPtExajYiIiBVYeh4iIiIiIqKRJA8REREREdFIkoeIiIiIiGgkyUNERERERDSSCdMR/eT2GbPYYMo1Ax3GM/IXhyMiImJJpechIiIiIiIaSfIQERERERGNJHmIiIiIiIhGkjxEREREREQjSR6i30gaJUkDHUdfkjRqoGOIiIiI6C9JHqI/fR0YO9BBtJO0YS/bX9TD5vdJ+vc+DikiIiJiUErysBQkTZJ0WFvZtpLevQT7H9oHcZy6lPsdIWmdDuU7Svp8D/uNlXRtWd6m6fmW+psDf7f9ZNn3PR3qbCTp3LJ8avnctlVX0tSmx+shjmfdO+BISaPL9tGS/ippZFlfDfh0l/0AvgXstaxxRURERKwIkjwsnZHAmLayUcDoJdh/lT6IY/Wl3G+VEkO764ETu+1kezawS1kdTfPzBdgDOLe2b6fhPncBHy3LrXMbVav71iU4Xjed7t2vga3K8lbAbOBVZX1b4KYu+2H7KeDO3novIiIiIoaC/JG4PiZpJ+A3th8t6++1fbmkLYAjgIXA/UBr+zcAAZcDPwOOBiZRPeAfZ/sPkkYARwFrUz3AHm77wbbjHgpsCIwDjrL9V0mrACdRPfiuXo4v4D+ADSUdAnweeJrqAfoGYHfgy5I2AI4B5pSYP2Z7PnA88Angw8Dakv4CrGf7qhLHvwGy/Ye2S7OO7X/U1l8v6S3l2D+zfaFtS2q138nxwCckrdTlOu0ObAxsUMrPtv3TLm0h6U3AS4AfAu8u5/+6ct6vA34J7Ah8o+zyMknfBAz8yPY3S/kNwNZUyU9ERETEkJWeh6X3dklfb/0AnyzlI4FdASStC7y2TBI+AtjX9vuAJ2rtTKBKBn4CvA242/Z+wP7A51rHAq6z/aFSdkQ9EEmvBP5p+8PAh2rbPwxcZvuDwJFUCcDfgf8FPm37Eapk43Tbl7H4t+v/BRxs+0DgF8BbSnmrR+BrwHm2fwXsVh7oKcd/pMP1Wti2/iJgb9v7lGvUGkbVU29Ka1u36zQaGF3K9yw/HUnaDngncDpwB1USQfm8qra+ge3pZXlkiXkv4A215mYAz+tynAMlTZM0bcHsWT2cWkRERMTgl56HpXe17WNbK5J2ANYDfgx8EzgbeA9wCbAGcK/tuaX6d4D/LMuP2J5ZlncAPgvVECFJ/5C0BrA9MEbS+0s9t8WyPbClpNeV9fHlc1PbJ5f2/iZpSofzWGD7ni7lj5blb1L1WHTzc2A7STcDz7F9Xw91W66yvaAsX0M1XOh/GuwH3a8TwLWlfIGk9oSl5RVUSccrbC8EkPSUpNWBp20vlLRA0ngWT/RubdUH5tfKTZdE3PZZwFkAoydu3H7fIiIiIlYoSR76mO2nJd1feh22Ar5ClTwsqym1oVCd5gucZPu3bdvbH2g3Av7c8Hj1fcdQ9ZD8vUvdy6m+/R8LXNelTvvv2oLa8tMNY+ora1L1Dk0pPwA3Ax8Bbi3rv6PqubmxQXvrAA/1cYwRERERg06GLS0fl1ENHfqLbQMzgfUktYYE7dJlv6lUY++RNBZYv/RK3ETVi4GkTYBj2/arb18bOLOU3yVp21K+LouGVkHPPQkAo2vf5r8NeG2HOgKw/QBVb8e7gO92ae/JElvLW2p/82F74JZe4qmbSufr1NRPbd9KdY4vrbV5GNWkccrnobX1nrwa+P0SHD8iIiJihZTkYenMp5pIXDev/ED1IPxWqtd4UhKIE4HzJX2L6u1Brf3rA+G/D7xI0nlUbyY6ppRfBWwm6XyquQhfqu9r+xZgtqQLqeYiHF+2nw7sU15/egpwQim/GTijPMzXjz+f6k1DAF8Avl72fQNwRSmfWT7/WNretqz/H7CK7cfbL1btHPYvy08BjwFflXQMcJvtf7W134qrfl1b27pdp7m1uvU26urneAyLeh7uAP4K3F7Wbwdur813aL/njwFIWplqcvVvOxwrIiIiYkhR9Vwbfak8UF5se7eBjqW/SNofuM/2tV22C/gesGcPCUa/kzS2vIJ2afffD5hn+1u91R09cWNP3Pu0pT1Un5t+ws4DHUJEREQMUpJutT25vTxzHvqYpE2pXiN6bm91hwpJnwL+DdivW53yGtY9WPSt/6CwLIlD8W3gyb6IJSIiImKwS/LQx2zfAbx3oOPoT7ZPalhvyD1k236i91oRERERQ0PmPERERERERCNJHiIiIiIiopEMW4roJ5tPGs+0TFKOiIiIFVh6HiIiIiIiopEkDxERERER0UiSh4iIiIiIaCTJQ0RERERENJIJ0xH95PYZs9hgyjVLtE/+CnREREQMJul5iIiIiIiIRpI8REREREREI0keIiIiIiKikSQPERERERHRSJKHGFQkjRroGJaEpFGSNNBxRERERPSHJA8xaEj6D+A9Ax3HEnoN8KGBDiIiIiKiPwzJ5KF8G/xDSedIOlfS5ZLeOwjiOnVJyvuLpFOWtn4fx/5+4LI+bG8xko6QtE6H8s9LuqD8vpwn6Uut3oQG12YqsIOkEcsh5IiIiIhBZaj+nYd1gRtsHwtQHgQvAy7vi8YlrWb7iQ7l44DHbbvLrqsvYXl/GbcM9fskdkmbAH+w/XRftNfFKsDIDuXPt71PLZYjgU2BP9HLtbFtSdcB2wM/7btQIyIiIgafoZo8tBsDGEDSKsDxVA+SBg61Pbt8gz4HWBsYCxxk+wlJrwI+DAi40fZ5wFcl7Wt7oaTvAO+3/SRwBvBBSc8BvgQ8TvVw/RHbM4Fxki4AngKeLsee0wqyfHt9VIlhDHC47QclHQS8FlgI/MT2Be0nKOkQ4GXACGCq7Qsk7Q5sDGxQzvds2z+VNAb4MrAaVe9Tx3kGknYAPgjMBW6z/RVJbwC2k3SM7c8Ba0g6q1yfmbY/VfbdG9ia6uH7NNu/lrQHsANwv+3/ajvc1sANtWO/AtgbmFWuxb9snyLpZNuHljq7AXfV2n5juUZ32v5SqXMY8G8ljoWdzpPyu1HzXODR0lu1naSP2z6t7djPLAM/B95LkoeIiIgY4oZy8vB2SetRPdRuDRxeyg+gepi9R9KWVOPVTwY2Az5l+3ZJbwPeXBKD3YADyjfMp0iaCPwG2FLSH6i+od5e0o+AkbbnSNqX6sF/hqR3ADsBVwGvAt5q+8+SdqJ6MD+tHjNwne2bSuxHAIcB29p+X+lB+XL7iZZJxi+yvX9Z/yZwATAaGG17v5KYnE31gPth4HLbN0jaGPjfDm2OAQ4E9rS9QNIxkraw/WNJN5bEAWBCuT4zJZ1UhgUJmGD7Q5JWBs6nGpI0iqpH6Jsd7tdE4KZybAGHAPuXYx9KldABjK/tM6acI8B2tvetnT+SXgmsYnvfkjTe1uG4AM+V9PWy/DyqJOh+4HJJb7R9Wodj15dnlP2eRdKBVNeREeMmdDl8RERExIphKCcPV9eGLa0KfB34IfBq4N9aQ9qBB0v9e23fXpYfA9YD1gBeD5xZ6q8FvAC4hupheG3gBKpv05+kPPwCXwReV/v2/dul/Dbbfy7LPwX2aIt5e2CMpPeX9dY34j+XdD5wJVVCsRjbT0k6UdI+VN+yb1jbfG2ps0BS65v3l9g+pZT/RdLv29ukSop+YXtBWb8ceAPPfgD/S+lVgaqXYBXgFVQJ1UalfO3aW5T+1uFYUPWAtM53Daqehtax/48qserJ50pPy8uBLUvZ9sB3AEpS94Mu+z5g+6DWiqRPSdrR9s96OWaL6TJ/yPZZwFkAoydu3G04W0RERMQKYSgnD8+w/aSk1lj6BcCHWvMSGrwa9Ebbh9Tqzi+9EC+iGpL0BWBb4N+pEhSAU4AbgXOAX1AlIq1jt2KypGfWa6bYfrQttnOp5my8q7S5T30HSZtR9aycBnwLOLOXc+oP59n+LlTnURKcnuo/BKwD3FXW67+bPf6eSlqL6tqfBHyPKqlbFlcDuwBNk4d1qOKPiIiIGNKG5NuWumgNe/kj8CYASa+nGsLTzUzgRZJa+36VapgOwP3AC8q37vcBW9hufas+3vYVth+g+ga/5eWS1i3HflWJpe4myqtKywTiY0v56bafsH0h1ZyGdpsDV9j+HdVQnvU61Kn7f5JeW46zMdVciXZ3ANvW3iK0G9WbhaDqsenJLcA7S/tjgE7DlNr9jqqXBqrrvn4ZagSwa63eCEkrlaFNrfobAj+zfQvVXJJWz8v1VElAa67Lv3c5dvv5vBz4a4dtI0tbY1n8mr0a6NR7ExERETGkDNWeh6eohhHVXSFpJapJzf9dJts+DRxcts+q1Z0HzCu9A8cCF0l6CvhRSQgAvk81XAmqoUH1a3mDpIuoJug+ALwUuBj4NXCMpBlU4/+Pajv2VcDJZYjSKKpx/wC/L+0J+G2H8/0R8DVJ7yp1npT0RqqJzvNq9VrH+RrwZUn7l/Xr2xu0PVfS2cDFkloTpm8rm/8u6cu2D2u7bnOpemZmSLpR0sVUcxK+VNtej6fu11RDj75ShlgdD1xQemceoJrMDnApVS/MPOBRqnt9G3CQpHOortt9kvayfZGk15frOQ64GZjf4dj3lev7FFVCPYdF136upMPLBOw/lgnvC1iUXEA1WXrvLucVERERMWSo+1tFI/pXmbPh0sNSL9+AauL2sZ32G0il92ob28f1Vnf0xI09ce/Tlqj96SfsvJSRRURERCw9SbfantxePlR7HmLFdCGwaofyuTy7J2mw+CUdem4iIiIihqIkDzFolEnsz/rje+W1qQP6V7i7sT17oGOIiIiI6C/DacJ0REREREQsgyQPERERERHRSIYtRfSTzSeNZ1omQEdERMQKLD0PERERERHRSJKHiIiIiIhoJMlDREREREQ0kuQhIiIiIiIayYTpiH5y+4xZbDDlmh7r5C9KR0RExGCWnoeIiIiIiGgkyUNERERERDSS5CEiIiIiIhpJ8hD9StKogY6hrw3Fc4qIiIjoJMlD9BtJLwcOHeg42kkaJ2lCD9vXkbRql20Cvlk+IyIiIoa0JA+DgKS1JZ0t6ZLy+d+SVl/KtnaXtGVZniJpnb6NttfjbyvpPV02HwycWeqd2mX/cyVtJGmSpMPqdSXtK2mfPojxlLaiScAHa9uPkPSJ2vZDgAmdYrZt4CfAm5c1roiIiIjBLq9qHRxOAI6z/TcASVsAx1I9tC6p0eUHYAwwsi8CXAKjys9iSjI0z/bMUtQtOfooMBd4AVX89boX91GM49rW7wA2q62/DHi6tr6B7ek9JHSXAF8Gruuj+CIiIiIGpSQPA0zSi4G/tRIHANu3SbqlbB8BHAWsTfUwfbjtByWtQfXAKsDAYVQPvHsDj0m6vzT3MUlrA6sBh9n+h6QXAkcCC8uxv1iO9QNgZmnrk8BsYD3gAeAxYAOq35kP2Z4naQ/gjaWdO21/qYdTfSVwS219ZUlfpUpuRgGH2n6Yqnfiwi5tTAbWB74t6aXlHGYDM4CjbC8sbbq0qxLrgk6NSRoNnFWOOV/SmHIu84EFklamuuZPLtpFRwPrAmOBg2w/bvuJzHuIiIiI4SDDlgbeZsDvACSNlPRVSV8H/r1sfztwne0PAZ8DjijlRwIn2t6fKok40vYTVA/eJ9n+a6l3c6nzBWCPUnYg1UP1gVQPza8q5aOA99m+D1gLOM/2flQP478p9X8LvLrU3872vqX9zXs5z4nAvbX1DYCrSpvHA58p5avQPakdzaJejSOB/cqx/w78Zyl/NXC87Q8CfwC26NRQSQzOBL5iexbwK2BrqgRlWjnPVwCvAW4qu60EXG37A1S9Df9ea3Jh91OPiIiIGBrS8zCI2J4PfARA0vdL8fbAGEnvb1Urn2va/kvZ7w5Ja3Zpdlr5nEX1YA6wE7BmmeO7GnA3cCswvYzhB1hge3pZfpJqaA/Aoyx6gP+cpN2BlwNb9nJ6K9ViB3gY+FmJ/8+lJ6WRUneG7Tml6DKqYV5XA7eV5Aeq3pJVnt0CAs4A/mX7N6VsKrAbMAdo/RnoNwETgK+X9QW1+rPKtt5iPZAqWWPEuF6rR0RERAxqSR4G3h3Au4D/bRWUoUovqdWZYvvRsq0vhsfcYfug2rGWmKS1qB6qTwK+RzWsqicPAfXJ2wtqiQpAx6FFTcNZwvojqBKO90hatyQbd1Bd87lAa/jVJ4BVaklUTzr+W7J9FtXQKEZP3Nid6kRERESsKDJsaYDZvhPYUNILasX7s+iB+CbgPQCSNqH6hh3gUUkbl/JNqXoEWnp7mB4p6bll+b/ofchRJxsCP7N9C9Vciw17qf97Fg13AniupFcCSFqXxePvUZl0PUlSq1fhvZRejIaetv0j4Jjy03pr0lxgoe2FthdSXccnemusJHRLlYRFRERErEjS8zA4TAFOqD0M/wb4blm+CjhZ0vlUw4Vab2A6rpTDognTUA1TOlnSx6iG4Mwv5fPLOlRzJ74maQ7wR9u3lfJZtZjqy3Nr7cwr67cBB0k6p8R1n6S9gL+UOouxfb+k9SStVuZm/An4gKSHgVUpD/FUE6Dnl3NqxduKpXXs1vmfJ2k2cB9wXpe4nxVLq47tv0uaLmlr27+kGrpUfzvVLVQTyDtdk6dqsewK/KjDcSIiIiKGFC0+ciRi+ZG0I/Ba218Y6FhayrCtkbbn9lq58/4rUQ05e4ftp3qqO3rixp6492k9tjf9hJ2XJoyIiIiIPiXpVtuT28vT8xD9xvbPJP16oOOoK69xXer5FuX1sO/pLXGIiIiIGAoy5yH6VRmyNKQMxXOKiIiI6CTJQ0RERERENJLkISIiIiIiGknyEBERERERjWTCdEQ/2XzSeKblbUoRERGxAkvPQ0RERERENJLkISIiIiIiGknyEBERERERjSR5iIiIiIiIRjJhOqKf3D5jFhtMueZZ5dMziToiIiJWEOl5iIiIiIiIRpI8REREREREI0keIiIiIiKikSQP0W8kjRroGPraUDyniIiIiG6SPAxTkjbsZfuL+vh4Y4Fv9GWbfaWnayFppKT1e9j9FEnrLIewIiIiIgadJA/D15GSRgNIGi3pr5JGlvXVgE9L2kjSuUvSqKRTumzaH7iw1DlC0vM67LuvpH3K8qnlc4qk5y1NLF3i213SVm3FR9e2byPpu7VtOwI7ddkP4AzgkGWNKyIiImJFkORh+Po10HoY3gqYDbyqrG8L3ATcBXx0Cdsd16V8K+D6srwKnV8TfDHwrbK8evkcU+ouTSydjAbahxo93UqkgDcAz20lUsAOwNQu+2H7DmB9SeqD2CIiIiIGtSQPw9dUqm/VAV4HHFM+KeVTbRs4HqoeBUmHSjpb0mWSJpXyF0j6lqSLJX2h04HKg/js0l7LJ0tbl0p6ZSmbDLyzUxttsawh6RxJ55bPNXqKsRtJR0p6DfAr4NWleFPgUuAVZf2FtqeX5d0knS/pcklb1Jq6B1i3p2NFREREDAVJHoavO4CXlOWXAFfV1jeoPTC3egCeA9xu+wNUD/G7lfLPAx+1vSfwty7HWgt4sK3sidLWfsCnS1nHb/drWrEcCZxoe3/gy2W9pxifRdLHgX/ZvokqkXp9SXLml/Xty/CtJ2q7/dX2vlRDsA6slc8AnjUMKyIiImKoSfIwTJVv8p+StDrwtO2FwAJJ41n8gbnladv/V5Yfoxp6BLDQ9qNl+TtdDrcS4LayK0occ4D7ShxNrWn7L2X/O4A1e4mx3X7Af9o+p6zfAWxGNWzrVuD/USVS2wE31vabVo75BIsnOabLvyVJB0qaJmnagtmzmp9hRERExCCU5GF4uxn4CNUDM8DvgA+z+ANzX3gEmNBWtqC2/HQfH6839wFXSvoPeCaRmge8Bbi+JFILgZ1YNE+jJ+sAD3XaYPss25NtTx4xdnyfBB8RERExUJI8DG9TgcNY9IB8PXAozR6YW1aS1Prmf5dOFWzPZVHvQMtbACSNANay/fgSHPNRSRuX/TcFHu2lfrvrgLOB/SS1eiduBnYH/lDWfw/sUBu+1ZNNqeY9RERERAxpnd54E8PHHcBfgdvL+u1Ucwam1+rMLJ/1MTfzgTll+WjgDEkLgelt9erulPRq278q+24g6USqeQ6nlTrzgLltx5tTjleP5Tjg5PKCI1MlQD3FWDcPmGf7aUmnAQcDJwI/AbYrvQ4AP6ZKClrmln1bHoNqwjjweG2/iIiIiCFLi78AJ2L5kLQ2cKbtdw90LHWSxtqevQz7nwV8yfZfe6s7euLGnrj3ac8qn37Czkt7+IiIiIjlQtKttie3l6fnIfqF7Yck7TvQcbRblsSh+GSZQB0REREx5GXOQ/SbofiQPRTPKSIiIqKbJA8REREREdFIkoeIiIiIiGgkyUNERERERDSSCdMR/WTzSeOZljcrRURExAosPQ8REREREdFIkoeIiIiIiGgkyUNERERERDSS5CEiIiIiIhrJhOmIfnL7jFlsMOWaxcqmZwJ1RERErEDS8xAREREREY0keYiIiIiIiEaSPERERERERCNJHiIiIiIiopEkD9FvJI0a6Bj62lA8p4iIiIhukjxEv5C0EnDBQMfRiaQNe9gmSS/qYfcpkjZfDmFFREREDDo9Jg+SJkk6rK1sW0nvbtJ42f/QZQmwtHPqUu53hKR1OpTvKOnzyxrXQOl2Xl3q7i5py+UdUwM7A/8Hz8S0VXuF+n1p3XNJe0jaStJYSdcuaxCStunw+3t0bft6kqbVtm0M7NXD7/1XgYOXNa6IiIiIFUFvf+dhJDCmrWwUMLph+yOBVZY0qA5WX8r9VikxtLseuHnpwxlw3c6rk9E0v1/L038Ch5Tl0VS/R+3q96V1z0cBo2zPlrRLH8TR6XrMkLS+7X8AOwIjJT3P9v3ADsBUuvze235Y0kJJq9p+sg/ii4iIiBi0lvqPxEnaCfiN7UfL+nttXy5pC+AIYCFwP9Da/g1AwOXAz6i+7Z1E9SB8nO0/SBoBHAWsTZW0HG77wbbjHgpsCIwDjrL9V0mrACdRPVCvXo4v4D+ADSUdAnweeBr4NXADsDvwZUkbAMcAc0rMH7M9v+2YXwZmAeuXeI+0/XdJhwMX2v6XpHWB3W2fLOmMcqxxwB3AhBLXPODjwMQSz1hgLnCH7ZPLsd4K7FLO/1LbPyjlhwH/Vtpc2OWe/BewUbkOFwI3AnsDj0m6H/gH8CVgNaqH4U/bvlfSp4F1gLts/3e5Xi8DRgBTbV9Qhh19AXhuiXuE7d273ZMO4a1se05tfQ9J+1M9kF9o+4fluuwOfLnT+QHHA5+QNLrLebR+7zYt2461fXuXtpC0D/AkVXKwI3AR8BrgBOB1wLeBbUr51sDrJb2pXN/zbP+oNPVrYAvgpm7HioiIiBgKmiQPb5e0Xm19XaqHqpHArsDZ5cH5tZK+TfXgvq/tuZKOru03AdjP9kxJ7wDutv05SWOB84H3Am8HrrN9UznmEcAzw6YkvRL4Z3lAXx04BfgA8GHgMts3SnohVQJwuKT/Bc6x/Yik1oPtPSVhaPWo/BdwsO1HJe0FvAX4n7ZrsDZwm+1jJD2HKlHZn+ohutUDMIpFvSzrAvuXNi8FjrZ9h6STqRKQlYDtgFfanifpKEkvB+4EXmP7A5IEnC/pJ1RJwyq29y2J0m1d7tVGtveStDLwRdvXSboQ+GtJsj4OfM/2zyRNAE4E9qN6gL/K9g1lAvCLbO9frvk3qeYqvA34i+3PSlqbKinq6Z60a094ViuxrgRcJmkqnXu66lq9ER/qch6rADNs71/u93HAxzo1JGlXYAPbR5W6p1AlCasDPwCOkXQFMKb8LgM8ZvvjJck9B2glDzOA53U5zoHAgQAjxk3o4dQiIiIiBr8mycPVto9trUjaAVgP+DHwTeBs4D3AJcAawL2255bq36EargLwiO2ZZXkH4LMAZTjKPyStAWwPjJH0/lLPbbFsD2wp6XVlfXz53LT1zb3tv0ma0uE8Fti+p0v5o2X5m1Q9Fp18t7T/iKSO3/zXPFJr80nbd5TlR6mSjKeBH9ieV2v7tZSkQtLXS/maVA+l21NdS2zPkfSDLsf9s6SvUiV3h3fY/lLbp5V2Hmw7j7+V8qcknVi+lf83qh4FWPyePVQe9qH7PenNFaWthZJuBl4MPN5w357O49pS/lhJtDp5M/BKqt6VVt1xkiYC99ueVRKKTShJUjGt1F8gaUGt3HSZP2T7LOAsgNETN27/fY6IiIhYoSz1sCXbT0u6v/Q6bAV8hSp5WFZTakOhOo2LP8n2b9u2tz+4bQT8ueHx6vuOoeoh+XuHeuqy3Bfq7V1tuzVZeFR5mG/aznHAc4D3UQ3Z+tQSByJtRpV4nAZ8CzizFmP94be+3OmetGv/Xas/fD+9pHH2gcOBg6gmPEOVPO1NNe8C4CHgXVRDmnqzDp1/ZyIiIiKGlGV9VetlVEOL/mLbwExgPUmtoSfdJrhOBd4NUIYtrV96JW6i6sVA0ibAsW371bevzaIH27skbVvK1wU+Wduntyfv0aXXA6qhOa/tUu9dteO2zGHRN+1b93Kcdv/Rdp1+TvUt946SRpThPJeUITLXlzqUb9P/vb0xSSOBU2w/DPw3iw+jaV2DP0jasdSfQOf7vzlwhe3fUSVTrSFrP6/FsBZVTwR0vyftVi4xtryl7CPg5TRP9pqeR09+aPsaYGstemvVVKrfmxvK+g1Uw6N+1aC9rYCucysiIiIihoreeh7mUz0g180rPwC3UA31+Q8A25Z0ItVY/YVU38Y+VurOqrXxfeBoSedRjVM/ppRfBZws6Xyq4T2H1Pe1fYukN5dx/KsAny7bTwdOKRNwVwVaw5ZuBs4o5fXjzwdml+UvAF+X9CTVuPyPdLgOC4CXSLqY6kG81f4l5bhPAnfX2qwf67Ha8hzgKaqH3T9QjfV/FPi97d8DSDobuLTUP8/2AuA3kl5frsu4cl6LTeq2PV/Sw5IuoJrD0Jq3MY3qmn6M6sH+JEl7UiYa1+Jqtfcj4GuS3lXO9UlJbwS+BxxXYliVapJwT/ek3U+pko/LqX5/xko6harX4fIy96N+X1rXsP77NrN8djuP2W3XpX4fWuZRTVKH6t5/hur37Cbg9tpwsxuAabUhePX9oNzXMs/jubYf6nLeEREREUOGqg6Dpdy5mph7se3d+i6kwUfSObYP6MP2NgD2rM8lGewkvRb4h+3ppTfkStvvXIL9RwNXA2/1svzS9TFJY23P7r1m1/2PBn5s+4be6o6euLEn7n3aYmXTT9h5aQ8dERERsdxIutX25PbyZXlV66ZUr1s9d1kCW0E83MftzQOe6OM2l7e7qF5t+wTVG4m+2kv9xZSehV0HU+IA1YT9ZWziJNsr2r2MiIiIWCrLMmH6DqrXqw55to/o4/b+STUheYVh+z5gj2VsY8g9ZA/Fc4qIiIjoZlknTEdERERExDCR5CEiIiIiIhpZ6mFLEbFkNp80nmmZIB0RERErsPQ8REREREREI0keIiIiIiKikSQPERERERHRSJKHiIiIiIhoJBOmI/rJ7TNmscGUaxYry1+YjoiIiBVJeh4iIiIiIqKRJA8REREREdFIkoeIiIiIiGgkyUP0G0mjBjqGvjYUzykiIiKimyQP0S8kjQW+MdBxdCJpwx62jZS0fg+7nyJpneUQVkRERMSgM2ySh/IQeJ2kcySdK+nbkt5Qth0laceBjrGvSDplObe/jaR3L+Fu+wMXlv2PkPS8Du3uK2mfsnxq+Zwi6XmSNpJ07jKGjqTdJW3VVnx0bfs2kr5b27YjsFOX/QDOAA5Z1rgiIiIiVgTD6VWtk4CbbB8DIGklqofZHwMnAE8NYGx9bVx7gaTVbD/RoXwUsJLtuUvQ/ujysyS2onrQBliFzr97F9eWVy+fY0rdu4CPLuExOxkNtA81elrSaNvzgDcAz5U00vZ8YAfgrPL5rCFKtu+QtL4k2XYfxBcRERExaA2n5AGg/nC3OjCnLL+T6uH0Fkk7AB8E5gK32f4KgKSrgFlUD5DXUX0jDXCL7W9IWhn4CtU1HQ98yfZvJB0EvBZYCPzE9gWS3gnsBswG7rB9YnugkvYA3lj2u9P2lyRtA7wDeB4g4Drbl5RE6FhgIjCWRQ/edR+RdI3tP0iaAvzK9s+AA4A/SbqhafzAh4G1Jf0FmAYcBaxN9aB/uO0H285lJDC77eH6k5JWB1YDTrL9G2AysD7w7fbgbVvS8cAnJK0BfLlcAwOH2Z5ZelxmAJuWa3Co7RkdrkUrriOBqcCvgFcDPy/7Xgq8ArgFeKHt6ZIAdpO0f7nGX7R9W2nqHmDdcuyIiIiIIWu4JQ9vl7Qe1UPndiz6Jns0MErSGOBAYE/bCyQdI2mL8pC4BvBuqofVm4DX254r6dtUY/lfA9xg+7LycHsM8BtgW9vvU/X0+eVyvHcAu9teKOnkLt9ab2d7XwBJ36zFuV6Jz5IuAC4p7f3J9mckrQXc0eHcrwN2Bv4AvJQqQfhZuQ7nLGH8XwPWs/0rSbtQJTE3lWt7BHBY27HXAh5sK3vC9iclrQJcVK5tp16BulZSdCRwou2/SNq0rH8KeE6J5WRJL6NK0E7u1JCkjwP/KnE/ArxX0s3AfKqE4q2S/h9Q7635q+3TJK0GfIkqiYIqaXgeSR4iIiJiiBtuycPVto8FaD20Svp5bfumwC9sLyjrl1MNY7kN+JvthWXf/1cb5jO7fP4c+DdJBwMvpvoWHuDnks4HrqR6sAa4AvhWGVt/ZJfhLp+TtDvwcmDLWvm1tfpPl8/tgc8A2H5Y0tQO7f0e+JSk8cD9wBrlGjxt+6lyHZrGX7c9MEbS+8t6p3NZqUP5FSXeOZLuK70QTa1p+y9l/zskrVnKn7b9f2X5MarhUZ3sB7zA9k5l/Q5gM+BVwK3A/wMOpUqsbqztN60c84m2tyyZLvOHJB1IlZAyYtyExicYERERMRgNmwnT7WzPAf4C9NUT3V7A24D/BT5WKz+3rK9N9Q0/wDXAPlQP/5dKGlFvqPQefJ1qKNXRLP4Au1RKwvEosAvVN+sPAu8FfroU8bebYvsg2wfRefLwIzz7Oi+oLT9N/7oPuFLSf8Az12Ye8Bbg+pIkLgR2Aq5v0N46wEOdNtg+y/Zk25NHjB3fJ8FHREREDJThljzomYVqGM7zgYdr2+8Atq09zO9G9aDdxFbAV2zfDWxSKz/d9hO2LwRa7Z4OPGX7O8B0YE0WtyHwM9u3UD1Yd32VaHE9VVLQSjx26FLvh8B/lfo/Br4AXLsU8cOia3kT8J5y7E2o5l4spvTStJ/jW8o+I4C1bD/eyznWPSpp47L/plRJ0ZK4Djgb2K/0vgDcDOxONawLqp6aHWxPb9DeplTzHiIiIiKGtOE0bOk+YAdJLyjrqwLfsT1f0lxgbpnDcDZwcSm7rTYpdlatrcdqyzPL5wXAeZKepPqmfaMyB+D3ki6ietj+ban7Y6phS/OAf7F4AgPVMKmDJJ1DNQfgPkl7UfWU1N+K1Irpe8CxZXjRWOBHXa7BT8s5PS7pl8Bvbf9rKeL/I9WwqruAq4CTy7FH0f21pXdKerXtX1FNVN9A0olU8xxOK3Xm1c6vdW5zqOYhwKJrfVw5JpQJ0237UPaZw7PNA+bZflrSacDBwInAT6jmmSws9X5MlRS0zC37tjwGUH6fHq/tFxERETFkKW+XjP4gaW3gTNtL+vchlitJY23P7r1m1/3Ponoz1V97qzt64saeuPdpi5VNP2HnpT10RERExHIj6Vbbk9vLh1PPQwwg2w9J2neg42i3LIlD8clOfz8jIiIiYigabnMeYgANxYfsoXhOEREREd0keYiIiIiIiEaSPERERERERCNJHiIiIiIiopFMmI7oJ5tPGs+0vF0pIiIiVmDpeYiIiIiIiEaSPERERERERCNJHiIiIiIiopEkDxERERER0UgmTEf0k9tnzGKDKdc8sz49k6cjIiJiBZOeh4iIiIiIaCTJQ0RERERENJLkISIiIiIiGknyEP1G0sqShtTvnKRRkjTQcURERET0hyH1IBeD3nHA8wc6iHaSNuxl+4t62Pwa4EN9G1FERETE4JTkYZhS5XOSzpd0jqSvShrZyz6nLsPx1gbWsD1d0iRJh3WoM1bStWV5iqTn1etKulbS2KWNoXacU9qKPiBpvdr230qaWJYFHFuWO53/VGAHSSOWNa6IiIiIwS7Jw/D1EkC297V9APBzYPde9ll9GY73LuDisjwSGNNewfZsYJeyOobqVcL1uruUOstqXNv69cCOAJLWB0YA25dtGwN/LsvPOn/bBq6r1Y+IiIgYspI8DF9PAqvU1r8H/AZA0nqSLpZ0rqSvSBpd37HMXfiqpG9IukzSK0v5VySdLGm3Dsd7JfCr2vrmki4pvR5H1MqP7yHmZ7ZJOkTSeZIulbRDKdtG0omSLpR0kaQ9eroAkraQdDxwE/DaUvw64ItUw5GgSiqmluX1JV1Qrsunak39HNimp2NFREREDAVJHoYp29OB/yfpLEkHAWva/kPZfDRwiO39gf8BDmrb/TXADbY/WLbtW8rHAafbvqzDIUfYfqq2/gpg/9LrsZqkLUp5T70bq0P10F/i3Q/YE/iQpDHAaGA9YB/bewFv6taQpE2ATwFfsP0YML5s2g74QS2OrYFfluU1gQ+W6/LSWnMzgOf1EHdERETEkJDkYRiz/U3gg8CvgS9IetOiTX64LP8E2Lxt158Df5B0MNV8gFYPxgLb9zQ8/P/YnlOWv8Oib/6b2AG4sgS6ALgB2LRsu7YMJQJ4usv+zwe+Dxxje24pmy7phcA427OAhyRNAEbX6vze9ryyPL/Wnunyb0nSgZKmSZq2YPasJTjFiIiIiMEnycMwJWlnSRu7civVG4Pe23D3vYC3Af8LfKz5IRebVLygttztIX95mUQVf33o0VRgN+D+sv5z4ADgzgbtrQM81GmD7bNsT7Y9ecTY8Z2qRERERKwwkjwMXzOA99TWJwGtyciStFZZ3gm4vW3frYCv2L4b2KTh8f4MvLy2/sZaMvEmqt6DpqYCu5ZAR1D1WtyxBPvfbPtOqmFbby5lNwGHUCUNlHg+waL5Dj15NfD7JTh+RERExApp5YEOIAaG7dskbS/pQqohOCOB1utTPw98RdI84Ang8FLeGndzAXCepCeBR4CNyqtOexqXcxXwSeDD5Xh3Ad+QdC/wqO3bSr2Z5XNOqeey/My2WuznU72J6Uzbc0u8rSFG9Xjbtcr/G/g28EPbj0n6HSWJsf2opNtYfJJ3vb3HasvvBfbu4dwjIiIihgQtGh4esXxJOgf4ou27BjqWFkljl+X1r5JeD2xj+7je6o6euLEn7n3aM+vTT9h5aQ8bERERsVxJutX25Pby9DxEf/ooi891GHB98Hcjfkn1dyIiIiIihrwkD9Fvam8tGjL66I/WRURERKwQMmE6IiIiIiIaSfIQERERERGNJHmIiIiIiIhGMuchop9sPmk80/KGpYiIiFiBpechIiIiIiIaSfIQERERERGNJHmIiIiIiIhGkjxEREREREQjmTAd0U9unzGLDaZc88z69EyejoiIiBVMeh4iIiIiIqKRJA8REREREdFIkoeIiIiIiGgkyUNERERERDSS5CEiIiIiIhpJ8hCDhqRRkn4o6RxJ50q6UtLL+7D9U3vZfkpt+VpJY/vq2BERERFDQV7VGoPJusANto8FkLQqcDqwfx+1v3ov28fVlnexPaePjhsRERExJCR5iMFsbWC2pJcCRwKzgRnAUbYXSjoTEFUP2jzgU7bnSjrZ9qEAknYD7rL961ajkiYBXwIep0ooPgK8ENhO0hnAwcDxwCdK/UOAlwOrAN+wPVXSNsA7gOeVGK6zfclyvRoRERERAyzJQww2b5e0HtUD+dPA0cBXgP1sz5F0APCfwNXAG4A3275b0g7AB0vd8bX2xgCj246xL3C47RmS3gHsZPsqSTfa/iiApNXL5xbAmrb3kzQCuETSL0ub6wF72rakC4AkDxERETGkZc5DDDZX2z7I9gdtfwR4CphRG0J0GbBjWb7N9t1l+XrgpQ2P8UXgxZI+A+xH1aPQzQ7AlQC2FwA3AJuWbdfadll+utPOkg6UNE3StAWzZzUMLyIiImJwSvIQKxot5ba6U6iGRJ1Tlpcb22fZnmx78oix43vfISIiImIQS/IQg5rtmcAkSa3egfcCPyvLr5C0UVl+PfC7sjxC0kqSBGzdodnxtq+w/QCLehEAVPapmwrsWjaOAF4L3LEMpxQRERGxwsqchxhM5lNNim53HHCepNnAfcB5pfw24GhJ86kmPx9Wyi+lGt40D3iUaugTQGvc0A2SLgIWAg9QDXe6GLgZuEjSfsBMANu3Sdpe0vlU8yfOLJOy5wFzazFmTFJEREQMeVo0ZDtixSLpHNsHDHQcTY2euLEn7n3aM+vTT9h54IKJiIiI6IGkW21Pbi/PsKVYkT080AFEREREDCdJHmKFZfuIgY4hIiIiYjhJ8hAREREREY0keYiIiIiIiEaSPERERERERCN5VWtEP9l80nim5Q1LERERsQJLz0NERERERDSS5CEiIiIiIhpJ8hAREREREY0keYiIiIiIiEaSPET0k9tnzGKDKdcMdBgRERERSy3JQ0RERERENJLkISIiIiIiGknyEBERERERjSR5iIiIiIiIRpI8REREREREIysPdAARA0nS2sAXgVWBJ4G5wGeAFwJfAu4FxgEPA1Nsz5I0Cvgf4B+AgPHAMbZ/1/9nEBEREdF/kjzEcHcCcJztvwFI2gI4FvhtKb+hlL8SOBk4AFgXuMH2sWXbqsDpwP79Hn1EREREP8qwpRi2JL0Y+FsrcQCwfRtwS2u1Vv4b4EFJL+zQ1NrA7OUYakRERMSgkJ6HGM42A34HIGkkcBowAlgd+FGH+rcALwH+CLxd0npUw5aeBo7uh3gjIiIiBlSShwjA9nzgIwCSvt+lmmrLV7eGLfVE0oHAgQAjxk1Y1jAjIiIiBlSGLcVwdgfwsnqBpBFUvQudbEXV69CY7bNsT7Y9ecTY8UsXZURERMQgkeQhhi3bdwIbSnpBrXh/FvUwPNPTIOklwFq2p/dfhBERERGDS4YtxXA3BThB0ipl/TfAd8vnSZL+QfXv5Eng0FJnPpkgHREREcNQkocY1mw/SPdXrL65yz4zgFOWW1ARERERg1SGLUVERERERCNJHiIiIiIiopEkDxERERER0UiSh4iIiIiIaCTJQ0RERERENJLkIaKfbD5pPNNP2Hmgw4iIiIhYakkeIiIiIiKikSQPERERERHRSJKHiIiIiIhoJMlDREREREQ0kuQhop/cPmMWG0y5ZqDDiIiIiFhqSR4iIiIiIqKRJA8REREREdFIkoeIiIiIiGgkyUNERERERDSS5CH6jaRRkjTQcfQlSaMGOoaIiIiI/pLkIfrT14GxAx1EO0kb9rL9RT1sfp+kf+/jkCIiIiIGpSQPfUDSYZLOkfQbSZeW5VdJ2lHS57vsc0o/xTZJ0qH9caxe4tgc+LvtJyVtI+k9HepsJOncsnxq+dy2VVfS1D6IY5Kkw9qKj5Q0umwfLemvkkaW9dWAT3fZD+BbwF7LGldERETEimDlgQ5gKLD9ZQBJRwHn2L63rK8E3Nxlt3H9Ex0jgVXqBWXo0Kq2n2ivLGmc7cc6NSTpubYfqLWxtu0HG8axB/C1sjwa6DTc5y7go2V59fI5qlb3rQ2P1ZORwJi2sl8DWwE3lM/ZwKuAXwLbAjd12Q/bT0m6U9KGtu/qg/giIiIiBq0kD8vXRGB34MuSXgAcDxi4u1VB0lrAcWX1CeAI2wvqjUhaHfhvYB6wBnC47XvKt/NzgLWphgMdZPsJSVsARwALgfuBR9viGlHa21fSGODbtt9Wkp2zgfdK2gnYB5gLzLT9KeBkSQfYngdMBnYCTpC0N7A1VUJ0mu1fd7gW69j+R2399ZLeAjwN/Mz2hbYt6XjgE12u5/HAJ0qcRwOTqBKj42z/QdLuwMbABqX8bNs/7dIWkt4EvAT4IfBuquThdcAx5fOXwI7AN8ouL5P0Tap7+CPb3yzlN5TzT/IQERERQ1qGLS1f9W+rPw981PaewN9qdT5ClTAcBPwKeEeHdnYBvm77g8AXgV1L+WbApbYPBL4NvLn0CBwB7Gv7fVQJyWJsP03VeTAK2A54saTxVN+2/6ZUexewl+0PACNLkvNjqoShFdNVkp4HTLD9IWBv4OAu12Jh2/qLgL1t7wO8VtI6pXx1umttextwt+39gP2Bz5Xy0cDoUr5n+elI0nbAO4HTgTuokgjK51W19Q1sTy/LI0vMewFvqDU3A3hel+McKGmapGkLZs/q4dQiIiIiBr/0PPSfhbZbPQDfAV5TlrcB1i0vIRoF3Nph34uArSR9CngZcGcpv9f27WX5MWA9qp6Je23PrR3rPzu0eUOJ4Y1U37TvAGxB9eAMcDjwDkmvovoWfhXg+1S9JD8AXmD7L5LeCWwvaaOy39qSRtl+qpfrcVWth+UaquFC/9PLPi07AJ8FsD1b0j8krVG2XVvKF0hqT1haXkGVdLzC9kIASU+VHp6nbS+UtKAkVPXk69ZWfWB+rdx0ScRtnwWcBTB64sZueH4RERERg1KSh4H3YOl1aM0j6HRPPgM8CFwKXAm8rw+O+wPgk8BzgO8Cx1INA/pCmSx8IdW38idQDS3C9qOSVpX0UuD3tbbOs/3dcg7dEof286oPzXq6D85nSaxJ1XszpfxANTflIyxK3n4HfBi4sUF76wAP9XGMEREREYNOhi31n5UkrVmWd6mVz5K0WVneB9i5w74bUY3fvxfYpJfjzATWK3MZ2o/1DNv/BF4MPGB7NvBc4F+2TfVwfZft64En2445FTgZuKKs30I1/IdyzG/S2ZOS1q6tv6X2Nx+2L+00NZVqjgKSxgLr2565BPv/1PatwOiSCLXaPAy4vqxfDxxaW+/Jq1k8mYqIiIgYktLz0LfmsPhwlvlUb+6BaoLvGWUozXSgNQD+C8DpkuYBD1MNF2p3JXCJpLnAfVTDhE6ttQHVZOp5ZdLxicD55Vh/pxrS1MktLPpm/bdU37ZD1csxsrw2dWTZfx+q3omrgfe13ixke4akGyVdTDXn4EtdjnUV1VChE4GnSptflfQwcJvtf5V6M8tn69zmlZ/6tu8DR0s6j2o41TGlfG6tbr2Nuvo9OYaqd2VPqnkPfwVaw8BuB26vzXeYT3V/Wx4DkLQy1bCuL3c574iIiIghQ9UXzRHLV+ll+B6wp+3HBzicZ0gaW3pelnb//aiStm/1Vnf0xI09ce/TmH5Cp86liIiIiMFD0q22J7eXp+ch+kXpEdmDRd/6DwrLkjgU36Ya2hUREREx5CV5iH5je8g9ZHf6Q3sRERERQ1UmTEdERERERCNJHiIiIiIiopEkDxH9ZPNJ4zNZOiIiIlZoSR4iIiIiIqKRJA8REREREdFIkoeIiIiIiGgkyUNERERERDSS5CGin9w+YxYbTLlmoMOIiIiIWGpJHiIiIiIiopEkDxERERER0UiSh4iIiIiIaCTJQ0RERERENJLkIQYVSaMGOoYlocoKFXNERETE0krysAKQtLKklw50HMubpInAiQMdxxJaDfj6QAcRERER0R+SPKwY1gOmSlqjVSDptJ52kLSNpHcv64ElTZH0vGVtp6FPAGcsr8Ylbdvpmkh6q6TvSjpH0rmSLpY0vmw7pac2bT8O/FPSZssp7IiIiIhBI8nDiuOfwOG19dV6qT+6/CyrMcDKfdBOjyQJmGj7ruV4mFF0viavBg62fYDt/YEzgT3KtnEN2j0X2L1vQoyIiIgYvJb7Q2H0mSuAN0ha1/Z9rcLy0H0s8FxgLPBN29cBHwbWlvQX4IXAXbZ/XfY52fahkr4CPA38Gri8SzsdSVofOA6YC/wLWNX2JyVNAr4EPA6sDnwEmAWcTpXwrAqcaPvWtiafDzyTOEhaC/gsMLPsM8b2wZIOBy60/S9J6wK72z5Z0suAI4AnqJLiD9ueL+kNwH7ACOBh4BddTsm15XWBByS9AthO0hnAwcBJtg8t8e3Wuqa275a0XrdrFRERETFUJHlYcSwEjgY+D3ywVv584HHbR0paCTgfuA74GrCe7V+VITX1b9zHl89xwFG275H0gi7tdHMU8HHbj0g6ANi6lO8LHG57hqR3ADsB1wPzbe9bhl4dDLQnDxOBe2vrU6iSjPslvYpFcyHGAiPL8ihgldpx97c9V9LHgZdJ+mMp35MqObigh/M5QdITVD0tWwBbluTjRtsfBWgNZSrGsPg1XdipUUkHAgcCjBg3oYfDR0RERAx+SR5WILZ/Iunjkjapld0j6QpJBwGbAGsuQZMLbN+zlO0stP1IWb6SRcnDF4HXSdq7lH2b6hv/lSV9GbjU9hc6tLcSi3/7P872/SW2WyU93Es8U4CdJG0J7AhMAzYDfmF7IYCk71D1hnTc3/a9pd6rgc9QJWvLxPZZwFkAoydu7F6qR0RERAxqmfOw4jmSangRAJJ2Aj5K9e3+YcADS9PoUrSj2nL9ofgUYG3gnLKMbQOHAKcC/yHpEx3aewhYp7b+TGJbhmb1luieXeI4nZ57GHpl+1fAC5ZwtyTiERERMeQleVjB2P491bj+LUvRq4Czbf8JmACsUaveesCfQxmqJGlrOuupnU5GSGr1TuxSKx9v+wrbDwCblmO+EPik7RlU8yRe3qG9u4H662hnSnpxWX4Di4Zazakt189loe1rbT/aOi7wJ2DbMgyrPc52zyRDZd7GzEWram0bIWmlsr51rf46wGM9tB0RERExJOTb0hXDU8Ds2vrngNvL8hUsGq//FDBW0hbAH4HPSboLuBb4hqRdgT+z6EF3Vq3Nbu3MAeZ3iOlo4AxJBqbXym+QdBHVHIAHqBKCS4D1JZ1HNWn6G+2N2X5a0hxJ69v+B1Xvyqnlwf8JYEapeglwiqQnqRKO1nW5U9L5VAnxTGAv2zeWsosljShtzOtwLr8GvibpX1RJxFjg0LLtZuAiSfsBlwKXlTYeLdcJYH+qoVsRERERQ5qqESWxopG0WeklGKjjv49q/sLCkmS80/bnl7HNTYBP2D6ow7ZzbB+wLO0vD2UC+LnAru7lH9PoiRt74t6nMf2EnfsltoiIiIilJelW25Pby9PzsIIayMShmEv1jf7jVG8d+uSyNmj7TkmHddnc24TpgfIYVS9HsvCIiIgY8pI8xFKxfRVw1XJo94ku5Uf09bH6QnmT05MDHUdEREREf8iE6YiIiIiIaCTJQ0RERERENJLkIaKfbD5pfCZLR0RExAotyUNERERERDSS5CEiIiIiIhpJ8hAREREREY0keYiIiIiIiEaSPET0k9tnzBroECIiIiKWSZKHiIiIiIhoJMlDREREREQ0kuQhIiIiIiIaSfIQERERERGNJHmIQUPSqIGOYUmtiDFHRERELK0kD8OEpJUlvXSg4+hG0krABQMdx1I4R9KYgQ4iIiIioj8keRg+1gOmSlqjVSDptKVpSNKpfRRT3c7A/y2Hdp8h6ZQOZc+V9CNJ50g6V9IVkl5etu0uactemr0Y2Gc5hBsREREx6CR5GF7+CRxeW19tKdtZvQ9iafefwOXLod26cR3KXgJcZPsA2/sDewEfLdtGl5+e/BjYtu9CjIiIiBi8Vh7oAKJfXQG8QdK6tu9rFUraBphk+8qyfrLtQyWtApwEjKRKGI6w/Y/afiOAo4C1gTHA4bYflDQJ+BLweNnvI7ZnSvoWsAD4su3ft8W2su05tXY/W8onABNsv7eHOFcH/huYB6xR4rhH0guA4wEDd/dwXVxbXhuYKWk1YG/gMUn3A7sAF9r+l6R1gd1tn2x7oaR5kkbYXtDDMSIiIiJWeEkehpeFwNHA54EP1spHUz38t4wvnx8GLrN9o6QXAh9j8Z6LtwPX2b5J0nrAEcBhwL5UD/AzJL0D2Am4CngO8HbbT3WJreUdwG22r5Y0FvhLL3HuAnzd9i8lbQHsCpxczvOjth+VtC+wbpfrsp+k7ah64nYC3mL7CUkXAn+1/dcSx8hSfxSwSm3/R6iSlofbG5Z0IHAgwIhxE7ocPiIiImLFkGFLw4ztnwDrStqkQfVNbd9Y9vsbMKVt+/bAXpK+TtVTsGop/yLwYkmfAfZj0YP2jC6JQ7vXUuY/2J4N3NhL/YsAS/oUcGjteAttP1qWv9PD/ufZPsj2gcCWVEnHkjBd/i3ZPsv2ZNuTR4wd36lKRERExAojPQ/D05HAscCsXuq1PxBvBPy5rWxK6wG99trSU6ge+M8BfkE1Wbs39d9Fta339nv6GeBB4FLgSuB9DY7Xke1HJDVJcOrWovdrGREREbHCS8/DMFTmGzxB9S07wBzKECBJG1HNMwC4S9K2pXxd4JNtTd0EvKds34QqIQEYb/sK2w8AmzYMa2VJrWFBU4F3l3YnADv0EudGwNm27wXqPSorSVqzLO/Sw7H1zEI132JMh23PHBvYulZfwLiGPSoRERERK7T0PAwfTwGza+ufA24vy7cCB0o6j+ob/HtK+enAKZL2pxqS1Bq21PqW/SrgZEnnU80DOKSU3yDpIqp5DA8AL6V6pWlP387/lOoB/3LgauC40u5qwC29xHklcImkucB9wPbldbJHA2dIWghM73L8O4DPS9qeKlEYRzX5GmBaOb+PAZeUa/Ek1eTr1rXcBvhjD+cVERERMWTIdu+1YkiStJntPw10HACSRlMlDW912y+lpHNsHzAwkfVM0pXAgbYf6a3u6Ikbe94//9JbtYiIiIgBJ+lW25Pby9PzMIwNlsQBwPY8Sbu2Jw7Fs95iNIjsY/uJgQ4iIiIioj9kzkMMGt0ewm0f0d+xNJXEISIiIoaTJA8REREREdFIkoeIiIiIiGgkyUNEP9l8Uv5IXERERKzYkjxEREREREQjSR4iIiIiIqKRJA8REREREdFIkoeIiIiIiGgkyUNERERERDSS5CEiIiIiIhpJ8hAREREREY0keYiIiIiIiEaSPERERERERCNJHqLfSBo10DH0taF4ThERERHdJHkYIiStLOmlAx1HN5JWAi4Y6Dg6kbRhD9sk6UU97D5F0ubLIayIiIiIQSfJw9CxHjBV0hqtAkmnLU1Dkk7to5jqdgb+r7S/u6StOhx3R0mfr8cgaQ9JW0kaK+naZQ1C0jaS3t1WfHRt+3qSptW2bQzsJWnbDvsBfBU4eFnjioiIiFgRJHkYWv4JHF5bX20p21m9D2Jp95/A5WV5NNBpuM/1wIltMYwCRtmeDezSB3GMLj91MyStX5Z3BEZKel5Z3wGYWuJo3w/bDwMLJa3aB7FFREREDGpJHoaWK4DtJK1bLyzftu9aWz+5fK4i6QxJ35B0Se0BulVvhKRjJJ0p6XxJE0r5JEnfkvT18rlGKf+WpIskvaxDbCvbnlNb36O0eYmkN5eyicBHezi/48txRkv6iqRzJX1T0nql/AhJnyrll/c2nEjSPqU3YSpV0gDwGuAE4HVlfRvgl2X59eX8LpX0xlpTvwa26OlYEREREUNBkoehZSHVEJzPt5WPBsbU1seXzw8Dl9n+IHAk8LG2/d4OXGf7Q8DngCNK+b7A4bYPokpYdirlzwEOsP37LrHVrWZ7X2BPYH9Jo4GRbXG2a/VGfAj4nu39gU8CXyjlqwAzS/kHgAO7NVSSqQ1sXwHcxKJkYXXgB1RJmIAxtueWbY/Z3qvEvEetuRnA8+hA0oGSpkma9uCDD/ZwahERERGD38oDHUD0Lds/kfRxSZs0qL6p7ZPLfn+TNKVt+/bAGEnvbzVfPr8IvE7S3sDWwLdL+QzbTzUM9Ypy3IWSbgZeDDzecN+X2j6t7P+gpHpicm0pf0zSKl32fzPwSuBltbrjJE0E7rc9S9I4YBPgjtp+00r9BZIW1MpNl0Tc9lnAWQCTJ092pzoRERERK4okD0PTkcCxwKxe6rU/8G4E/LmtbIrtR2Gx15KeAtwInAP8gmqydm/af9fqD99PN9i/rx0OHEQ14Rngb8DeVPMuAB4C3kU1pKk36wB/7+P4IiIiIgadDFsagsqwoSeALUvRHMpQJUkbARNK+V2Sti3l61INAaq7CXhP2b4JVUICMN72FbYfADZtGNbKkkbW1t9S2hXwcp6dtPTkD5J2LPtPYMl/j39o+xpga0nrlLKpVOd/Q1m/gWp41K8atLcVcPsSxhARERGxwknPw9DxFDC7tv45Fj3Q3gocKOk84EHgnlJ+OnCKpP2BVYHWsKVWj8VVwMmSzqd629AhpfwGSRdRzWN4AHgpcDE993T8lOptSZcD84Cxkk6h6nW43PY8SfNr59Bqa175AZhZPs8ETpK0Z4nr06V8NjC/dsxO8cwDWnMYvgB8ppzXTcDtrV4WquRhWm2+Q30/gMcAJK0OPNf2Qz2ce0RERMSQIDvDsIcqSZvZ/tNAxwHVG5KAq4G3ehD90kkaW14Du7T7Hw382PYNvdWdPHmyp02b1lu1iIiIiAEn6Vbbk9vL0/MwhA2WxAGg9CzsOpgSB4BlSRyKk2w/0SfBRERERAxymfMQ/WYoPmQPxXOKiIiI6CbJQ0RERERENJLkISIiIiIiGknyEBERERERjSR5iIiIiIiIRpI8REREREREI0keIiIiIiKikSQPERERERHRSJKHiIiIiIhoJMlDREREREQ0kuQhIiIiIiIaSfIQERERERGNJHmIiIiIiIhGkjxEREREREQjSR4iIiIiIqKRJA8REREREdFIkoeIiIiIiGgkyUNERERERDSS5CEiIiIiIhpJ8hAREREREY0keYiIiIiIiEaSPERERERERCNJHiIiIiIiohHZHugYIoYFSY8Ddw50HLGYtYGHBjqIWEzuyeCTezL45J4MTkPtvrzA9oT2wpUHIpKIYepO25MHOohYRNK03JPBJfdk8Mk9GXxyTwan4XJfMmwpIiIiIiIaSfIQERERERGNJHmI6D9nDXQA8Sy5J4NP7sngk3sy+OSeDE7D4r5kwnRERERERDSSnoeIiIiIiGgkyUNEH5P075Iuk/RtSS/osH2ypCvKzysHIsbhprd7Uuo8X9Lh/R3bcNXg38leki4uP7sNRIzDTYN78iFJ3yw/Bw1EjMNRk/9+lXrvk/Sp/oxtuGrwb+VMSeeUn6MGIMTlKslDRB+StBKwG7A78EGg03/IPwK8r/x8rP+iG56a3JOSxJ0OjOrf6Ian3u6JpFWAHW3vaXtP4N8l5d4sRw3uyThgC9vvt/1+YCtJq/Z/pMNLw/+nIGkC8B5gdP9FNzw1vSe2Dyg/R/VjeP0iyUNE35oM/MKVR4Ex5T80AEhaB7jf9lO2nwL+Jem5AxXsMNHjPQGw/Rvg4wMR3DDV2z0ZC/yotv4IsEp/BjgM9XZPngQ+ByBpBNVD6oL+D3PY6fW/X8XngOP7N7Rhq8k92UDSNySdJ2mzAYhxuUryENG3XgDcXVt/EHhObf35wN9q638rZbH89HZPov/1eE9sP2z7EgBJLwRWtz2rf0Mcdnq7JwtsPyDpzcCNwF225/ZzjMNRr//9kvQW4HfAv/oxruGsx3tSkuvfAx8CDgGOK2VDRpKHiL7V2+vL8nqz/pdrPvg0uieS/oNqWECG9y1/je6J7R8CrwHW6Wn8ffSZHu+LpNWohtCc3z/hBL3ck5JoH2F7oe3HgZuBF/dPaP0jyUNE37oHeFFtfQLVkIuWvwMvrK1vUMpi+entnkT/6/WeSNoXmGB7iu3Z/RncMNXjPZG0ZWviuu2FwPephm/E8tXbv5UtgdWArwHHAW+XtF//hTcsLen/U55iiM2nS/IQ0bduBbZRZU1gju2FktYHsP0A1Td2I8sE0HVKWSw/Pd6TGBA93hNJ44FNbOfb1P7T27+T6cDrJamsbwP8cQDiHG56+3/Kz2zvavsg4EjgatvnDWTAw0Bv//3aStKHyvLKwA7Anwcs2uVg5YEOIGIoKf8BuQy4lCo5/1R5I8lVwFal2leBbwEiE9yWu4b3BKpvh54cgBCHnQb35JVU/3M+p7bbZ23f3//RDg+93RPbD0qaClws6WngFtt3DFzEw8MS/PcLqv+GzennEIedBvdkGrCLpAuoXv5wpu0hdV/yF6YjIiIiIqKRDFuKiIiIiIhGkjxEREREREQjSR4iIiIiIqKRJA8REREREdFIkoeIiIiIiGgkyUNERERERDSS5CEiIiIiIhpJ8hAREREREY38fy3W2Bn71aKNAAAAAElFTkSuQmCC",
>>>>>>> 09331ef8b049ae3a6c46de82d5cce68627f8e1a4
      "text/plain": [
       "<Figure size 720x576 with 1 Axes>"
      ]
     },
     "metadata": {
      "needs_background": "light"
     },
     "output_type": "display_data"
    }
   ],
   "source": [
    "# Feature coefficients, feature 선언\n",
    "coefficients = model.feature_importances_\n",
    "features = X.columns\n",
    "\n",
    "# coefficients 순으로 정렬\n",
    "indices = np.argsort(coefficients)\n",
    "sorted_features = [features[i] for i in indices]\n",
    "\n",
    "# 그래프 크기 지정\n",
    "plt.figure(figsize=(10, 8))\n",
    "\n",
    "# 막대그래프 show\n",
    "plt.barh(sorted_features, coefficients[indices])\n",
    "plt.show()"
   ]
  },
  {
   "cell_type": "markdown",
   "metadata": {},
   "source": [
    "### 3. (비선형) XGBoost 회귀 모델 학습"
   ]
  },
  {
   "cell_type": "code",
<<<<<<< HEAD
   "execution_count": 428,
=======
   "execution_count": 519,
>>>>>>> 09331ef8b049ae3a6c46de82d5cce68627f8e1a4
   "metadata": {},
   "outputs": [
    {
     "data": {
      "text/plain": [
       "XGBRegressor(base_score=0.5, booster='gbtree', callbacks=None,\n",
       "             colsample_bylevel=1, colsample_bynode=1, colsample_bytree=1,\n",
       "             early_stopping_rounds=None, enable_categorical=False,\n",
       "             eval_metric=None, gamma=0, gpu_id=-1, grow_policy='depthwise',\n",
       "             importance_type=None, interaction_constraints='',\n",
       "             learning_rate=0.300000012, max_bin=256, max_cat_to_onehot=4,\n",
       "             max_delta_step=0, max_depth=6, max_leaves=0, min_child_weight=1,\n",
       "             missing=nan, monotone_constraints='()', n_estimators=100, n_jobs=0,\n",
       "             num_parallel_tree=1, predictor='auto', random_state=0, reg_alpha=0,\n",
       "             reg_lambda=1, ...)"
      ]
     },
<<<<<<< HEAD
     "execution_count": 428,
=======
     "execution_count": 519,
>>>>>>> 09331ef8b049ae3a6c46de82d5cce68627f8e1a4
     "metadata": {},
     "output_type": "execute_result"
    }
   ],
   "source": [
    "model = XGBRegressor() \n",
    "model.fit(X_train, y_train) # 모델 학습"
   ]
  },
  {
   "cell_type": "markdown",
   "metadata": {},
   "source": [
    "### 3. (비선형) XGBoost 회귀 모델 검증"
   ]
  },
  {
   "cell_type": "code",
<<<<<<< HEAD
   "execution_count": 429,
=======
   "execution_count": 520,
>>>>>>> 09331ef8b049ae3a6c46de82d5cce68627f8e1a4
   "metadata": {},
   "outputs": [
    {
     "name": "stdout",
     "output_type": "stream",
     "text": [
      "MAE: 46.65%\n",
<<<<<<< HEAD
      "RMSE: 369.88%\n"
=======
      "RMSE: 369.87%\n"
>>>>>>> 09331ef8b049ae3a6c46de82d5cce68627f8e1a4
     ]
    },
    {
     "data": {
      "text/plain": [
<<<<<<< HEAD
       "0.6312444631987801"
      ]
     },
     "execution_count": 429,
=======
       "0.6312615173113055"
      ]
     },
     "execution_count": 520,
>>>>>>> 09331ef8b049ae3a6c46de82d5cce68627f8e1a4
     "metadata": {},
     "output_type": "execute_result"
    }
   ],
   "source": [
    "# Predict를 수행하고 mean_absolute_error, rmse 결과 출력하기\n",
    "pred = model.predict(X_test)    # X_test를 이용한 예측값 pred \n",
    "mean_absolute_error(y_test, pred)\n",
    "np.sqrt(mean_squared_error(y_test, pred))\n",
    "\n",
    "mae = mean_absolute_error(y_test, pred)\n",
    "rmse = np.sqrt(mean_squared_error(y_test, pred))\n",
    "\n",
    "# MAE 및 RMSE를 백분율로 표시\n",
    "mae_percentage = (mae / np.mean(y_test)) * 100\n",
    "rmse_percentage = (rmse / np.mean(y_test)) * 100\n",
    "\n",
    "print(\"MAE: {:.2f}%\".format(mae_percentage))\n",
    "print(\"RMSE: {:.2f}%\".format(rmse_percentage))\n",
    "\n",
    "r2_score(y_test, pred)"
   ]
  },
  {
   "cell_type": "markdown",
   "metadata": {},
   "source": [
    "### 3. (비선형) XGBoost 회귀 중요변수 확인"
   ]
  },
  {
   "cell_type": "code",
<<<<<<< HEAD
   "execution_count": 430,
=======
   "execution_count": 521,
>>>>>>> 09331ef8b049ae3a6c46de82d5cce68627f8e1a4
   "metadata": {},
   "outputs": [
    {
     "data": {
<<<<<<< HEAD
      "image/png": "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",
=======
      "image/png": "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",
>>>>>>> 09331ef8b049ae3a6c46de82d5cce68627f8e1a4
      "text/plain": [
       "<Figure size 720x576 with 1 Axes>"
      ]
     },
     "metadata": {
      "needs_background": "light"
     },
     "output_type": "display_data"
    }
   ],
   "source": [
    "# Feature coefficients, feature 선언\n",
    "coefficients = model.feature_importances_\n",
    "features = X.columns\n",
    "\n",
    "# coefficients 순으로 정렬\n",
    "indices = np.argsort(coefficients)\n",
    "sorted_features = [features[i] for i in indices]\n",
    "\n",
    "# 그래프 크기 지정\n",
    "plt.figure(figsize=(10, 8))\n",
    "\n",
    "# 막대그래프 show\n",
    "plt.barh(sorted_features, coefficients[indices])\n",
    "plt.show()"
   ]
  },
  {
   "cell_type": "markdown",
   "metadata": {},
   "source": [
    "### 4. (비선형) LightGBM 회귀 모델 학습"
   ]
  },
  {
   "cell_type": "code",
<<<<<<< HEAD
   "execution_count": 431,
=======
   "execution_count": 522,
>>>>>>> 09331ef8b049ae3a6c46de82d5cce68627f8e1a4
   "metadata": {},
   "outputs": [
    {
     "name": "stdout",
     "output_type": "stream",
     "text": [
      "[LightGBM] [Info] Total Bins 3774\n",
      "[LightGBM] [Info] Number of data points in the train set: 6762, number of used features: 16\n",
<<<<<<< HEAD
      "[LightGBM] [Info] Start training from score 9978.129197\n"
=======
      "[LightGBM] [Info] Start training from score 99.781292\n"
>>>>>>> 09331ef8b049ae3a6c46de82d5cce68627f8e1a4
     ]
    },
    {
     "data": {
      "text/plain": [
       "LGBMRegressor(force_col_wise=True)"
      ]
     },
<<<<<<< HEAD
     "execution_count": 431,
=======
     "execution_count": 522,
>>>>>>> 09331ef8b049ae3a6c46de82d5cce68627f8e1a4
     "metadata": {},
     "output_type": "execute_result"
    }
   ],
   "source": [
    "'''\n",
    "   LightGBM에서는 특수 문자나 공백이 포함된 변수명을 지원하지 않습니다.\n",
    "   따라서 'X_train'에서 특수 문자나 공백을 제거하거나, 변수명을 변경해야 합니다.\n",
    "'''\n",
    "X_train.columns = [\"\".join (c if c.isalnum() else \"_\" for c in str(x)) for x in X_train.columns]\n",
    "\n",
    "\n",
    "model = LGBMRegressor(force_col_wise=True) \n",
    "model.fit(X_train, y_train) # 모델 학습"
   ]
  },
  {
   "cell_type": "markdown",
   "metadata": {},
   "source": [
    "### 4. (비선형) LightGBM 회귀 모델 검증"
   ]
  },
  {
   "cell_type": "code",
<<<<<<< HEAD
   "execution_count": 432,
=======
   "execution_count": 523,
>>>>>>> 09331ef8b049ae3a6c46de82d5cce68627f8e1a4
   "metadata": {},
   "outputs": [
    {
     "name": "stdout",
     "output_type": "stream",
     "text": [
      "[LightGBM] [Info] Total Bins 3774\n",
      "[LightGBM] [Info] Number of data points in the train set: 6762, number of used features: 16\n",
<<<<<<< HEAD
      "[LightGBM] [Info] Start training from score 9978.129197\n"
=======
      "[LightGBM] [Info] Start training from score 99.781292\n"
>>>>>>> 09331ef8b049ae3a6c46de82d5cce68627f8e1a4
     ]
    },
    {
     "data": {
      "text/plain": [
       "LGBMRegressor(force_col_wise=True)"
      ]
     },
<<<<<<< HEAD
     "execution_count": 432,
=======
     "execution_count": 523,
>>>>>>> 09331ef8b049ae3a6c46de82d5cce68627f8e1a4
     "metadata": {},
     "output_type": "execute_result"
    }
   ],
   "source": [
    "'''\n",
    "   LightGBM에서는 특수 문자나 공백이 포함된 변수명을 지원하지 않습니다.\n",
    "   따라서 'X_train'에서 특수 문자나 공백을 제거하거나, 변수명을 변경해야 합니다.\n",
    "'''\n",
    "X_train.columns = [\"\".join (c if c.isalnum() else \"_\" for c in str(x)) for x in X_train.columns]\n",
    "model = LGBMRegressor(force_col_wise=True)\n",
    "model.fit(X_train, y_train) # 모델 학습"
   ]
  },
  {
   "cell_type": "code",
<<<<<<< HEAD
   "execution_count": 433,
=======
   "execution_count": 524,
>>>>>>> 09331ef8b049ae3a6c46de82d5cce68627f8e1a4
   "metadata": {},
   "outputs": [
    {
     "name": "stdout",
     "output_type": "stream",
     "text": [
      "MAE: 51.63%\n",
      "RMSE: 386.81%\n"
     ]
    },
    {
     "data": {
      "text/plain": [
<<<<<<< HEAD
       "0.5967082964276795"
      ]
     },
     "execution_count": 433,
=======
       "0.5967082997487236"
      ]
     },
     "execution_count": 524,
>>>>>>> 09331ef8b049ae3a6c46de82d5cce68627f8e1a4
     "metadata": {},
     "output_type": "execute_result"
    }
   ],
   "source": [
    "# Predict를 수행하고 mean_absolute_error, rmse 결과 출력하기\n",
    "pred = model.predict(X_test)    # X_test를 이용한 예측값 pred \n",
    "mean_absolute_error(y_test, pred)\n",
    "np.sqrt(mean_squared_error(y_test, pred))\n",
    "\n",
    "mae = mean_absolute_error(y_test, pred)\n",
    "rmse = np.sqrt(mean_squared_error(y_test, pred))\n",
    "\n",
    "# MAE 및 RMSE를 백분율로 표시\n",
    "mae_percentage = (mae / np.mean(y_test)) * 100\n",
    "rmse_percentage = (rmse / np.mean(y_test)) * 100\n",
    "\n",
    "print(\"MAE: {:.2f}%\".format(mae_percentage))\n",
    "print(\"RMSE: {:.2f}%\".format(rmse_percentage))\n",
    "\n",
    "r2_score(y_test, pred)"
   ]
  },
  {
   "cell_type": "markdown",
   "metadata": {},
   "source": [
    "### 4. (비선형) LightGBM 회귀 중요변수 확인"
   ]
  },
  {
   "cell_type": "code",
<<<<<<< HEAD
   "execution_count": 434,
=======
   "execution_count": 525,
>>>>>>> 09331ef8b049ae3a6c46de82d5cce68627f8e1a4
   "metadata": {},
   "outputs": [
    {
     "data": {
      "image/png": "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",
      "text/plain": [
       "<Figure size 720x576 with 1 Axes>"
      ]
     },
     "metadata": {
      "needs_background": "light"
     },
     "output_type": "display_data"
    }
   ],
   "source": [
    "# Feature coefficients, feature 선언\n",
    "coefficients = model.feature_importances_\n",
    "features = X.columns\n",
    "\n",
    "# coefficients 순으로 정렬\n",
    "indices = np.argsort(coefficients)\n",
    "sorted_features = [features[i] for i in indices]\n",
    "\n",
    "# 그래프 크기 지정\n",
    "plt.figure(figsize=(10, 8))\n",
    "\n",
    "# 막대그래프 show\n",
    "plt.barh(sorted_features, coefficients[indices])\n",
    "plt.show()"
   ]
  },
  {
   "cell_type": "markdown",
   "metadata": {},
   "source": [
    "### 5. (비선형) LightGBM 회귀 중요변수 확인"
   ]
  },
  {
   "cell_type": "code",
<<<<<<< HEAD
   "execution_count": 435,
=======
   "execution_count": 526,
>>>>>>> 09331ef8b049ae3a6c46de82d5cce68627f8e1a4
   "metadata": {},
   "outputs": [
    {
     "data": {
      "text/plain": [
       "KNeighborsRegressor(n_neighbors=3, weights='distance')"
      ]
     },
<<<<<<< HEAD
     "execution_count": 435,
=======
     "execution_count": 526,
>>>>>>> 09331ef8b049ae3a6c46de82d5cce68627f8e1a4
     "metadata": {},
     "output_type": "execute_result"
    }
   ],
   "source": [
    "from sklearn.neighbors import KNeighborsRegressor\n",
    "\n",
    "model = KNeighborsRegressor(n_neighbors=3, weights='distance') \n",
    "model.fit(X_train, y_train) # 모델 학습\n",
    "\n"
   ]
  },
  {
   "cell_type": "code",
<<<<<<< HEAD
   "execution_count": 436,
=======
   "execution_count": 527,
>>>>>>> 09331ef8b049ae3a6c46de82d5cce68627f8e1a4
   "metadata": {},
   "outputs": [
    {
     "name": "stderr",
     "output_type": "stream",
     "text": [
      "C:\\Users\\vlrms\\AppData\\Local\\Packages\\PythonSoftwareFoundation.Python.3.7_qbz5n2kfra8p0\\LocalCache\\local-packages\\Python37\\site-packages\\sklearn\\base.py:493: FutureWarning: The feature names should match those that were passed during fit. Starting version 1.2, an error will be raised.\n",
      "Feature names unseen at fit time:\n",
      "- Biomass and waste (billion kWh)\n",
      "- Coal (quad Btu)\n",
      "- Fossil fuels (billion kWh)\n",
      "- Geothermal (billion kWh)\n",
      "- Hydroelectric pumped storage (billion kWh)\n",
      "- ...\n",
      "Feature names seen at fit time, yet now missing:\n",
      "- Biomass_and_waste__billion_kWh_\n",
      "- Coal__quad_Btu_\n",
      "- Fossil_fuels__billion_kWh_\n",
      "- Geothermal__billion_kWh_\n",
      "- Hydroelectric_pumped_storage__billion_kWh_\n",
      "- ...\n",
      "\n",
      "  warnings.warn(message, FutureWarning)\n"
     ]
    },
    {
     "name": "stdout",
     "output_type": "stream",
     "text": [
      "MAE: 63.62%\n",
      "RMSE: 386.38%\n"
     ]
    },
    {
     "data": {
      "text/plain": [
       "0.5976049243332147"
      ]
     },
<<<<<<< HEAD
     "execution_count": 436,
=======
     "execution_count": 527,
>>>>>>> 09331ef8b049ae3a6c46de82d5cce68627f8e1a4
     "metadata": {},
     "output_type": "execute_result"
    }
   ],
   "source": [
    "# Predict를 수행하고 mean_absolute_error, rmse 결과 출력하기\n",
    "pred = model.predict(X_test)    # X_test를 이용한 예측값 pred \n",
    "mean_absolute_error(y_test, pred)\n",
    "np.sqrt(mean_squared_error(y_test, pred))\n",
    "\n",
    "mae = mean_absolute_error(y_test, pred)\n",
    "rmse = np.sqrt(mean_squared_error(y_test, pred))\n",
    "\n",
    "# MAE 및 RMSE를 백분율로 표시\n",
    "mae_percentage = (mae / np.mean(y_test)) * 100\n",
    "rmse_percentage = (rmse / np.mean(y_test)) * 100\n",
    "\n",
    "print(\"MAE: {:.2f}%\".format(mae_percentage))\n",
    "print(\"RMSE: {:.2f}%\".format(rmse_percentage))\n",
    "\n",
    "r2_score(y_test, pred)"
   ]
  }
 ],
 "metadata": {
  "kernelspec": {
   "display_name": "Python 3",
   "language": "python",
   "name": "python3"
  },
  "language_info": {
   "codemirror_mode": {
    "name": "ipython",
    "version": 3
   },
   "file_extension": ".py",
   "mimetype": "text/x-python",
   "name": "python",
   "nbconvert_exporter": "python",
   "pygments_lexer": "ipython3",
   "version": "3.7.9"
  }
 },
 "nbformat": 4,
 "nbformat_minor": 2
}
