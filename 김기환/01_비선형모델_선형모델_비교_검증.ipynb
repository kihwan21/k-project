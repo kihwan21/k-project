{
 "cells": [
  {
   "cell_type": "code",
   "execution_count": 483,
   "metadata": {},
   "outputs": [],
   "source": [
    "import pandas as pd"
   ]
  },
  {
   "cell_type": "code",
   "execution_count": 484,
   "metadata": {},
   "outputs": [],
   "source": [
    "df = pd.read_csv(\"국가별_데이터_전처리_세계2.csv\")"
   ]
  },
  {
   "cell_type": "code",
   "execution_count": 485,
   "metadata": {},
   "outputs": [],
   "source": [
    "from sklearn.model_selection import train_test_split\n",
    "from xgboost import XGBRegressor\n",
    "from sklearn.metrics import mean_absolute_error, mean_squared_error, r2_score, accuracy_score\n",
    "\n",
    "from math import sqrt\n",
    "from lightgbm import LGBMRegressor, LGBMClassifier\n",
    "from sklearn.model_selection import cross_val_score\n",
    "from sklearn.neural_network import MLPRegressor\n",
    "from sklearn.ensemble import RandomForestRegressor\n",
    "from sklearn.preprocessing import MinMaxScaler"
   ]
  },
  {
   "cell_type": "code",
   "execution_count": 486,
   "metadata": {},
   "outputs": [
    {
     "data": {
      "image/png": "[encoded data removed]",
      "text/plain": [
       "<Figure size 432x288 with 1 Axes>"
      ]
     },
     "metadata": {
      "needs_background": "light"
     },
     "output_type": "display_data"
    }
   ],
   "source": [
    "# 필요한 라이브러리 불러오기\n",
    "\n",
    "import numpy as np\n",
    "import matplotlib.pyplot as plt\n",
    "import seaborn as sns\n",
    "from scipy import stats\n",
    "import matplotlib.font_manager as fm\n",
    "\n",
    "# 한글 폰트 사용을 위해서 세팅\n",
    "from matplotlib import font_manager, rc\n",
    "font_path = \"C:/Windows/Fonts/NGULIM.TTF\"\n",
    "font = font_manager.FontProperties(fname=font_path).get_name()\n",
    "rc('font', family=font)\n",
    " \n",
    "plt.scatter([0, 1, 2, 3, 4, 5], [0, 1, 2, 3, 4, 5])\n",
    "plt.title('산점도')\n",
    "plt.xlabel('변수1')\n",
    "plt.ylabel('변수2')\n",
    "plt.grid(True)\n",
    "plt.show()\n",
    "\n",
    "font_location = fm.findfont('NanumGothic')\n",
    "font_name = fm.FontProperties(fname=font_location).get_name()"
   ]
  },
  {
   "cell_type": "markdown",
   "metadata": {},
   "source": [
    "### 선형회귀와 비선형회귀 검증\n",
    "#### 선형회귀\n",
    "- LinearSVR\n",
    "- 릿지\n",
    "- 라쏘\n",
    "- 엘라스틱넷\n",
    "---------------------------------\n",
    "#### 비선형회귀\n",
    "- 결정 트리\n",
    "- 랜덤포레스트\n",
    "- Xgboost\n",
    "- LightGBM\n",
    "- "
   ]
  },
  {
   "cell_type": "code",
   "execution_count": 487,
   "metadata": {},
   "outputs": [],
   "source": [
    "from sklearn.svm import LinearSVR\n",
    "from sklearn.linear_model import Ridge\n",
    "from sklearn.linear_model import Lasso\n",
    "from sklearn.linear_model import ElasticNet\n",
    "from sklearn.ensemble import RandomForestRegressor\n",
    "from sklearn.tree import DecisionTreeRegressor\n",
    "from lightgbm import LGBMRegressor\n",
    "\n",
    "from sklearn.metrics import mean_absolute_error, mean_squared_error\n",
    "from math import sqrt"
   ]
  },
  {
   "cell_type": "code",
   "execution_count": 488,
   "metadata": {},
   "outputs": [],
   "source": [
    "df2 = df[['CO2 emissions (MMtonnes CO2)']] == 0"
   ]
  },
  {
   "cell_type": "code",
   "execution_count": 489,
   "metadata": {},
   "outputs": [
    {
     "data": {
      "text/html": [
       "<div>\n",
       "<style scoped>\n",
       "    .dataframe tbody tr th:only-of-type {\n",
       "        vertical-align: middle;\n",
       "    }\n",
       "\n",
       "    .dataframe tbody tr th {\n",
       "        vertical-align: top;\n",
       "    }\n",
       "\n",
       "    .dataframe thead th {\n",
       "        text-align: right;\n",
       "    }\n",
       "</style>\n",
       "<table border=\"1\" class=\"dataframe\">\n",
       "  <thead>\n",
       "    <tr style=\"text-align: right;\">\n",
       "      <th></th>\n",
       "      <th>COUNTRY</th>\n",
       "      <th>Year</th>\n",
       "      <th>Biomass and waste (billion kWh)</th>\n",
       "      <th>CO2 emissions (MMtonnes CO2)</th>\n",
       "      <th>Coal (quad Btu)</th>\n",
       "      <th>Coal and coke (MMtonnes CO2)</th>\n",
       "      <th>Consumed natural gas (MMtonnes CO2)</th>\n",
       "      <th>Consumption (quad Btu)</th>\n",
       "      <th>Fossil fuels (billion kWh)</th>\n",
       "      <th>GDP</th>\n",
       "      <th>...</th>\n",
       "      <th>Nuclear, renewables, and other (quad Btu)</th>\n",
       "      <th>Petroleum and other liquids (MMtonnes CO2)</th>\n",
       "      <th>Petroleum and other liquids (quad Btu)</th>\n",
       "      <th>Population</th>\n",
       "      <th>Renewables (billion kWh)</th>\n",
       "      <th>Renewables and other (quad Btu)</th>\n",
       "      <th>Solar (billion kWh)</th>\n",
       "      <th>Solar, tide, wave, fuel cell (billion kWh)</th>\n",
       "      <th>Tide and wave (billion kWh)</th>\n",
       "      <th>Wind (billion kWh)</th>\n",
       "    </tr>\n",
       "  </thead>\n",
       "  <tbody>\n",
       "    <tr>\n",
       "      <th>0</th>\n",
       "      <td>0</td>\n",
       "      <td>1980</td>\n",
       "      <td>0.000000</td>\n",
       "      <td>1.325965</td>\n",
       "      <td>0.002479</td>\n",
       "      <td>0.231314</td>\n",
       "      <td>0.111101</td>\n",
       "      <td>0.026583</td>\n",
       "      <td>0.231000</td>\n",
       "      <td>0.00000</td>\n",
       "      <td>...</td>\n",
       "      <td>0.007386</td>\n",
       "      <td>0.983550</td>\n",
       "      <td>0.014624</td>\n",
       "      <td>13356.50</td>\n",
       "      <td>0.711000</td>\n",
       "      <td>0.007386</td>\n",
       "      <td>0.00000</td>\n",
       "      <td>0.00000</td>\n",
       "      <td>0.0</td>\n",
       "      <td>0.0</td>\n",
       "    </tr>\n",
       "    <tr>\n",
       "      <th>1</th>\n",
       "      <td>0</td>\n",
       "      <td>1981</td>\n",
       "      <td>0.000000</td>\n",
       "      <td>1.509628</td>\n",
       "      <td>0.002604</td>\n",
       "      <td>0.242977</td>\n",
       "      <td>0.166651</td>\n",
       "      <td>0.029949</td>\n",
       "      <td>0.271000</td>\n",
       "      <td>0.00000</td>\n",
       "      <td>...</td>\n",
       "      <td>0.007537</td>\n",
       "      <td>1.100000</td>\n",
       "      <td>0.016668</td>\n",
       "      <td>13171.68</td>\n",
       "      <td>0.721000</td>\n",
       "      <td>0.007537</td>\n",
       "      <td>0.00000</td>\n",
       "      <td>0.00000</td>\n",
       "      <td>0.0</td>\n",
       "      <td>0.0</td>\n",
       "    </tr>\n",
       "    <tr>\n",
       "      <th>2</th>\n",
       "      <td>0</td>\n",
       "      <td>1982</td>\n",
       "      <td>0.000000</td>\n",
       "      <td>1.659605</td>\n",
       "      <td>0.003021</td>\n",
       "      <td>0.281853</td>\n",
       "      <td>0.277752</td>\n",
       "      <td>0.031898</td>\n",
       "      <td>0.245000</td>\n",
       "      <td>0.00000</td>\n",
       "      <td>...</td>\n",
       "      <td>0.007391</td>\n",
       "      <td>1.100000</td>\n",
       "      <td>0.016251</td>\n",
       "      <td>12882.52</td>\n",
       "      <td>0.707000</td>\n",
       "      <td>0.007391</td>\n",
       "      <td>0.00000</td>\n",
       "      <td>0.00000</td>\n",
       "      <td>0.0</td>\n",
       "      <td>0.0</td>\n",
       "    </tr>\n",
       "    <tr>\n",
       "      <th>3</th>\n",
       "      <td>0</td>\n",
       "      <td>1983</td>\n",
       "      <td>0.000000</td>\n",
       "      <td>2.059605</td>\n",
       "      <td>0.003021</td>\n",
       "      <td>0.281853</td>\n",
       "      <td>0.277752</td>\n",
       "      <td>0.039022</td>\n",
       "      <td>0.254000</td>\n",
       "      <td>0.00000</td>\n",
       "      <td>...</td>\n",
       "      <td>0.007848</td>\n",
       "      <td>1.500000</td>\n",
       "      <td>0.022918</td>\n",
       "      <td>12537.73</td>\n",
       "      <td>0.746000</td>\n",
       "      <td>0.007848</td>\n",
       "      <td>0.00000</td>\n",
       "      <td>0.00000</td>\n",
       "      <td>0.0</td>\n",
       "      <td>0.0</td>\n",
       "    </tr>\n",
       "    <tr>\n",
       "      <th>4</th>\n",
       "      <td>0</td>\n",
       "      <td>1984</td>\n",
       "      <td>0.000000</td>\n",
       "      <td>2.065436</td>\n",
       "      <td>0.003083</td>\n",
       "      <td>0.287684</td>\n",
       "      <td>0.277752</td>\n",
       "      <td>0.039202</td>\n",
       "      <td>0.262000</td>\n",
       "      <td>0.00000</td>\n",
       "      <td>...</td>\n",
       "      <td>0.007903</td>\n",
       "      <td>1.500000</td>\n",
       "      <td>0.022981</td>\n",
       "      <td>12204.31</td>\n",
       "      <td>0.757000</td>\n",
       "      <td>0.007903</td>\n",
       "      <td>0.00000</td>\n",
       "      <td>0.00000</td>\n",
       "      <td>0.0</td>\n",
       "      <td>0.0</td>\n",
       "    </tr>\n",
       "    <tr>\n",
       "      <th>...</th>\n",
       "      <td>...</td>\n",
       "      <td>...</td>\n",
       "      <td>...</td>\n",
       "      <td>...</td>\n",
       "      <td>...</td>\n",
       "      <td>...</td>\n",
       "      <td>...</td>\n",
       "      <td>...</td>\n",
       "      <td>...</td>\n",
       "      <td>...</td>\n",
       "      <td>...</td>\n",
       "      <td>...</td>\n",
       "      <td>...</td>\n",
       "      <td>...</td>\n",
       "      <td>...</td>\n",
       "      <td>...</td>\n",
       "      <td>...</td>\n",
       "      <td>...</td>\n",
       "      <td>...</td>\n",
       "      <td>...</td>\n",
       "      <td>...</td>\n",
       "    </tr>\n",
       "    <tr>\n",
       "      <th>9655</th>\n",
       "      <td>229</td>\n",
       "      <td>2017</td>\n",
       "      <td>0.151000</td>\n",
       "      <td>8.992426</td>\n",
       "      <td>0.060448</td>\n",
       "      <td>5.461868</td>\n",
       "      <td>0.000000</td>\n",
       "      <td>0.154422</td>\n",
       "      <td>3.218560</td>\n",
       "      <td>39.06286</td>\n",
       "      <td>...</td>\n",
       "      <td>0.044062</td>\n",
       "      <td>3.530558</td>\n",
       "      <td>0.049911</td>\n",
       "      <td>14751.10</td>\n",
       "      <td>4.130900</td>\n",
       "      <td>0.044062</td>\n",
       "      <td>0.01100</td>\n",
       "      <td>0.01100</td>\n",
       "      <td>0.0</td>\n",
       "      <td>0.0</td>\n",
       "    </tr>\n",
       "    <tr>\n",
       "      <th>9656</th>\n",
       "      <td>229</td>\n",
       "      <td>2018</td>\n",
       "      <td>0.187000</td>\n",
       "      <td>10.290169</td>\n",
       "      <td>0.065284</td>\n",
       "      <td>5.912279</td>\n",
       "      <td>0.000000</td>\n",
       "      <td>0.176781</td>\n",
       "      <td>3.932020</td>\n",
       "      <td>40.89881</td>\n",
       "      <td>...</td>\n",
       "      <td>0.049737</td>\n",
       "      <td>4.377890</td>\n",
       "      <td>0.061759</td>\n",
       "      <td>15052.18</td>\n",
       "      <td>5.254980</td>\n",
       "      <td>0.049737</td>\n",
       "      <td>0.01900</td>\n",
       "      <td>0.01900</td>\n",
       "      <td>0.0</td>\n",
       "      <td>0.0</td>\n",
       "    </tr>\n",
       "    <tr>\n",
       "      <th>9657</th>\n",
       "      <td>229</td>\n",
       "      <td>2019</td>\n",
       "      <td>0.189000</td>\n",
       "      <td>9.408047</td>\n",
       "      <td>0.061204</td>\n",
       "      <td>5.468512</td>\n",
       "      <td>0.000000</td>\n",
       "      <td>0.157368</td>\n",
       "      <td>3.850240</td>\n",
       "      <td>38.40398</td>\n",
       "      <td>...</td>\n",
       "      <td>0.040666</td>\n",
       "      <td>3.939535</td>\n",
       "      <td>0.055498</td>\n",
       "      <td>15354.61</td>\n",
       "      <td>4.380599</td>\n",
       "      <td>0.040666</td>\n",
       "      <td>0.02600</td>\n",
       "      <td>0.02600</td>\n",
       "      <td>0.0</td>\n",
       "      <td>0.0</td>\n",
       "    </tr>\n",
       "    <tr>\n",
       "      <th>9658</th>\n",
       "      <td>229</td>\n",
       "      <td>2020</td>\n",
       "      <td>0.099000</td>\n",
       "      <td>8.253322</td>\n",
       "      <td>0.052825</td>\n",
       "      <td>4.491685</td>\n",
       "      <td>0.000000</td>\n",
       "      <td>0.143299</td>\n",
       "      <td>3.655663</td>\n",
       "      <td>35.34675</td>\n",
       "      <td>...</td>\n",
       "      <td>0.037482</td>\n",
       "      <td>3.761637</td>\n",
       "      <td>0.052992</td>\n",
       "      <td>15669.67</td>\n",
       "      <td>3.938347</td>\n",
       "      <td>0.037482</td>\n",
       "      <td>0.03400</td>\n",
       "      <td>0.03400</td>\n",
       "      <td>0.0</td>\n",
       "      <td>0.0</td>\n",
       "    </tr>\n",
       "    <tr>\n",
       "      <th>9659</th>\n",
       "      <td>229</td>\n",
       "      <td>2021</td>\n",
       "      <td>0.099789</td>\n",
       "      <td>8.118910</td>\n",
       "      <td>0.050509</td>\n",
       "      <td>4.149747</td>\n",
       "      <td>0.000000</td>\n",
       "      <td>0.143806</td>\n",
       "      <td>3.889625</td>\n",
       "      <td>37.54586</td>\n",
       "      <td>...</td>\n",
       "      <td>0.037381</td>\n",
       "      <td>3.969163</td>\n",
       "      <td>0.055915</td>\n",
       "      <td>15993.52</td>\n",
       "      <td>4.141269</td>\n",
       "      <td>0.037381</td>\n",
       "      <td>0.04148</td>\n",
       "      <td>0.04148</td>\n",
       "      <td>0.0</td>\n",
       "      <td>0.0</td>\n",
       "    </tr>\n",
       "  </tbody>\n",
       "</table>\n",
       "<p>9660 rows × 28 columns</p>\n",
       "</div>"
      ],
      "text/plain": [
       "      COUNTRY  Year  Biomass and waste (billion kWh)  \\\n",
       "0           0  1980                         0.000000   \n",
       "1           0  1981                         0.000000   \n",
       "2           0  1982                         0.000000   \n",
       "3           0  1983                         0.000000   \n",
       "4           0  1984                         0.000000   \n",
       "...       ...   ...                              ...   \n",
       "9655      229  2017                         0.151000   \n",
       "9656      229  2018                         0.187000   \n",
       "9657      229  2019                         0.189000   \n",
       "9658      229  2020                         0.099000   \n",
       "9659      229  2021                         0.099789   \n",
       "\n",
       "      CO2 emissions (MMtonnes CO2)  Coal (quad Btu)  \\\n",
       "0                         1.325965         0.002479   \n",
       "1                         1.509628         0.002604   \n",
       "2                         1.659605         0.003021   \n",
       "3                         2.059605         0.003021   \n",
       "4                         2.065436         0.003083   \n",
       "...                            ...              ...   \n",
       "9655                      8.992426         0.060448   \n",
       "9656                     10.290169         0.065284   \n",
       "9657                      9.408047         0.061204   \n",
       "9658                      8.253322         0.052825   \n",
       "9659                      8.118910         0.050509   \n",
       "\n",
       "      Coal and coke (MMtonnes CO2)  Consumed natural gas (MMtonnes CO2)  \\\n",
       "0                         0.231314                             0.111101   \n",
       "1                         0.242977                             0.166651   \n",
       "2                         0.281853                             0.277752   \n",
       "3                         0.281853                             0.277752   \n",
       "4                         0.287684                             0.277752   \n",
       "...                            ...                                  ...   \n",
       "9655                      5.461868                             0.000000   \n",
       "9656                      5.912279                             0.000000   \n",
       "9657                      5.468512                             0.000000   \n",
       "9658                      4.491685                             0.000000   \n",
       "9659                      4.149747                             0.000000   \n",
       "\n",
       "      Consumption (quad Btu)  Fossil fuels (billion kWh)       GDP  ...  \\\n",
       "0                   0.026583                    0.231000   0.00000  ...   \n",
       "1                   0.029949                    0.271000   0.00000  ...   \n",
       "2                   0.031898                    0.245000   0.00000  ...   \n",
       "3                   0.039022                    0.254000   0.00000  ...   \n",
       "4                   0.039202                    0.262000   0.00000  ...   \n",
       "...                      ...                         ...       ...  ...   \n",
       "9655                0.154422                    3.218560  39.06286  ...   \n",
       "9656                0.176781                    3.932020  40.89881  ...   \n",
       "9657                0.157368                    3.850240  38.40398  ...   \n",
       "9658                0.143299                    3.655663  35.34675  ...   \n",
       "9659                0.143806                    3.889625  37.54586  ...   \n",
       "\n",
       "      Nuclear, renewables, and other (quad Btu)  \\\n",
       "0                                      0.007386   \n",
       "1                                      0.007537   \n",
       "2                                      0.007391   \n",
       "3                                      0.007848   \n",
       "4                                      0.007903   \n",
       "...                                         ...   \n",
       "9655                                   0.044062   \n",
       "9656                                   0.049737   \n",
       "9657                                   0.040666   \n",
       "9658                                   0.037482   \n",
       "9659                                   0.037381   \n",
       "\n",
       "      Petroleum and other liquids (MMtonnes CO2)  \\\n",
       "0                                       0.983550   \n",
       "1                                       1.100000   \n",
       "2                                       1.100000   \n",
       "3                                       1.500000   \n",
       "4                                       1.500000   \n",
       "...                                          ...   \n",
       "9655                                    3.530558   \n",
       "9656                                    4.377890   \n",
       "9657                                    3.939535   \n",
       "9658                                    3.761637   \n",
       "9659                                    3.969163   \n",
       "\n",
       "      Petroleum and other liquids (quad Btu)  Population  \\\n",
       "0                                   0.014624    13356.50   \n",
       "1                                   0.016668    13171.68   \n",
       "2                                   0.016251    12882.52   \n",
       "3                                   0.022918    12537.73   \n",
       "4                                   0.022981    12204.31   \n",
       "...                                      ...         ...   \n",
       "9655                                0.049911    14751.10   \n",
       "9656                                0.061759    15052.18   \n",
       "9657                                0.055498    15354.61   \n",
       "9658                                0.052992    15669.67   \n",
       "9659                                0.055915    15993.52   \n",
       "\n",
       "      Renewables (billion kWh)  Renewables and other (quad Btu)  \\\n",
       "0                     0.711000                         0.007386   \n",
       "1                     0.721000                         0.007537   \n",
       "2                     0.707000                         0.007391   \n",
       "3                     0.746000                         0.007848   \n",
       "4                     0.757000                         0.007903   \n",
       "...                        ...                              ...   \n",
       "9655                  4.130900                         0.044062   \n",
       "9656                  5.254980                         0.049737   \n",
       "9657                  4.380599                         0.040666   \n",
       "9658                  3.938347                         0.037482   \n",
       "9659                  4.141269                         0.037381   \n",
       "\n",
       "      Solar (billion kWh)  Solar, tide, wave, fuel cell (billion kWh)  \\\n",
       "0                 0.00000                                     0.00000   \n",
       "1                 0.00000                                     0.00000   \n",
       "2                 0.00000                                     0.00000   \n",
       "3                 0.00000                                     0.00000   \n",
       "4                 0.00000                                     0.00000   \n",
       "...                   ...                                         ...   \n",
       "9655              0.01100                                     0.01100   \n",
       "9656              0.01900                                     0.01900   \n",
       "9657              0.02600                                     0.02600   \n",
       "9658              0.03400                                     0.03400   \n",
       "9659              0.04148                                     0.04148   \n",
       "\n",
       "      Tide and wave (billion kWh)  Wind (billion kWh)  \n",
       "0                             0.0                 0.0  \n",
       "1                             0.0                 0.0  \n",
       "2                             0.0                 0.0  \n",
       "3                             0.0                 0.0  \n",
       "4                             0.0                 0.0  \n",
       "...                           ...                 ...  \n",
       "9655                          0.0                 0.0  \n",
       "9656                          0.0                 0.0  \n",
       "9657                          0.0                 0.0  \n",
       "9658                          0.0                 0.0  \n",
       "9659                          0.0                 0.0  \n",
       "\n",
       "[9660 rows x 28 columns]"
      ]
     },
     "execution_count": 489,
     "metadata": {},
     "output_type": "execute_result"
    }
   ],
   "source": [
    "df"
   ]
  },
  {
   "cell_type": "code",
   "execution_count": 490,
   "metadata": {},
   "outputs": [
    {
     "data": {
      "text/html": [
       "<div>\n",
       "<style scoped>\n",
       "    .dataframe tbody tr th:only-of-type {\n",
       "        vertical-align: middle;\n",
       "    }\n",
       "\n",
       "    .dataframe tbody tr th {\n",
       "        vertical-align: top;\n",
       "    }\n",
       "\n",
       "    .dataframe thead th {\n",
       "        text-align: right;\n",
       "    }\n",
       "</style>\n",
       "<table border=\"1\" class=\"dataframe\">\n",
       "  <thead>\n",
       "    <tr style=\"text-align: right;\">\n",
       "      <th></th>\n",
       "      <th>CO2 emissions (MMtonnes CO2)</th>\n",
       "    </tr>\n",
       "  </thead>\n",
       "  <tbody>\n",
       "    <tr>\n",
       "      <th>0</th>\n",
       "      <td>False</td>\n",
       "    </tr>\n",
       "    <tr>\n",
       "      <th>1</th>\n",
       "      <td>False</td>\n",
       "    </tr>\n",
       "    <tr>\n",
       "      <th>2</th>\n",
       "      <td>False</td>\n",
       "    </tr>\n",
       "    <tr>\n",
       "      <th>3</th>\n",
       "      <td>False</td>\n",
       "    </tr>\n",
       "    <tr>\n",
       "      <th>4</th>\n",
       "      <td>False</td>\n",
       "    </tr>\n",
       "    <tr>\n",
       "      <th>...</th>\n",
       "      <td>...</td>\n",
       "    </tr>\n",
       "    <tr>\n",
       "      <th>9655</th>\n",
       "      <td>False</td>\n",
       "    </tr>\n",
       "    <tr>\n",
       "      <th>9656</th>\n",
       "      <td>False</td>\n",
       "    </tr>\n",
       "    <tr>\n",
       "      <th>9657</th>\n",
       "      <td>False</td>\n",
       "    </tr>\n",
       "    <tr>\n",
       "      <th>9658</th>\n",
       "      <td>False</td>\n",
       "    </tr>\n",
       "    <tr>\n",
       "      <th>9659</th>\n",
       "      <td>False</td>\n",
       "    </tr>\n",
       "  </tbody>\n",
       "</table>\n",
       "<p>9660 rows × 1 columns</p>\n",
       "</div>"
      ],
      "text/plain": [
       "      CO2 emissions (MMtonnes CO2)\n",
       "0                            False\n",
       "1                            False\n",
       "2                            False\n",
       "3                            False\n",
       "4                            False\n",
       "...                            ...\n",
       "9655                         False\n",
       "9656                         False\n",
       "9657                         False\n",
       "9658                         False\n",
       "9659                         False\n",
       "\n",
       "[9660 rows x 1 columns]"
      ]
     },
     "execution_count": 490,
     "metadata": {},
     "output_type": "execute_result"
    }
   ],
   "source": [
    "df2"
   ]
  },
  {
   "cell_type": "code",
   "execution_count": 491,
   "metadata": {},
   "outputs": [
    {
     "data": {
      "text/html": [
       "<div>\n",
       "<style scoped>\n",
       "    .dataframe tbody tr th:only-of-type {\n",
       "        vertical-align: middle;\n",
       "    }\n",
       "\n",
       "    .dataframe tbody tr th {\n",
       "        vertical-align: top;\n",
       "    }\n",
       "\n",
       "    .dataframe thead th {\n",
       "        text-align: right;\n",
       "    }\n",
       "</style>\n",
       "<table border=\"1\" class=\"dataframe\">\n",
       "  <thead>\n",
       "    <tr style=\"text-align: right;\">\n",
       "      <th></th>\n",
       "      <th>COUNTRY</th>\n",
       "      <th>Year</th>\n",
       "      <th>Biomass and waste (billion kWh)</th>\n",
       "      <th>CO2 emissions (MMtonnes CO2)</th>\n",
       "      <th>Coal (quad Btu)</th>\n",
       "      <th>Coal and coke (MMtonnes CO2)</th>\n",
       "      <th>Consumed natural gas (MMtonnes CO2)</th>\n",
       "      <th>Consumption (quad Btu)</th>\n",
       "      <th>Fossil fuels (billion kWh)</th>\n",
       "      <th>GDP</th>\n",
       "      <th>...</th>\n",
       "      <th>Nuclear, renewables, and other (quad Btu)</th>\n",
       "      <th>Petroleum and other liquids (MMtonnes CO2)</th>\n",
       "      <th>Petroleum and other liquids (quad Btu)</th>\n",
       "      <th>Population</th>\n",
       "      <th>Renewables (billion kWh)</th>\n",
       "      <th>Renewables and other (quad Btu)</th>\n",
       "      <th>Solar (billion kWh)</th>\n",
       "      <th>Solar, tide, wave, fuel cell (billion kWh)</th>\n",
       "      <th>Tide and wave (billion kWh)</th>\n",
       "      <th>Wind (billion kWh)</th>\n",
       "    </tr>\n",
       "  </thead>\n",
       "  <tbody>\n",
       "    <tr>\n",
       "      <th>count</th>\n",
       "      <td>9660.00000</td>\n",
       "      <td>9660.000000</td>\n",
       "      <td>9660.000000</td>\n",
       "      <td>9660.000000</td>\n",
       "      <td>9660.000000</td>\n",
       "      <td>9660.000000</td>\n",
       "      <td>9660.000000</td>\n",
       "      <td>9660.000000</td>\n",
       "      <td>9660.000000</td>\n",
       "      <td>9660.000000</td>\n",
       "      <td>...</td>\n",
       "      <td>9660.000000</td>\n",
       "      <td>9660.000000</td>\n",
       "      <td>9660.000000</td>\n",
       "      <td>9.660000e+03</td>\n",
       "      <td>9660.000000</td>\n",
       "      <td>9660.000000</td>\n",
       "      <td>9660.000000</td>\n",
       "      <td>9660.000000</td>\n",
       "      <td>9660.000000</td>\n",
       "      <td>9660.000000</td>\n",
       "    </tr>\n",
       "    <tr>\n",
       "      <th>mean</th>\n",
       "      <td>114.50000</td>\n",
       "      <td>2000.500000</td>\n",
       "      <td>2.073410</td>\n",
       "      <td>232.578126</td>\n",
       "      <td>1.049387</td>\n",
       "      <td>99.796681</td>\n",
       "      <td>44.390043</td>\n",
       "      <td>3.787541</td>\n",
       "      <td>90.690231</td>\n",
       "      <td>625.642962</td>\n",
       "      <td>...</td>\n",
       "      <td>0.522760</td>\n",
       "      <td>88.391402</td>\n",
       "      <td>1.379538</td>\n",
       "      <td>5.305504e+04</td>\n",
       "      <td>30.711509</td>\n",
       "      <td>0.324916</td>\n",
       "      <td>0.998843</td>\n",
       "      <td>1.005471</td>\n",
       "      <td>0.006628</td>\n",
       "      <td>2.672044</td>\n",
       "    </tr>\n",
       "    <tr>\n",
       "      <th>std</th>\n",
       "      <td>66.39809</td>\n",
       "      <td>12.121546</td>\n",
       "      <td>21.143353</td>\n",
       "      <td>1880.749682</td>\n",
       "      <td>9.107460</td>\n",
       "      <td>865.824852</td>\n",
       "      <td>363.886693</td>\n",
       "      <td>30.525783</td>\n",
       "      <td>764.643922</td>\n",
       "      <td>5344.248527</td>\n",
       "      <td>...</td>\n",
       "      <td>4.310244</td>\n",
       "      <td>692.845906</td>\n",
       "      <td>10.851800</td>\n",
       "      <td>4.240884e+05</td>\n",
       "      <td>267.051964</td>\n",
       "      <td>2.754344</td>\n",
       "      <td>19.047750</td>\n",
       "      <td>19.073880</td>\n",
       "      <td>0.065737</td>\n",
       "      <td>40.616540</td>\n",
       "    </tr>\n",
       "    <tr>\n",
       "      <th>min</th>\n",
       "      <td>0.00000</td>\n",
       "      <td>1980.000000</td>\n",
       "      <td>0.000000</td>\n",
       "      <td>0.000000</td>\n",
       "      <td>0.000000</td>\n",
       "      <td>-0.005130</td>\n",
       "      <td>0.000000</td>\n",
       "      <td>0.000000</td>\n",
       "      <td>0.000000</td>\n",
       "      <td>0.000000</td>\n",
       "      <td>...</td>\n",
       "      <td>-0.168214</td>\n",
       "      <td>0.000000</td>\n",
       "      <td>0.000000</td>\n",
       "      <td>0.000000e+00</td>\n",
       "      <td>0.000000</td>\n",
       "      <td>-0.168214</td>\n",
       "      <td>0.000000</td>\n",
       "      <td>0.000000</td>\n",
       "      <td>0.000000</td>\n",
       "      <td>0.000000</td>\n",
       "    </tr>\n",
       "    <tr>\n",
       "      <th>25%</th>\n",
       "      <td>57.00000</td>\n",
       "      <td>1990.000000</td>\n",
       "      <td>0.000000</td>\n",
       "      <td>0.500000</td>\n",
       "      <td>0.000000</td>\n",
       "      <td>0.000000</td>\n",
       "      <td>0.000000</td>\n",
       "      <td>0.008079</td>\n",
       "      <td>0.063630</td>\n",
       "      <td>0.000000</td>\n",
       "      <td>...</td>\n",
       "      <td>0.000000</td>\n",
       "      <td>0.484886</td>\n",
       "      <td>0.006991</td>\n",
       "      <td>1.709688e+02</td>\n",
       "      <td>0.000000</td>\n",
       "      <td>0.000000</td>\n",
       "      <td>0.000000</td>\n",
       "      <td>0.000000</td>\n",
       "      <td>0.000000</td>\n",
       "      <td>0.000000</td>\n",
       "    </tr>\n",
       "    <tr>\n",
       "      <th>50%</th>\n",
       "      <td>114.50000</td>\n",
       "      <td>2000.500000</td>\n",
       "      <td>0.000000</td>\n",
       "      <td>4.299291</td>\n",
       "      <td>0.000000</td>\n",
       "      <td>0.000081</td>\n",
       "      <td>0.000000</td>\n",
       "      <td>0.092087</td>\n",
       "      <td>0.872160</td>\n",
       "      <td>17.212815</td>\n",
       "      <td>...</td>\n",
       "      <td>0.004995</td>\n",
       "      <td>3.061781</td>\n",
       "      <td>0.043368</td>\n",
       "      <td>3.989538e+03</td>\n",
       "      <td>0.354500</td>\n",
       "      <td>0.004573</td>\n",
       "      <td>0.000000</td>\n",
       "      <td>0.000000</td>\n",
       "      <td>0.000000</td>\n",
       "      <td>0.000000</td>\n",
       "    </tr>\n",
       "    <tr>\n",
       "      <th>75%</th>\n",
       "      <td>172.00000</td>\n",
       "      <td>2011.000000</td>\n",
       "      <td>0.049000</td>\n",
       "      <td>43.280036</td>\n",
       "      <td>0.032710</td>\n",
       "      <td>3.333108</td>\n",
       "      <td>6.440262</td>\n",
       "      <td>0.788267</td>\n",
       "      <td>14.704384</td>\n",
       "      <td>143.551025</td>\n",
       "      <td>...</td>\n",
       "      <td>0.073468</td>\n",
       "      <td>23.769775</td>\n",
       "      <td>0.350614</td>\n",
       "      <td>1.576925e+04</td>\n",
       "      <td>5.338566</td>\n",
       "      <td>0.055075</td>\n",
       "      <td>0.001000</td>\n",
       "      <td>0.001000</td>\n",
       "      <td>0.000000</td>\n",
       "      <td>0.000325</td>\n",
       "    </tr>\n",
       "    <tr>\n",
       "      <th>max</th>\n",
       "      <td>229.00000</td>\n",
       "      <td>2021.000000</td>\n",
       "      <td>639.969020</td>\n",
       "      <td>35655.030690</td>\n",
       "      <td>173.359051</td>\n",
       "      <td>16460.029080</td>\n",
       "      <td>7948.649507</td>\n",
       "      <td>603.320807</td>\n",
       "      <td>16832.819160</td>\n",
       "      <td>131934.428000</td>\n",
       "      <td>...</td>\n",
       "      <td>100.872893</td>\n",
       "      <td>12188.747950</td>\n",
       "      <td>198.201126</td>\n",
       "      <td>7.907777e+06</td>\n",
       "      <td>7801.504076</td>\n",
       "      <td>72.842014</td>\n",
       "      <td>1036.244409</td>\n",
       "      <td>1037.218409</td>\n",
       "      <td>1.348000</td>\n",
       "      <td>1807.798762</td>\n",
       "    </tr>\n",
       "  </tbody>\n",
       "</table>\n",
       "<p>8 rows × 28 columns</p>\n",
       "</div>"
      ],
      "text/plain": [
       "          COUNTRY         Year  Biomass and waste (billion kWh)  \\\n",
       "count  9660.00000  9660.000000                      9660.000000   \n",
       "mean    114.50000  2000.500000                         2.073410   \n",
       "std      66.39809    12.121546                        21.143353   \n",
       "min       0.00000  1980.000000                         0.000000   \n",
       "25%      57.00000  1990.000000                         0.000000   \n",
       "50%     114.50000  2000.500000                         0.000000   \n",
       "75%     172.00000  2011.000000                         0.049000   \n",
       "max     229.00000  2021.000000                       639.969020   \n",
       "\n",
       "       CO2 emissions (MMtonnes CO2)  Coal (quad Btu)  \\\n",
       "count                   9660.000000      9660.000000   \n",
       "mean                     232.578126         1.049387   \n",
       "std                     1880.749682         9.107460   \n",
       "min                        0.000000         0.000000   \n",
       "25%                        0.500000         0.000000   \n",
       "50%                        4.299291         0.000000   \n",
       "75%                       43.280036         0.032710   \n",
       "max                    35655.030690       173.359051   \n",
       "\n",
       "       Coal and coke (MMtonnes CO2)  Consumed natural gas (MMtonnes CO2)  \\\n",
       "count                   9660.000000                          9660.000000   \n",
       "mean                      99.796681                            44.390043   \n",
       "std                      865.824852                           363.886693   \n",
       "min                       -0.005130                             0.000000   \n",
       "25%                        0.000000                             0.000000   \n",
       "50%                        0.000081                             0.000000   \n",
       "75%                        3.333108                             6.440262   \n",
       "max                    16460.029080                          7948.649507   \n",
       "\n",
       "       Consumption (quad Btu)  Fossil fuels (billion kWh)            GDP  ...  \\\n",
       "count             9660.000000                 9660.000000    9660.000000  ...   \n",
       "mean                 3.787541                   90.690231     625.642962  ...   \n",
       "std                 30.525783                  764.643922    5344.248527  ...   \n",
       "min                  0.000000                    0.000000       0.000000  ...   \n",
       "25%                  0.008079                    0.063630       0.000000  ...   \n",
       "50%                  0.092087                    0.872160      17.212815  ...   \n",
       "75%                  0.788267                   14.704384     143.551025  ...   \n",
       "max                603.320807                16832.819160  131934.428000  ...   \n",
       "\n",
       "       Nuclear, renewables, and other (quad Btu)  \\\n",
       "count                                9660.000000   \n",
       "mean                                    0.522760   \n",
       "std                                     4.310244   \n",
       "min                                    -0.168214   \n",
       "25%                                     0.000000   \n",
       "50%                                     0.004995   \n",
       "75%                                     0.073468   \n",
       "max                                   100.872893   \n",
       "\n",
       "       Petroleum and other liquids (MMtonnes CO2)  \\\n",
       "count                                 9660.000000   \n",
       "mean                                    88.391402   \n",
       "std                                    692.845906   \n",
       "min                                      0.000000   \n",
       "25%                                      0.484886   \n",
       "50%                                      3.061781   \n",
       "75%                                     23.769775   \n",
       "max                                  12188.747950   \n",
       "\n",
       "       Petroleum and other liquids (quad Btu)    Population  \\\n",
       "count                             9660.000000  9.660000e+03   \n",
       "mean                                 1.379538  5.305504e+04   \n",
       "std                                 10.851800  4.240884e+05   \n",
       "min                                  0.000000  0.000000e+00   \n",
       "25%                                  0.006991  1.709688e+02   \n",
       "50%                                  0.043368  3.989538e+03   \n",
       "75%                                  0.350614  1.576925e+04   \n",
       "max                                198.201126  7.907777e+06   \n",
       "\n",
       "       Renewables (billion kWh)  Renewables and other (quad Btu)  \\\n",
       "count               9660.000000                      9660.000000   \n",
       "mean                  30.711509                         0.324916   \n",
       "std                  267.051964                         2.754344   \n",
       "min                    0.000000                        -0.168214   \n",
       "25%                    0.000000                         0.000000   \n",
       "50%                    0.354500                         0.004573   \n",
       "75%                    5.338566                         0.055075   \n",
       "max                 7801.504076                        72.842014   \n",
       "\n",
       "       Solar (billion kWh)  Solar, tide, wave, fuel cell (billion kWh)  \\\n",
       "count          9660.000000                                 9660.000000   \n",
       "mean              0.998843                                    1.005471   \n",
       "std              19.047750                                   19.073880   \n",
       "min               0.000000                                    0.000000   \n",
       "25%               0.000000                                    0.000000   \n",
       "50%               0.000000                                    0.000000   \n",
       "75%               0.001000                                    0.001000   \n",
       "max            1036.244409                                 1037.218409   \n",
       "\n",
       "       Tide and wave (billion kWh)  Wind (billion kWh)  \n",
       "count                  9660.000000         9660.000000  \n",
       "mean                      0.006628            2.672044  \n",
       "std                       0.065737           40.616540  \n",
       "min                       0.000000            0.000000  \n",
       "25%                       0.000000            0.000000  \n",
       "50%                       0.000000            0.000000  \n",
       "75%                       0.000000            0.000325  \n",
       "max                       1.348000         1807.798762  \n",
       "\n",
       "[8 rows x 28 columns]"
      ]
     },
     "execution_count": 491,
     "metadata": {},
     "output_type": "execute_result"
    }
   ],
   "source": [
    "df.describe()"
   ]
  },
  {
   "cell_type": "code",
   "execution_count": 492,
   "metadata": {},
   "outputs": [
    {
     "data": {
      "text/plain": [
       "Index(['COUNTRY', 'Year', 'Biomass and waste (billion kWh)',\n",
       "       'CO2 emissions (MMtonnes CO2)', 'Coal (quad Btu)',\n",
       "       'Coal and coke (MMtonnes CO2)', 'Consumed natural gas (MMtonnes CO2)',\n",
       "       'Consumption (quad Btu)', 'Fossil fuels (billion kWh)', 'GDP',\n",
       "       'Generation (billion kWh)', 'Geothermal (billion kWh)',\n",
       "       'Hydroelectric pumped storage (billion kWh)',\n",
       "       'Hydroelectricity (billion kWh)', 'Natural gas (quad Btu)',\n",
       "       'Non-hydroelectric renewables (billion kWh)', 'Nuclear (billion kWh)',\n",
       "       'Nuclear (quad Btu)', 'Nuclear, renewables, and other (quad Btu)',\n",
       "       'Petroleum and other liquids (MMtonnes CO2)',\n",
       "       'Petroleum and other liquids (quad Btu)', 'Population',\n",
       "       'Renewables (billion kWh)', 'Renewables and other (quad Btu)',\n",
       "       'Solar (billion kWh)', 'Solar, tide, wave, fuel cell (billion kWh)',\n",
       "       'Tide and wave (billion kWh)', 'Wind (billion kWh)'],\n",
       "      dtype='object')"
      ]
     },
     "execution_count": 492,
     "metadata": {},
     "output_type": "execute_result"
    }
   ],
   "source": [
    "df.columns"
   ]
  },
  {
   "cell_type": "markdown",
   "metadata": {},
   "source": [
    "### 테스트 데이터 분리"
   ]
  },
  {
   "cell_type": "code",
   "execution_count": 493,
   "metadata": {},
   "outputs": [],
   "source": [
    "# ['COUNTRY','CO2 emissions (MMtonnes CO2)', 'Coal and coke (MMtonnes CO2)', 'Consumed natural gas (MMtonnes CO2)','CO2 emissions (MMtonnes CO2)','Generation (billion kWh)','Consumption (quad Btu)','Non-hydroelectric renewables (billion kWh)','Solar, tide, wave, fuel cell (billion kWh)','Nuclear, renewables, and other (quad Btu)','Petroleum and other liquids (MMtonnes CO2)','Renewables (billion kWh)']\n",
    "#X = df.drop(['CO2 emissions (MMtonnes CO2)'], axis=1)\n",
    "# 'Coal and coke (MMtonnes CO2)', 'Consumed natural gas (MMtonnes CO2)', 'Petroleum and other liquids (MMtonnes CO2)', 'CO2 emissions (MMtonnes CO2)'\n",
    "X = df.drop(['Year','COUNTRY','CO2 emissions (MMtonnes CO2)', 'Coal and coke (MMtonnes CO2)', 'Consumed natural gas (MMtonnes CO2)','CO2 emissions (MMtonnes CO2)','Generation (billion kWh)','Consumption (quad Btu)','Non-hydroelectric renewables (billion kWh)','Solar, tide, wave, fuel cell (billion kWh)','Nuclear, renewables, and other (quad Btu)','Petroleum and other liquids (MMtonnes CO2)','Renewables (billion kWh)'], axis=1)\n",
    "y = df['CO2 emissions (MMtonnes CO2)']\n",
    "# train_test_split() 함수로 학습 데이터와 테스트 데이터 분리하기\n",
    "X_train, X_test, y_train, y_test = train_test_split(X, y, test_size = 0.3, random_state = 100, shuffle = False)"
   ]
  },
  {
   "cell_type": "code",
   "execution_count": 494,
   "metadata": {},
   "outputs": [
    {
     "data": {
      "text/html": [
       "<div>\n",
       "<style scoped>\n",
       "    .dataframe tbody tr th:only-of-type {\n",
       "        vertical-align: middle;\n",
       "    }\n",
       "\n",
       "    .dataframe tbody tr th {\n",
       "        vertical-align: top;\n",
       "    }\n",
       "\n",
       "    .dataframe thead th {\n",
       "        text-align: right;\n",
       "    }\n",
       "</style>\n",
       "<table border=\"1\" class=\"dataframe\">\n",
       "  <thead>\n",
       "    <tr style=\"text-align: right;\">\n",
       "      <th></th>\n",
       "      <th>Biomass and waste (billion kWh)</th>\n",
       "      <th>Coal (quad Btu)</th>\n",
       "      <th>Fossil fuels (billion kWh)</th>\n",
       "      <th>GDP</th>\n",
       "      <th>Geothermal (billion kWh)</th>\n",
       "      <th>Hydroelectric pumped storage (billion kWh)</th>\n",
       "      <th>Hydroelectricity (billion kWh)</th>\n",
       "      <th>Natural gas (quad Btu)</th>\n",
       "      <th>Nuclear (billion kWh)</th>\n",
       "      <th>Nuclear (quad Btu)</th>\n",
       "      <th>Petroleum and other liquids (quad Btu)</th>\n",
       "      <th>Population</th>\n",
       "      <th>Renewables and other (quad Btu)</th>\n",
       "      <th>Solar (billion kWh)</th>\n",
       "      <th>Tide and wave (billion kWh)</th>\n",
       "      <th>Wind (billion kWh)</th>\n",
       "    </tr>\n",
       "  </thead>\n",
       "  <tbody>\n",
       "    <tr>\n",
       "      <th>0</th>\n",
       "      <td>0.0</td>\n",
       "      <td>0.002479</td>\n",
       "      <td>0.231</td>\n",
       "      <td>0.0</td>\n",
       "      <td>0.0</td>\n",
       "      <td>0.0</td>\n",
       "      <td>0.711</td>\n",
       "      <td>0.002094</td>\n",
       "      <td>0.0</td>\n",
       "      <td>0.0</td>\n",
       "      <td>0.014624</td>\n",
       "      <td>13356.50</td>\n",
       "      <td>0.007386</td>\n",
       "      <td>0.0</td>\n",
       "      <td>0.0</td>\n",
       "      <td>0.0</td>\n",
       "    </tr>\n",
       "    <tr>\n",
       "      <th>1</th>\n",
       "      <td>0.0</td>\n",
       "      <td>0.002604</td>\n",
       "      <td>0.271</td>\n",
       "      <td>0.0</td>\n",
       "      <td>0.0</td>\n",
       "      <td>0.0</td>\n",
       "      <td>0.721</td>\n",
       "      <td>0.003141</td>\n",
       "      <td>0.0</td>\n",
       "      <td>0.0</td>\n",
       "      <td>0.016668</td>\n",
       "      <td>13171.68</td>\n",
       "      <td>0.007537</td>\n",
       "      <td>0.0</td>\n",
       "      <td>0.0</td>\n",
       "      <td>0.0</td>\n",
       "    </tr>\n",
       "    <tr>\n",
       "      <th>2</th>\n",
       "      <td>0.0</td>\n",
       "      <td>0.003021</td>\n",
       "      <td>0.245</td>\n",
       "      <td>0.0</td>\n",
       "      <td>0.0</td>\n",
       "      <td>0.0</td>\n",
       "      <td>0.707</td>\n",
       "      <td>0.005235</td>\n",
       "      <td>0.0</td>\n",
       "      <td>0.0</td>\n",
       "      <td>0.016251</td>\n",
       "      <td>12882.52</td>\n",
       "      <td>0.007391</td>\n",
       "      <td>0.0</td>\n",
       "      <td>0.0</td>\n",
       "      <td>0.0</td>\n",
       "    </tr>\n",
       "    <tr>\n",
       "      <th>3</th>\n",
       "      <td>0.0</td>\n",
       "      <td>0.003021</td>\n",
       "      <td>0.254</td>\n",
       "      <td>0.0</td>\n",
       "      <td>0.0</td>\n",
       "      <td>0.0</td>\n",
       "      <td>0.746</td>\n",
       "      <td>0.005235</td>\n",
       "      <td>0.0</td>\n",
       "      <td>0.0</td>\n",
       "      <td>0.022918</td>\n",
       "      <td>12537.73</td>\n",
       "      <td>0.007848</td>\n",
       "      <td>0.0</td>\n",
       "      <td>0.0</td>\n",
       "      <td>0.0</td>\n",
       "    </tr>\n",
       "    <tr>\n",
       "      <th>4</th>\n",
       "      <td>0.0</td>\n",
       "      <td>0.003083</td>\n",
       "      <td>0.262</td>\n",
       "      <td>0.0</td>\n",
       "      <td>0.0</td>\n",
       "      <td>0.0</td>\n",
       "      <td>0.757</td>\n",
       "      <td>0.005235</td>\n",
       "      <td>0.0</td>\n",
       "      <td>0.0</td>\n",
       "      <td>0.022981</td>\n",
       "      <td>12204.31</td>\n",
       "      <td>0.007903</td>\n",
       "      <td>0.0</td>\n",
       "      <td>0.0</td>\n",
       "      <td>0.0</td>\n",
       "    </tr>\n",
       "  </tbody>\n",
       "</table>\n",
       "</div>"
      ],
      "text/plain": [
       "   Biomass and waste (billion kWh)  Coal (quad Btu)  \\\n",
       "0                              0.0         0.002479   \n",
       "1                              0.0         0.002604   \n",
       "2                              0.0         0.003021   \n",
       "3                              0.0         0.003021   \n",
       "4                              0.0         0.003083   \n",
       "\n",
       "   Fossil fuels (billion kWh)  GDP  Geothermal (billion kWh)  \\\n",
       "0                       0.231  0.0                       0.0   \n",
       "1                       0.271  0.0                       0.0   \n",
       "2                       0.245  0.0                       0.0   \n",
       "3                       0.254  0.0                       0.0   \n",
       "4                       0.262  0.0                       0.0   \n",
       "\n",
       "   Hydroelectric pumped storage (billion kWh)  Hydroelectricity (billion kWh)  \\\n",
       "0                                         0.0                           0.711   \n",
       "1                                         0.0                           0.721   \n",
       "2                                         0.0                           0.707   \n",
       "3                                         0.0                           0.746   \n",
       "4                                         0.0                           0.757   \n",
       "\n",
       "   Natural gas (quad Btu)  Nuclear (billion kWh)  Nuclear (quad Btu)  \\\n",
       "0                0.002094                    0.0                 0.0   \n",
       "1                0.003141                    0.0                 0.0   \n",
       "2                0.005235                    0.0                 0.0   \n",
       "3                0.005235                    0.0                 0.0   \n",
       "4                0.005235                    0.0                 0.0   \n",
       "\n",
       "   Petroleum and other liquids (quad Btu)  Population  \\\n",
       "0                                0.014624    13356.50   \n",
       "1                                0.016668    13171.68   \n",
       "2                                0.016251    12882.52   \n",
       "3                                0.022918    12537.73   \n",
       "4                                0.022981    12204.31   \n",
       "\n",
       "   Renewables and other (quad Btu)  Solar (billion kWh)  \\\n",
       "0                         0.007386                  0.0   \n",
       "1                         0.007537                  0.0   \n",
       "2                         0.007391                  0.0   \n",
       "3                         0.007848                  0.0   \n",
       "4                         0.007903                  0.0   \n",
       "\n",
       "   Tide and wave (billion kWh)  Wind (billion kWh)  \n",
       "0                          0.0                 0.0  \n",
       "1                          0.0                 0.0  \n",
       "2                          0.0                 0.0  \n",
       "3                          0.0                 0.0  \n",
       "4                          0.0                 0.0  "
      ]
     },
     "execution_count": 494,
     "metadata": {},
     "output_type": "execute_result"
    }
   ],
   "source": [
    "X.head()"
   ]
  },
  {
   "cell_type": "code",
   "execution_count": 495,
   "metadata": {},
   "outputs": [
    {
     "data": {
      "text/plain": [
       "0        1.325965\n",
       "1        1.509628\n",
       "2        1.659605\n",
       "3        2.059605\n",
       "4        2.065436\n",
       "          ...    \n",
       "9655     8.992426\n",
       "9656    10.290169\n",
       "9657     9.408047\n",
       "9658     8.253322\n",
       "9659     8.118910\n",
       "Name: CO2 emissions (MMtonnes CO2), Length: 9660, dtype: float64"
      ]
     },
     "execution_count": 495,
     "metadata": {},
     "output_type": "execute_result"
    }
   ],
   "source": [
    "y"
   ]
  },
  {
   "cell_type": "code",
   "execution_count": 496,
   "metadata": {},
   "outputs": [
    {
     "name": "stdout",
     "output_type": "stream",
     "text": [
      "                            OLS Regression Results                            \n",
      "==============================================================================\n",
      "Dep. Variable:                      y   R-squared:                       1.000\n",
      "Model:                            OLS   Adj. R-squared:                  1.000\n",
      "Method:                 Least Squares   F-statistic:                 1.217e+07\n",
      "Date:                Mon, 06 Nov 2023   Prob (F-statistic):               0.00\n",
      "Time:                        18:07:39   Log-Likelihood:                -38655.\n",
      "No. Observations:                9660   AIC:                         7.734e+04\n",
      "Df Residuals:                    9643   BIC:                         7.747e+04\n",
      "Df Model:                          16                                         \n",
      "Covariance Type:            nonrobust                                         \n",
      "==============================================================================\n",
      "                 coef    std err          t      P>|t|      [0.025      0.975]\n",
      "------------------------------------------------------------------------------\n",
      "Intercept      0.0320      0.136      0.235      0.814      -0.234       0.298\n",
      "X[0]           0.5972      0.047     12.795      0.000       0.506       0.689\n",
      "X[1]          97.6342      0.164    594.871      0.000      97.312      97.956\n",
      "X[2]          -0.1097      0.005    -24.187      0.000      -0.119      -0.101\n",
      "X[3]          -0.0014      0.001     -2.565      0.010      -0.002      -0.000\n",
      "X[4]           1.3629      0.144      9.482      0.000       1.081       1.645\n",
      "X[5]          -4.3780      0.444     -9.855      0.000      -5.249      -3.507\n",
      "X[6]          -0.2843      0.012    -23.397      0.000      -0.308      -0.260\n",
      "X[7]          57.1403      0.192    297.605      0.000      56.764      57.517\n",
      "X[8]          -2.4850      0.119    -20.852      0.000      -2.719      -2.251\n",
      "X[9]         247.8492     11.474     21.602      0.000     225.359     270.340\n",
      "X[10]         62.3214      0.164    379.965      0.000      62.000      62.643\n",
      "X[11]       5.841e-05   2.13e-06     27.477      0.000    5.42e-05    6.26e-05\n",
      "X[12]         23.6922      1.280     18.502      0.000      21.182      26.202\n",
      "X[13]          0.4743      0.033     14.382      0.000       0.410       0.539\n",
      "X[14]        -12.8922      3.879     -3.324      0.001     -20.495      -5.289\n",
      "X[15]         -0.8413      0.032    -26.297      0.000      -0.904      -0.779\n",
      "==============================================================================\n",
      "Omnibus:                    11626.620   Durbin-Watson:                   0.774\n",
      "Prob(Omnibus):                  0.000   Jarque-Bera (JB):         22072356.255\n",
      "Skew:                          -5.432   Prob(JB):                         0.00\n",
      "Kurtosis:                     236.923   Cond. No.                     3.64e+07\n",
      "==============================================================================\n",
      "\n",
      "Notes:\n",
      "[1] Standard Errors assume that the covariance matrix of the errors is correctly specified.\n",
      "[2] The condition number is large, 3.64e+07. This might indicate that there are\n",
      "strong multicollinearity or other numerical problems.\n"
     ]
    }
   ],
   "source": [
    "# 코드 10-2\n",
    "# 스탯츠모델스, 사이킷런 ==========\n",
    "from statsmodels.formula.api import ols \n",
    "from sklearn.linear_model import LinearRegression\n",
    "\n",
    "# 선형 회귀모형 형태(종속변수 ~ 독립변수1 + 독립변수2 + 독립변수3 + ···)\n",
    "# 단순 선형 회귀분석 ==========\n",
    "\n",
    "fit = ols('y~X', data=df).fit()\n",
    "print(fit.summary())"
   ]
  },
  {
   "cell_type": "code",
   "execution_count": 497,
   "metadata": {},
   "outputs": [],
   "source": [
    "# alphas = [0.0001, 0.001, 0.01, 0.05, 0.1, 0.5, 2, 5, 10, 100]\n",
    "\n",
    "# for alpha in alphas:\n",
    "#     model = LinearSVR(epsilon=alpha, random_state=43)\n",
    "#     model.fit(X_train, y_train) # 모델 학습ㄴ\n",
    "    \n",
    "    \n",
    "#     # Predict를 수행하고 mean_absolute_error, rmse 결과 출력하기\n",
    "#     pred = model.predict(X_test)    # X_test를 이용한 예측값 pred \n",
    "#     mean_absolute_error(y_test, pred)\n",
    "#     np.sqrt(mean_squared_error(y_test, pred))\n",
    "\n",
    "#     mae = mean_absolute_error(y_test, pred)\n",
    "#     rmse = np.sqrt(mean_squared_error(y_test, pred))\n",
    "\n",
    "#     # MAE 및 RMSE를 백분율로 표시\n",
    "#     mae_percentage = (mae / np.mean(y_test)) * 100\n",
    "#     rmse_percentage = (rmse / np.mean(y_test)) * 100\n",
    "\n",
    "#     print(\"MAE: {:.2f}%\".format(mae_percentage))\n",
    "#     print(\"RMSE: {:.2f}%\".format(rmse_percentage))\n",
    "\n",
    "#     r2_score(y_test, pred)\n",
    "    \n",
    "        \n",
    "#         # Feature importance, feature 선언\n",
    "#     importances = model.coef_\n",
    "#     features = X.columns\n",
    "\n",
    "#     # 중요한 변수 순으로 정렬\n",
    "#     indices = np.argsort(importances)\n",
    "#     sorted_features = [features[i] for i in indices]\n",
    "\n",
    "#     # 그래프 크기 지정\n",
    "#     plt.title(alpha)\n",
    "#     plt.figure(figsize=(10, 8))\n",
    "\n",
    "#     # 막대그래프 show\n",
    "#     plt.barh(sorted_features, importances[indices])\n",
    "#     plt.show()"
   ]
  },
  {
   "cell_type": "markdown",
   "metadata": {},
   "source": [
    "### 1. LinearSVR 모델 학습"
   ]
  },
  {
   "cell_type": "code",
   "execution_count": 498,
   "metadata": {},
   "outputs": [
    {
     "name": "stderr",
     "output_type": "stream",
     "text": [
      "C:\\Users\\vlrms\\AppData\\Local\\Packages\\PythonSoftwareFoundation.Python.3.7_qbz5n2kfra8p0\\LocalCache\\local-packages\\Python37\\site-packages\\sklearn\\svm\\_base.py:1208: ConvergenceWarning: Liblinear failed to converge, increase the number of iterations.\n",
      "  ConvergenceWarning,\n"
     ]
    },
    {
     "data": {
      "text/plain": [
       "LinearSVR(epsilon=0.5, random_state=43)"
      ]
     },
     "execution_count": 498,
     "metadata": {},
     "output_type": "execute_result"
    }
   ],
   "source": [
    "model = LinearSVR(epsilon=0.5, random_state=43)\n",
    "model.fit(X_train, y_train) # 모델 학습ㄴ"
   ]
  },
  {
   "cell_type": "markdown",
   "metadata": {},
   "source": [
    "### 1. LinearSVR 모델 검증"
   ]
  },
  {
   "cell_type": "code",
   "execution_count": 499,
   "metadata": {},
   "outputs": [
    {
     "name": "stdout",
     "output_type": "stream",
     "text": [
      "MAE: 16.08%\n",
      "RMSE: 83.98%\n"
     ]
    },
    {
     "data": {
      "text/plain": [
       "0.9809915646180452"
      ]
     },
     "execution_count": 499,
     "metadata": {},
     "output_type": "execute_result"
    }
   ],
   "source": [
    "# Predict를 수행하고 mean_absolute_error, rmse 결과 출력하기\n",
    "pred = model.predict(X_test)    # X_test를 이용한 예측값 pred \n",
    "mean_absolute_error(y_test, pred)\n",
    "np.sqrt(mean_squared_error(y_test, pred))\n",
    "\n",
    "mae = mean_absolute_error(y_test, pred)\n",
    "rmse = np.sqrt(mean_squared_error(y_test, pred))\n",
    "\n",
    "# MAE 및 RMSE를 백분율로 표시\n",
    "mae_percentage = (mae / np.mean(y_test)) * 100\n",
    "rmse_percentage = (rmse / np.mean(y_test)) * 100\n",
    "\n",
    "print(\"MAE: {:.2f}%\".format(mae_percentage))\n",
    "print(\"RMSE: {:.2f}%\".format(rmse_percentage))\n",
    "\n",
    "r2_score(y_test, pred)"
   ]
  },
  {
   "cell_type": "markdown",
   "metadata": {},
   "source": [
    "### 1. LinearSVR 중요변수 확인"
   ]
  },
  {
   "cell_type": "code",
   "execution_count": 500,
   "metadata": {},
   "outputs": [
    {
     "data": {
      "image/png": "[encoded data removed]",
      "text/plain": [
       "<Figure size 720x576 with 1 Axes>"
      ]
     },
     "metadata": {
      "needs_background": "light"
     },
     "output_type": "display_data"
    }
   ],
   "source": [
    "# Feature importance, feature 선언\n",
    "importances = model.coef_\n",
    "features = X.columns\n",
    "\n",
    "# 중요한 변수 순으로 정렬\n",
    "indices = np.argsort(importances)\n",
    "sorted_features = [features[i] for i in indices]\n",
    "\n",
    "# 그래프 크기 지정\n",
    "plt.figure(figsize=(10, 8))\n",
    "\n",
    "# 막대그래프 show\n",
    "plt.barh(sorted_features, importances[indices])\n",
    "plt.show()"
   ]
  },
  {
   "cell_type": "code",
   "execution_count": null,
   "metadata": {},
   "outputs": [],
   "source": []
  },
  {
   "cell_type": "markdown",
   "metadata": {},
   "source": [
    "### 2. 릿지 회귀 학습"
   ]
  },
  {
   "cell_type": "code",
   "execution_count": 501,
   "metadata": {},
   "outputs": [
    {
     "data": {
      "text/plain": [
       "Ridge(alpha=0.5)"
      ]
     },
     "execution_count": 501,
     "metadata": {},
     "output_type": "execute_result"
    }
   ],
   "source": [
    "model = Ridge(alpha=0.5) \n",
    "model.fit(X_train, y_train) # 모델 학습"
   ]
  },
  {
   "cell_type": "markdown",
   "metadata": {},
   "source": [
    "### 2. 릿지 회귀 모델 검증"
   ]
  },
  {
   "cell_type": "code",
   "execution_count": 502,
   "metadata": {},
   "outputs": [
    {
     "name": "stdout",
     "output_type": "stream",
     "text": [
      "MAE: 2.33%\n",
      "RMSE: 11.46%\n"
     ]
    },
    {
     "data": {
      "text/plain": [
       "0.9996457268887702"
      ]
     },
     "execution_count": 502,
     "metadata": {},
     "output_type": "execute_result"
    }
   ],
   "source": [
    "# Predict를 수행하고 mean_absolute_error, rmse 결과 출력하기\n",
    "pred = model.predict(X_test)    # X_test를 이용한 예측값 pred \n",
    "mean_absolute_error(y_test, pred)\n",
    "np.sqrt(mean_squared_error(y_test, pred))\n",
    "\n",
    "mae = mean_absolute_error(y_test, pred)\n",
    "rmse = np.sqrt(mean_squared_error(y_test, pred))\n",
    "\n",
    "# MAE 및 RMSE를 백분율로 표시\n",
    "mae_percentage = (mae / np.mean(y_test)) * 100\n",
    "rmse_percentage = (rmse / np.mean(y_test)) * 100\n",
    "\n",
    "print(\"MAE: {:.2f}%\".format(mae_percentage))\n",
    "print(\"RMSE: {:.2f}%\".format(rmse_percentage))\n",
    "\n",
    "r2_score(y_test, pred)"
   ]
  },
  {
   "cell_type": "code",
   "execution_count": 503,
   "metadata": {},
   "outputs": [
    {
     "name": "stdout",
     "output_type": "stream",
     "text": [
      "Train MAE: 2.36\n",
      "Train RMSE: 7.15\n",
      "Test MAE: 12.62\n",
      "Test RMSE: 62.19\n"
     ]
    }
   ],
   "source": [
    "# 훈련 데이터에 대한 성능 확인\n",
    "train_pred = model.predict(X_train)\n",
    "train_mae = mean_absolute_error(y_train, train_pred)\n",
    "train_rmse = np.sqrt(mean_squared_error(y_train, train_pred))\n",
    "\n",
    "print(\"Train MAE: {:.2f}\".format(train_mae))\n",
    "print(\"Train RMSE: {:.2f}\".format(train_rmse))\n",
    "\n",
    "# 테스트 데이터에 대한 성능 확인\n",
    "test_mae = mean_absolute_error(y_test, pred)\n",
    "test_rmse = np.sqrt(mean_squared_error(y_test, pred))\n",
    "\n",
    "print(\"Test MAE: {:.2f}\".format(mae))\n",
    "print(\"Test RMSE: {:.2f}\".format(rmse))\n"
   ]
  },
  {
   "cell_type": "markdown",
   "metadata": {},
   "source": [
    "### 2. 릿지회귀 중요변수 확인"
   ]
  },
  {
   "cell_type": "code",
   "execution_count": 504,
   "metadata": {},
   "outputs": [
    {
     "data": {
      "image/png": "[encoded data removed]",
      "text/plain": [
       "<Figure size 720x576 with 1 Axes>"
      ]
     },
     "metadata": {
      "needs_background": "light"
     },
     "output_type": "display_data"
    }
   ],
   "source": [
    "# Feature coefficients, feature 선언\n",
    "coefficients = model.coef_\n",
    "features = X.columns\n",
    "\n",
    "# coefficients 순으로 정렬\n",
    "indices = np.argsort(coefficients)\n",
    "sorted_features = [features[i] for i in indices]\n",
    "\n",
    "# 그래프 크기 지정\n",
    "plt.figure(figsize=(10, 8))\n",
    "\n",
    "# 막대그래프 show\n",
    "plt.barh(sorted_features, coefficients[indices])\n",
    "plt.show()"
   ]
  },
  {
   "cell_type": "markdown",
   "metadata": {},
   "source": [
    "### 3. 라쏘 회귀 모델 학습"
   ]
  },
  {
   "cell_type": "code",
   "execution_count": 505,
   "metadata": {},
   "outputs": [
    {
     "data": {
      "text/plain": [
       "Lasso(alpha=0.5)"
      ]
     },
     "execution_count": 505,
     "metadata": {},
     "output_type": "execute_result"
    }
   ],
   "source": [
    "model = Lasso(alpha=0.5) \n",
    "model.fit(X_train, y_train) # 모델 학습"
   ]
  },
  {
   "cell_type": "markdown",
   "metadata": {},
   "source": [
    "### 3. 라쏘 회귀 모델 검증"
   ]
  },
  {
   "cell_type": "code",
   "execution_count": 506,
   "metadata": {},
   "outputs": [
    {
     "name": "stdout",
     "output_type": "stream",
     "text": [
      "MAE: 1.56%\n",
      "RMSE: 7.06%\n"
     ]
    },
    {
     "data": {
      "text/plain": [
       "0.9998655059754192"
      ]
     },
     "execution_count": 506,
     "metadata": {},
     "output_type": "execute_result"
    }
   ],
   "source": [
    "# Predict를 수행하고 mean_absolute_error, rmse 결과 출력하기\n",
    "pred = model.predict(X_test)    # X_test를 이용한 예측값 pred \n",
    "mean_absolute_error(y_test, pred)\n",
    "np.sqrt(mean_squared_error(y_test, pred))\n",
    "\n",
    "mae = mean_absolute_error(y_test, pred)\n",
    "rmse = np.sqrt(mean_squared_error(y_test, pred))\n",
    "\n",
    "# MAE 및 RMSE를 백분율로 표시\n",
    "mae_percentage = (mae / np.mean(y_test)) * 100\n",
    "rmse_percentage = (rmse / np.mean(y_test)) * 100\n",
    "\n",
    "print(\"MAE: {:.2f}%\".format(mae_percentage))\n",
    "print(\"RMSE: {:.2f}%\".format(rmse_percentage))\n",
    "\n",
    "r2_score(y_test, pred)"
   ]
  },
  {
   "cell_type": "code",
   "execution_count": 507,
   "metadata": {},
   "outputs": [
    {
     "data": {
      "image/png": "[encoded data removed]",
      "text/plain": [
       "<Figure size 720x576 with 1 Axes>"
      ]
     },
     "metadata": {
      "needs_background": "light"
     },
     "output_type": "display_data"
    }
   ],
   "source": [
    "# Feature coefficients, feature 선언\n",
    "coefficients = model.coef_\n",
    "features = X.columns\n",
    "\n",
    "# coefficients 순으로 정렬\n",
    "indices = np.argsort(coefficients)\n",
    "sorted_features = [features[i] for i in indices]\n",
    "\n",
    "# 그래프 크기 지정\n",
    "plt.figure(figsize=(10, 8))\n",
    "\n",
    "# 막대그래프 show\n",
    "plt.barh(sorted_features, coefficients[indices])\n",
    "plt.show()"
   ]
  },
  {
   "cell_type": "code",
   "execution_count": 508,
   "metadata": {},
   "outputs": [
    {
     "name": "stdout",
     "output_type": "stream",
     "text": [
      "Train MAE: 2.62\n",
      "Train RMSE: 7.87\n",
      "Test MAE: 8.44\n",
      "Test RMSE: 38.32\n"
     ]
    }
   ],
   "source": [
    "# 훈련 데이터에 대한 성능 확인\n",
    "train_pred = model.predict(X_train)\n",
    "train_mae = mean_absolute_error(y_train, train_pred)\n",
    "train_rmse = np.sqrt(mean_squared_error(y_train, train_pred))\n",
    "\n",
    "print(\"Train MAE: {:.2f}\".format(train_mae))\n",
    "print(\"Train RMSE: {:.2f}\".format(train_rmse))\n",
    "\n",
    "# 테스트 데이터에 대한 성능 확인\n",
    "test_mae = mean_absolute_error(y_test, pred)\n",
    "test_rmse = np.sqrt(mean_squared_error(y_test, pred))\n",
    "\n",
    "print(\"Test MAE: {:.2f}\".format(mae))\n",
    "print(\"Test RMSE: {:.2f}\".format(rmse))\n"
   ]
  },
  {
   "cell_type": "markdown",
   "metadata": {},
   "source": [
    "### 4. 엘라스틱넷 회귀 모델 학습"
   ]
  },
  {
   "cell_type": "code",
   "execution_count": 509,
   "metadata": {},
   "outputs": [
    {
     "data": {
      "text/plain": [
       "ElasticNet(alpha=0.5)"
      ]
     },
     "execution_count": 509,
     "metadata": {},
     "output_type": "execute_result"
    }
   ],
   "source": [
    "model = ElasticNet(alpha=0.5, l1_ratio=0.5) \n",
    "model.fit(X_train, y_train) # 모델 학습"
   ]
  },
  {
   "cell_type": "markdown",
   "metadata": {},
   "source": [
    "### 4. 엘라스틱넷  회귀 모델 검증"
   ]
  },
  {
   "cell_type": "code",
   "execution_count": 510,
   "metadata": {},
   "outputs": [
    {
     "name": "stdout",
     "output_type": "stream",
     "text": [
      "MAE: 6.01%\n",
      "RMSE: 26.59%\n"
     ]
    },
    {
     "data": {
      "text/plain": [
       "0.9980935788872685"
      ]
     },
     "execution_count": 510,
     "metadata": {},
     "output_type": "execute_result"
    }
   ],
   "source": [
    "# Predict를 수행하고 mean_absolute_error, rmse 결과 출력하기\n",
    "pred = model.predict(X_test)    # X_test를 이용한 예측값 pred \n",
    "mean_absolute_error(y_test, pred)\n",
    "np.sqrt(mean_squared_error(y_test, pred))\n",
    "\n",
    "mae = mean_absolute_error(y_test, pred)\n",
    "rmse = np.sqrt(mean_squared_error(y_test, pred))\n",
    "\n",
    "# MAE 및 RMSE를 백분율로 표시\n",
    "mae_percentage = (mae / np.mean(y_test)) * 100\n",
    "rmse_percentage = (rmse / np.mean(y_test)) * 100\n",
    "\n",
    "print(\"MAE: {:.2f}%\".format(mae_percentage))\n",
    "print(\"RMSE: {:.2f}%\".format(rmse_percentage))\n",
    "\n",
    "r2_score(y_test, pred)"
   ]
  },
  {
   "cell_type": "markdown",
   "metadata": {},
   "source": [
    "### 4. 엘라스틱넷 회귀 중요변수 확인\n"
   ]
  },
  {
   "cell_type": "code",
   "execution_count": 511,
   "metadata": {},
   "outputs": [
    {
     "data": {
      "image/png": "[encoded data removed]",
      "text/plain": [
       "<Figure size 720x576 with 1 Axes>"
      ]
     },
     "metadata": {
      "needs_background": "light"
     },
     "output_type": "display_data"
    }
   ],
   "source": [
    "# Feature coefficients, feature 선언\n",
    "coefficients = model.coef_\n",
    "features = X.columns\n",
    "\n",
    "# coefficients 순으로 정렬\n",
    "indices = np.argsort(coefficients)\n",
    "sorted_features = [features[i] for i in indices]\n",
    "\n",
    "# 그래프 크기 지정\n",
    "plt.figure(figsize=(10, 8))\n",
    "\n",
    "# 막대그래프 show\n",
    "plt.barh(sorted_features, coefficients[indices])\n",
    "plt.show()"
   ]
  },
  {
   "cell_type": "code",
   "execution_count": 512,
   "metadata": {},
   "outputs": [
    {
     "name": "stdout",
     "output_type": "stream",
     "text": [
      "Train MAE: 12.81\n",
      "Train RMSE: 32.45\n",
      "Test MAE: 32.57\n",
      "Test RMSE: 144.26\n"
     ]
    }
   ],
   "source": [
    "# 훈련 데이터에 대한 성능 확인\n",
    "train_pred = model.predict(X_train)\n",
    "train_mae = mean_absolute_error(y_train, train_pred)\n",
    "train_rmse = np.sqrt(mean_squared_error(y_train, train_pred))\n",
    "\n",
    "print(\"Train MAE: {:.2f}\".format(train_mae))\n",
    "print(\"Train RMSE: {:.2f}\".format(train_rmse))\n",
    "\n",
    "# 테스트 데이터에 대한 성능 확인\n",
    "test_mae = mean_absolute_error(y_test, pred)\n",
    "test_rmse = np.sqrt(mean_squared_error(y_test, pred))\n",
    "\n",
    "print(\"Test MAE: {:.2f}\".format(mae))\n",
    "print(\"Test RMSE: {:.2f}\".format(rmse))\n"
   ]
  },
  {
   "cell_type": "markdown",
   "metadata": {},
   "source": [
    "### 1. (비선형) 결정 트리 회귀 모델 학습"
   ]
  },
  {
   "cell_type": "code",
   "execution_count": 513,
   "metadata": {},
   "outputs": [
    {
     "data": {
      "text/plain": [
       "DecisionTreeRegressor(random_state=3)"
      ]
     },
     "execution_count": 513,
     "metadata": {},
     "output_type": "execute_result"
    }
   ],
   "source": [
    "model = DecisionTreeRegressor(random_state=3) \n",
    "model.fit(X_train, y_train) # 모델 학습"
   ]
  },
  {
   "cell_type": "markdown",
   "metadata": {},
   "source": [
    "### 1. (비선형) 결정 트리 회귀 모델 검증"
   ]
  },
  {
   "cell_type": "code",
   "execution_count": 514,
   "metadata": {},
   "outputs": [
    {
     "name": "stdout",
     "output_type": "stream",
     "text": [
      "MAE: 47.24%\n",
      "RMSE: 363.02%\n"
     ]
    },
    {
     "data": {
      "text/plain": [
       "0.6447952262571646"
      ]
     },
     "execution_count": 514,
     "metadata": {},
     "output_type": "execute_result"
    }
   ],
   "source": [
    "# Predict를 수행하고 mean_absolute_error, rmse 결과 출력하기\n",
    "pred = model.predict(X_test)    # X_test를 이용한 예측값 pred \n",
    "mean_absolute_error(y_test, pred)\n",
    "np.sqrt(mean_squared_error(y_test, pred))\n",
    "\n",
    "mae = mean_absolute_error(y_test, pred)\n",
    "rmse = np.sqrt(mean_squared_error(y_test, pred))\n",
    "\n",
    "# MAE 및 RMSE를 백분율로 표시\n",
    "mae_percentage = (mae / np.mean(y_test)) * 100\n",
    "rmse_percentage = (rmse / np.mean(y_test)) * 100\n",
    "\n",
    "print(\"MAE: {:.2f}%\".format(mae_percentage))\n",
    "print(\"RMSE: {:.2f}%\".format(rmse_percentage))\n",
    "\n",
    "r2_score(y_test, pred)"
   ]
  },
  {
   "cell_type": "markdown",
   "metadata": {},
   "source": [
    "### 1. (비선형) 결정 트리 회귀 중요변수 확인"
   ]
  },
  {
   "cell_type": "code",
   "execution_count": 515,
   "metadata": {},
   "outputs": [
    {
     "data": {
      "image/png": "[encoded data removed]",
      "text/plain": [
       "<Figure size 720x576 with 1 Axes>"
      ]
     },
     "metadata": {
      "needs_background": "light"
     },
     "output_type": "display_data"
    }
   ],
   "source": [
    "# Feature coefficients, feature 선언\n",
    "coefficients = model.feature_importances_\n",
    "features = X.columns\n",
    "\n",
    "# coefficients 순으로 정렬\n",
    "indices = np.argsort(coefficients)\n",
    "sorted_features = [features[i] for i in indices]\n",
    "\n",
    "# 그래프 크기 지정\n",
    "plt.figure(figsize=(10, 8))\n",
    "\n",
    "# 막대그래프 show\n",
    "plt.barh(sorted_features, coefficients[indices])\n",
    "plt.show()"
   ]
  },
  {
   "cell_type": "markdown",
   "metadata": {},
   "source": [
    "### 2. (비선형) 랜덤포레스트 회귀 모델 학습"
   ]
  },
  {
   "cell_type": "code",
   "execution_count": 516,
   "metadata": {},
   "outputs": [
    {
     "data": {
      "text/plain": [
       "RandomForestRegressor(random_state=4)"
      ]
     },
     "execution_count": 516,
     "metadata": {},
     "output_type": "execute_result"
    }
   ],
   "source": [
    "model = RandomForestRegressor(n_estimators=100, random_state=4) \n",
    "model.fit(X_train, y_train) # 모델 학습"
   ]
  },
  {
   "cell_type": "markdown",
   "metadata": {},
   "source": [
    "### 2. (비선형) 랜덤포레스트 회귀 모델 검증"
   ]
  },
  {
   "cell_type": "code",
   "execution_count": 517,
   "metadata": {},
   "outputs": [
    {
     "name": "stdout",
     "output_type": "stream",
     "text": [
      "MAE: 46.98%\n",
      "RMSE: 373.52%\n"
     ]
    },
    {
     "data": {
      "text/plain": [
       "0.6239354021886145"
      ]
     },
     "execution_count": 517,
     "metadata": {},
     "output_type": "execute_result"
    }
   ],
   "source": [
    "# Predict를 수행하고 mean_absolute_error, rmse 결과 출력하기\n",
    "pred = model.predict(X_test)    # X_test를 이용한 예측값 pred \n",
    "mean_absolute_error(y_test, pred)\n",
    "np.sqrt(mean_squared_error(y_test, pred))\n",
    "\n",
    "mae = mean_absolute_error(y_test, pred)\n",
    "rmse = np.sqrt(mean_squared_error(y_test, pred))\n",
    "\n",
    "# MAE 및 RMSE를 백분율로 표시\n",
    "mae_percentage = (mae / np.mean(y_test)) * 100\n",
    "rmse_percentage = (rmse / np.mean(y_test)) * 100\n",
    "\n",
    "print(\"MAE: {:.2f}%\".format(mae_percentage))\n",
    "print(\"RMSE: {:.2f}%\".format(rmse_percentage))\n",
    "\n",
    "r2_score(y_test, pred)"
   ]
  },
  {
   "cell_type": "markdown",
   "metadata": {},
   "source": [
    "### 2. (비선형) 랜덤포레스트 회귀 중요변수 확인"
   ]
  },
  {
   "cell_type": "code",
   "execution_count": 518,
   "metadata": {},
   "outputs": [
    {
     "data": {
      "image/png": "[encoded data removed]",
      "text/plain": [
       "<Figure size 720x576 with 1 Axes>"
      ]
     },
     "metadata": {
      "needs_background": "light"
     },
     "output_type": "display_data"
    }
   ],
   "source": [
    "# Feature coefficients, feature 선언\n",
    "coefficients = model.feature_importances_\n",
    "features = X.columns\n",
    "\n",
    "# coefficients 순으로 정렬\n",
    "indices = np.argsort(coefficients)\n",
    "sorted_features = [features[i] for i in indices]\n",
    "\n",
    "# 그래프 크기 지정\n",
    "plt.figure(figsize=(10, 8))\n",
    "\n",
    "# 막대그래프 show\n",
    "plt.barh(sorted_features, coefficients[indices])\n",
    "plt.show()"
   ]
  },
  {
   "cell_type": "markdown",
   "metadata": {},
   "source": [
    "### 3. (비선형) XGBoost 회귀 모델 학습"
   ]
  },
  {
   "cell_type": "code",
   "execution_count": 519,
   "metadata": {},
   "outputs": [
    {
     "data": {
      "text/plain": [
       "XGBRegressor(base_score=0.5, booster='gbtree', callbacks=None,\n",
       "             colsample_bylevel=1, colsample_bynode=1, colsample_bytree=1,\n",
       "             early_stopping_rounds=None, enable_categorical=False,\n",
       "             eval_metric=None, gamma=0, gpu_id=-1, grow_policy='depthwise',\n",
       "             importance_type=None, interaction_constraints='',\n",
       "             learning_rate=0.300000012, max_bin=256, max_cat_to_onehot=4,\n",
       "             max_delta_step=0, max_depth=6, max_leaves=0, min_child_weight=1,\n",
       "             missing=nan, monotone_constraints='()', n_estimators=100, n_jobs=0,\n",
       "             num_parallel_tree=1, predictor='auto', random_state=0, reg_alpha=0,\n",
       "             reg_lambda=1, ...)"
      ]
     },
     "execution_count": 519,
     "metadata": {},
     "output_type": "execute_result"
    }
   ],
   "source": [
    "model = XGBRegressor() \n",
    "model.fit(X_train, y_train) # 모델 학습"
   ]
  },
  {
   "cell_type": "markdown",
   "metadata": {},
   "source": [
    "### 3. (비선형) XGBoost 회귀 모델 검증"
   ]
  },
  {
   "cell_type": "code",
   "execution_count": 520,
   "metadata": {},
   "outputs": [
    {
     "name": "stdout",
     "output_type": "stream",
     "text": [
      "MAE: 46.65%\n",
      "RMSE: 369.87%\n"
     ]
    },
    {
     "data": {
      "text/plain": [
       "0.6312615173113055"
      ]
     },
     "execution_count": 520,
     "metadata": {},
     "output_type": "execute_result"
    }
   ],
   "source": [
    "# Predict를 수행하고 mean_absolute_error, rmse 결과 출력하기\n",
    "pred = model.predict(X_test)    # X_test를 이용한 예측값 pred \n",
    "mean_absolute_error(y_test, pred)\n",
    "np.sqrt(mean_squared_error(y_test, pred))\n",
    "\n",
    "mae = mean_absolute_error(y_test, pred)\n",
    "rmse = np.sqrt(mean_squared_error(y_test, pred))\n",
    "\n",
    "# MAE 및 RMSE를 백분율로 표시\n",
    "mae_percentage = (mae / np.mean(y_test)) * 100\n",
    "rmse_percentage = (rmse / np.mean(y_test)) * 100\n",
    "\n",
    "print(\"MAE: {:.2f}%\".format(mae_percentage))\n",
    "print(\"RMSE: {:.2f}%\".format(rmse_percentage))\n",
    "\n",
    "r2_score(y_test, pred)"
   ]
  },
  {
   "cell_type": "markdown",
   "metadata": {},
   "source": [
    "### 3. (비선형) XGBoost 회귀 중요변수 확인"
   ]
  },
  {
   "cell_type": "code",
   "execution_count": 521,
   "metadata": {},
   "outputs": [
    {
     "data": {
      "image/png": "[encoded data removed]",
      "text/plain": [
       "<Figure size 720x576 with 1 Axes>"
      ]
     },
     "metadata": {
      "needs_background": "light"
     },
     "output_type": "display_data"
    }
   ],
   "source": [
    "# Feature coefficients, feature 선언\n",
    "coefficients = model.feature_importances_\n",
    "features = X.columns\n",
    "\n",
    "# coefficients 순으로 정렬\n",
    "indices = np.argsort(coefficients)\n",
    "sorted_features = [features[i] for i in indices]\n",
    "\n",
    "# 그래프 크기 지정\n",
    "plt.figure(figsize=(10, 8))\n",
    "\n",
    "# 막대그래프 show\n",
    "plt.barh(sorted_features, coefficients[indices])\n",
    "plt.show()"
   ]
  },
  {
   "cell_type": "markdown",
   "metadata": {},
   "source": [
    "### 4. (비선형) LightGBM 회귀 모델 학습"
   ]
  },
  {
   "cell_type": "code",
   "execution_count": 522,
   "metadata": {},
   "outputs": [
    {
     "name": "stdout",
     "output_type": "stream",
     "text": [
      "[LightGBM] [Info] Total Bins 3774\n",
      "[LightGBM] [Info] Number of data points in the train set: 6762, number of used features: 16\n",
      "[LightGBM] [Info] Start training from score 99.781292\n"
     ]
    },
    {
     "data": {
      "text/plain": [
       "LGBMRegressor(force_col_wise=True)"
      ]
     },
     "execution_count": 522,
     "metadata": {},
     "output_type": "execute_result"
    }
   ],
   "source": [
    "'''\n",
    "   LightGBM에서는 특수 문자나 공백이 포함된 변수명을 지원하지 않습니다.\n",
    "   따라서 'X_train'에서 특수 문자나 공백을 제거하거나, 변수명을 변경해야 합니다.\n",
    "'''\n",
    "X_train.columns = [\"\".join (c if c.isalnum() else \"_\" for c in str(x)) for x in X_train.columns]\n",
    "\n",
    "\n",
    "model = LGBMRegressor(force_col_wise=True) \n",
    "model.fit(X_train, y_train) # 모델 학습"
   ]
  },
  {
   "cell_type": "markdown",
   "metadata": {},
   "source": [
    "### 4. (비선형) LightGBM 회귀 모델 검증"
   ]
  },
  {
   "cell_type": "code",
   "execution_count": 523,
   "metadata": {},
   "outputs": [
    {
     "name": "stdout",
     "output_type": "stream",
     "text": [
      "[LightGBM] [Info] Total Bins 3774\n",
      "[LightGBM] [Info] Number of data points in the train set: 6762, number of used features: 16\n",
      "[LightGBM] [Info] Start training from score 99.781292\n"
     ]
    },
    {
     "data": {
      "text/plain": [
       "LGBMRegressor(force_col_wise=True)"
      ]
     },
     "execution_count": 523,
     "metadata": {},
     "output_type": "execute_result"
    }
   ],
   "source": [
    "'''\n",
    "   LightGBM에서는 특수 문자나 공백이 포함된 변수명을 지원하지 않습니다.\n",
    "   따라서 'X_train'에서 특수 문자나 공백을 제거하거나, 변수명을 변경해야 합니다.\n",
    "'''\n",
    "X_train.columns = [\"\".join (c if c.isalnum() else \"_\" for c in str(x)) for x in X_train.columns]\n",
    "model = LGBMRegressor(force_col_wise=True)\n",
    "model.fit(X_train, y_train) # 모델 학습"
   ]
  },
  {
   "cell_type": "code",
   "execution_count": 524,
   "metadata": {},
   "outputs": [
    {
     "name": "stdout",
     "output_type": "stream",
     "text": [
      "MAE: 51.63%\n",
      "RMSE: 386.81%\n"
     ]
    },
    {
     "data": {
      "text/plain": [
       "0.5967082997487236"
      ]
     },
     "execution_count": 524,
     "metadata": {},
     "output_type": "execute_result"
    }
   ],
   "source": [
    "# Predict를 수행하고 mean_absolute_error, rmse 결과 출력하기\n",
    "pred = model.predict(X_test)    # X_test를 이용한 예측값 pred \n",
    "mean_absolute_error(y_test, pred)\n",
    "np.sqrt(mean_squared_error(y_test, pred))\n",
    "\n",
    "mae = mean_absolute_error(y_test, pred)\n",
    "rmse = np.sqrt(mean_squared_error(y_test, pred))\n",
    "\n",
    "# MAE 및 RMSE를 백분율로 표시\n",
    "mae_percentage = (mae / np.mean(y_test)) * 100\n",
    "rmse_percentage = (rmse / np.mean(y_test)) * 100\n",
    "\n",
    "print(\"MAE: {:.2f}%\".format(mae_percentage))\n",
    "print(\"RMSE: {:.2f}%\".format(rmse_percentage))\n",
    "\n",
    "r2_score(y_test, pred)"
   ]
  },
  {
   "cell_type": "markdown",
   "metadata": {},
   "source": [
    "### 4. (비선형) LightGBM 회귀 중요변수 확인"
   ]
  },
  {
   "cell_type": "code",
   "execution_count": 525,
   "metadata": {},
   "outputs": [
    {
     "data": {
      "image/png": "[encoded data removed]",
      "text/plain": [
       "<Figure size 720x576 with 1 Axes>"
      ]
     },
     "metadata": {
      "needs_background": "light"
     },
     "output_type": "display_data"
    }
   ],
   "source": [
    "# Feature coefficients, feature 선언\n",
    "coefficients = model.feature_importances_\n",
    "features = X.columns\n",
    "\n",
    "# coefficients 순으로 정렬\n",
    "indices = np.argsort(coefficients)\n",
    "sorted_features = [features[i] for i in indices]\n",
    "\n",
    "# 그래프 크기 지정\n",
    "plt.figure(figsize=(10, 8))\n",
    "\n",
    "# 막대그래프 show\n",
    "plt.barh(sorted_features, coefficients[indices])\n",
    "plt.show()"
   ]
  },
  {
   "cell_type": "markdown",
   "metadata": {},
   "source": [
    "### 5. (비선형) LightGBM 회귀 중요변수 확인"
   ]
  },
  {
   "cell_type": "code",
   "execution_count": 526,
   "metadata": {},
   "outputs": [
    {
     "data": {
      "text/plain": [
       "KNeighborsRegressor(n_neighbors=3, weights='distance')"
      ]
     },
     "execution_count": 526,
     "metadata": {},
     "output_type": "execute_result"
    }
   ],
   "source": [
    "from sklearn.neighbors import KNeighborsRegressor\n",
    "\n",
    "model = KNeighborsRegressor(n_neighbors=3, weights='distance') \n",
    "model.fit(X_train, y_train) # 모델 학습\n",
    "\n"
   ]
  },
  {
   "cell_type": "code",
   "execution_count": 527,
   "metadata": {},
   "outputs": [
    {
     "name": "stderr",
     "output_type": "stream",
     "text": [
      "C:\\Users\\vlrms\\AppData\\Local\\Packages\\PythonSoftwareFoundation.Python.3.7_qbz5n2kfra8p0\\LocalCache\\local-packages\\Python37\\site-packages\\sklearn\\base.py:493: FutureWarning: The feature names should match those that were passed during fit. Starting version 1.2, an error will be raised.\n",
      "Feature names unseen at fit time:\n",
      "- Biomass and waste (billion kWh)\n",
      "- Coal (quad Btu)\n",
      "- Fossil fuels (billion kWh)\n",
      "- Geothermal (billion kWh)\n",
      "- Hydroelectric pumped storage (billion kWh)\n",
      "- ...\n",
      "Feature names seen at fit time, yet now missing:\n",
      "- Biomass_and_waste__billion_kWh_\n",
      "- Coal__quad_Btu_\n",
      "- Fossil_fuels__billion_kWh_\n",
      "- Geothermal__billion_kWh_\n",
      "- Hydroelectric_pumped_storage__billion_kWh_\n",
      "- ...\n",
      "\n",
      "  warnings.warn(message, FutureWarning)\n"
     ]
    },
    {
     "name": "stdout",
     "output_type": "stream",
     "text": [
      "MAE: 63.62%\n",
      "RMSE: 386.38%\n"
     ]
    },
    {
     "data": {
      "text/plain": [
       "0.5976049243332147"
      ]
     },
     "execution_count": 527,
     "metadata": {},
     "output_type": "execute_result"
    }
   ],
   "source": [
    "# Predict를 수행하고 mean_absolute_error, rmse 결과 출력하기\n",
    "pred = model.predict(X_test)    # X_test를 이용한 예측값 pred \n",
    "mean_absolute_error(y_test, pred)\n",
    "np.sqrt(mean_squared_error(y_test, pred))\n",
    "\n",
    "mae = mean_absolute_error(y_test, pred)\n",
    "rmse = np.sqrt(mean_squared_error(y_test, pred))\n",
    "\n",
    "# MAE 및 RMSE를 백분율로 표시\n",
    "mae_percentage = (mae / np.mean(y_test)) * 100\n",
    "rmse_percentage = (rmse / np.mean(y_test)) * 100\n",
    "\n",
    "print(\"MAE: {:.2f}%\".format(mae_percentage))\n",
    "print(\"RMSE: {:.2f}%\".format(rmse_percentage))\n",
    "\n",
    "r2_score(y_test, pred)"
   ]
  }
 ],
 "metadata": {
  "kernelspec": {
   "display_name": "Python 3",
   "language": "python",
   "name": "python3"
  },
  "language_info": {
   "codemirror_mode": {
    "name": "ipython",
    "version": 3
   },
   "file_extension": ".py",
   "mimetype": "text/x-python",
   "name": "python",
   "nbconvert_exporter": "python",
   "pygments_lexer": "ipython3",
   "version": "3.7.9"
  }
 },
 "nbformat": 4,
 "nbformat_minor": 2
}
