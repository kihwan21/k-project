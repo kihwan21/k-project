{
 "cells": [
  {
   "cell_type": "code",
   "execution_count": null,
   "metadata": {},
   "outputs": [],
   "source": [
    "# 비트코인 가격 데이터 읽기\n",
    "\n",
    "import numpy as np\n",
    "import pandas as pd\n",
    "import matplotlib.pyplot as plt\n",
    "\n",
    "# 코인데스크 사이트에서 다운로드한 1년치 비트코인 가격 데이터 읽기\n",
    "f=open()\n",
    "coindesk_data=pd.read_csv(f,header=0)\n",
    "seq=coindesk_data[['Closing Price (USD)']].to_numpy() # 종가만 취함\n",
    "print('데이터 길이:',len(seq),'\\n앞쪽 5개 값:',seq[0:5])\n",
    "\n",
    "# 그래프로 데이터 확인\n",
    "plt.plot(seq,color='red')\n",
    "plt.title('Bitcoin Prices (1 year from 2019-02-28)')\n",
    "plt.xlabel('Days');plt.ylabel('Price in USD')\n",
    "plt.show()\n"
   ]
  }
 ],
 "metadata": {
  "language_info": {
   "name": "python"
  }
 },
 "nbformat": 4,
 "nbformat_minor": 2
}
