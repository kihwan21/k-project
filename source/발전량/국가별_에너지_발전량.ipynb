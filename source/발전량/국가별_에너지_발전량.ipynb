{
 "cells": [
  {
   "cell_type": "code",
   "execution_count": 1,
   "metadata": {},
   "outputs": [
    {
     "name": "stdout",
     "output_type": "stream",
     "text": [
      "Current directory: c:\\k-project\\source\\발전량\n",
      "   Unnamed: 0 COUNTRY                      GENERATION  Year        Value\n",
      "0           0   World        Generation (billion kWh)  1980  8017.590351\n",
      "1           1   World           Nuclear (billion kWh)  1980   684.380219\n",
      "2           2   World      Fossil fuels (billion kWh)  1980  5588.874065\n",
      "3           3   World        Renewables (billion kWh)  1980  1754.115066\n",
      "4           4   World  Hydroelectricity (billion kWh)  1980   1722.56809\n"
     ]
    }
   ],
   "source": [
    "'''\n",
    "다 함께 하는 작업 공간이기 때문에 경로나 파일 명 등을 통일 해야 할 것 같습니다.\n",
    "그렇게 하지 않으면 경로 때문에 매번 새로운 커밋이 생성 됩니다.\n",
    "'''\n",
    "\n",
    "import os\n",
    "\n",
    "# 현재 작업 디렉토리 확인\n",
    "current_directory = os.getcwd()\n",
    "print(\"Current directory:\", current_directory)\n",
    "\n",
    "# 필요한 CSV 파일이 있는 디렉토리로 변경\n",
    "target_directory = \"C:/k-project/raw_datasets/회귀\" # 해당 코드 부분의 경로를 동일하게 하거나 / 깃 리파지토리 안에 파일을 집어 넣는 작업 필요.      \n",
    "os.chdir(target_directory)\n",
    "\n",
    "import pandas as pd\n",
    "\n",
    "# CSV 파일 불러오기\n",
    "csv_filename = \"국가별_총에너지_발전량(1980-2021)_회귀_시각화_전처리.csv\"  # CSV 파일명. 파일명을 모두 동일하게 해야합니다.\n",
    "df = pd.read_csv(csv_filename)\n",
    "\n",
    "# 데이터 확인\n",
    "print(df.head())\n"
   ]
  },
  {
   "cell_type": "code",
   "execution_count": 2,
   "metadata": {},
   "outputs": [],
   "source": [
    "pd.set_option('display.max_rows', None)  # 최대 행 수를 None으로 설정\n",
    "pd.set_option('display.max_columns', None)  # 최대 열 수를 None으로 설정"
   ]
  },
  {
   "cell_type": "code",
   "execution_count": 3,
   "metadata": {},
   "outputs": [],
   "source": [
    "pd.set_option('display.max_rows', 15)  # 최대 행 수를 None으로 설정\n",
    "pd.set_option('display.max_columns', 15)  # 최대 열 수를 None으로 설정"
   ]
  },
  {
   "cell_type": "markdown",
   "metadata": {},
   "source": [
    "### 국가별 에너지 발전량\n",
    "\n",
    "COLUMN NAME 설명  \n",
    "COUNTRY : 국가명  \n",
    "CONSUMPTION : 발전 방식  \n",
    "YEAR : 년도  \n",
    "VALUE : 에너지 발전량  "
   ]
  },
  {
   "cell_type": "code",
   "execution_count": 4,
   "metadata": {},
   "outputs": [
    {
     "data": {
      "text/html": [
       "<div>\n",
       "<style scoped>\n",
       "    .dataframe tbody tr th:only-of-type {\n",
       "        vertical-align: middle;\n",
       "    }\n",
       "\n",
       "    .dataframe tbody tr th {\n",
       "        vertical-align: top;\n",
       "    }\n",
       "\n",
       "    .dataframe thead th {\n",
       "        text-align: right;\n",
       "    }\n",
       "</style>\n",
       "<table border=\"1\" class=\"dataframe\">\n",
       "  <thead>\n",
       "    <tr style=\"text-align: right;\">\n",
       "      <th></th>\n",
       "      <th>Unnamed: 0</th>\n",
       "      <th>COUNTRY</th>\n",
       "      <th>GENERATION</th>\n",
       "      <th>Year</th>\n",
       "      <th>Value</th>\n",
       "    </tr>\n",
       "  </thead>\n",
       "  <tbody>\n",
       "    <tr>\n",
       "      <th>0</th>\n",
       "      <td>0</td>\n",
       "      <td>World</td>\n",
       "      <td>Generation (billion kWh)</td>\n",
       "      <td>1980</td>\n",
       "      <td>8017.590351</td>\n",
       "    </tr>\n",
       "    <tr>\n",
       "      <th>1</th>\n",
       "      <td>1</td>\n",
       "      <td>World</td>\n",
       "      <td>Nuclear (billion kWh)</td>\n",
       "      <td>1980</td>\n",
       "      <td>684.380219</td>\n",
       "    </tr>\n",
       "    <tr>\n",
       "      <th>2</th>\n",
       "      <td>2</td>\n",
       "      <td>World</td>\n",
       "      <td>Fossil fuels (billion kWh)</td>\n",
       "      <td>1980</td>\n",
       "      <td>5588.874065</td>\n",
       "    </tr>\n",
       "    <tr>\n",
       "      <th>3</th>\n",
       "      <td>3</td>\n",
       "      <td>World</td>\n",
       "      <td>Renewables (billion kWh)</td>\n",
       "      <td>1980</td>\n",
       "      <td>1754.115066</td>\n",
       "    </tr>\n",
       "    <tr>\n",
       "      <th>4</th>\n",
       "      <td>4</td>\n",
       "      <td>World</td>\n",
       "      <td>Hydroelectricity (billion kWh)</td>\n",
       "      <td>1980</td>\n",
       "      <td>1722.56809</td>\n",
       "    </tr>\n",
       "  </tbody>\n",
       "</table>\n",
       "</div>"
      ],
      "text/plain": [
       "   Unnamed: 0 COUNTRY                      GENERATION  Year        Value\n",
       "0           0   World        Generation (billion kWh)  1980  8017.590351\n",
       "1           1   World           Nuclear (billion kWh)  1980   684.380219\n",
       "2           2   World      Fossil fuels (billion kWh)  1980  5588.874065\n",
       "3           3   World        Renewables (billion kWh)  1980  1754.115066\n",
       "4           4   World  Hydroelectricity (billion kWh)  1980   1722.56809"
      ]
     },
     "execution_count": 4,
     "metadata": {},
     "output_type": "execute_result"
    }
   ],
   "source": [
    "df.head()\n",
    "# 앗 첫번째 열에 인덱스가 포함되어 데이터 프레임이 불러와졌다! 제거하자"
   ]
  },
  {
   "cell_type": "code",
   "execution_count": 5,
   "metadata": {},
   "outputs": [
    {
     "data": {
      "text/html": [
       "<div>\n",
       "<style scoped>\n",
       "    .dataframe tbody tr th:only-of-type {\n",
       "        vertical-align: middle;\n",
       "    }\n",
       "\n",
       "    .dataframe tbody tr th {\n",
       "        vertical-align: top;\n",
       "    }\n",
       "\n",
       "    .dataframe thead th {\n",
       "        text-align: right;\n",
       "    }\n",
       "</style>\n",
       "<table border=\"1\" class=\"dataframe\">\n",
       "  <thead>\n",
       "    <tr style=\"text-align: right;\">\n",
       "      <th></th>\n",
       "      <th>Unnamed: 0</th>\n",
       "      <th>COUNTRY</th>\n",
       "      <th>GENERATION</th>\n",
       "      <th>Year</th>\n",
       "      <th>Value</th>\n",
       "    </tr>\n",
       "  </thead>\n",
       "  <tbody>\n",
       "    <tr>\n",
       "      <th>125575</th>\n",
       "      <td>125575</td>\n",
       "      <td>Zimbabwe</td>\n",
       "      <td>Tide and wave (billion kWh)</td>\n",
       "      <td>2021</td>\n",
       "      <td>0</td>\n",
       "    </tr>\n",
       "    <tr>\n",
       "      <th>125576</th>\n",
       "      <td>125576</td>\n",
       "      <td>Zimbabwe</td>\n",
       "      <td>Solar (billion kWh)</td>\n",
       "      <td>2021</td>\n",
       "      <td>0.04148</td>\n",
       "    </tr>\n",
       "    <tr>\n",
       "      <th>125577</th>\n",
       "      <td>125577</td>\n",
       "      <td>Zimbabwe</td>\n",
       "      <td>Wind (billion kWh)</td>\n",
       "      <td>2021</td>\n",
       "      <td>0</td>\n",
       "    </tr>\n",
       "    <tr>\n",
       "      <th>125578</th>\n",
       "      <td>125578</td>\n",
       "      <td>Zimbabwe</td>\n",
       "      <td>Biomass and waste (billion kWh)</td>\n",
       "      <td>2021</td>\n",
       "      <td>0.099788966</td>\n",
       "    </tr>\n",
       "    <tr>\n",
       "      <th>125579</th>\n",
       "      <td>125579</td>\n",
       "      <td>Zimbabwe</td>\n",
       "      <td>Hydroelectric pumped storage (billion kWh)</td>\n",
       "      <td>2021</td>\n",
       "      <td>0</td>\n",
       "    </tr>\n",
       "  </tbody>\n",
       "</table>\n",
       "</div>"
      ],
      "text/plain": [
       "        Unnamed: 0   COUNTRY                                  GENERATION  \\\n",
       "125575      125575  Zimbabwe                 Tide and wave (billion kWh)   \n",
       "125576      125576  Zimbabwe                         Solar (billion kWh)   \n",
       "125577      125577  Zimbabwe                          Wind (billion kWh)   \n",
       "125578      125578  Zimbabwe             Biomass and waste (billion kWh)   \n",
       "125579      125579  Zimbabwe  Hydroelectric pumped storage (billion kWh)   \n",
       "\n",
       "        Year        Value  \n",
       "125575  2021            0  \n",
       "125576  2021      0.04148  \n",
       "125577  2021            0  \n",
       "125578  2021  0.099788966  \n",
       "125579  2021            0  "
      ]
     },
     "execution_count": 5,
     "metadata": {},
     "output_type": "execute_result"
    }
   ],
   "source": [
    "df.tail()"
   ]
  },
  {
   "cell_type": "code",
   "execution_count": 6,
   "metadata": {},
   "outputs": [],
   "source": [
    "# 필요 없는 열 제거\n",
    "df.drop(['Unnamed: 0'],inplace=True,axis=1)"
   ]
  },
  {
   "cell_type": "code",
   "execution_count": 7,
   "metadata": {},
   "outputs": [
    {
     "data": {
      "text/html": [
       "<div>\n",
       "<style scoped>\n",
       "    .dataframe tbody tr th:only-of-type {\n",
       "        vertical-align: middle;\n",
       "    }\n",
       "\n",
       "    .dataframe tbody tr th {\n",
       "        vertical-align: top;\n",
       "    }\n",
       "\n",
       "    .dataframe thead th {\n",
       "        text-align: right;\n",
       "    }\n",
       "</style>\n",
       "<table border=\"1\" class=\"dataframe\">\n",
       "  <thead>\n",
       "    <tr style=\"text-align: right;\">\n",
       "      <th></th>\n",
       "      <th>Year</th>\n",
       "    </tr>\n",
       "  </thead>\n",
       "  <tbody>\n",
       "    <tr>\n",
       "      <th>count</th>\n",
       "      <td>125580.000000</td>\n",
       "    </tr>\n",
       "    <tr>\n",
       "      <th>mean</th>\n",
       "      <td>2000.500000</td>\n",
       "    </tr>\n",
       "    <tr>\n",
       "      <th>std</th>\n",
       "      <td>12.120967</td>\n",
       "    </tr>\n",
       "    <tr>\n",
       "      <th>min</th>\n",
       "      <td>1980.000000</td>\n",
       "    </tr>\n",
       "    <tr>\n",
       "      <th>25%</th>\n",
       "      <td>1990.000000</td>\n",
       "    </tr>\n",
       "    <tr>\n",
       "      <th>50%</th>\n",
       "      <td>2000.500000</td>\n",
       "    </tr>\n",
       "    <tr>\n",
       "      <th>75%</th>\n",
       "      <td>2011.000000</td>\n",
       "    </tr>\n",
       "    <tr>\n",
       "      <th>max</th>\n",
       "      <td>2021.000000</td>\n",
       "    </tr>\n",
       "  </tbody>\n",
       "</table>\n",
       "</div>"
      ],
      "text/plain": [
       "                Year\n",
       "count  125580.000000\n",
       "mean     2000.500000\n",
       "std        12.120967\n",
       "min      1980.000000\n",
       "25%      1990.000000\n",
       "50%      2000.500000\n",
       "75%      2011.000000\n",
       "max      2021.000000"
      ]
     },
     "execution_count": 7,
     "metadata": {},
     "output_type": "execute_result"
    }
   ],
   "source": [
    "df.describe()"
   ]
  },
  {
   "cell_type": "code",
   "execution_count": 8,
   "metadata": {},
   "outputs": [
    {
     "name": "stdout",
     "output_type": "stream",
     "text": [
      "<class 'pandas.core.frame.DataFrame'>\n",
      "RangeIndex: 125580 entries, 0 to 125579\n",
      "Data columns (total 4 columns):\n",
      " #   Column      Non-Null Count   Dtype \n",
      "---  ------      --------------   ----- \n",
      " 0   COUNTRY     125580 non-null  object\n",
      " 1   GENERATION  125580 non-null  object\n",
      " 2   Year        125580 non-null  int64 \n",
      " 3   Value       123363 non-null  object\n",
      "dtypes: int64(1), object(3)\n",
      "memory usage: 3.8+ MB\n"
     ]
    }
   ],
   "source": [
    "df.info()\n",
    "# 전체 행은 125580, Value"
   ]
  },
  {
   "cell_type": "code",
   "execution_count": 9,
   "metadata": {},
   "outputs": [
    {
     "data": {
      "text/plain": [
       "2217"
      ]
     },
     "execution_count": 9,
     "metadata": {},
     "output_type": "execute_result"
    }
   ],
   "source": [
    "# 결측값의 개수 확인\n",
    "df[\"Value\"].isnull().sum()"
   ]
  },
  {
   "cell_type": "code",
   "execution_count": 10,
   "metadata": {},
   "outputs": [
    {
     "data": {
      "text/plain": [
       "Value\n",
       "0              64738\n",
       "--              8226\n",
       "0.001            930\n",
       "0.002            786\n",
       "0.003            522\n",
       "               ...  \n",
       "20.69222           1\n",
       "16.04              1\n",
       "39.52822           1\n",
       "11.894             1\n",
       "0.099788966        1\n",
       "Name: count, Length: 23325, dtype: int64"
      ]
     },
     "execution_count": 10,
     "metadata": {},
     "output_type": "execute_result"
    }
   ],
   "source": [
    "# Value 데이터 확인\n",
    "df[\"Value\"].value_counts()"
   ]
  },
  {
   "cell_type": "code",
   "execution_count": 11,
   "metadata": {},
   "outputs": [
    {
     "name": "stdout",
     "output_type": "stream",
     "text": [
      "Number Count: 116987\n",
      "String Count: 8593\n",
      "NaN Count: 2217\n"
     ]
    }
   ],
   "source": [
    "# 각 행이 숫자형인지 판별하는 함수 정의\n",
    "def is_number(s):\n",
    "    try:\n",
    "        float(s)\n",
    "        return True\n",
    "    except ValueError:\n",
    "        return False\n",
    "\n",
    "# 각 행이 문자형인지 판별하는 함수 정의\n",
    "def is_string(s):\n",
    "    if isinstance(s, str):\n",
    "        # 이미 숫자로 변환 가능한 경우는 제외한다.\n",
    "        return not is_number(s)\n",
    "    else:\n",
    "        return False\n",
    "\n",
    "# 각 행이 결측값인지 판별하는 함수 정의\n",
    "def is_nan(s):\n",
    "    return pd.isnull(s)\n",
    "\n",
    "# 각각의 조건에 따라 boolean mask 생성 후 sum()을 이용해 개수 계산 \n",
    "num_count = df['Value'].apply(is_number).sum()\n",
    "str_count = df['Value'].apply(is_string).sum()\n",
    "nan_count = df['Value'].apply(is_nan).sum()\n",
    "\n",
    "\n",
    "print(f\"Number Count: {num_count}\")\n",
    "print(f\"String Count: {str_count}\")\n",
    "print(f\"NaN Count: {nan_count}\")"
   ]
  },
  {
   "cell_type": "code",
   "execution_count": 12,
   "metadata": {},
   "outputs": [
    {
     "name": "stdout",
     "output_type": "stream",
     "text": [
      "Value\n",
      "--    8226\n",
      "ie     367\n",
      "Name: count, dtype: int64\n"
     ]
    }
   ],
   "source": [
    "# 문자열로 구성된 Value의 값 중 범주 및 개수 확인\n",
    "str_df = df[df['Value'].apply(is_string)]\n",
    "\n",
    "print(str_df['Value'].value_counts())"
   ]
  },
  {
   "cell_type": "code",
   "execution_count": 13,
   "metadata": {},
   "outputs": [
    {
     "name": "stdout",
     "output_type": "stream",
     "text": [
      "                 COUNTRY                                  GENERATION  Year  \\\n",
      "1729          Micronesia                    Generation (billion kWh)  1980   \n",
      "1730          Micronesia                       Nuclear (billion kWh)  1980   \n",
      "1731          Micronesia                  Fossil fuels (billion kWh)  1980   \n",
      "1732          Micronesia                    Renewables (billion kWh)  1980   \n",
      "1733          Micronesia              Hydroelectricity (billion kWh)  1980   \n",
      "...                  ...                                         ...   ...   \n",
      "125367  U.S. Territories                 Tide and wave (billion kWh)  2021   \n",
      "125368  U.S. Territories                         Solar (billion kWh)  2021   \n",
      "125369  U.S. Territories                          Wind (billion kWh)  2021   \n",
      "125370  U.S. Territories             Biomass and waste (billion kWh)  2021   \n",
      "125371  U.S. Territories  Hydroelectric pumped storage (billion kWh)  2021   \n",
      "\n",
      "       Value  \n",
      "1729     NaN  \n",
      "1730     NaN  \n",
      "1731     NaN  \n",
      "1732     NaN  \n",
      "1733     NaN  \n",
      "...      ...  \n",
      "125367   NaN  \n",
      "125368   NaN  \n",
      "125369   NaN  \n",
      "125370   NaN  \n",
      "125371   NaN  \n",
      "\n",
      "[2217 rows x 4 columns]\n"
     ]
    }
   ],
   "source": [
    "nan_df = df[df['Value'].apply(is_nan)]\n",
    "\n",
    "print(nan_df)"
   ]
  },
  {
   "cell_type": "markdown",
   "metadata": {},
   "source": [
    "데이터 셋의 value 열의 데이터타입은 object이다.  \n",
    "분석을 위해서 전처리를 시작해보자  \n",
    "value 열의 문자열은 '--','ie'로 구성되어있으며 각 8226, 367개 있는데 먼저 어떤 의미인지 확인해봐야겠지."
   ]
  },
  {
   "cell_type": "markdown",
   "metadata": {},
   "source": [
    "Footnotes  \n",
    "-- = Not applicable\n",
    "\n",
    "\\- = No data reported\n",
    "\n",
    "(s) = Value is too small for the number of decimal places shown\n",
    "\n",
    "NA = Not available\n",
    "\n",
    "W = Data withheld to avoid disclosure\n",
    "\n",
    "ie = Data are included elsewhere for this time period\n",
    "\n",
    "\\* = Conversion Factor Unavailable\n",
    "\n",
    "se = EIA estimates based on time series analysis\n",
    "\n",
    "st = EIA forecasts (Short-Term Energy Outlook)\n",
    "\n",
    "Gross domestic product and energy intensity are expressed in Year 2015 U.S. Dollar at Purchasing Power Parities.\n",
    "\n",
    "The Monthly Energy Review no longer contains a separate international section. All historical data starting in 1973 that were formerly presented in MER Section 11 are now available on the International Energy Statistics browser above."
   ]
  },
  {
   "cell_type": "markdown",
   "metadata": {},
   "source": [
    "'--'는 해당없음  \n",
    "'ie'는 이 기간의 데이터는 다른 곳에 포함됩니다.\n",
    "\n",
    "즉 '--'는 발전하지 않아 발전량 데이터에 해당이 없는 것으로 보여지며(ex. 환경적 여건, 경제적 여건 등)  \n",
    "    따라서 '--'는 제거하여 발전(전력 생산)하는 국가에 초점을 두는 것이 타당할 것으로 보여짐  \n",
    "'ie'는 다른 값으로 대체할 경우 중복의 여지가 있어 제거하는 것이 타당할 것으로 보여짐"
   ]
  },
  {
   "cell_type": "code",
   "execution_count": 14,
   "metadata": {},
   "outputs": [],
   "source": [
    "# '--' 값을 None으로 바꾸기\n",
    "df['Value'] = df['Value'].replace('--', None)"
   ]
  },
  {
   "cell_type": "code",
   "execution_count": 15,
   "metadata": {},
   "outputs": [],
   "source": [
    "# 'ie' 값을 None으로 바꾸기\n",
    "df['Value'] = df['Value'].replace('ie', None)"
   ]
  },
  {
   "cell_type": "code",
   "execution_count": 16,
   "metadata": {},
   "outputs": [],
   "source": [
    "# 분석을 위하여 Value의 Data type을 Object -> float64로 변경하기\n",
    "df['Value']= df['Value'].astype(dtype='float64')"
   ]
  },
  {
   "cell_type": "code",
   "execution_count": 17,
   "metadata": {},
   "outputs": [
    {
     "name": "stdout",
     "output_type": "stream",
     "text": [
      "<class 'pandas.core.frame.DataFrame'>\n",
      "RangeIndex: 125580 entries, 0 to 125579\n",
      "Data columns (total 4 columns):\n",
      " #   Column      Non-Null Count   Dtype  \n",
      "---  ------      --------------   -----  \n",
      " 0   COUNTRY     125580 non-null  object \n",
      " 1   GENERATION  125580 non-null  object \n",
      " 2   Year        125580 non-null  int64  \n",
      " 3   Value       114770 non-null  float64\n",
      "dtypes: float64(1), int64(1), object(2)\n",
      "memory usage: 3.8+ MB\n"
     ]
    }
   ],
   "source": [
    "df.info()"
   ]
  },
  {
   "cell_type": "markdown",
   "metadata": {},
   "source": [
    "데이터 시각화"
   ]
  },
  {
   "cell_type": "code",
   "execution_count": 18,
   "metadata": {},
   "outputs": [],
   "source": [
    "# 필요한 라이브러리 불러오기\n",
    "import matplotlib.pyplot as plt\n",
    "import seaborn as sns"
   ]
  },
  {
   "cell_type": "code",
   "execution_count": 19,
   "metadata": {},
   "outputs": [
    {
     "name": "stderr",
     "output_type": "stream",
     "text": [
      "c:\\Users\\USER\\AppData\\Local\\Programs\\Python\\Python311\\Lib\\site-packages\\seaborn\\algorithms.py:98: RuntimeWarning: Mean of empty slice\n",
      "  boot_dist.append(f(*sample, **func_kwargs))\n",
      "c:\\Users\\USER\\AppData\\Local\\Programs\\Python\\Python311\\Lib\\site-packages\\numpy\\lib\\nanfunctions.py:1556: RuntimeWarning: All-NaN slice encountered\n",
      "  return function_base._ureduce(a,\n"
     ]
    },
    {
     "data": {
      "text/plain": [
       "<Axes: xlabel='COUNTRY', ylabel='Value'>"
      ]
     },
     "execution_count": 19,
     "metadata": {},
     "output_type": "execute_result"
    },
    {
     "data": {
      "image/png": "[encoded data removed]",
      "text/plain": [
       "<Figure size 1200x300 with 1 Axes>"
      ]
     },
     "metadata": {},
     "output_type": "display_data"
    }
   ],
   "source": [
    "# 국가별 총 발전량\n",
    "plt.figure(figsize=(12,3))\n",
    "sns.barplot(data=df,x=\"COUNTRY\",y=\"Value\",)\n"
   ]
  },
  {
   "cell_type": "code",
   "execution_count": null,
   "metadata": {},
   "outputs": [],
   "source": [
    "# 연도별 총 발전량"
   ]
  },
  {
   "cell_type": "code",
   "execution_count": null,
   "metadata": {},
   "outputs": [],
   "source": [
    "# 발전원별 발전량"
   ]
  },
  {
   "cell_type": "code",
   "execution_count": null,
   "metadata": {},
   "outputs": [],
   "source": []
  }
 ],
 "metadata": {
  "kernelspec": {
   "display_name": "base",
   "language": "python",
   "name": "python3"
  },
  "language_info": {
   "codemirror_mode": {
    "name": "ipython",
    "version": 3
   },
   "file_extension": ".py",
   "mimetype": "text/x-python",
   "name": "python",
   "nbconvert_exporter": "python",
   "pygments_lexer": "ipython3",
   "version": "3.11.3"
  }
 },
 "nbformat": 4,
 "nbformat_minor": 2
}
