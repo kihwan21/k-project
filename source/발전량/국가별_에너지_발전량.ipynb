{
 "cells": [
  {
   "cell_type": "markdown",
   "metadata": {},
   "source": [
    "에러 확인"
   ]
  },
  {
   "cell_type": "code",
   "execution_count": 1,
   "metadata": {},
   "outputs": [
    {
     "name": "stdout",
     "output_type": "stream",
     "text": [
      "Current directory: c:\\k-project\\source\\발전량\n",
      "   Unnamed: 0 COUNTRY                      GENERATION  Year        Value\n",
      "0           0   World        Generation (billion kWh)  1980  8017.590351\n",
      "1           1   World           Nuclear (billion kWh)  1980   684.380219\n",
      "2           2   World      Fossil fuels (billion kWh)  1980  5588.874065\n",
      "3           3   World        Renewables (billion kWh)  1980  1754.115066\n",
      "4           4   World  Hydroelectricity (billion kWh)  1980   1722.56809\n"
     ]
    }
   ],
   "source": [
    "'''\n",
    "다 함께 하는 작업 공간이기 때문에 경로나 파일 명 등을 통일 해야 할 것 같습니다.\n",
    "그렇게 하지 않으면 경로 때문에 매번 새로운 커밋이 생성 됩니다.\n",
    "'''\n",
    "\n",
    "import os\n",
    "\n",
    "# 현재 작업 디렉토리 확인\n",
    "current_directory = os.getcwd()\n",
    "print(\"Current directory:\", current_directory)\n",
    "\n",
    "# 필요한 CSV 파일이 있는 디렉토리로 변경\n",
    "target_directory = \"C:/k-project/raw_datasets/회귀\" # 해당 코드 부분의 경로를 동일하게 하거나 / 깃 리파지토리 안에 파일을 집어 넣는 작업 필요.      \n",
    "os.chdir(target_directory)\n",
    "\n",
    "import pandas as pd\n",
    "\n",
    "# CSV 파일 불러오기\n",
    "csv_filename = \"국가별_총에너지_발전량(1980-2021)_회귀_시각화_전처리 (1).csv\"  # CSV 파일명. 파일명을 모두 동일하게 해야합니다.\n",
    "df = pd.read_csv(csv_filename)\n",
    "\n",
    "# 데이터 확인\n",
    "print(df.head())\n"
   ]
  },
  {
   "cell_type": "code",
   "execution_count": 2,
   "metadata": {},
   "outputs": [],
   "source": [
    "pd.set_option('display.max_rows', None)  # 최대 행 수를 None으로 설정\n",
    "pd.set_option('display.max_columns', None)  # 최대 열 수를 None으로 설정"
   ]
  },
  {
   "cell_type": "code",
   "execution_count": 3,
   "metadata": {},
   "outputs": [],
   "source": [
    "pd.set_option('display.max_rows', 15)  # 최대 행 수를 None으로 설정\n",
    "pd.set_option('display.max_columns', 15)  # 최대 열 수를 None으로 설정"
   ]
  },
  {
   "cell_type": "markdown",
   "metadata": {},
   "source": [
    "### 국가별 에너지 발전량\n",
    "\n",
    "COLUMN NAME 설명  \n",
    "COUNTRY : 국가명  \n",
    "CONSUMPTION : 발전 방식  \n",
    "YEAR : 년도  \n",
    "VALUE : 에너지 발전량  "
   ]
  },
  {
   "cell_type": "code",
   "execution_count": 4,
   "metadata": {},
   "outputs": [
    {
     "data": {
      "text/html": [
       "<div>\n",
       "<style scoped>\n",
       "    .dataframe tbody tr th:only-of-type {\n",
       "        vertical-align: middle;\n",
       "    }\n",
       "\n",
       "    .dataframe tbody tr th {\n",
       "        vertical-align: top;\n",
       "    }\n",
       "\n",
       "    .dataframe thead th {\n",
       "        text-align: right;\n",
       "    }\n",
       "</style>\n",
       "<table border=\"1\" class=\"dataframe\">\n",
       "  <thead>\n",
       "    <tr style=\"text-align: right;\">\n",
       "      <th></th>\n",
       "      <th>Unnamed: 0</th>\n",
       "      <th>COUNTRY</th>\n",
       "      <th>GENERATION</th>\n",
       "      <th>Year</th>\n",
       "      <th>Value</th>\n",
       "    </tr>\n",
       "  </thead>\n",
       "  <tbody>\n",
       "    <tr>\n",
       "      <th>0</th>\n",
       "      <td>0</td>\n",
       "      <td>World</td>\n",
       "      <td>Generation (billion kWh)</td>\n",
       "      <td>1980</td>\n",
       "      <td>8017.590351</td>\n",
       "    </tr>\n",
       "    <tr>\n",
       "      <th>1</th>\n",
       "      <td>1</td>\n",
       "      <td>World</td>\n",
       "      <td>Nuclear (billion kWh)</td>\n",
       "      <td>1980</td>\n",
       "      <td>684.380219</td>\n",
       "    </tr>\n",
       "    <tr>\n",
       "      <th>2</th>\n",
       "      <td>2</td>\n",
       "      <td>World</td>\n",
       "      <td>Fossil fuels (billion kWh)</td>\n",
       "      <td>1980</td>\n",
       "      <td>5588.874065</td>\n",
       "    </tr>\n",
       "    <tr>\n",
       "      <th>3</th>\n",
       "      <td>3</td>\n",
       "      <td>World</td>\n",
       "      <td>Renewables (billion kWh)</td>\n",
       "      <td>1980</td>\n",
       "      <td>1754.115066</td>\n",
       "    </tr>\n",
       "    <tr>\n",
       "      <th>4</th>\n",
       "      <td>4</td>\n",
       "      <td>World</td>\n",
       "      <td>Hydroelectricity (billion kWh)</td>\n",
       "      <td>1980</td>\n",
       "      <td>1722.56809</td>\n",
       "    </tr>\n",
       "  </tbody>\n",
       "</table>\n",
       "</div>"
      ],
      "text/plain": [
       "   Unnamed: 0 COUNTRY                      GENERATION  Year        Value\n",
       "0           0   World        Generation (billion kWh)  1980  8017.590351\n",
       "1           1   World           Nuclear (billion kWh)  1980   684.380219\n",
       "2           2   World      Fossil fuels (billion kWh)  1980  5588.874065\n",
       "3           3   World        Renewables (billion kWh)  1980  1754.115066\n",
       "4           4   World  Hydroelectricity (billion kWh)  1980   1722.56809"
      ]
     },
     "execution_count": 4,
     "metadata": {},
     "output_type": "execute_result"
    }
   ],
   "source": [
    "df.head()\n",
    "# 앗 첫번째 열에 인덱스가 포함되어 데이터 프레임이 불러와졌다! 제거하자"
   ]
  },
  {
   "cell_type": "code",
   "execution_count": 5,
   "metadata": {},
   "outputs": [
    {
     "data": {
      "text/html": [
       "<div>\n",
       "<style scoped>\n",
       "    .dataframe tbody tr th:only-of-type {\n",
       "        vertical-align: middle;\n",
       "    }\n",
       "\n",
       "    .dataframe tbody tr th {\n",
       "        vertical-align: top;\n",
       "    }\n",
       "\n",
       "    .dataframe thead th {\n",
       "        text-align: right;\n",
       "    }\n",
       "</style>\n",
       "<table border=\"1\" class=\"dataframe\">\n",
       "  <thead>\n",
       "    <tr style=\"text-align: right;\">\n",
       "      <th></th>\n",
       "      <th>Unnamed: 0</th>\n",
       "      <th>COUNTRY</th>\n",
       "      <th>GENERATION</th>\n",
       "      <th>Year</th>\n",
       "      <th>Value</th>\n",
       "    </tr>\n",
       "  </thead>\n",
       "  <tbody>\n",
       "    <tr>\n",
       "      <th>125575</th>\n",
       "      <td>125575</td>\n",
       "      <td>Zimbabwe</td>\n",
       "      <td>Tide and wave (billion kWh)</td>\n",
       "      <td>2021</td>\n",
       "      <td>0</td>\n",
       "    </tr>\n",
       "    <tr>\n",
       "      <th>125576</th>\n",
       "      <td>125576</td>\n",
       "      <td>Zimbabwe</td>\n",
       "      <td>Solar (billion kWh)</td>\n",
       "      <td>2021</td>\n",
       "      <td>0.04148</td>\n",
       "    </tr>\n",
       "    <tr>\n",
       "      <th>125577</th>\n",
       "      <td>125577</td>\n",
       "      <td>Zimbabwe</td>\n",
       "      <td>Wind (billion kWh)</td>\n",
       "      <td>2021</td>\n",
       "      <td>0</td>\n",
       "    </tr>\n",
       "    <tr>\n",
       "      <th>125578</th>\n",
       "      <td>125578</td>\n",
       "      <td>Zimbabwe</td>\n",
       "      <td>Biomass and waste (billion kWh)</td>\n",
       "      <td>2021</td>\n",
       "      <td>0.099788966</td>\n",
       "    </tr>\n",
       "    <tr>\n",
       "      <th>125579</th>\n",
       "      <td>125579</td>\n",
       "      <td>Zimbabwe</td>\n",
       "      <td>Hydroelectric pumped storage (billion kWh)</td>\n",
       "      <td>2021</td>\n",
       "      <td>0</td>\n",
       "    </tr>\n",
       "  </tbody>\n",
       "</table>\n",
       "</div>"
      ],
      "text/plain": [
       "        Unnamed: 0   COUNTRY                                  GENERATION  \\\n",
       "125575      125575  Zimbabwe                 Tide and wave (billion kWh)   \n",
       "125576      125576  Zimbabwe                         Solar (billion kWh)   \n",
       "125577      125577  Zimbabwe                          Wind (billion kWh)   \n",
       "125578      125578  Zimbabwe             Biomass and waste (billion kWh)   \n",
       "125579      125579  Zimbabwe  Hydroelectric pumped storage (billion kWh)   \n",
       "\n",
       "        Year        Value  \n",
       "125575  2021            0  \n",
       "125576  2021      0.04148  \n",
       "125577  2021            0  \n",
       "125578  2021  0.099788966  \n",
       "125579  2021            0  "
      ]
     },
     "execution_count": 5,
     "metadata": {},
     "output_type": "execute_result"
    }
   ],
   "source": [
    "df.tail()"
   ]
  },
  {
   "cell_type": "code",
   "execution_count": 6,
   "metadata": {},
   "outputs": [],
   "source": [
    "# 필요 없는 열 제거\n",
    "df.drop(['Unnamed: 0'],inplace=True,axis=1)"
   ]
  },
  {
   "cell_type": "code",
   "execution_count": 7,
   "metadata": {},
   "outputs": [
    {
     "data": {
      "text/html": [
       "<div>\n",
       "<style scoped>\n",
       "    .dataframe tbody tr th:only-of-type {\n",
       "        vertical-align: middle;\n",
       "    }\n",
       "\n",
       "    .dataframe tbody tr th {\n",
       "        vertical-align: top;\n",
       "    }\n",
       "\n",
       "    .dataframe thead th {\n",
       "        text-align: right;\n",
       "    }\n",
       "</style>\n",
       "<table border=\"1\" class=\"dataframe\">\n",
       "  <thead>\n",
       "    <tr style=\"text-align: right;\">\n",
       "      <th></th>\n",
       "      <th>Year</th>\n",
       "    </tr>\n",
       "  </thead>\n",
       "  <tbody>\n",
       "    <tr>\n",
       "      <th>count</th>\n",
       "      <td>125580.000000</td>\n",
       "    </tr>\n",
       "    <tr>\n",
       "      <th>mean</th>\n",
       "      <td>2000.500000</td>\n",
       "    </tr>\n",
       "    <tr>\n",
       "      <th>std</th>\n",
       "      <td>12.120967</td>\n",
       "    </tr>\n",
       "    <tr>\n",
       "      <th>min</th>\n",
       "      <td>1980.000000</td>\n",
       "    </tr>\n",
       "    <tr>\n",
       "      <th>25%</th>\n",
       "      <td>1990.000000</td>\n",
       "    </tr>\n",
       "    <tr>\n",
       "      <th>50%</th>\n",
       "      <td>2000.500000</td>\n",
       "    </tr>\n",
       "    <tr>\n",
       "      <th>75%</th>\n",
       "      <td>2011.000000</td>\n",
       "    </tr>\n",
       "    <tr>\n",
       "      <th>max</th>\n",
       "      <td>2021.000000</td>\n",
       "    </tr>\n",
       "  </tbody>\n",
       "</table>\n",
       "</div>"
      ],
      "text/plain": [
       "                Year\n",
       "count  125580.000000\n",
       "mean     2000.500000\n",
       "std        12.120967\n",
       "min      1980.000000\n",
       "25%      1990.000000\n",
       "50%      2000.500000\n",
       "75%      2011.000000\n",
       "max      2021.000000"
      ]
     },
     "execution_count": 7,
     "metadata": {},
     "output_type": "execute_result"
    }
   ],
   "source": [
    "df.describe()"
   ]
  },
  {
   "cell_type": "code",
   "execution_count": 8,
   "metadata": {},
   "outputs": [
    {
     "name": "stdout",
     "output_type": "stream",
     "text": [
      "<class 'pandas.core.frame.DataFrame'>\n",
      "RangeIndex: 125580 entries, 0 to 125579\n",
      "Data columns (total 4 columns):\n",
      " #   Column      Non-Null Count   Dtype \n",
      "---  ------      --------------   ----- \n",
      " 0   COUNTRY     125580 non-null  object\n",
      " 1   GENERATION  125580 non-null  object\n",
      " 2   Year        125580 non-null  int64 \n",
      " 3   Value       123363 non-null  object\n",
      "dtypes: int64(1), object(3)\n",
      "memory usage: 3.8+ MB\n"
     ]
    }
   ],
   "source": [
    "df.info()\n",
    "# 전체 행은 125580개, Value에서 결측값이 있는 것으로 추정됨"
   ]
  },
  {
   "cell_type": "code",
   "execution_count": 9,
   "metadata": {},
   "outputs": [
    {
     "data": {
      "text/plain": [
       "2217"
      ]
     },
     "execution_count": 9,
     "metadata": {},
     "output_type": "execute_result"
    }
   ],
   "source": [
    "# 결측값의 개수 확인\n",
    "df[\"Value\"].isnull().sum()"
   ]
  },
  {
   "cell_type": "code",
   "execution_count": 10,
   "metadata": {},
   "outputs": [
    {
     "data": {
      "text/plain": [
       "0              64738\n",
       "--              8226\n",
       "0.001            930\n",
       "0.002            786\n",
       "0.003            522\n",
       "               ...  \n",
       "20.69222           1\n",
       "16.04              1\n",
       "39.52822           1\n",
       "11.894             1\n",
       "0.099788966        1\n",
       "Name: Value, Length: 23325, dtype: int64"
      ]
     },
     "execution_count": 10,
     "metadata": {},
     "output_type": "execute_result"
    }
   ],
   "source": [
    "# Value 데이터 확인\n",
    "df[\"Value\"].value_counts()"
   ]
  },
  {
   "cell_type": "code",
   "execution_count": 11,
   "metadata": {},
   "outputs": [
    {
     "name": "stdout",
     "output_type": "stream",
     "text": [
      "Number Count: 116987\n",
      "String Count: 8593\n",
      "NaN Count: 2217\n"
     ]
    }
   ],
   "source": [
    "# 각 행이 숫자형인지 판별하는 함수 정의\n",
    "def is_number(s):\n",
    "    try:\n",
    "        float(s)\n",
    "        return True\n",
    "    except ValueError:\n",
    "        return False\n",
    "\n",
    "# 각 행이 문자형인지 판별하는 함수 정의\n",
    "def is_string(s):\n",
    "    if isinstance(s, str):\n",
    "        # 이미 숫자로 변환 가능한 경우는 제외한다.\n",
    "        return not is_number(s)\n",
    "    else:\n",
    "        return False\n",
    "\n",
    "# 각 행이 결측값인지 판별하는 함수 정의\n",
    "def is_nan(s):\n",
    "    return pd.isnull(s)\n",
    "\n",
    "# 각각의 조건에 따라 boolean mask 생성 후 sum()을 이용해 개수 계산 \n",
    "num_count = df['Value'].apply(is_number).sum()\n",
    "str_count = df['Value'].apply(is_string).sum()\n",
    "nan_count = df['Value'].apply(is_nan).sum()\n",
    "\n",
    "\n",
    "print(f\"Number Count: {num_count}\")\n",
    "print(f\"String Count: {str_count}\")\n",
    "print(f\"NaN Count: {nan_count}\")"
   ]
  },
  {
   "cell_type": "code",
   "execution_count": 12,
   "metadata": {},
   "outputs": [
    {
     "name": "stdout",
     "output_type": "stream",
     "text": [
      "--    8226\n",
      "ie     367\n",
      "Name: Value, dtype: int64\n"
     ]
    }
   ],
   "source": [
    "# 문자열로 구성된 Value의 값, 범주 및 개수 확인\n",
    "str_df = df[df['Value'].apply(is_string)]\n",
    "\n",
    "print(str_df['Value'].value_counts())"
   ]
  },
  {
   "cell_type": "markdown",
   "metadata": {},
   "source": [
    "ie 값 발생한 국가  \n",
    "French Guiana 프랑스령 기아나/ 프랑스 지방   \n",
    "Guadeloupe 과들루프/ 프랑스의 데파르트망  \n",
    "Martinique 마르티니크/ 프랑스의 데파르트망  \n",
    "Reunion  레위니옹/ 프랑스의 해외영토  \n",
    "Northern Mariana Islands 북마리아나 제도/ 미국 영토"
   ]
  },
  {
   "cell_type": "code",
   "execution_count": 13,
   "metadata": {},
   "outputs": [],
   "source": [
    "Value_ie = df[(df['COUNTRY'] == \"Franch Guiana\") | (df['COUNTRY'] == \"Northern Mariana Islands\") | (df['COUNTRY'] == \"Guadeloupe\") | (df['COUNTRY'] == \"Martinique\") | (df['COUNTRY'] == \"Reunion\")]"
   ]
  },
  {
   "cell_type": "code",
   "execution_count": 14,
   "metadata": {},
   "outputs": [
    {
     "data": {
      "text/html": [
       "<div>\n",
       "<style scoped>\n",
       "    .dataframe tbody tr th:only-of-type {\n",
       "        vertical-align: middle;\n",
       "    }\n",
       "\n",
       "    .dataframe tbody tr th {\n",
       "        vertical-align: top;\n",
       "    }\n",
       "\n",
       "    .dataframe thead th {\n",
       "        text-align: right;\n",
       "    }\n",
       "</style>\n",
       "<table border=\"1\" class=\"dataframe\">\n",
       "  <thead>\n",
       "    <tr style=\"text-align: right;\">\n",
       "      <th></th>\n",
       "      <th>COUNTRY</th>\n",
       "      <th>GENERATION</th>\n",
       "      <th>Value</th>\n",
       "    </tr>\n",
       "  </thead>\n",
       "  <tbody>\n",
       "    <tr>\n",
       "      <th>0</th>\n",
       "      <td>Guadeloupe</td>\n",
       "      <td>Biomass and waste (billion kWh)</td>\n",
       "      <td>000000000000000000000.0760.0580.0680.0640.0840...</td>\n",
       "    </tr>\n",
       "    <tr>\n",
       "      <th>1</th>\n",
       "      <td>Guadeloupe</td>\n",
       "      <td>Fossil fuels (billion kWh)</td>\n",
       "      <td>0.290.3230.370.3840.4320.4620.5130.5850.640.59...</td>\n",
       "    </tr>\n",
       "    <tr>\n",
       "      <th>2</th>\n",
       "      <td>Guadeloupe</td>\n",
       "      <td>Generation (billion kWh)</td>\n",
       "      <td>0.290.3230.370.3840.4320.4620.5430.6150.670.62...</td>\n",
       "    </tr>\n",
       "    <tr>\n",
       "      <th>3</th>\n",
       "      <td>Guadeloupe</td>\n",
       "      <td>Geothermal (billion kWh)</td>\n",
       "      <td>0000000.030.030.030.030.030.030.030.030.030.03...</td>\n",
       "    </tr>\n",
       "    <tr>\n",
       "      <th>4</th>\n",
       "      <td>Guadeloupe</td>\n",
       "      <td>Hydroelectric pumped storage (billion kWh)</td>\n",
       "      <td>00000000000000000000000000000000000000000ie</td>\n",
       "    </tr>\n",
       "    <tr>\n",
       "      <th>...</th>\n",
       "      <td>...</td>\n",
       "      <td>...</td>\n",
       "      <td>...</td>\n",
       "    </tr>\n",
       "    <tr>\n",
       "      <th>47</th>\n",
       "      <td>Reunion</td>\n",
       "      <td>Renewables (billion kWh)</td>\n",
       "      <td>0.3020.370.4220.4280.4040.4830.4970.5240.4180....</td>\n",
       "    </tr>\n",
       "    <tr>\n",
       "      <th>48</th>\n",
       "      <td>Reunion</td>\n",
       "      <td>Solar (billion kWh)</td>\n",
       "      <td>000000000000000000000000000.0010.0050.0050.021...</td>\n",
       "    </tr>\n",
       "    <tr>\n",
       "      <th>49</th>\n",
       "      <td>Reunion</td>\n",
       "      <td>Solar, tide, wave, fuel cell (billion kWh)</td>\n",
       "      <td>000000000000000000000000000.0010.0050.0050.021...</td>\n",
       "    </tr>\n",
       "    <tr>\n",
       "      <th>50</th>\n",
       "      <td>Reunion</td>\n",
       "      <td>Tide and wave (billion kWh)</td>\n",
       "      <td>00000000000000000000000000000000000000000ie</td>\n",
       "    </tr>\n",
       "    <tr>\n",
       "      <th>51</th>\n",
       "      <td>Reunion</td>\n",
       "      <td>Wind (billion kWh)</td>\n",
       "      <td>0000000000000000000000000.0050.010.010.010.010...</td>\n",
       "    </tr>\n",
       "  </tbody>\n",
       "</table>\n",
       "<p>39 rows × 3 columns</p>\n",
       "</div>"
      ],
      "text/plain": [
       "       COUNTRY                                  GENERATION  \\\n",
       "0   Guadeloupe             Biomass and waste (billion kWh)   \n",
       "1   Guadeloupe                  Fossil fuels (billion kWh)   \n",
       "2   Guadeloupe                    Generation (billion kWh)   \n",
       "3   Guadeloupe                    Geothermal (billion kWh)   \n",
       "4   Guadeloupe  Hydroelectric pumped storage (billion kWh)   \n",
       "..         ...                                         ...   \n",
       "47     Reunion                    Renewables (billion kWh)   \n",
       "48     Reunion                         Solar (billion kWh)   \n",
       "49     Reunion  Solar, tide, wave, fuel cell (billion kWh)   \n",
       "50     Reunion                 Tide and wave (billion kWh)   \n",
       "51     Reunion                          Wind (billion kWh)   \n",
       "\n",
       "                                                Value  \n",
       "0   000000000000000000000.0760.0580.0680.0640.0840...  \n",
       "1   0.290.3230.370.3840.4320.4620.5130.5850.640.59...  \n",
       "2   0.290.3230.370.3840.4320.4620.5430.6150.670.62...  \n",
       "3   0000000.030.030.030.030.030.030.030.030.030.03...  \n",
       "4         00000000000000000000000000000000000000000ie  \n",
       "..                                                ...  \n",
       "47  0.3020.370.4220.4280.4040.4830.4970.5240.4180....  \n",
       "48  000000000000000000000000000.0010.0050.0050.021...  \n",
       "49  000000000000000000000000000.0010.0050.0050.021...  \n",
       "50        00000000000000000000000000000000000000000ie  \n",
       "51  0000000000000000000000000.0050.010.010.010.010...  \n",
       "\n",
       "[39 rows x 3 columns]"
      ]
     },
     "execution_count": 14,
     "metadata": {},
     "output_type": "execute_result"
    }
   ],
   "source": [
    "# 데이터를 COUNTRY, Year, GENERATION으로 그룹화하고 Value의 합계를 계산합니다.\n",
    "Value_id_data = Value_ie.groupby(['COUNTRY','GENERATION'])['Value'].sum().reset_index()\n",
    "\n",
    "# Value가 ie가 아닌 행만 선택합니다.\n",
    "filtered_ie_data = Value_id_data[Value_id_data['Value'] != 'ie']\n",
    "\n",
    "filtered_ie_data\n"
   ]
  },
  {
   "cell_type": "code",
   "execution_count": 15,
   "metadata": {},
   "outputs": [
    {
     "name": "stdout",
     "output_type": "stream",
     "text": [
      "                 COUNTRY                                  GENERATION  Year  \\\n",
      "1729          Micronesia                    Generation (billion kWh)  1980   \n",
      "1730          Micronesia                       Nuclear (billion kWh)  1980   \n",
      "1731          Micronesia                  Fossil fuels (billion kWh)  1980   \n",
      "1732          Micronesia                    Renewables (billion kWh)  1980   \n",
      "1733          Micronesia              Hydroelectricity (billion kWh)  1980   \n",
      "...                  ...                                         ...   ...   \n",
      "125367  U.S. Territories                 Tide and wave (billion kWh)  2021   \n",
      "125368  U.S. Territories                         Solar (billion kWh)  2021   \n",
      "125369  U.S. Territories                          Wind (billion kWh)  2021   \n",
      "125370  U.S. Territories             Biomass and waste (billion kWh)  2021   \n",
      "125371  U.S. Territories  Hydroelectric pumped storage (billion kWh)  2021   \n",
      "\n",
      "       Value  \n",
      "1729     NaN  \n",
      "1730     NaN  \n",
      "1731     NaN  \n",
      "1732     NaN  \n",
      "1733     NaN  \n",
      "...      ...  \n",
      "125367   NaN  \n",
      "125368   NaN  \n",
      "125369   NaN  \n",
      "125370   NaN  \n",
      "125371   NaN  \n",
      "\n",
      "[2217 rows x 4 columns]\n"
     ]
    }
   ],
   "source": [
    "nan_df = df[df['Value'].apply(is_nan)]\n",
    "\n",
    "print(nan_df)"
   ]
  },
  {
   "cell_type": "markdown",
   "metadata": {},
   "source": [
    "데이터 셋의 value 열의 데이터타입은 object이다.  \n",
    "분석을 위해서 전처리를 시작해보자  \n",
    "value 열의 문자열은 '--','ie'로 구성되어있으며 각 8226, 367개 있는데 먼저 어떤 의미인지 확인해봐야겠지."
   ]
  },
  {
   "cell_type": "markdown",
   "metadata": {},
   "source": [
    "Footnotes  \n",
    "-- = Not applicable\n",
    "\n",
    "\\- = No data reported\n",
    "\n",
    "(s) = Value is too small for the number of decimal places shown\n",
    "\n",
    "NA = Not available\n",
    "\n",
    "W = Data withheld to avoid disclosure\n",
    "\n",
    "ie = Data are included elsewhere for this time period\n",
    "\n",
    "\\* = Conversion Factor Unavailable\n",
    "\n",
    "se = EIA estimates based on time series analysis\n",
    "\n",
    "st = EIA forecasts (Short-Term Energy Outlook)\n",
    "\n",
    "Gross domestic product and energy intensity are expressed in Year 2015 U.S. Dollar at Purchasing Power Parities.\n",
    "\n",
    "The Monthly Energy Review no longer contains a separate international section. All historical data starting in 1973 that were formerly presented in MER Section 11 are now available on the International Energy Statistics browser above."
   ]
  },
  {
   "cell_type": "markdown",
   "metadata": {},
   "source": [
    "'--'는 해당없음  \n",
    "'ie'는 이 기간의 데이터는 다른 곳에 포함됩니다.\n",
    "\n",
    "즉 '--'는 발전하지 않아 발전량 데이터에 해당이 없는 것으로 보여지며(ex. 환경적 여건, 경제적 여건 등)  \n",
    "    따라서 '--'는 제거하여 발전(전력 생산)하는 국가에 초점을 두는 것이 타당할 것으로 보여짐  \n",
    "'ie'는 다른 값으로 대체할 경우 중복의 여지가 있어 제거하는 것이 타당할 것으로 보여짐"
   ]
  },
  {
   "cell_type": "code",
   "execution_count": 16,
   "metadata": {},
   "outputs": [],
   "source": [
    "# '--' 값을 None으로 바꾸기\n",
    "df['Value'] = df['Value'].replace('--', None)"
   ]
  },
  {
   "cell_type": "code",
   "execution_count": 17,
   "metadata": {},
   "outputs": [],
   "source": [
    "# 'ie' 값을 None으로 바꾸기\n",
    "df['Value'] = df['Value'].replace('ie', None)"
   ]
  },
  {
   "cell_type": "code",
   "execution_count": 18,
   "metadata": {},
   "outputs": [],
   "source": [
    "# 분석을 위하여 Value의 Data type을 Object -> float64로 변경하기\n",
    "df['Value']= df['Value'].astype(dtype='float64')"
   ]
  },
  {
   "cell_type": "code",
   "execution_count": 19,
   "metadata": {},
   "outputs": [
    {
     "name": "stdout",
     "output_type": "stream",
     "text": [
      "<class 'pandas.core.frame.DataFrame'>\n",
      "RangeIndex: 125580 entries, 0 to 125579\n",
      "Data columns (total 4 columns):\n",
      " #   Column      Non-Null Count   Dtype  \n",
      "---  ------      --------------   -----  \n",
      " 0   COUNTRY     125580 non-null  object \n",
      " 1   GENERATION  125580 non-null  object \n",
      " 2   Year        125580 non-null  int64  \n",
      " 3   Value       123173 non-null  float64\n",
      "dtypes: float64(1), int64(1), object(2)\n",
      "memory usage: 3.8+ MB\n"
     ]
    }
   ],
   "source": [
    "#데이터 타입 변경 후 확인\n",
    "df.info()"
   ]
  },
  {
   "cell_type": "markdown",
   "metadata": {},
   "source": [
    "데이터 시각화"
   ]
  },
  {
   "cell_type": "code",
   "execution_count": 20,
   "metadata": {},
   "outputs": [],
   "source": [
    "# 필요한 라이브러리 불러오기\n",
    "import matplotlib.pyplot as plt\n",
    "import seaborn as sns"
   ]
  },
  {
   "cell_type": "code",
   "execution_count": 21,
   "metadata": {},
   "outputs": [
    {
     "data": {
      "image/png": "[encoded data removed]",
      "text/plain": [
       "<Figure size 864x288 with 1 Axes>"
      ]
     },
     "metadata": {
      "needs_background": "light"
     },
     "output_type": "display_data"
    }
   ],
   "source": [
    "# 국가별 총 발전량 상위 10개 국가 world 제외\n",
    "\n",
    "# 'World' 행 제외한 데이터 및 'Generation (billion kWh)' 행만 추출\n",
    "filtered_data = df[(df['COUNTRY'] != 'World') & (df['GENERATION'] == 'Generation (billion kWh)')]\n",
    "\n",
    "# 그룹화하여 Value 합계 계산 후 상위 10개 국가 추출\n",
    "top_10_countries = filtered_data.groupby('COUNTRY')['Value'].sum().nlargest(10)\n",
    "\n",
    "# 막대그래프로 시각화\n",
    "plt.figure(figsize=(12,4))  # 그래프 크기 설정\n",
    "top_10_countries.plot(kind='bar')  # bar 형태의 plot 생성\n",
    "\n",
    "plt.title('Top 10 Countries by Value')   # 그래프 제목 설정\n",
    "plt.xlabel('Country')   # x축 레이블 설정 \n",
    "plt.ylabel('Value')     # y축 레이블 설정 \n",
    "\n",
    "plt.show()   # 그래프 출력\n"
   ]
  },
  {
   "cell_type": "code",
   "execution_count": 22,
   "metadata": {},
   "outputs": [
    {
     "data": {
      "text/html": [
       "<div>\n",
       "<style scoped>\n",
       "    .dataframe tbody tr th:only-of-type {\n",
       "        vertical-align: middle;\n",
       "    }\n",
       "\n",
       "    .dataframe tbody tr th {\n",
       "        vertical-align: top;\n",
       "    }\n",
       "\n",
       "    .dataframe thead th {\n",
       "        text-align: right;\n",
       "    }\n",
       "</style>\n",
       "<table border=\"1\" class=\"dataframe\">\n",
       "  <thead>\n",
       "    <tr style=\"text-align: right;\">\n",
       "      <th></th>\n",
       "      <th>COUNTRY</th>\n",
       "      <th>GENERATION</th>\n",
       "      <th>Year</th>\n",
       "      <th>Value</th>\n",
       "    </tr>\n",
       "  </thead>\n",
       "  <tbody>\n",
       "    <tr>\n",
       "      <th>923</th>\n",
       "      <td>Former U.S.S.R.</td>\n",
       "      <td>Generation (billion kWh)</td>\n",
       "      <td>1980</td>\n",
       "      <td>1294.003644</td>\n",
       "    </tr>\n",
       "    <tr>\n",
       "      <th>3913</th>\n",
       "      <td>Former U.S.S.R.</td>\n",
       "      <td>Generation (billion kWh)</td>\n",
       "      <td>1981</td>\n",
       "      <td>1252.196392</td>\n",
       "    </tr>\n",
       "    <tr>\n",
       "      <th>6903</th>\n",
       "      <td>Former U.S.S.R.</td>\n",
       "      <td>Generation (billion kWh)</td>\n",
       "      <td>1982</td>\n",
       "      <td>1367.782245</td>\n",
       "    </tr>\n",
       "    <tr>\n",
       "      <th>9893</th>\n",
       "      <td>Former U.S.S.R.</td>\n",
       "      <td>Generation (billion kWh)</td>\n",
       "      <td>1983</td>\n",
       "      <td>1416.611743</td>\n",
       "    </tr>\n",
       "    <tr>\n",
       "      <th>12883</th>\n",
       "      <td>Former U.S.S.R.</td>\n",
       "      <td>Generation (billion kWh)</td>\n",
       "      <td>1984</td>\n",
       "      <td>1492.097622</td>\n",
       "    </tr>\n",
       "    <tr>\n",
       "      <th>...</th>\n",
       "      <td>...</td>\n",
       "      <td>...</td>\n",
       "      <td>...</td>\n",
       "      <td>...</td>\n",
       "    </tr>\n",
       "    <tr>\n",
       "      <th>111553</th>\n",
       "      <td>Former U.S.S.R.</td>\n",
       "      <td>Generation (billion kWh)</td>\n",
       "      <td>2017</td>\n",
       "      <td>0.000000</td>\n",
       "    </tr>\n",
       "    <tr>\n",
       "      <th>114543</th>\n",
       "      <td>Former U.S.S.R.</td>\n",
       "      <td>Generation (billion kWh)</td>\n",
       "      <td>2018</td>\n",
       "      <td>0.000000</td>\n",
       "    </tr>\n",
       "    <tr>\n",
       "      <th>117533</th>\n",
       "      <td>Former U.S.S.R.</td>\n",
       "      <td>Generation (billion kWh)</td>\n",
       "      <td>2019</td>\n",
       "      <td>0.000000</td>\n",
       "    </tr>\n",
       "    <tr>\n",
       "      <th>120523</th>\n",
       "      <td>Former U.S.S.R.</td>\n",
       "      <td>Generation (billion kWh)</td>\n",
       "      <td>2020</td>\n",
       "      <td>0.000000</td>\n",
       "    </tr>\n",
       "    <tr>\n",
       "      <th>123513</th>\n",
       "      <td>Former U.S.S.R.</td>\n",
       "      <td>Generation (billion kWh)</td>\n",
       "      <td>2021</td>\n",
       "      <td>0.000000</td>\n",
       "    </tr>\n",
       "  </tbody>\n",
       "</table>\n",
       "<p>42 rows × 4 columns</p>\n",
       "</div>"
      ],
      "text/plain": [
       "                COUNTRY                GENERATION  Year        Value\n",
       "923     Former U.S.S.R.  Generation (billion kWh)  1980  1294.003644\n",
       "3913    Former U.S.S.R.  Generation (billion kWh)  1981  1252.196392\n",
       "6903    Former U.S.S.R.  Generation (billion kWh)  1982  1367.782245\n",
       "9893    Former U.S.S.R.  Generation (billion kWh)  1983  1416.611743\n",
       "12883   Former U.S.S.R.  Generation (billion kWh)  1984  1492.097622\n",
       "...                 ...                       ...   ...          ...\n",
       "111553  Former U.S.S.R.  Generation (billion kWh)  2017     0.000000\n",
       "114543  Former U.S.S.R.  Generation (billion kWh)  2018     0.000000\n",
       "117533  Former U.S.S.R.  Generation (billion kWh)  2019     0.000000\n",
       "120523  Former U.S.S.R.  Generation (billion kWh)  2020     0.000000\n",
       "123513  Former U.S.S.R.  Generation (billion kWh)  2021     0.000000\n",
       "\n",
       "[42 rows x 4 columns]"
      ]
     },
     "execution_count": 22,
     "metadata": {},
     "output_type": "execute_result"
    }
   ],
   "source": [
    "df.loc[(df['COUNTRY']=='Former U.S.S.R.') & (df['GENERATION']=='Generation (billion kWh)')]"
   ]
  },
  {
   "cell_type": "markdown",
   "metadata": {},
   "source": [
    "\"Former U.S.S.R.\"는 \"Former Union of Soviet Socialist Republics\"  \n",
    "이 연합은 1922년에 설립되어 15개의 공화국으로 구성  \n",
    "  \n",
    "당시 국가명(영문) 데이터셋 내 국가명(COUNTRY)  \n",
    "러시아 소비에트 연방 공화국 (Russian SFSR) Russia  \n",
    "우크라이나 소비에트 사회주의 공화국 (Ukrainian SSR) Ukraine  \n",
    "벨로루시 소비에트 사회주의 공화국 (Byelorussian SSR) Belarus  \n",
    "우즈베키스탄 소비에트 사회주의 공화국 (Uzbek SSR) Uzbekistan  \n",
    "카자흐스탄 소비에트 사회주의 공화국 (Kazakh SSR) Kazakhstan  \n",
    "조지아 소비에트 사회주의 공화국 (Georgian SSR) Georgia  \n",
    "아제르바이잔 소비에트 사회주의 공화국 (Azerbaijan SSR) Azerbaijan  \n",
    "리투아니아 소비에트 사회주의 공화국 (Lithuanian SSR) Lithuania  \n",
    "몰도바 소비에트 사회주이스트공화국(Moldavian SSR) Moldova  \n",
    "라트비아 소비에스터사사리스트공과학(Latvian SSR) Latvia  \n",
    "키르기스소 비 에스터사사리스트공과학(Kirghiz SSR) Kyrgyzstan  \n",
    "타지키스탄소 비 에스터사사리스트공과학(Tajik SSR) Tajikistan  \n",
    "아르메니아소 비 에스터사사리스트공과학(Armenian SSr) Armenia  \n",
    "투르크메니 스탄소 비 에 스터사립립공과 학(Turkmen SSr) Turkmenistan  \n",
    "에 스토니아소 비 에 스터사립립공과 학(Estonia nSSR) Estonia  \n",
    "  \n",
    "U.S.S.R.는 1991년 12월 26일 해체되었습니다."
   ]
  },
  {
   "cell_type": "markdown",
   "metadata": {},
   "source": [
    "Former U.S.S.R의 데이터가 1991년까지 데이터밖에 없지만 총 에너지 발전량이 상위 10위 안에 해당하는 지표로서  \n",
    "처리하기 위한 방안을 마련할 필요성이 있다.  \n",
    "1. 1992년 부터 데이터의 합. 하지만 현재 독립된 국가들로서 이 방안은 절절하지 않은 것으로 보여짐\n",
    "2. 1991년 이전의 데이터를 비율에 따라 분할. 비율은 이후 에너지 생산량을 근거로 실시  \n",
    "    이 방안의 경우 추측에 의한 결측값 처리로 신뢰도가 떨어질 것이 우려됨  \n",
    "3. Former U.S.S.R 데이터 활용하지 않는 방향\n",
    "    이 방안 또한 유의미한 데이터 손실이 발생하므로 가급적이면 활용하는 방향을 지향함\n",
    "4. 보다 복잡한 모델링 접근  \n",
    "    각 나라별로 다른 가중치나 계수를 적용하는 등의 모델링 접근  \n",
    "    하지만 이러한 접근 방식은 구현이 복잡하며 추가 정보(각 나라의 인구, GDP 등)가 필요"
   ]
  },
  {
   "cell_type": "code",
   "execution_count": 23,
   "metadata": {},
   "outputs": [
    {
     "data": {
      "image/png": "[encoded data removed]",
      "text/plain": [
       "<Figure size 864x288 with 1 Axes>"
      ]
     },
     "metadata": {
      "needs_background": "light"
     },
     "output_type": "display_data"
    }
   ],
   "source": [
    "# 연도별 총 에너지 발전량\n",
    "\n",
    "# 그룹화하여 Value 합계 계산 후 상위 10개 국가 추출\n",
    "top_10_years = filtered_data.groupby('Year')['Value'].sum()\n",
    "\n",
    "\n",
    "# 막대그래프로 시각화\n",
    "plt.figure(figsize=(12,4))  # 그래프 크기 설정\n",
    "top_10_years.plot(kind='bar')  # bar 형태의 plot 생성\n",
    "\n",
    "plt.title('Years by Value')   # 그래프 제목 설정\n",
    "plt.xlabel('Years')   # x축 레이블 설정 \n",
    "plt.ylabel('Value')     # y축 레이블 설정 \n",
    "\n",
    "plt.show()   #그래프 출력 \n"
   ]
  },
  {
   "cell_type": "markdown",
   "metadata": {},
   "source": [
    "연도별 에너지 발전량은 지속적으로 성장하는 모습을 보이며 소모량과의 관계를 살펴보며 추가적인 분석이 필요할 것으로 요구됨"
   ]
  },
  {
   "cell_type": "code",
   "execution_count": 24,
   "metadata": {},
   "outputs": [
    {
     "data": {
      "image/png": "[encoded data removed]",
      "text/plain": [
       "<Figure size 864x288 with 1 Axes>"
      ]
     },
     "metadata": {
      "needs_background": "light"
     },
     "output_type": "display_data"
    }
   ],
   "source": [
    "# 발전원별 발전량\n",
    "\n",
    "# 'World' 행 제외한 데이터 및 'Generation (billion kWh)' 행만 추출\n",
    "filtered_data_gen = df[(df['COUNTRY'] != 'World') & (df['GENERATION'] != \"Generation (billion kWh)\")]\n",
    "\n",
    "# 그룹화하여 Value 합계 계산 후 상위 10개 국가 추출\n",
    "top_10_generation = filtered_data_gen.groupby('GENERATION')['Value'].sum().sort_values(ascending=False)\n",
    "\n",
    "\n",
    "# 막대그래프로 시각화\n",
    "plt.figure(figsize=(12,4))  # 그래프 크기 설정\n",
    "top_10_generation.plot(kind='bar')  # bar 형태의 plot 생성\n",
    "\n",
    "plt.title('Generations by Value')   # 그래프 제목 설정\n",
    "plt.xlabel('Generations')   # x축 레이블 설정 \n",
    "plt.ylabel('Value')     # y축 레이블 설정 \n",
    "\n",
    "plt.show()   #그래프 출력 \n"
   ]
  },
  {
   "cell_type": "markdown",
   "metadata": {},
   "source": [
    "발전량 순위 상위 5개\n",
    "1. Generation (billion kWh)  \n",
    "2. Fossil fuels (billion kWh)\n",
    "3. Renewables (billion kWh)\n",
    "4. Hydroelectricity (billion kWh)\n",
    "5. Nuclear (billion kWh)"
   ]
  },
  {
   "cell_type": "code",
   "execution_count": 25,
   "metadata": {},
   "outputs": [
    {
     "data": {
      "image/png": "[encoded data removed]",
      "text/plain": [
       "<Figure size 864x432 with 1 Axes>"
      ]
     },
     "metadata": {
      "needs_background": "light"
     },
     "output_type": "display_data"
    }
   ],
   "source": [
    "import pandas as pd\n",
    "import matplotlib.pyplot as plt\n",
    "\n",
    "# 데이터를 연도와 GENERATION으로 그룹화하고, Value의 합계를 계산합니다.\n",
    "grouped_data = filtered_data_gen.groupby(['Year', 'GENERATION'])['Value'].sum().unstack()\n",
    "\n",
    "# 누적 막대그래프를 생성합니다.\n",
    "grouped_data.plot(kind='bar', stacked=True, figsize=(12, 6))\n",
    "\n",
    "plt.title('Yearly Energy Generation by Source')   # 그래프 제목 설정\n",
    "plt.xlabel('Year')   # x축 레이블 설정 \n",
    "plt.ylabel('Value')     # y축 레이블 설정 \n",
    "\n",
    "plt.legend(title='Generation', prop={'size': 8})  # 범례 추가 및 사이즈 조절\n",
    "\n",
    "plt.show()   #그래프 출력 \n"
   ]
  },
  {
   "cell_type": "code",
   "execution_count": 26,
   "metadata": {},
   "outputs": [
    {
     "data": {
      "image/png": "[encoded data removed]",
      "text/plain": [
       "<Figure size 864x432 with 1 Axes>"
      ]
     },
     "metadata": {
      "needs_background": "light"
     },
     "output_type": "display_data"
    }
   ],
   "source": [
    "# 재생에너지 발전과 원자력 발전만 추출하여 시각화\n",
    "\n",
    "select_data_gen = filtered_data_gen[(filtered_data_gen['GENERATION']=='Renewables (billion kWh)') | (filtered_data_gen['GENERATION']=='Nuclear (billion kWh)')]\n",
    "grouped_data = select_data_gen.groupby(['Year', 'GENERATION'])['Value'].sum().unstack()\n",
    "\n",
    "# 누적 막대그래프를 생성합니다.\n",
    "grouped_data.plot(kind='bar', stacked=True, figsize=(12, 6))\n",
    "\n",
    "plt.title('Yearly Energy Generation by Source')   # 그래프 제목 설정\n",
    "plt.xlabel('Year')   # x축 레이블 설정 \n",
    "plt.ylabel('Value')     # y축 레이블 설정 \n",
    "\n",
    "plt.legend(title='Generation', prop={'size': 8})  # 범례 추가 및 사이즈 조절\n",
    "\n",
    "plt.show()   #그래프 출력 \n"
   ]
  },
  {
   "cell_type": "markdown",
   "metadata": {},
   "source": [
    "원자력 발전의 발전량에 비해서 재생에너지 발전량은 크게 증가하는 것을 확인 가능  \n",
    "하지만 원자력 발전을 할 수 있는 국가는 한정되어 있으므로 추가적으로 국가를 선별하여 확인하는 절차가 요구됨"
   ]
  }
 ],
 "metadata": {
  "kernelspec": {
   "display_name": "base",
   "language": "python",
   "name": "python3"
  },
  "language_info": {
   "codemirror_mode": {
    "name": "ipython",
    "version": 3
   },
   "file_extension": ".py",
   "mimetype": "text/x-python",
   "name": "python",
   "nbconvert_exporter": "python",
   "pygments_lexer": "ipython3",
   "version": "3.7.9"
  }
 },
 "nbformat": 4,
 "nbformat_minor": 2
}
