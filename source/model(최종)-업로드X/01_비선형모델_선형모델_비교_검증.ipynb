{
 "cells": [
  {
   "cell_type": "code",
   "execution_count": 55,
   "metadata": {},
   "outputs": [],
   "source": [
    "import pandas as pd"
   ]
  },
  {
   "cell_type": "code",
   "execution_count": 56,
   "metadata": {},
   "outputs": [],
   "source": [
    "df = pd.read_csv(\"00_국가별_데이터_전처리_세계_추가_수정.csv\")"
   ]
  },
  {
   "cell_type": "code",
   "execution_count": 57,
   "metadata": {},
   "outputs": [],
   "source": [
    "from sklearn.model_selection import train_test_split\n",
    "from xgboost import XGBRegressor\n",
    "from sklearn.metrics import mean_absolute_error, mean_squared_error, r2_score, accuracy_score\n",
    "\n",
    "from math import sqrt\n",
    "from lightgbm import LGBMRegressor, LGBMClassifier\n",
    "from sklearn.model_selection import cross_val_score\n",
    "from sklearn.neural_network import MLPRegressor\n",
    "from sklearn.ensemble import RandomForestRegressor\n",
    "from sklearn.preprocessing import MinMaxScaler"
   ]
  },
  {
   "cell_type": "code",
   "execution_count": 58,
   "metadata": {},
   "outputs": [
    {
     "data": {
      "image/png": "[encoded data removed]",
      "text/plain": [
       "<Figure size 432x288 with 1 Axes>"
      ]
     },
     "metadata": {
      "needs_background": "light"
     },
     "output_type": "display_data"
    }
   ],
   "source": [
    "# 필요한 라이브러리 불러오기\n",
    "\n",
    "import numpy as np\n",
    "import matplotlib.pyplot as plt\n",
    "import seaborn as sns\n",
    "from scipy import stats\n",
    "import matplotlib.font_manager as fm\n",
    "\n",
    "# 한글 폰트 사용을 위해서 세팅\n",
    "from matplotlib import font_manager, rc\n",
    "font_path = \"C:/Windows/Fonts/NGULIM.TTF\"\n",
    "font = font_manager.FontProperties(fname=font_path).get_name()\n",
    "rc('font', family=font)\n",
    " \n",
    "plt.scatter([0, 1, 2, 3, 4, 5], [0, 1, 2, 3, 4, 5])\n",
    "plt.title('산점도')\n",
    "plt.xlabel('변수1')\n",
    "plt.ylabel('변수2')\n",
    "plt.grid(True)\n",
    "plt.show()\n",
    "\n",
    "font_location = fm.findfont('NanumGothic')\n",
    "font_name = fm.FontProperties(fname=font_location).get_name()"
   ]
  },
  {
   "cell_type": "markdown",
   "metadata": {},
   "source": [
    "### 선형회귀와 비선형회귀 검증\n",
    "#### 선형회귀\n",
    "- LinearSVR\n",
    "- 릿지\n",
    "- 라쏘\n",
    "- 엘라스틱넷\n",
    "---------------------------------\n",
    "#### 비선형회귀\n",
    "- 결정 트리\n",
    "- 랜덤포레스트\n",
    "- Xgboost\n",
    "- LightGBM\n",
    "- "
   ]
  },
  {
   "cell_type": "code",
   "execution_count": 59,
   "metadata": {},
   "outputs": [],
   "source": [
    "from sklearn.svm import LinearSVR\n",
    "from sklearn.linear_model import Ridge\n",
    "from sklearn.linear_model import Lasso\n",
    "from sklearn.linear_model import ElasticNet\n",
    "from sklearn.ensemble import RandomForestRegressor\n",
    "from sklearn.tree import DecisionTreeRegressor\n",
    "from lightgbm import LGBMRegressor\n",
    "\n",
    "from sklearn.metrics import mean_absolute_error, mean_squared_error\n",
    "from math import sqrt"
   ]
  },
  {
   "cell_type": "code",
   "execution_count": 60,
   "metadata": {},
   "outputs": [
    {
     "data": {
      "text/plain": [
       "Index(['COUNTRY', 'Year', 'Biomass and waste (billion kWh)',\n",
       "       'CO2 emissions (MMtonnes CO2)', 'Coal (quad Btu)',\n",
       "       'Coal and coke (MMtonnes CO2)', 'Consumed natural gas (MMtonnes CO2)',\n",
       "       'Consumption (quad Btu)', 'Fossil fuels (billion kWh)', 'GDP',\n",
       "       'Generation (billion kWh)', 'Geothermal (billion kWh)',\n",
       "       'Hydroelectric pumped storage (billion kWh)',\n",
       "       'Hydroelectricity (billion kWh)', 'Natural gas (quad Btu)',\n",
       "       'Non-hydroelectric renewables (billion kWh)', 'Nuclear (billion kWh)',\n",
       "       'Nuclear (quad Btu)', 'Nuclear, renewables, and other (quad Btu)',\n",
       "       'Petroleum and other liquids (MMtonnes CO2)',\n",
       "       'Petroleum and other liquids (quad Btu)', 'Population',\n",
       "       'Renewables (billion kWh)', 'Renewables and other (quad Btu)',\n",
       "       'Solar (billion kWh)', 'Solar, tide, wave, fuel cell (billion kWh)',\n",
       "       'Tide and wave (billion kWh)', 'Wind (billion kWh)',\n",
       "       'electricity net consumption (billion kWh)'],\n",
       "      dtype='object')"
      ]
     },
     "execution_count": 60,
     "metadata": {},
     "output_type": "execute_result"
    }
   ],
   "source": [
    "df.columns"
   ]
  },
  {
   "cell_type": "markdown",
   "metadata": {},
   "source": [
    "### world 제거"
   ]
  },
  {
   "cell_type": "code",
   "execution_count": 61,
   "metadata": {},
   "outputs": [
    {
     "data": {
      "text/plain": [
       "(9744, 29)"
      ]
     },
     "execution_count": 61,
     "metadata": {},
     "output_type": "execute_result"
    }
   ],
   "source": [
    "df.shape"
   ]
  },
  {
   "cell_type": "code",
   "execution_count": 62,
   "metadata": {},
   "outputs": [],
   "source": [
    "df = df[df['COUNTRY'] != 'World']\n",
    "#df = df[df['Generation (billion kWh)'] != 0]"
   ]
  },
  {
   "cell_type": "code",
   "execution_count": 63,
   "metadata": {},
   "outputs": [
    {
     "data": {
      "text/plain": [
       "(9702, 29)"
      ]
     },
     "execution_count": 63,
     "metadata": {},
     "output_type": "execute_result"
    }
   ],
   "source": [
    "df.shape"
   ]
  },
  {
   "cell_type": "markdown",
   "metadata": {},
   "source": [
    "### 테스트 데이터 분리"
   ]
  },
  {
   "cell_type": "code",
   "execution_count": 64,
   "metadata": {},
   "outputs": [
    {
     "data": {
      "text/plain": [
       "Index(['COUNTRY', 'Year', 'Biomass and waste (billion kWh)',\n",
       "       'CO2 emissions (MMtonnes CO2)', 'Coal (quad Btu)',\n",
       "       'Coal and coke (MMtonnes CO2)', 'Consumed natural gas (MMtonnes CO2)',\n",
       "       'Consumption (quad Btu)', 'Fossil fuels (billion kWh)', 'GDP',\n",
       "       'Generation (billion kWh)', 'Geothermal (billion kWh)',\n",
       "       'Hydroelectric pumped storage (billion kWh)',\n",
       "       'Hydroelectricity (billion kWh)', 'Natural gas (quad Btu)',\n",
       "       'Non-hydroelectric renewables (billion kWh)', 'Nuclear (billion kWh)',\n",
       "       'Nuclear (quad Btu)', 'Nuclear, renewables, and other (quad Btu)',\n",
       "       'Petroleum and other liquids (MMtonnes CO2)',\n",
       "       'Petroleum and other liquids (quad Btu)', 'Population',\n",
       "       'Renewables (billion kWh)', 'Renewables and other (quad Btu)',\n",
       "       'Solar (billion kWh)', 'Solar, tide, wave, fuel cell (billion kWh)',\n",
       "       'Tide and wave (billion kWh)', 'Wind (billion kWh)',\n",
       "       'electricity net consumption (billion kWh)'],\n",
       "      dtype='object')"
      ]
     },
     "execution_count": 64,
     "metadata": {},
     "output_type": "execute_result"
    }
   ],
   "source": [
    "df.columns"
   ]
  },
  {
   "cell_type": "code",
   "execution_count": 65,
   "metadata": {},
   "outputs": [
    {
     "name": "stdout",
     "output_type": "stream",
     "text": [
      "<class 'pandas.core.frame.DataFrame'>\n",
      "Int64Index: 9702 entries, 0 to 9743\n",
      "Data columns (total 29 columns):\n",
      " #   Column                                      Non-Null Count  Dtype  \n",
      "---  ------                                      --------------  -----  \n",
      " 0   COUNTRY                                     9702 non-null   object \n",
      " 1   Year                                        9702 non-null   int64  \n",
      " 2   Biomass and waste (billion kWh)             9702 non-null   float64\n",
      " 3   CO2 emissions (MMtonnes CO2)                9702 non-null   float64\n",
      " 4   Coal (quad Btu)                             9702 non-null   float64\n",
      " 5   Coal and coke (MMtonnes CO2)                9702 non-null   float64\n",
      " 6   Consumed natural gas (MMtonnes CO2)         9702 non-null   float64\n",
      " 7   Consumption (quad Btu)                      9702 non-null   float64\n",
      " 8   Fossil fuels (billion kWh)                  9702 non-null   float64\n",
      " 9   GDP                                         9702 non-null   float64\n",
      " 10  Generation (billion kWh)                    9702 non-null   float64\n",
      " 11  Geothermal (billion kWh)                    9702 non-null   float64\n",
      " 12  Hydroelectric pumped storage (billion kWh)  9702 non-null   float64\n",
      " 13  Hydroelectricity (billion kWh)              9702 non-null   float64\n",
      " 14  Natural gas (quad Btu)                      9702 non-null   float64\n",
      " 15  Non-hydroelectric renewables (billion kWh)  9702 non-null   float64\n",
      " 16  Nuclear (billion kWh)                       9702 non-null   float64\n",
      " 17  Nuclear (quad Btu)                          9702 non-null   float64\n",
      " 18  Nuclear, renewables, and other (quad Btu)   9702 non-null   float64\n",
      " 19  Petroleum and other liquids (MMtonnes CO2)  9702 non-null   float64\n",
      " 20  Petroleum and other liquids (quad Btu)      9702 non-null   float64\n",
      " 21  Population                                  9702 non-null   float64\n",
      " 22  Renewables (billion kWh)                    9702 non-null   float64\n",
      " 23  Renewables and other (quad Btu)             9702 non-null   float64\n",
      " 24  Solar (billion kWh)                         9702 non-null   float64\n",
      " 25  Solar, tide, wave, fuel cell (billion kWh)  9702 non-null   float64\n",
      " 26  Tide and wave (billion kWh)                 9702 non-null   float64\n",
      " 27  Wind (billion kWh)                          9702 non-null   float64\n",
      " 28  electricity net consumption (billion kWh)   9702 non-null   float64\n",
      "dtypes: float64(27), int64(1), object(1)\n",
      "memory usage: 2.2+ MB\n"
     ]
    }
   ],
   "source": [
    "df.info()"
   ]
  },
  {
   "cell_type": "markdown",
   "metadata": {},
   "source": [
    "'Hydroelectricity (billion kWh)', 'Non-hydroelectric renewables (billion kWh)', 'Geothermal (billion kWh)', 'Solar, tide, wave, fuel cell (billion kWh)', 'Tide and wave (billion kWh)', 'Solar (billion kWh)', 'Wind (billion kWh)', 'Biomass and waste (billion kWh)'"
   ]
  },
  {
   "cell_type": "code",
   "execution_count": 66,
   "metadata": {},
   "outputs": [],
   "source": [
    "#X = df.drop(['GDP', 'Year', 'COUNTRY','CO2 emissions (MMtonnes CO2)', 'Coal and coke (MMtonnes CO2)', 'Consumed natural gas (MMtonnes CO2)','CO2 emissions (MMtonnes CO2)','Generation (billion kWh)','Consumption (quad Btu)','Non-hydroelectric renewables (billion kWh)','Solar, tide, wave, fuel cell (billion kWh)','Nuclear, renewables, and other (quad Btu)','Petroleum and other liquids (MMtonnes CO2)','Renewables (billion kWh)'], axis=1)\n",
    "# ['GDP', 'Year', 'COUNTRY','CO2 emissions (MMtonnes CO2)', 'Coal and coke (MMtonnes CO2)', 'Consumed natural gas (MMtonnes CO2)','CO2 emissions (MMtonnes CO2)','Generation (billion kWh)','Consumption (quad Btu)','Non-hydroelectric renewables (billion kWh)','Solar, tide, wave, fuel cell (billion kWh)','Nuclear, renewables, and other (quad Btu)','Petroleum and other liquids (MMtonnes CO2)','Renewables (billion kWh)']\n",
    "from sklearn.preprocessing import StandardScaler\n",
    "# X = df.drop(['Year', 'COUNTRY', 'CO2 emissions (MMtonnes CO2)', 'GDP','Coal and coke (MMtonnes CO2)', 'Consumed natural gas (MMtonnes CO2)', 'Petroleum and other liquids (MMtonnes CO2)', 'Generation (billion kWh)','Non-hydroelectric renewables (billion kWh)','Solar, tide, wave, fuel cell (billion kWh)','Nuclear, renewables, and other (quad Btu)', 'Renewables (billion kWh)'], axis=1)\n",
    "X = df.drop(['Year', 'COUNTRY', 'Consumption (quad Btu)', 'CO2 emissions (MMtonnes CO2)', 'GDP','Coal and coke (MMtonnes CO2)', 'Consumed natural gas (MMtonnes CO2)', 'Petroleum and other liquids (MMtonnes CO2)', 'Generation (billion kWh)','Non-hydroelectric renewables (billion kWh)','Solar, tide, wave, fuel cell (billion kWh)','Nuclear, renewables, and other (quad Btu)', 'Hydroelectricity (billion kWh)', 'Non-hydroelectric renewables (billion kWh)', 'Geothermal (billion kWh)', 'Solar, tide, wave, fuel cell (billion kWh)', 'Tide and wave (billion kWh)', 'Solar (billion kWh)', 'Wind (billion kWh)', 'Biomass and waste (billion kWh)', 'Hydroelectric pumped storage (billion kWh)'], axis=1)\n",
    "#X = df.drop(['Year', 'COUNTRY', 'CO2 emissions (MMtonnes CO2)', 'GDP','Coal and coke (MMtonnes CO2)', 'Consumed natural gas (MMtonnes CO2)', 'Petroleum and other liquids (MMtonnes CO2)', 'Generation (billion kWh)','Non-hydroelectric renewables (billion kWh)','Solar, tide, wave, fuel cell (billion kWh)','Nuclear, renewables, and other (quad Btu)', 'Hydroelectricity (billion kWh)', 'Non-hydroelectric renewables (billion kWh)', 'Geothermal (billion kWh)', 'Solar, tide, wave, fuel cell (billion kWh)', 'Tide and wave (billion kWh)', 'Solar (billion kWh)', 'Wind (billion kWh)', 'Biomass and waste (billion kWh)'], axis=1)\n",
    "#X = df.drop(['Year', 'COUNTRY', 'CO2 emissions (MMtonnes CO2)', 'GDP','Coal and coke (MMtonnes CO2)', 'Consumed natural gas (MMtonnes CO2)', 'Petroleum and other liquids (MMtonnes CO2)', 'Generation (billion kWh)','Non-hydroelectric renewables (billion kWh)','Solar, tide, wave, fuel cell (billion kWh)','Nuclear, renewables, and other (quad Btu)', 'Renewables (billion kWh)'], axis=1)\n",
    "#X = df.drop(['Year', 'COUNTRY', 'CO2 emissions (MMtonnes CO2)', 'GDP','Coal and coke (MMtonnes CO2)', 'Consumed natural gas (MMtonnes CO2)', 'Petroleum and other liquids (MMtonnes CO2)'], axis=1)\n",
    "y = df['CO2 emissions (MMtonnes CO2)']\n",
    "# train_test_split() 함수로 학습 데이터와 테스트 데이터 분리하기\n",
    "# X_train, X_test, y_train, y_test = train_test_split(X, y, test_size = 0.3, random_state = 100, shuffle = False)\n",
    "X_train, X_test, y_train, y_test = train_test_split(X, y, test_size = 0.3, random_state = 1004, shuffle = False)\n",
    "# 데이터 스케일링\n",
    "scaler_x = StandardScaler()\n",
    "X_train = scaler_x.fit_transform(X_train)\n",
    "X_test = scaler_x.transform(X_test)\n",
    "\n",
    "scaler_y = StandardScaler()\n",
    "y_train = scaler_y.fit_transform(y_train.values.reshape(-1, 1)).ravel()\n",
    "y_test = scaler_y.transform(y_test.values.reshape(-1, 1)).ravel()\n"
   ]
  },
  {
   "cell_type": "code",
   "execution_count": 67,
   "metadata": {},
   "outputs": [
    {
     "data": {
      "text/html": [
       "<div>\n",
       "<style scoped>\n",
       "    .dataframe tbody tr th:only-of-type {\n",
       "        vertical-align: middle;\n",
       "    }\n",
       "\n",
       "    .dataframe tbody tr th {\n",
       "        vertical-align: top;\n",
       "    }\n",
       "\n",
       "    .dataframe thead th {\n",
       "        text-align: right;\n",
       "    }\n",
       "</style>\n",
       "<table border=\"1\" class=\"dataframe\">\n",
       "  <thead>\n",
       "    <tr style=\"text-align: right;\">\n",
       "      <th></th>\n",
       "      <th>Coal (quad Btu)</th>\n",
       "      <th>Fossil fuels (billion kWh)</th>\n",
       "      <th>Natural gas (quad Btu)</th>\n",
       "      <th>Nuclear (billion kWh)</th>\n",
       "      <th>Nuclear (quad Btu)</th>\n",
       "      <th>Petroleum and other liquids (quad Btu)</th>\n",
       "      <th>Population</th>\n",
       "      <th>Renewables (billion kWh)</th>\n",
       "      <th>Renewables and other (quad Btu)</th>\n",
       "      <th>electricity net consumption (billion kWh)</th>\n",
       "    </tr>\n",
       "  </thead>\n",
       "  <tbody>\n",
       "    <tr>\n",
       "      <th>0</th>\n",
       "      <td>0.002479</td>\n",
       "      <td>0.231000</td>\n",
       "      <td>0.002094</td>\n",
       "      <td>0.0</td>\n",
       "      <td>0.0</td>\n",
       "      <td>0.014624</td>\n",
       "      <td>13356.50</td>\n",
       "      <td>0.711000</td>\n",
       "      <td>0.007386</td>\n",
       "      <td>0.876060</td>\n",
       "    </tr>\n",
       "    <tr>\n",
       "      <th>1</th>\n",
       "      <td>0.002604</td>\n",
       "      <td>0.271000</td>\n",
       "      <td>0.003141</td>\n",
       "      <td>0.0</td>\n",
       "      <td>0.0</td>\n",
       "      <td>0.016668</td>\n",
       "      <td>13171.68</td>\n",
       "      <td>0.721000</td>\n",
       "      <td>0.007537</td>\n",
       "      <td>0.922560</td>\n",
       "    </tr>\n",
       "    <tr>\n",
       "      <th>2</th>\n",
       "      <td>0.003021</td>\n",
       "      <td>0.245000</td>\n",
       "      <td>0.005235</td>\n",
       "      <td>0.0</td>\n",
       "      <td>0.0</td>\n",
       "      <td>0.016251</td>\n",
       "      <td>12882.52</td>\n",
       "      <td>0.707000</td>\n",
       "      <td>0.007391</td>\n",
       "      <td>0.885360</td>\n",
       "    </tr>\n",
       "    <tr>\n",
       "      <th>3</th>\n",
       "      <td>0.003021</td>\n",
       "      <td>0.254000</td>\n",
       "      <td>0.005235</td>\n",
       "      <td>0.0</td>\n",
       "      <td>0.0</td>\n",
       "      <td>0.022918</td>\n",
       "      <td>12537.73</td>\n",
       "      <td>0.746000</td>\n",
       "      <td>0.007848</td>\n",
       "      <td>0.930000</td>\n",
       "    </tr>\n",
       "    <tr>\n",
       "      <th>4</th>\n",
       "      <td>0.003083</td>\n",
       "      <td>0.262000</td>\n",
       "      <td>0.005235</td>\n",
       "      <td>0.0</td>\n",
       "      <td>0.0</td>\n",
       "      <td>0.022981</td>\n",
       "      <td>12204.31</td>\n",
       "      <td>0.757000</td>\n",
       "      <td>0.007903</td>\n",
       "      <td>0.947670</td>\n",
       "    </tr>\n",
       "    <tr>\n",
       "      <th>...</th>\n",
       "      <td>...</td>\n",
       "      <td>...</td>\n",
       "      <td>...</td>\n",
       "      <td>...</td>\n",
       "      <td>...</td>\n",
       "      <td>...</td>\n",
       "      <td>...</td>\n",
       "      <td>...</td>\n",
       "      <td>...</td>\n",
       "      <td>...</td>\n",
       "    </tr>\n",
       "    <tr>\n",
       "      <th>9739</th>\n",
       "      <td>0.060448</td>\n",
       "      <td>3.218560</td>\n",
       "      <td>0.000000</td>\n",
       "      <td>0.0</td>\n",
       "      <td>0.0</td>\n",
       "      <td>0.049911</td>\n",
       "      <td>14751.10</td>\n",
       "      <td>4.130900</td>\n",
       "      <td>0.044062</td>\n",
       "      <td>7.838552</td>\n",
       "    </tr>\n",
       "    <tr>\n",
       "      <th>9740</th>\n",
       "      <td>0.065284</td>\n",
       "      <td>3.932020</td>\n",
       "      <td>0.000000</td>\n",
       "      <td>0.0</td>\n",
       "      <td>0.0</td>\n",
       "      <td>0.061759</td>\n",
       "      <td>15052.18</td>\n",
       "      <td>5.254980</td>\n",
       "      <td>0.049737</td>\n",
       "      <td>8.455186</td>\n",
       "    </tr>\n",
       "    <tr>\n",
       "      <th>9741</th>\n",
       "      <td>0.061204</td>\n",
       "      <td>3.850240</td>\n",
       "      <td>0.000000</td>\n",
       "      <td>0.0</td>\n",
       "      <td>0.0</td>\n",
       "      <td>0.055498</td>\n",
       "      <td>15354.61</td>\n",
       "      <td>4.380599</td>\n",
       "      <td>0.040666</td>\n",
       "      <td>7.786427</td>\n",
       "    </tr>\n",
       "    <tr>\n",
       "      <th>9742</th>\n",
       "      <td>0.052825</td>\n",
       "      <td>3.655663</td>\n",
       "      <td>0.000000</td>\n",
       "      <td>0.0</td>\n",
       "      <td>0.0</td>\n",
       "      <td>0.052992</td>\n",
       "      <td>15669.67</td>\n",
       "      <td>3.938347</td>\n",
       "      <td>0.037482</td>\n",
       "      <td>8.131027</td>\n",
       "    </tr>\n",
       "    <tr>\n",
       "      <th>9743</th>\n",
       "      <td>0.050509</td>\n",
       "      <td>3.889625</td>\n",
       "      <td>0.000000</td>\n",
       "      <td>0.0</td>\n",
       "      <td>0.0</td>\n",
       "      <td>0.055915</td>\n",
       "      <td>15993.52</td>\n",
       "      <td>4.141269</td>\n",
       "      <td>0.037381</td>\n",
       "      <td>8.340104</td>\n",
       "    </tr>\n",
       "  </tbody>\n",
       "</table>\n",
       "<p>9702 rows × 10 columns</p>\n",
       "</div>"
      ],
      "text/plain": [
       "      Coal (quad Btu)  Fossil fuels (billion kWh)  Natural gas (quad Btu)  \\\n",
       "0            0.002479                    0.231000                0.002094   \n",
       "1            0.002604                    0.271000                0.003141   \n",
       "2            0.003021                    0.245000                0.005235   \n",
       "3            0.003021                    0.254000                0.005235   \n",
       "4            0.003083                    0.262000                0.005235   \n",
       "...               ...                         ...                     ...   \n",
       "9739         0.060448                    3.218560                0.000000   \n",
       "9740         0.065284                    3.932020                0.000000   \n",
       "9741         0.061204                    3.850240                0.000000   \n",
       "9742         0.052825                    3.655663                0.000000   \n",
       "9743         0.050509                    3.889625                0.000000   \n",
       "\n",
       "      Nuclear (billion kWh)  Nuclear (quad Btu)  \\\n",
       "0                       0.0                 0.0   \n",
       "1                       0.0                 0.0   \n",
       "2                       0.0                 0.0   \n",
       "3                       0.0                 0.0   \n",
       "4                       0.0                 0.0   \n",
       "...                     ...                 ...   \n",
       "9739                    0.0                 0.0   \n",
       "9740                    0.0                 0.0   \n",
       "9741                    0.0                 0.0   \n",
       "9742                    0.0                 0.0   \n",
       "9743                    0.0                 0.0   \n",
       "\n",
       "      Petroleum and other liquids (quad Btu)  Population  \\\n",
       "0                                   0.014624    13356.50   \n",
       "1                                   0.016668    13171.68   \n",
       "2                                   0.016251    12882.52   \n",
       "3                                   0.022918    12537.73   \n",
       "4                                   0.022981    12204.31   \n",
       "...                                      ...         ...   \n",
       "9739                                0.049911    14751.10   \n",
       "9740                                0.061759    15052.18   \n",
       "9741                                0.055498    15354.61   \n",
       "9742                                0.052992    15669.67   \n",
       "9743                                0.055915    15993.52   \n",
       "\n",
       "      Renewables (billion kWh)  Renewables and other (quad Btu)  \\\n",
       "0                     0.711000                         0.007386   \n",
       "1                     0.721000                         0.007537   \n",
       "2                     0.707000                         0.007391   \n",
       "3                     0.746000                         0.007848   \n",
       "4                     0.757000                         0.007903   \n",
       "...                        ...                              ...   \n",
       "9739                  4.130900                         0.044062   \n",
       "9740                  5.254980                         0.049737   \n",
       "9741                  4.380599                         0.040666   \n",
       "9742                  3.938347                         0.037482   \n",
       "9743                  4.141269                         0.037381   \n",
       "\n",
       "      electricity net consumption (billion kWh)  \n",
       "0                                      0.876060  \n",
       "1                                      0.922560  \n",
       "2                                      0.885360  \n",
       "3                                      0.930000  \n",
       "4                                      0.947670  \n",
       "...                                         ...  \n",
       "9739                                   7.838552  \n",
       "9740                                   8.455186  \n",
       "9741                                   7.786427  \n",
       "9742                                   8.131027  \n",
       "9743                                   8.340104  \n",
       "\n",
       "[9702 rows x 10 columns]"
      ]
     },
     "execution_count": 67,
     "metadata": {},
     "output_type": "execute_result"
    }
   ],
   "source": [
    "X"
   ]
  },
  {
   "cell_type": "code",
   "execution_count": 68,
   "metadata": {},
   "outputs": [
    {
     "name": "stdout",
     "output_type": "stream",
     "text": [
      "                            OLS Regression Results                            \n",
      "==============================================================================\n",
      "Dep. Variable:                      y   R-squared:                       1.000\n",
      "Model:                            OLS   Adj. R-squared:                  1.000\n",
      "Method:                 Least Squares   F-statistic:                 3.825e+06\n",
      "Date:                Tue, 07 Nov 2023   Prob (F-statistic):               0.00\n",
      "Time:                        17:57:03   Log-Likelihood:                -35510.\n",
      "No. Observations:                9702   AIC:                         7.104e+04\n",
      "Df Residuals:                    9691   BIC:                         7.112e+04\n",
      "Df Model:                          10                                         \n",
      "Covariance Type:            nonrobust                                         \n",
      "==============================================================================\n",
      "                 coef    std err          t      P>|t|      [0.025      0.975]\n",
      "------------------------------------------------------------------------------\n",
      "Intercept      0.4355      0.103      4.239      0.000       0.234       0.637\n",
      "X[0]          95.0424      0.093   1017.456      0.000      94.859      95.225\n",
      "X[1]           0.0412      0.006      6.926      0.000       0.030       0.053\n",
      "X[2]          54.3817      0.134    406.090      0.000      54.119      54.644\n",
      "X[3]          -1.4293      0.089    -16.055      0.000      -1.604      -1.255\n",
      "X[4]         143.8756      8.530     16.867      0.000     127.155     160.596\n",
      "X[5]          65.0449      0.151    431.093      0.000      64.749      65.341\n",
      "X[6]        2.822e-05   1.32e-06     21.382      0.000    2.56e-05    3.08e-05\n",
      "X[7]          -0.1394      0.008    -16.542      0.000      -0.156      -0.123\n",
      "X[8]          15.0609      0.864     17.437      0.000      13.368      16.754\n",
      "X[9]          -0.0848      0.006    -15.366      0.000      -0.096      -0.074\n",
      "==============================================================================\n",
      "Omnibus:                     8879.700   Durbin-Watson:                   0.475\n",
      "Prob(Omnibus):                  0.000   Jarque-Bera (JB):          5091804.083\n",
      "Skew:                          -3.450   Prob(JB):                         0.00\n",
      "Kurtosis:                     115.018   Cond. No.                     1.04e+07\n",
      "==============================================================================\n",
      "\n",
      "Notes:\n",
      "[1] Standard Errors assume that the covariance matrix of the errors is correctly specified.\n",
      "[2] The condition number is large, 1.04e+07. This might indicate that there are\n",
      "strong multicollinearity or other numerical problems.\n"
     ]
    }
   ],
   "source": [
    "# 코드 10-2\n",
    "# 스탯츠모델스, 사이킷런 ==========\n",
    "from statsmodels.formula.api import ols \n",
    "from sklearn.linear_model import LinearRegression\n",
    "\n",
    "# 선형 회귀모형 형태(종속변수 ~ 독립변수1 + 독립변수2 + 독립변수3 + ···)\n",
    "# 단순 선형 회귀분석 ==========\n",
    "\n",
    "fit = ols('y~X', data=df).fit()\n",
    "print(fit.summary())"
   ]
  },
  {
   "cell_type": "markdown",
   "metadata": {},
   "source": [
    "여기서 'y~X'는 종속 변수 y와 독립 변수 X의 관계를 나타내며, data=df는 해당 데이터프레임을 나타냅니다. fit() 메서드를 사용하여 모델을 학습시킨 후, summary() 메서드를 통해 회귀 분석의 결과를 요약하여 출력합니다.\n",
    "\n",
    "statsmodels를 사용한 선형 회귀 분석에서 fit.summary()는 회귀 분석 결과의 상세한 통계적 정보를 제공합니다. 이를 통해 모델의 유효성, 각 변수의 유의성, 계수 등에 대한 정보를 확인할 수 있습니다."
   ]
  },
  {
   "cell_type": "code",
   "execution_count": 69,
   "metadata": {},
   "outputs": [
    {
     "data": {
      "text/html": [
       "<div>\n",
       "<style scoped>\n",
       "    .dataframe tbody tr th:only-of-type {\n",
       "        vertical-align: middle;\n",
       "    }\n",
       "\n",
       "    .dataframe tbody tr th {\n",
       "        vertical-align: top;\n",
       "    }\n",
       "\n",
       "    .dataframe thead th {\n",
       "        text-align: right;\n",
       "    }\n",
       "</style>\n",
       "<table border=\"1\" class=\"dataframe\">\n",
       "  <thead>\n",
       "    <tr style=\"text-align: right;\">\n",
       "      <th></th>\n",
       "      <th>Year</th>\n",
       "      <th>Biomass and waste (billion kWh)</th>\n",
       "      <th>CO2 emissions (MMtonnes CO2)</th>\n",
       "      <th>Coal (quad Btu)</th>\n",
       "      <th>Coal and coke (MMtonnes CO2)</th>\n",
       "      <th>Consumed natural gas (MMtonnes CO2)</th>\n",
       "      <th>Consumption (quad Btu)</th>\n",
       "      <th>Fossil fuels (billion kWh)</th>\n",
       "      <th>GDP</th>\n",
       "      <th>Generation (billion kWh)</th>\n",
       "      <th>...</th>\n",
       "      <th>Petroleum and other liquids (MMtonnes CO2)</th>\n",
       "      <th>Petroleum and other liquids (quad Btu)</th>\n",
       "      <th>Population</th>\n",
       "      <th>Renewables (billion kWh)</th>\n",
       "      <th>Renewables and other (quad Btu)</th>\n",
       "      <th>Solar (billion kWh)</th>\n",
       "      <th>Solar, tide, wave, fuel cell (billion kWh)</th>\n",
       "      <th>Tide and wave (billion kWh)</th>\n",
       "      <th>Wind (billion kWh)</th>\n",
       "      <th>electricity net consumption (billion kWh)</th>\n",
       "    </tr>\n",
       "  </thead>\n",
       "  <tbody>\n",
       "    <tr>\n",
       "      <th>count</th>\n",
       "      <td>9702.000000</td>\n",
       "      <td>9702.000000</td>\n",
       "      <td>9702.000000</td>\n",
       "      <td>9702.000000</td>\n",
       "      <td>9.702000e+03</td>\n",
       "      <td>9702.000000</td>\n",
       "      <td>9702.000000</td>\n",
       "      <td>9702.000000</td>\n",
       "      <td>9702.000000</td>\n",
       "      <td>9702.000000</td>\n",
       "      <td>...</td>\n",
       "      <td>9702.000000</td>\n",
       "      <td>9702.000000</td>\n",
       "      <td>9.702000e+03</td>\n",
       "      <td>9702.000000</td>\n",
       "      <td>9702.000000</td>\n",
       "      <td>9702.000000</td>\n",
       "      <td>9702.000000</td>\n",
       "      <td>9702.000000</td>\n",
       "      <td>9702.000000</td>\n",
       "      <td>9702.000000</td>\n",
       "    </tr>\n",
       "    <tr>\n",
       "      <th>mean</th>\n",
       "      <td>2000.500000</td>\n",
       "      <td>1.034741</td>\n",
       "      <td>116.482601</td>\n",
       "      <td>0.526963</td>\n",
       "      <td>5.011491e+01</td>\n",
       "      <td>22.160279</td>\n",
       "      <td>1.895257</td>\n",
       "      <td>45.354236</td>\n",
       "      <td>309.519934</td>\n",
       "      <td>69.988618</td>\n",
       "      <td>...</td>\n",
       "      <td>44.207411</td>\n",
       "      <td>0.689987</td>\n",
       "      <td>2.624436e+04</td>\n",
       "      <td>15.302225</td>\n",
       "      <td>0.161862</td>\n",
       "      <td>0.497256</td>\n",
       "      <td>0.500555</td>\n",
       "      <td>0.003299</td>\n",
       "      <td>1.330227</td>\n",
       "      <td>63.581782</td>\n",
       "    </tr>\n",
       "    <tr>\n",
       "      <th>std</th>\n",
       "      <td>12.121543</td>\n",
       "      <td>5.999813</td>\n",
       "      <td>590.933111</td>\n",
       "      <td>4.070981</td>\n",
       "      <td>3.858344e+02</td>\n",
       "      <td>106.255841</td>\n",
       "      <td>8.932775</td>\n",
       "      <td>245.486244</td>\n",
       "      <td>1308.267174</td>\n",
       "      <td>350.401505</td>\n",
       "      <td>...</td>\n",
       "      <td>181.013426</td>\n",
       "      <td>2.853854</td>\n",
       "      <td>1.130948e+05</td>\n",
       "      <td>75.328846</td>\n",
       "      <td>0.806516</td>\n",
       "      <td>6.725475</td>\n",
       "      <td>6.726947</td>\n",
       "      <td>0.039312</td>\n",
       "      <td>14.552068</td>\n",
       "      <td>328.685800</td>\n",
       "    </tr>\n",
       "    <tr>\n",
       "      <th>min</th>\n",
       "      <td>1980.000000</td>\n",
       "      <td>0.000000</td>\n",
       "      <td>0.000000</td>\n",
       "      <td>0.000000</td>\n",
       "      <td>-5.130222e-03</td>\n",
       "      <td>0.000000</td>\n",
       "      <td>0.000000</td>\n",
       "      <td>0.000000</td>\n",
       "      <td>0.000000</td>\n",
       "      <td>0.000000</td>\n",
       "      <td>...</td>\n",
       "      <td>0.000000</td>\n",
       "      <td>0.000000</td>\n",
       "      <td>0.000000e+00</td>\n",
       "      <td>0.000000</td>\n",
       "      <td>-0.168214</td>\n",
       "      <td>0.000000</td>\n",
       "      <td>0.000000</td>\n",
       "      <td>0.000000</td>\n",
       "      <td>0.000000</td>\n",
       "      <td>0.000000</td>\n",
       "    </tr>\n",
       "    <tr>\n",
       "      <th>25%</th>\n",
       "      <td>1990.000000</td>\n",
       "      <td>0.000000</td>\n",
       "      <td>0.435668</td>\n",
       "      <td>0.000000</td>\n",
       "      <td>0.000000e+00</td>\n",
       "      <td>0.000000</td>\n",
       "      <td>0.007458</td>\n",
       "      <td>0.058000</td>\n",
       "      <td>0.000000</td>\n",
       "      <td>0.159147</td>\n",
       "      <td>...</td>\n",
       "      <td>0.400000</td>\n",
       "      <td>0.006258</td>\n",
       "      <td>1.562968e+02</td>\n",
       "      <td>0.000000</td>\n",
       "      <td>0.000000</td>\n",
       "      <td>0.000000</td>\n",
       "      <td>0.000000</td>\n",
       "      <td>0.000000</td>\n",
       "      <td>0.000000</td>\n",
       "      <td>0.162812</td>\n",
       "    </tr>\n",
       "    <tr>\n",
       "      <th>50%</th>\n",
       "      <td>2000.500000</td>\n",
       "      <td>0.000000</td>\n",
       "      <td>4.015588</td>\n",
       "      <td>0.000000</td>\n",
       "      <td>7.755000e-07</td>\n",
       "      <td>0.000000</td>\n",
       "      <td>0.086403</td>\n",
       "      <td>0.832500</td>\n",
       "      <td>16.142440</td>\n",
       "      <td>2.319420</td>\n",
       "      <td>...</td>\n",
       "      <td>2.987016</td>\n",
       "      <td>0.042138</td>\n",
       "      <td>3.815061e+03</td>\n",
       "      <td>0.325000</td>\n",
       "      <td>0.004235</td>\n",
       "      <td>0.000000</td>\n",
       "      <td>0.000000</td>\n",
       "      <td>0.000000</td>\n",
       "      <td>0.000000</td>\n",
       "      <td>2.289980</td>\n",
       "    </tr>\n",
       "    <tr>\n",
       "      <th>75%</th>\n",
       "      <td>2011.000000</td>\n",
       "      <td>0.045000</td>\n",
       "      <td>41.661156</td>\n",
       "      <td>0.029017</td>\n",
       "      <td>3.057892e+00</td>\n",
       "      <td>6.162818</td>\n",
       "      <td>0.751516</td>\n",
       "      <td>13.842905</td>\n",
       "      <td>136.551975</td>\n",
       "      <td>24.869285</td>\n",
       "      <td>...</td>\n",
       "      <td>22.537498</td>\n",
       "      <td>0.336848</td>\n",
       "      <td>1.523736e+04</td>\n",
       "      <td>5.131250</td>\n",
       "      <td>0.052944</td>\n",
       "      <td>0.001000</td>\n",
       "      <td>0.001000</td>\n",
       "      <td>0.000000</td>\n",
       "      <td>0.000100</td>\n",
       "      <td>21.441000</td>\n",
       "    </tr>\n",
       "    <tr>\n",
       "      <th>max</th>\n",
       "      <td>2021.000000</td>\n",
       "      <td>136.433800</td>\n",
       "      <td>11420.234210</td>\n",
       "      <td>96.197752</td>\n",
       "      <td>9.114390e+03</td>\n",
       "      <td>1684.623741</td>\n",
       "      <td>165.158414</td>\n",
       "      <td>5391.953773</td>\n",
       "      <td>25638.030000</td>\n",
       "      <td>8151.518231</td>\n",
       "      <td>...</td>\n",
       "      <td>2644.414302</td>\n",
       "      <td>40.572561</td>\n",
       "      <td>1.427055e+06</td>\n",
       "      <td>2363.284458</td>\n",
       "      <td>20.535439</td>\n",
       "      <td>340.862000</td>\n",
       "      <td>340.874000</td>\n",
       "      <td>0.727000</td>\n",
       "      <td>611.220658</td>\n",
       "      <td>7805.656341</td>\n",
       "    </tr>\n",
       "  </tbody>\n",
       "</table>\n",
       "<p>8 rows × 28 columns</p>\n",
       "</div>"
      ],
      "text/plain": [
       "              Year  Biomass and waste (billion kWh)  \\\n",
       "count  9702.000000                      9702.000000   \n",
       "mean   2000.500000                         1.034741   \n",
       "std      12.121543                         5.999813   \n",
       "min    1980.000000                         0.000000   \n",
       "25%    1990.000000                         0.000000   \n",
       "50%    2000.500000                         0.000000   \n",
       "75%    2011.000000                         0.045000   \n",
       "max    2021.000000                       136.433800   \n",
       "\n",
       "       CO2 emissions (MMtonnes CO2)  Coal (quad Btu)  \\\n",
       "count                   9702.000000      9702.000000   \n",
       "mean                     116.482601         0.526963   \n",
       "std                      590.933111         4.070981   \n",
       "min                        0.000000         0.000000   \n",
       "25%                        0.435668         0.000000   \n",
       "50%                        4.015588         0.000000   \n",
       "75%                       41.661156         0.029017   \n",
       "max                    11420.234210        96.197752   \n",
       "\n",
       "       Coal and coke (MMtonnes CO2)  Consumed natural gas (MMtonnes CO2)  \\\n",
       "count                  9.702000e+03                          9702.000000   \n",
       "mean                   5.011491e+01                            22.160279   \n",
       "std                    3.858344e+02                           106.255841   \n",
       "min                   -5.130222e-03                             0.000000   \n",
       "25%                    0.000000e+00                             0.000000   \n",
       "50%                    7.755000e-07                             0.000000   \n",
       "75%                    3.057892e+00                             6.162818   \n",
       "max                    9.114390e+03                          1684.623741   \n",
       "\n",
       "       Consumption (quad Btu)  Fossil fuels (billion kWh)           GDP  \\\n",
       "count             9702.000000                 9702.000000   9702.000000   \n",
       "mean                 1.895257                   45.354236    309.519934   \n",
       "std                  8.932775                  245.486244   1308.267174   \n",
       "min                  0.000000                    0.000000      0.000000   \n",
       "25%                  0.007458                    0.058000      0.000000   \n",
       "50%                  0.086403                    0.832500     16.142440   \n",
       "75%                  0.751516                   13.842905    136.551975   \n",
       "max                165.158414                 5391.953773  25638.030000   \n",
       "\n",
       "       Generation (billion kWh)  ...  \\\n",
       "count               9702.000000  ...   \n",
       "mean                  69.988618  ...   \n",
       "std                  350.401505  ...   \n",
       "min                    0.000000  ...   \n",
       "25%                    0.159147  ...   \n",
       "50%                    2.319420  ...   \n",
       "75%                   24.869285  ...   \n",
       "max                 8151.518231  ...   \n",
       "\n",
       "       Petroleum and other liquids (MMtonnes CO2)  \\\n",
       "count                                 9702.000000   \n",
       "mean                                    44.207411   \n",
       "std                                    181.013426   \n",
       "min                                      0.000000   \n",
       "25%                                      0.400000   \n",
       "50%                                      2.987016   \n",
       "75%                                     22.537498   \n",
       "max                                   2644.414302   \n",
       "\n",
       "       Petroleum and other liquids (quad Btu)    Population  \\\n",
       "count                             9702.000000  9.702000e+03   \n",
       "mean                                 0.689987  2.624436e+04   \n",
       "std                                  2.853854  1.130948e+05   \n",
       "min                                  0.000000  0.000000e+00   \n",
       "25%                                  0.006258  1.562968e+02   \n",
       "50%                                  0.042138  3.815061e+03   \n",
       "75%                                  0.336848  1.523736e+04   \n",
       "max                                 40.572561  1.427055e+06   \n",
       "\n",
       "       Renewables (billion kWh)  Renewables and other (quad Btu)  \\\n",
       "count               9702.000000                      9702.000000   \n",
       "mean                  15.302225                         0.161862   \n",
       "std                   75.328846                         0.806516   \n",
       "min                    0.000000                        -0.168214   \n",
       "25%                    0.000000                         0.000000   \n",
       "50%                    0.325000                         0.004235   \n",
       "75%                    5.131250                         0.052944   \n",
       "max                 2363.284458                        20.535439   \n",
       "\n",
       "       Solar (billion kWh)  Solar, tide, wave, fuel cell (billion kWh)  \\\n",
       "count          9702.000000                                 9702.000000   \n",
       "mean              0.497256                                    0.500555   \n",
       "std               6.725475                                    6.726947   \n",
       "min               0.000000                                    0.000000   \n",
       "25%               0.000000                                    0.000000   \n",
       "50%               0.000000                                    0.000000   \n",
       "75%               0.001000                                    0.001000   \n",
       "max             340.862000                                  340.874000   \n",
       "\n",
       "       Tide and wave (billion kWh)  Wind (billion kWh)  \\\n",
       "count                  9702.000000         9702.000000   \n",
       "mean                      0.003299            1.330227   \n",
       "std                       0.039312           14.552068   \n",
       "min                       0.000000            0.000000   \n",
       "25%                       0.000000            0.000000   \n",
       "50%                       0.000000            0.000000   \n",
       "75%                       0.000000            0.000100   \n",
       "max                       0.727000          611.220658   \n",
       "\n",
       "       electricity net consumption (billion kWh)  \n",
       "count                                9702.000000  \n",
       "mean                                   63.581782  \n",
       "std                                   328.685800  \n",
       "min                                     0.000000  \n",
       "25%                                     0.162812  \n",
       "50%                                     2.289980  \n",
       "75%                                    21.441000  \n",
       "max                                  7805.656341  \n",
       "\n",
       "[8 rows x 28 columns]"
      ]
     },
     "execution_count": 69,
     "metadata": {},
     "output_type": "execute_result"
    }
   ],
   "source": [
    "df.describe()"
   ]
  },
  {
   "cell_type": "code",
   "execution_count": 70,
   "metadata": {},
   "outputs": [
    {
     "data": {
      "text/html": [
       "<div>\n",
       "<style scoped>\n",
       "    .dataframe tbody tr th:only-of-type {\n",
       "        vertical-align: middle;\n",
       "    }\n",
       "\n",
       "    .dataframe tbody tr th {\n",
       "        vertical-align: top;\n",
       "    }\n",
       "\n",
       "    .dataframe thead th {\n",
       "        text-align: right;\n",
       "    }\n",
       "</style>\n",
       "<table border=\"1\" class=\"dataframe\">\n",
       "  <thead>\n",
       "    <tr style=\"text-align: right;\">\n",
       "      <th></th>\n",
       "      <th>COUNTRY</th>\n",
       "      <th>Year</th>\n",
       "      <th>Biomass and waste (billion kWh)</th>\n",
       "      <th>CO2 emissions (MMtonnes CO2)</th>\n",
       "      <th>Coal (quad Btu)</th>\n",
       "      <th>Coal and coke (MMtonnes CO2)</th>\n",
       "      <th>Consumed natural gas (MMtonnes CO2)</th>\n",
       "      <th>Consumption (quad Btu)</th>\n",
       "      <th>Fossil fuels (billion kWh)</th>\n",
       "      <th>GDP</th>\n",
       "      <th>...</th>\n",
       "      <th>Petroleum and other liquids (MMtonnes CO2)</th>\n",
       "      <th>Petroleum and other liquids (quad Btu)</th>\n",
       "      <th>Population</th>\n",
       "      <th>Renewables (billion kWh)</th>\n",
       "      <th>Renewables and other (quad Btu)</th>\n",
       "      <th>Solar (billion kWh)</th>\n",
       "      <th>Solar, tide, wave, fuel cell (billion kWh)</th>\n",
       "      <th>Tide and wave (billion kWh)</th>\n",
       "      <th>Wind (billion kWh)</th>\n",
       "      <th>electricity net consumption (billion kWh)</th>\n",
       "    </tr>\n",
       "  </thead>\n",
       "  <tbody>\n",
       "    <tr>\n",
       "      <th>0</th>\n",
       "      <td>Afghanistan</td>\n",
       "      <td>1980</td>\n",
       "      <td>0.000000</td>\n",
       "      <td>1.325965</td>\n",
       "      <td>0.002479</td>\n",
       "      <td>0.231314</td>\n",
       "      <td>0.111101</td>\n",
       "      <td>0.026583</td>\n",
       "      <td>0.231000</td>\n",
       "      <td>0.00000</td>\n",
       "      <td>...</td>\n",
       "      <td>0.983550</td>\n",
       "      <td>0.014624</td>\n",
       "      <td>13356.50</td>\n",
       "      <td>0.711000</td>\n",
       "      <td>0.007386</td>\n",
       "      <td>0.00000</td>\n",
       "      <td>0.00000</td>\n",
       "      <td>0.0</td>\n",
       "      <td>0.0</td>\n",
       "      <td>0.876060</td>\n",
       "    </tr>\n",
       "    <tr>\n",
       "      <th>1</th>\n",
       "      <td>Afghanistan</td>\n",
       "      <td>1981</td>\n",
       "      <td>0.000000</td>\n",
       "      <td>1.509628</td>\n",
       "      <td>0.002604</td>\n",
       "      <td>0.242977</td>\n",
       "      <td>0.166651</td>\n",
       "      <td>0.029949</td>\n",
       "      <td>0.271000</td>\n",
       "      <td>0.00000</td>\n",
       "      <td>...</td>\n",
       "      <td>1.100000</td>\n",
       "      <td>0.016668</td>\n",
       "      <td>13171.68</td>\n",
       "      <td>0.721000</td>\n",
       "      <td>0.007537</td>\n",
       "      <td>0.00000</td>\n",
       "      <td>0.00000</td>\n",
       "      <td>0.0</td>\n",
       "      <td>0.0</td>\n",
       "      <td>0.922560</td>\n",
       "    </tr>\n",
       "    <tr>\n",
       "      <th>2</th>\n",
       "      <td>Afghanistan</td>\n",
       "      <td>1982</td>\n",
       "      <td>0.000000</td>\n",
       "      <td>1.659605</td>\n",
       "      <td>0.003021</td>\n",
       "      <td>0.281853</td>\n",
       "      <td>0.277752</td>\n",
       "      <td>0.031898</td>\n",
       "      <td>0.245000</td>\n",
       "      <td>0.00000</td>\n",
       "      <td>...</td>\n",
       "      <td>1.100000</td>\n",
       "      <td>0.016251</td>\n",
       "      <td>12882.52</td>\n",
       "      <td>0.707000</td>\n",
       "      <td>0.007391</td>\n",
       "      <td>0.00000</td>\n",
       "      <td>0.00000</td>\n",
       "      <td>0.0</td>\n",
       "      <td>0.0</td>\n",
       "      <td>0.885360</td>\n",
       "    </tr>\n",
       "    <tr>\n",
       "      <th>3</th>\n",
       "      <td>Afghanistan</td>\n",
       "      <td>1983</td>\n",
       "      <td>0.000000</td>\n",
       "      <td>2.059605</td>\n",
       "      <td>0.003021</td>\n",
       "      <td>0.281853</td>\n",
       "      <td>0.277752</td>\n",
       "      <td>0.039022</td>\n",
       "      <td>0.254000</td>\n",
       "      <td>0.00000</td>\n",
       "      <td>...</td>\n",
       "      <td>1.500000</td>\n",
       "      <td>0.022918</td>\n",
       "      <td>12537.73</td>\n",
       "      <td>0.746000</td>\n",
       "      <td>0.007848</td>\n",
       "      <td>0.00000</td>\n",
       "      <td>0.00000</td>\n",
       "      <td>0.0</td>\n",
       "      <td>0.0</td>\n",
       "      <td>0.930000</td>\n",
       "    </tr>\n",
       "    <tr>\n",
       "      <th>4</th>\n",
       "      <td>Afghanistan</td>\n",
       "      <td>1984</td>\n",
       "      <td>0.000000</td>\n",
       "      <td>2.065436</td>\n",
       "      <td>0.003083</td>\n",
       "      <td>0.287684</td>\n",
       "      <td>0.277752</td>\n",
       "      <td>0.039202</td>\n",
       "      <td>0.262000</td>\n",
       "      <td>0.00000</td>\n",
       "      <td>...</td>\n",
       "      <td>1.500000</td>\n",
       "      <td>0.022981</td>\n",
       "      <td>12204.31</td>\n",
       "      <td>0.757000</td>\n",
       "      <td>0.007903</td>\n",
       "      <td>0.00000</td>\n",
       "      <td>0.00000</td>\n",
       "      <td>0.0</td>\n",
       "      <td>0.0</td>\n",
       "      <td>0.947670</td>\n",
       "    </tr>\n",
       "    <tr>\n",
       "      <th>...</th>\n",
       "      <td>...</td>\n",
       "      <td>...</td>\n",
       "      <td>...</td>\n",
       "      <td>...</td>\n",
       "      <td>...</td>\n",
       "      <td>...</td>\n",
       "      <td>...</td>\n",
       "      <td>...</td>\n",
       "      <td>...</td>\n",
       "      <td>...</td>\n",
       "      <td>...</td>\n",
       "      <td>...</td>\n",
       "      <td>...</td>\n",
       "      <td>...</td>\n",
       "      <td>...</td>\n",
       "      <td>...</td>\n",
       "      <td>...</td>\n",
       "      <td>...</td>\n",
       "      <td>...</td>\n",
       "      <td>...</td>\n",
       "      <td>...</td>\n",
       "    </tr>\n",
       "    <tr>\n",
       "      <th>9739</th>\n",
       "      <td>Zimbabwe</td>\n",
       "      <td>2017</td>\n",
       "      <td>0.151000</td>\n",
       "      <td>8.992426</td>\n",
       "      <td>0.060448</td>\n",
       "      <td>5.461868</td>\n",
       "      <td>0.000000</td>\n",
       "      <td>0.154422</td>\n",
       "      <td>3.218560</td>\n",
       "      <td>39.06286</td>\n",
       "      <td>...</td>\n",
       "      <td>3.530558</td>\n",
       "      <td>0.049911</td>\n",
       "      <td>14751.10</td>\n",
       "      <td>4.130900</td>\n",
       "      <td>0.044062</td>\n",
       "      <td>0.01100</td>\n",
       "      <td>0.01100</td>\n",
       "      <td>0.0</td>\n",
       "      <td>0.0</td>\n",
       "      <td>7.838552</td>\n",
       "    </tr>\n",
       "    <tr>\n",
       "      <th>9740</th>\n",
       "      <td>Zimbabwe</td>\n",
       "      <td>2018</td>\n",
       "      <td>0.187000</td>\n",
       "      <td>10.290169</td>\n",
       "      <td>0.065284</td>\n",
       "      <td>5.912279</td>\n",
       "      <td>0.000000</td>\n",
       "      <td>0.176781</td>\n",
       "      <td>3.932020</td>\n",
       "      <td>40.89881</td>\n",
       "      <td>...</td>\n",
       "      <td>4.377890</td>\n",
       "      <td>0.061759</td>\n",
       "      <td>15052.18</td>\n",
       "      <td>5.254980</td>\n",
       "      <td>0.049737</td>\n",
       "      <td>0.01900</td>\n",
       "      <td>0.01900</td>\n",
       "      <td>0.0</td>\n",
       "      <td>0.0</td>\n",
       "      <td>8.455186</td>\n",
       "    </tr>\n",
       "    <tr>\n",
       "      <th>9741</th>\n",
       "      <td>Zimbabwe</td>\n",
       "      <td>2019</td>\n",
       "      <td>0.189000</td>\n",
       "      <td>9.408047</td>\n",
       "      <td>0.061204</td>\n",
       "      <td>5.468512</td>\n",
       "      <td>0.000000</td>\n",
       "      <td>0.157368</td>\n",
       "      <td>3.850240</td>\n",
       "      <td>38.40398</td>\n",
       "      <td>...</td>\n",
       "      <td>3.939535</td>\n",
       "      <td>0.055498</td>\n",
       "      <td>15354.61</td>\n",
       "      <td>4.380599</td>\n",
       "      <td>0.040666</td>\n",
       "      <td>0.02600</td>\n",
       "      <td>0.02600</td>\n",
       "      <td>0.0</td>\n",
       "      <td>0.0</td>\n",
       "      <td>7.786427</td>\n",
       "    </tr>\n",
       "    <tr>\n",
       "      <th>9742</th>\n",
       "      <td>Zimbabwe</td>\n",
       "      <td>2020</td>\n",
       "      <td>0.099000</td>\n",
       "      <td>8.253322</td>\n",
       "      <td>0.052825</td>\n",
       "      <td>4.491685</td>\n",
       "      <td>0.000000</td>\n",
       "      <td>0.143299</td>\n",
       "      <td>3.655663</td>\n",
       "      <td>35.34675</td>\n",
       "      <td>...</td>\n",
       "      <td>3.761637</td>\n",
       "      <td>0.052992</td>\n",
       "      <td>15669.67</td>\n",
       "      <td>3.938347</td>\n",
       "      <td>0.037482</td>\n",
       "      <td>0.03400</td>\n",
       "      <td>0.03400</td>\n",
       "      <td>0.0</td>\n",
       "      <td>0.0</td>\n",
       "      <td>8.131027</td>\n",
       "    </tr>\n",
       "    <tr>\n",
       "      <th>9743</th>\n",
       "      <td>Zimbabwe</td>\n",
       "      <td>2021</td>\n",
       "      <td>0.099789</td>\n",
       "      <td>8.118910</td>\n",
       "      <td>0.050509</td>\n",
       "      <td>4.149747</td>\n",
       "      <td>0.000000</td>\n",
       "      <td>0.143806</td>\n",
       "      <td>3.889625</td>\n",
       "      <td>37.54586</td>\n",
       "      <td>...</td>\n",
       "      <td>3.969163</td>\n",
       "      <td>0.055915</td>\n",
       "      <td>15993.52</td>\n",
       "      <td>4.141269</td>\n",
       "      <td>0.037381</td>\n",
       "      <td>0.04148</td>\n",
       "      <td>0.04148</td>\n",
       "      <td>0.0</td>\n",
       "      <td>0.0</td>\n",
       "      <td>8.340104</td>\n",
       "    </tr>\n",
       "  </tbody>\n",
       "</table>\n",
       "<p>9702 rows × 29 columns</p>\n",
       "</div>"
      ],
      "text/plain": [
       "          COUNTRY  Year  Biomass and waste (billion kWh)  \\\n",
       "0     Afghanistan  1980                         0.000000   \n",
       "1     Afghanistan  1981                         0.000000   \n",
       "2     Afghanistan  1982                         0.000000   \n",
       "3     Afghanistan  1983                         0.000000   \n",
       "4     Afghanistan  1984                         0.000000   \n",
       "...           ...   ...                              ...   \n",
       "9739     Zimbabwe  2017                         0.151000   \n",
       "9740     Zimbabwe  2018                         0.187000   \n",
       "9741     Zimbabwe  2019                         0.189000   \n",
       "9742     Zimbabwe  2020                         0.099000   \n",
       "9743     Zimbabwe  2021                         0.099789   \n",
       "\n",
       "      CO2 emissions (MMtonnes CO2)  Coal (quad Btu)  \\\n",
       "0                         1.325965         0.002479   \n",
       "1                         1.509628         0.002604   \n",
       "2                         1.659605         0.003021   \n",
       "3                         2.059605         0.003021   \n",
       "4                         2.065436         0.003083   \n",
       "...                            ...              ...   \n",
       "9739                      8.992426         0.060448   \n",
       "9740                     10.290169         0.065284   \n",
       "9741                      9.408047         0.061204   \n",
       "9742                      8.253322         0.052825   \n",
       "9743                      8.118910         0.050509   \n",
       "\n",
       "      Coal and coke (MMtonnes CO2)  Consumed natural gas (MMtonnes CO2)  \\\n",
       "0                         0.231314                             0.111101   \n",
       "1                         0.242977                             0.166651   \n",
       "2                         0.281853                             0.277752   \n",
       "3                         0.281853                             0.277752   \n",
       "4                         0.287684                             0.277752   \n",
       "...                            ...                                  ...   \n",
       "9739                      5.461868                             0.000000   \n",
       "9740                      5.912279                             0.000000   \n",
       "9741                      5.468512                             0.000000   \n",
       "9742                      4.491685                             0.000000   \n",
       "9743                      4.149747                             0.000000   \n",
       "\n",
       "      Consumption (quad Btu)  Fossil fuels (billion kWh)       GDP  ...  \\\n",
       "0                   0.026583                    0.231000   0.00000  ...   \n",
       "1                   0.029949                    0.271000   0.00000  ...   \n",
       "2                   0.031898                    0.245000   0.00000  ...   \n",
       "3                   0.039022                    0.254000   0.00000  ...   \n",
       "4                   0.039202                    0.262000   0.00000  ...   \n",
       "...                      ...                         ...       ...  ...   \n",
       "9739                0.154422                    3.218560  39.06286  ...   \n",
       "9740                0.176781                    3.932020  40.89881  ...   \n",
       "9741                0.157368                    3.850240  38.40398  ...   \n",
       "9742                0.143299                    3.655663  35.34675  ...   \n",
       "9743                0.143806                    3.889625  37.54586  ...   \n",
       "\n",
       "      Petroleum and other liquids (MMtonnes CO2)  \\\n",
       "0                                       0.983550   \n",
       "1                                       1.100000   \n",
       "2                                       1.100000   \n",
       "3                                       1.500000   \n",
       "4                                       1.500000   \n",
       "...                                          ...   \n",
       "9739                                    3.530558   \n",
       "9740                                    4.377890   \n",
       "9741                                    3.939535   \n",
       "9742                                    3.761637   \n",
       "9743                                    3.969163   \n",
       "\n",
       "      Petroleum and other liquids (quad Btu)  Population  \\\n",
       "0                                   0.014624    13356.50   \n",
       "1                                   0.016668    13171.68   \n",
       "2                                   0.016251    12882.52   \n",
       "3                                   0.022918    12537.73   \n",
       "4                                   0.022981    12204.31   \n",
       "...                                      ...         ...   \n",
       "9739                                0.049911    14751.10   \n",
       "9740                                0.061759    15052.18   \n",
       "9741                                0.055498    15354.61   \n",
       "9742                                0.052992    15669.67   \n",
       "9743                                0.055915    15993.52   \n",
       "\n",
       "      Renewables (billion kWh)  Renewables and other (quad Btu)  \\\n",
       "0                     0.711000                         0.007386   \n",
       "1                     0.721000                         0.007537   \n",
       "2                     0.707000                         0.007391   \n",
       "3                     0.746000                         0.007848   \n",
       "4                     0.757000                         0.007903   \n",
       "...                        ...                              ...   \n",
       "9739                  4.130900                         0.044062   \n",
       "9740                  5.254980                         0.049737   \n",
       "9741                  4.380599                         0.040666   \n",
       "9742                  3.938347                         0.037482   \n",
       "9743                  4.141269                         0.037381   \n",
       "\n",
       "      Solar (billion kWh)  Solar, tide, wave, fuel cell (billion kWh)  \\\n",
       "0                 0.00000                                     0.00000   \n",
       "1                 0.00000                                     0.00000   \n",
       "2                 0.00000                                     0.00000   \n",
       "3                 0.00000                                     0.00000   \n",
       "4                 0.00000                                     0.00000   \n",
       "...                   ...                                         ...   \n",
       "9739              0.01100                                     0.01100   \n",
       "9740              0.01900                                     0.01900   \n",
       "9741              0.02600                                     0.02600   \n",
       "9742              0.03400                                     0.03400   \n",
       "9743              0.04148                                     0.04148   \n",
       "\n",
       "      Tide and wave (billion kWh)  Wind (billion kWh)  \\\n",
       "0                             0.0                 0.0   \n",
       "1                             0.0                 0.0   \n",
       "2                             0.0                 0.0   \n",
       "3                             0.0                 0.0   \n",
       "4                             0.0                 0.0   \n",
       "...                           ...                 ...   \n",
       "9739                          0.0                 0.0   \n",
       "9740                          0.0                 0.0   \n",
       "9741                          0.0                 0.0   \n",
       "9742                          0.0                 0.0   \n",
       "9743                          0.0                 0.0   \n",
       "\n",
       "      electricity net consumption (billion kWh)  \n",
       "0                                      0.876060  \n",
       "1                                      0.922560  \n",
       "2                                      0.885360  \n",
       "3                                      0.930000  \n",
       "4                                      0.947670  \n",
       "...                                         ...  \n",
       "9739                                   7.838552  \n",
       "9740                                   8.455186  \n",
       "9741                                   7.786427  \n",
       "9742                                   8.131027  \n",
       "9743                                   8.340104  \n",
       "\n",
       "[9702 rows x 29 columns]"
      ]
     },
     "execution_count": 70,
     "metadata": {},
     "output_type": "execute_result"
    }
   ],
   "source": [
    "df"
   ]
  },
  {
   "cell_type": "markdown",
   "metadata": {},
   "source": [
    "### 1. LinearSVR 모델 학습"
   ]
  },
  {
   "cell_type": "code",
   "execution_count": 71,
   "metadata": {},
   "outputs": [],
   "source": [
    "# from sklearn.model_selection import GridSearchCV\n",
    "\n",
    "# # 하이퍼파라미터의 범위 설정\n",
    "# param_grid = {\n",
    "#     'alpha': [0.0001, 0.001, 0.01, 0.1, 1.0, 10.0]\n",
    "# }\n",
    "\n",
    "# # GridSearchCV 객체 생성\n",
    "# grid_search = GridSearchCV(\n",
    "#     Lasso(), \n",
    "#     param_grid, \n",
    "#     cv=5, \n",
    "#     scoring='neg_mean_squared_error'\n",
    "# )\n",
    "\n",
    "# # 최적의 하이퍼파라미터 찾기\n",
    "# grid_search.fit(X_train, y_train)\n",
    "\n",
    "# # 최적의 하이퍼파라미터 출력\n",
    "# print('Best parameters: ', grid_search.best_params_)\n",
    "\n",
    "# # 최적의 모델 생성\n",
    "# model = grid_search.best_estimator_\n"
   ]
  },
  {
   "cell_type": "markdown",
   "metadata": {},
   "source": [
    "### 1. LinearSVR 모델 검증"
   ]
  },
  {
   "cell_type": "code",
   "execution_count": 72,
   "metadata": {},
   "outputs": [
    {
     "name": "stderr",
     "output_type": "stream",
     "text": [
      "C:\\Users\\vlrms\\AppData\\Local\\Packages\\PythonSoftwareFoundation.Python.3.7_qbz5n2kfra8p0\\LocalCache\\local-packages\\Python37\\site-packages\\sklearn\\svm\\_base.py:1208: ConvergenceWarning: Liblinear failed to converge, increase the number of iterations.\n",
      "  ConvergenceWarning,\n"
     ]
    },
    {
     "name": "stdout",
     "output_type": "stream",
     "text": [
      "0.0001\n",
      "Train MAE: 2.80\n",
      "Train RMSE: 10.78\n",
      "Test MAE: 4.61\n",
      "Test RMSE: 13.48 \n",
      "\n",
      "0.9995758978732957\n"
     ]
    },
    {
     "name": "stderr",
     "output_type": "stream",
     "text": [
      "C:\\Users\\vlrms\\AppData\\Local\\Packages\\PythonSoftwareFoundation.Python.3.7_qbz5n2kfra8p0\\LocalCache\\local-packages\\Python37\\site-packages\\sklearn\\svm\\_base.py:1208: ConvergenceWarning: Liblinear failed to converge, increase the number of iterations.\n",
      "  ConvergenceWarning,\n"
     ]
    },
    {
     "name": "stdout",
     "output_type": "stream",
     "text": [
      "0.001\n",
      "Train MAE: 2.29\n",
      "Train RMSE: 8.06\n",
      "Test MAE: 5.23\n",
      "Test RMSE: 21.37 \n",
      "\n",
      "0.998933748711371\n"
     ]
    },
    {
     "name": "stderr",
     "output_type": "stream",
     "text": [
      "C:\\Users\\vlrms\\AppData\\Local\\Packages\\PythonSoftwareFoundation.Python.3.7_qbz5n2kfra8p0\\LocalCache\\local-packages\\Python37\\site-packages\\sklearn\\svm\\_base.py:1208: ConvergenceWarning: Liblinear failed to converge, increase the number of iterations.\n",
      "  ConvergenceWarning,\n"
     ]
    },
    {
     "name": "stdout",
     "output_type": "stream",
     "text": [
      "0.01\n",
      "Train MAE: 2.29\n",
      "Train RMSE: 8.48\n",
      "Test MAE: 6.34\n",
      "Test RMSE: 26.57 \n",
      "\n",
      "0.9983523995401248\n"
     ]
    },
    {
     "name": "stderr",
     "output_type": "stream",
     "text": [
      "C:\\Users\\vlrms\\AppData\\Local\\Packages\\PythonSoftwareFoundation.Python.3.7_qbz5n2kfra8p0\\LocalCache\\local-packages\\Python37\\site-packages\\sklearn\\svm\\_base.py:1208: ConvergenceWarning: Liblinear failed to converge, increase the number of iterations.\n",
      "  ConvergenceWarning,\n"
     ]
    },
    {
     "name": "stdout",
     "output_type": "stream",
     "text": [
      "0.05\n",
      "Train MAE: 8.22\n",
      "Train RMSE: 13.18\n",
      "Test MAE: 14.12\n",
      "Test RMSE: 45.06 \n",
      "\n",
      "0.995259925760694\n"
     ]
    },
    {
     "name": "stderr",
     "output_type": "stream",
     "text": [
      "C:\\Users\\vlrms\\AppData\\Local\\Packages\\PythonSoftwareFoundation.Python.3.7_qbz5n2kfra8p0\\LocalCache\\local-packages\\Python37\\site-packages\\sklearn\\svm\\_base.py:1208: ConvergenceWarning: Liblinear failed to converge, increase the number of iterations.\n",
      "  ConvergenceWarning,\n"
     ]
    },
    {
     "name": "stdout",
     "output_type": "stream",
     "text": [
      "0.1\n",
      "Train MAE: 30.37\n",
      "Train RMSE: 31.49\n",
      "Test MAE: 36.19\n",
      "Test RMSE: 59.77 \n",
      "\n",
      "0.9916625376355725\n",
      "0.5\n",
      "Train MAE: 14.27\n",
      "Train RMSE: 39.40\n",
      "Test MAE: 13.56\n",
      "Test RMSE: 28.62 \n",
      "\n",
      "0.9980882972117084\n",
      "2\n",
      "Train MAE: 26.62\n",
      "Train RMSE: 91.53\n",
      "Test MAE: 24.99\n",
      "Test RMSE: 66.55 \n",
      "\n",
      "0.9896626063741413\n",
      "5\n",
      "Train MAE: 33.57\n",
      "Train RMSE: 141.83\n",
      "Test MAE: 31.51\n",
      "Test RMSE: 90.78 \n",
      "\n",
      "0.9807652479398399\n",
      "10\n",
      "Train MAE: 68.62\n",
      "Train RMSE: 271.46\n",
      "Test MAE: 82.68\n",
      "Test RMSE: 251.02 \n",
      "\n",
      "0.8529229456796518\n",
      "100\n",
      "Train MAE: 152.17\n",
      "Train RMSE: 560.53\n",
      "Test MAE: 193.51\n",
      "Test RMSE: 657.08 \n",
      "\n",
      "-0.0077916226588770066\n"
     ]
    },
    {
     "data": {
      "image/png": "[encoded data removed]",
      "text/plain": [
       "<Figure size 720x432 with 1 Axes>"
      ]
     },
     "metadata": {
      "needs_background": "light"
     },
     "output_type": "display_data"
    }
   ],
   "source": [
    "# 성능 지표를 저장할 리스트를 생성합니다.\n",
    "train_maes = []\n",
    "train_rmses = []\n",
    "test_maes = []\n",
    "test_rmses = []\n",
    "\n",
    "alphas = [0.0001, 0.001, 0.01, 0.05, 0.1, 0.5, 2, 5, 10, 100]\n",
    "for alpha in alphas:\n",
    "    model = LinearSVR(epsilon=alpha, random_state=1) # random_state=1\n",
    "    model.fit(X_train, y_train)\n",
    "\n",
    "    # 훈련 데이터에 대한 성능 확인\n",
    "    train_pred = model.predict(X_train)\n",
    "    train_pred_inverse = scaler_y.inverse_transform(train_pred.reshape(-1, 1)).ravel()\n",
    "    y_train_inverse = scaler_y.inverse_transform(y_train.reshape(-1, 1)).ravel()\n",
    "    train_mae = mean_absolute_error(y_train_inverse, train_pred_inverse)\n",
    "    train_rmse = np.sqrt(mean_squared_error(y_train_inverse, train_pred_inverse))\n",
    "\n",
    "    # 테스트 데이터에 대한 성능 확인\n",
    "    pred = model.predict(X_test)\n",
    "    pred_inverse = scaler_y.inverse_transform(pred.reshape(-1, 1)).ravel()\n",
    "    y_test_inverse = scaler_y.inverse_transform(y_test.reshape(-1, 1)).ravel()\n",
    "    test_mae = mean_absolute_error(y_test_inverse, pred_inverse)\n",
    "    test_rmse = np.sqrt(mean_squared_error(y_test_inverse, pred_inverse))\n",
    "\n",
    "    # 성능 지표를 리스트에 추가합니다.\n",
    "    train_maes.append(train_mae)\n",
    "    train_rmses.append(train_rmse)\n",
    "    test_maes.append(test_mae)\n",
    "    test_rmses.append(test_rmse)\n",
    "    print(alpha)\n",
    "    print(\"Train MAE: {:.2f}\".format(train_mae))\n",
    "    print(\"Train RMSE: {:.2f}\".format(train_rmse))\n",
    "    print(\"Test MAE: {:.2f}\".format(test_mae))\n",
    "    print(\"Test RMSE: {:.2f}\".format(test_rmse), '\\n')\n",
    "\n",
    "    print(r2_score(y_test, pred))\n",
    "\n",
    "# 성능 지표를 그래프로 시각화합니다.\n",
    "barWidth = 0.15  # 막대 그래프의 너비를 설정합니다.\n",
    "r1 = np.arange(len(alphas))  # 막대 그래프의 x 좌표를 설정합니다.\n",
    "r2 = [x + barWidth for x in r1]\n",
    "r3 = [x + barWidth for x in r2]\n",
    "r4 = [x + barWidth for x in r3]\n",
    "\n",
    "plt.figure(figsize=(10, 6))\n",
    "plt.bar(r1, train_maes, color='b', width=barWidth, edgecolor='grey', label='Train MAE')\n",
    "plt.bar(r2, train_rmses, color='g', width=barWidth, edgecolor='grey', label='Train RMSE')\n",
    "plt.bar(r3, test_maes, color='r', width=barWidth, edgecolor='grey', label='Test MAE')\n",
    "plt.bar(r4, test_rmses, color='c', width=barWidth, edgecolor='grey', label='Test RMSE')\n",
    "\n",
    "# Add xticks on the middle of the group bars\n",
    "plt.xlabel('Alpha', fontweight='bold')\n",
    "plt.xticks([r + barWidth for r in range(len(train_maes))], alphas)\n",
    "\n",
    "plt.ylabel('Performance')\n",
    "plt.legend()\n",
    "plt.show()\n"
   ]
  },
  {
   "cell_type": "code",
   "execution_count": 73,
   "metadata": {},
   "outputs": [
    {
     "name": "stderr",
     "output_type": "stream",
     "text": [
      "C:\\Users\\vlrms\\AppData\\Local\\Packages\\PythonSoftwareFoundation.Python.3.7_qbz5n2kfra8p0\\LocalCache\\local-packages\\Python37\\site-packages\\sklearn\\svm\\_base.py:1208: ConvergenceWarning: Liblinear failed to converge, increase the number of iterations.\n",
      "  ConvergenceWarning,\n"
     ]
    },
    {
     "data": {
      "text/plain": [
       "LinearSVR(epsilon=0.001)"
      ]
     },
     "execution_count": 73,
     "metadata": {},
     "output_type": "execute_result"
    }
   ],
   "source": [
    "# 최적의 모델 생성\n",
    "model = LinearSVR(epsilon=0.001) # random_state=1\n",
    "model.fit(X_train, y_train)"
   ]
  },
  {
   "cell_type": "code",
   "execution_count": 74,
   "metadata": {},
   "outputs": [
    {
     "name": "stdout",
     "output_type": "stream",
     "text": [
      "Train MAE: 2.30\n",
      "Train RMSE: 8.48\n",
      "Test MAE: 5.27\n",
      "Test RMSE: 21.54 \n",
      "\n"
     ]
    },
    {
     "data": {
      "text/plain": [
       "0.9989168865505526"
      ]
     },
     "execution_count": 74,
     "metadata": {},
     "output_type": "execute_result"
    }
   ],
   "source": [
    "pred = model.predict(X_test)    # X_test를 이용한 예측값 pred \n",
    "\n",
    "# 스케일링된 예측값을 역변환\n",
    "pred_inverse = scaler_y.inverse_transform(pred.reshape(-1, 1)).ravel()\n",
    "\n",
    "# 훈련 데이터에 대한 성능 확인\n",
    "train_pred = model.predict(X_train)\n",
    "\n",
    "# 스케일링된 훈련 예측값을 역변환\n",
    "train_pred_inverse = scaler_y.inverse_transform(train_pred.reshape(-1, 1)).ravel()\n",
    "\n",
    "# 스케일링된 훈련 타겟값을 역변환\n",
    "y_train_inverse = scaler_y.inverse_transform(y_train.reshape(-1, 1)).ravel()\n",
    "\n",
    "# 역변환된 값으로 성능 지표 계산\n",
    "train_mae = mean_absolute_error(y_train_inverse, train_pred_inverse)\n",
    "train_rmse = np.sqrt(mean_squared_error(y_train_inverse, train_pred_inverse))\n",
    "# print(alpha)\n",
    "print(\"Train MAE: {:.2f}\".format(train_mae))\n",
    "print(\"Train RMSE: {:.2f}\".format(train_rmse))\n",
    "\n",
    "# 스케일링된 타겟값을 역변환\n",
    "y_test_inverse = scaler_y.inverse_transform(y_test.reshape(-1, 1)).ravel()\n",
    "\n",
    "# 역변환된 값으로 성능 지표 계산\n",
    "test_mae = mean_absolute_error(y_test_inverse, pred_inverse)\n",
    "test_rmse = np.sqrt(mean_squared_error(y_test_inverse, pred_inverse))\n",
    "\n",
    "print(\"Test MAE: {:.2f}\".format(test_mae))\n",
    "print(\"Test RMSE: {:.2f}\".format(test_rmse), '\\n')\n",
    "\n",
    "r2_score(y_test, pred)"
   ]
  },
  {
   "cell_type": "markdown",
   "metadata": {},
   "source": [
    "### 1. LinearSVR 중요변수 확인"
   ]
  },
  {
   "cell_type": "code",
   "execution_count": 75,
   "metadata": {},
   "outputs": [
    {
     "data": {
      "image/png": "[encoded data removed]",
      "text/plain": [
       "<Figure size 720x576 with 1 Axes>"
      ]
     },
     "metadata": {
      "needs_background": "light"
     },
     "output_type": "display_data"
    }
   ],
   "source": [
    "# Feature importance, feature 선언\n",
    "importances = model.coef_\n",
    "features = X.columns\n",
    "\n",
    "# 중요한 변수 순으로 정렬\n",
    "indices = np.argsort(importances)\n",
    "sorted_features = [features[i] for i in indices]\n",
    "\n",
    "# 그래프 크기 지정\n",
    "plt.figure(figsize=(10, 8))\n",
    "\n",
    "# 막대그래프 show\n",
    "plt.barh(sorted_features, importances[indices])\n",
    "plt.show()"
   ]
  },
  {
   "cell_type": "markdown",
   "metadata": {},
   "source": [
    "### 2. 릿지 회귀 학습"
   ]
  },
  {
   "cell_type": "code",
   "execution_count": 76,
   "metadata": {},
   "outputs": [],
   "source": [
    "# from sklearn.model_selection import GridSearchCV\n",
    "\n",
    "# # 하이퍼파라미터 그리드 생성\n",
    "# param_grid = {'alpha': [0.01, 0.1, 0.5, 1.0, 2.0, 5.0, 10.0]}\n",
    "\n",
    "# # 모델 초기화\n",
    "# model = Ridge()\n",
    "\n",
    "# # GridSearchCV 객체 생성\n",
    "# grid_search = GridSearchCV(model, param_grid, cv=5)\n",
    "\n",
    "# # 최적의 하이퍼파라미터 찾기\n",
    "# grid_search.fit(X_train, y_train)\n",
    "\n",
    "# # 최적의 하이퍼파라미터 출력\n",
    "# print('Best parameters: ', grid_search.best_params_)\n",
    "\n",
    "# # 최적의 모델 생성\n",
    "# model = grid_search.best_estimator_\n"
   ]
  },
  {
   "cell_type": "markdown",
   "metadata": {},
   "source": [
    "### 2. 릿지 회귀 모델 검증"
   ]
  },
  {
   "cell_type": "code",
   "execution_count": 77,
   "metadata": {},
   "outputs": [
    {
     "name": "stdout",
     "output_type": "stream",
     "text": [
      "5\n",
      "Train MAE: 2.36\n",
      "Train RMSE: 7.38\n",
      "Test MAE: 6.75\n",
      "Test RMSE: 28.98 \n",
      "\n",
      "0.9980391337530516\n",
      "6\n",
      "Train MAE: 2.38\n",
      "Train RMSE: 7.45\n",
      "Test MAE: 6.65\n",
      "Test RMSE: 28.28 \n",
      "\n",
      "0.9981327998594721\n",
      "7\n",
      "Train MAE: 2.41\n",
      "Train RMSE: 7.52\n",
      "Test MAE: 6.57\n",
      "Test RMSE: 27.71 \n",
      "\n",
      "0.9982076417483084\n",
      "8\n",
      "Train MAE: 2.43\n",
      "Train RMSE: 7.61\n",
      "Test MAE: 6.50\n",
      "Test RMSE: 27.24 \n",
      "\n",
      "0.9982677716386312\n",
      "9\n",
      "Train MAE: 2.45\n",
      "Train RMSE: 7.70\n",
      "Test MAE: 6.44\n",
      "Test RMSE: 26.86 \n",
      "\n",
      "0.9983162017267965\n",
      "10\n",
      "Train MAE: 2.48\n",
      "Train RMSE: 7.80\n",
      "Test MAE: 6.39\n",
      "Test RMSE: 26.55 \n",
      "\n",
      "0.9983551856171179\n"
     ]
    },
    {
     "data": {
      "image/png": "[encoded data removed]",
      "text/plain": [
       "<Figure size 720x432 with 1 Axes>"
      ]
     },
     "metadata": {
      "needs_background": "light"
     },
     "output_type": "display_data"
    }
   ],
   "source": [
    "# 성능 지표를 저장할 리스트를 생성합니다.\n",
    "train_maes = []\n",
    "train_rmses = []\n",
    "test_maes = []\n",
    "test_rmses = []\n",
    "\n",
    "alphas = [5,6,7,8,9,10]\n",
    "for alpha in alphas:\n",
    "    model = Ridge(alpha=alpha) # random_state=1\n",
    "    model.fit(X_train, y_train)\n",
    "\n",
    "    # 훈련 데이터에 대한 성능 확인\n",
    "    train_pred = model.predict(X_train)\n",
    "    train_pred_inverse = scaler_y.inverse_transform(train_pred.reshape(-1, 1)).ravel()\n",
    "    y_train_inverse = scaler_y.inverse_transform(y_train.reshape(-1, 1)).ravel()\n",
    "    train_mae = mean_absolute_error(y_train_inverse, train_pred_inverse)\n",
    "    train_rmse = np.sqrt(mean_squared_error(y_train_inverse, train_pred_inverse))\n",
    "\n",
    "    # 테스트 데이터에 대한 성능 확인\n",
    "    pred = model.predict(X_test)\n",
    "    pred_inverse = scaler_y.inverse_transform(pred.reshape(-1, 1)).ravel()\n",
    "    y_test_inverse = scaler_y.inverse_transform(y_test.reshape(-1, 1)).ravel()\n",
    "    test_mae = mean_absolute_error(y_test_inverse, pred_inverse)\n",
    "    test_rmse = np.sqrt(mean_squared_error(y_test_inverse, pred_inverse))\n",
    "\n",
    "    # 성능 지표를 리스트에 추가합니다.\n",
    "    train_maes.append(train_mae)\n",
    "    train_rmses.append(train_rmse)\n",
    "    test_maes.append(test_mae)\n",
    "    test_rmses.append(test_rmse)\n",
    "    print(alpha)\n",
    "    print(\"Train MAE: {:.2f}\".format(train_mae))\n",
    "    print(\"Train RMSE: {:.2f}\".format(train_rmse))\n",
    "    print(\"Test MAE: {:.2f}\".format(test_mae))\n",
    "    print(\"Test RMSE: {:.2f}\".format(test_rmse), '\\n')\n",
    "\n",
    "    print(r2_score(y_test, pred))\n",
    "\n",
    "# 성능 지표를 그래프로 시각화합니다.\n",
    "barWidth = 0.15  # 막대 그래프의 너비를 설정합니다.\n",
    "r1 = np.arange(len(alphas))  # 막대 그래프의 x 좌표를 설정합니다.\n",
    "r2 = [x + barWidth for x in r1]\n",
    "r3 = [x + barWidth for x in r2]\n",
    "r4 = [x + barWidth for x in r3]\n",
    "\n",
    "plt.figure(figsize=(10, 6))\n",
    "plt.bar(r1, train_maes, color='b', width=barWidth, edgecolor='grey', label='Train MAE')\n",
    "plt.bar(r2, train_rmses, color='g', width=barWidth, edgecolor='grey', label='Train RMSE')\n",
    "plt.bar(r3, test_maes, color='r', width=barWidth, edgecolor='grey', label='Test MAE')\n",
    "plt.bar(r4, test_rmses, color='c', width=barWidth, edgecolor='grey', label='Test RMSE')\n",
    "\n",
    "# Add xticks on the middle of the group bars\n",
    "plt.xlabel('Alpha', fontweight='bold')\n",
    "plt.xticks([r + barWidth for r in range(len(train_maes))], alphas)\n",
    "\n",
    "plt.ylabel('Performance')\n",
    "plt.legend()\n",
    "plt.show()\n"
   ]
  },
  {
   "cell_type": "code",
   "execution_count": 78,
   "metadata": {},
   "outputs": [
    {
     "data": {
      "text/plain": [
       "Ridge(alpha=10)"
      ]
     },
     "execution_count": 78,
     "metadata": {},
     "output_type": "execute_result"
    }
   ],
   "source": [
    "model = Ridge(alpha=10) # random_state=1\n",
    "model.fit(X_train, y_train)"
   ]
  },
  {
   "cell_type": "code",
   "execution_count": 79,
   "metadata": {},
   "outputs": [
    {
     "name": "stdout",
     "output_type": "stream",
     "text": [
      "Train MAE: 2.48\n",
      "Train RMSE: 7.80\n"
     ]
    },
    {
     "data": {
      "text/plain": [
       "0.9983551856171179"
      ]
     },
     "execution_count": 79,
     "metadata": {},
     "output_type": "execute_result"
    }
   ],
   "source": [
    "pred = model.predict(X_test)    # X_test를 이용한 예측값 pred \n",
    "\n",
    "# 스케일링된 예측값을 역변환\n",
    "pred_inverse = scaler_y.inverse_transform(pred.reshape(-1, 1)).ravel()\n",
    "\n",
    "# 훈련 데이터에 대한 성능 확인\n",
    "train_pred = model.predict(X_train)\n",
    "\n",
    "# 스케일링된 훈련 예측값을 역변환\n",
    "train_pred_inverse = scaler_y.inverse_transform(train_pred.reshape(-1, 1)).ravel()\n",
    "\n",
    "# 스케일링된 훈련 타겟값을 역변환\n",
    "y_train_inverse = scaler_y.inverse_transform(y_train.reshape(-1, 1)).ravel()\n",
    "\n",
    "# 역변환된 값으로 성능 지표 계산\n",
    "train_mae = mean_absolute_error(y_train_inverse, train_pred_inverse)\n",
    "train_rmse = np.sqrt(mean_squared_error(y_train_inverse, train_pred_inverse))\n",
    "\n",
    "print(\"Train MAE: {:.2f}\".format(train_mae))\n",
    "print(\"Train RMSE: {:.2f}\".format(train_rmse))\n",
    "\n",
    "# 스케일링된 타겟값을 역변환\n",
    "y_test_inverse = scaler_y.inverse_transform(y_test.reshape(-1, 1)).ravel()\n",
    "\n",
    "# 역변환된 값으로 성능 지표 계산\n",
    "test_mae = mean_absolute_error(y_test_inverse, pred_inverse)\n",
    "test_rmse = np.sqrt(mean_squared_error(y_test_inverse, pred_inverse))\n",
    "\n",
    "r2_score(y_test, pred)"
   ]
  },
  {
   "cell_type": "markdown",
   "metadata": {},
   "source": [
    "### 2. 릿지회귀 중요변수 확인"
   ]
  },
  {
   "cell_type": "code",
   "execution_count": 80,
   "metadata": {},
   "outputs": [
    {
     "data": {
      "image/png": "[encoded data removed]",
      "text/plain": [
       "<Figure size 720x576 with 1 Axes>"
      ]
     },
     "metadata": {
      "needs_background": "light"
     },
     "output_type": "display_data"
    }
   ],
   "source": [
    "# Feature coefficients, feature 선언\n",
    "coefficients = model.coef_\n",
    "features = X.columns\n",
    "\n",
    "# coefficients 순으로 정렬\n",
    "indices = np.argsort(coefficients)\n",
    "sorted_features = [features[i] for i in indices]\n",
    "\n",
    "# 그래프 크기 지정\n",
    "plt.figure(figsize=(10, 8))\n",
    "\n",
    "# 막대그래프 show\n",
    "plt.barh(sorted_features, coefficients[indices])\n",
    "plt.show()"
   ]
  },
  {
   "cell_type": "markdown",
   "metadata": {},
   "source": [
    "### 3. 라쏘 회귀 모델 학습"
   ]
  },
  {
   "cell_type": "code",
   "execution_count": 81,
   "metadata": {},
   "outputs": [],
   "source": [
    "# # 하이퍼파라미터의 범위 설정\n",
    "# from sklearn.model_selection import GridSearchCV\n",
    "# param_grid = {\n",
    "#     'alpha': [0.0001, 0.001, 0.01, 0.1, 1.0, 10.0]\n",
    "# }\n",
    "\n",
    "# # GridSearchCV 객체 생성\n",
    "# grid_search = GridSearchCV(\n",
    "#     Lasso(), \n",
    "#     param_grid, \n",
    "#     cv=5, \n",
    "#     scoring='neg_mean_squared_error'\n",
    "# )\n",
    "\n",
    "# # 최적의 하이퍼파라미터 찾기\n",
    "# grid_search.fit(X_train, y_train)\n",
    "\n",
    "# # 최적의 하이퍼파라미터 출력\n",
    "# print('Best parameters: ', grid_search.best_params_)\n",
    "\n",
    "# # 최적의 모델 생성\n",
    "# model = grid_search.best_estimator_"
   ]
  },
  {
   "cell_type": "markdown",
   "metadata": {},
   "source": [
    "### 3. 라쏘 회귀 모델 검증"
   ]
  },
  {
   "cell_type": "code",
   "execution_count": 82,
   "metadata": {},
   "outputs": [
    {
     "name": "stdout",
     "output_type": "stream",
     "text": [
      "0.0001\n",
      "Train MAE: 2.30\n",
      "Train RMSE: 7.54\n",
      "Test MAE: 5.19\n",
      "Test RMSE: 18.90 \n",
      "\n",
      "0.9991658521398958\n",
      "0.001\n",
      "Train MAE: 2.60\n",
      "Train RMSE: 8.45\n",
      "Test MAE: 4.74\n",
      "Test RMSE: 15.04 \n",
      "\n",
      "0.9994723258570521\n",
      "0.01\n",
      "Train MAE: 3.60\n",
      "Train RMSE: 11.66\n",
      "Test MAE: 5.25\n",
      "Test RMSE: 15.61 \n",
      "\n",
      "0.9994312406942039\n",
      "0.05\n",
      "Train MAE: 10.85\n",
      "Train RMSE: 36.05\n",
      "Test MAE: 16.88\n",
      "Test RMSE: 52.68 \n",
      "\n",
      "0.993522463551489\n",
      "0.1\n",
      "Train MAE: 20.70\n",
      "Train RMSE: 69.98\n",
      "Test MAE: 32.64\n",
      "Test RMSE: 106.06 \n",
      "\n",
      "0.9737442053485176\n",
      "0.5\n",
      "Train MAE: 89.75\n",
      "Train RMSE: 296.84\n",
      "Test MAE: 113.05\n",
      "Test RMSE: 376.71 \n",
      "\n",
      "0.668762709714805\n",
      "2\n",
      "Train MAE: 152.17\n",
      "Train RMSE: 560.53\n",
      "Test MAE: 193.51\n",
      "Test RMSE: 657.08 \n",
      "\n",
      "-0.0077916226588770066\n",
      "5\n",
      "Train MAE: 152.17\n",
      "Train RMSE: 560.53\n",
      "Test MAE: 193.51\n",
      "Test RMSE: 657.08 \n",
      "\n",
      "-0.0077916226588770066\n",
      "10\n",
      "Train MAE: 152.17\n",
      "Train RMSE: 560.53\n",
      "Test MAE: 193.51\n",
      "Test RMSE: 657.08 \n",
      "\n",
      "-0.0077916226588770066\n",
      "100\n",
      "Train MAE: 152.17\n",
      "Train RMSE: 560.53\n",
      "Test MAE: 193.51\n",
      "Test RMSE: 657.08 \n",
      "\n",
      "-0.0077916226588770066\n"
     ]
    },
    {
     "data": {
      "image/png": "[encoded data removed]",
      "text/plain": [
       "<Figure size 720x432 with 1 Axes>"
      ]
     },
     "metadata": {
      "needs_background": "light"
     },
     "output_type": "display_data"
    }
   ],
   "source": [
    "# 성능 지표를 저장할 리스트를 생성합니다.\n",
    "train_maes = []\n",
    "train_rmses = []\n",
    "test_maes = []\n",
    "test_rmses = []\n",
    "\n",
    "alphas = [0.0001, 0.001, 0.01, 0.05, 0.1, 0.5, 2, 5, 10, 100]\n",
    "for alpha in alphas:\n",
    "    model = Lasso(alpha=alpha) # random_state=1\n",
    "    model.fit(X_train, y_train)\n",
    "\n",
    "    # 훈련 데이터에 대한 성능 확인\n",
    "    train_pred = model.predict(X_train)\n",
    "    train_pred_inverse = scaler_y.inverse_transform(train_pred.reshape(-1, 1)).ravel()\n",
    "    y_train_inverse = scaler_y.inverse_transform(y_train.reshape(-1, 1)).ravel()\n",
    "    train_mae = mean_absolute_error(y_train_inverse, train_pred_inverse)\n",
    "    train_rmse = np.sqrt(mean_squared_error(y_train_inverse, train_pred_inverse))\n",
    "\n",
    "    # 테스트 데이터에 대한 성능 확인\n",
    "    pred = model.predict(X_test)\n",
    "    pred_inverse = scaler_y.inverse_transform(pred.reshape(-1, 1)).ravel()\n",
    "    y_test_inverse = scaler_y.inverse_transform(y_test.reshape(-1, 1)).ravel()\n",
    "    test_mae = mean_absolute_error(y_test_inverse, pred_inverse)\n",
    "    test_rmse = np.sqrt(mean_squared_error(y_test_inverse, pred_inverse))\n",
    "\n",
    "    # 성능 지표를 리스트에 추가합니다.\n",
    "    train_maes.append(train_mae)\n",
    "    train_rmses.append(train_rmse)\n",
    "    test_maes.append(test_mae)\n",
    "    test_rmses.append(test_rmse)\n",
    "    \n",
    "    print(alpha)\n",
    "    print(\"Train MAE: {:.2f}\".format(train_mae))\n",
    "    print(\"Train RMSE: {:.2f}\".format(train_rmse))\n",
    "    print(\"Test MAE: {:.2f}\".format(test_mae))\n",
    "    print(\"Test RMSE: {:.2f}\".format(test_rmse), '\\n')\n",
    "\n",
    "    print(r2_score(y_test, pred))\n",
    "\n",
    "# 성능 지표를 그래프로 시각화합니다.\n",
    "barWidth = 0.15  # 막대 그래프의 너비를 설정합니다.\n",
    "r1 = np.arange(len(alphas))  # 막대 그래프의 x 좌표를 설정합니다.\n",
    "r2 = [x + barWidth for x in r1]\n",
    "r3 = [x + barWidth for x in r2]\n",
    "r4 = [x + barWidth for x in r3]\n",
    "\n",
    "plt.figure(figsize=(10, 6))\n",
    "plt.bar(r1, train_maes, color='b', width=barWidth, edgecolor='grey', label='Train MAE')\n",
    "plt.bar(r2, train_rmses, color='g', width=barWidth, edgecolor='grey', label='Train RMSE')\n",
    "plt.bar(r3, test_maes, color='r', width=barWidth, edgecolor='grey', label='Test MAE')\n",
    "plt.bar(r4, test_rmses, color='c', width=barWidth, edgecolor='grey', label='Test RMSE')\n",
    "\n",
    "# Add xticks on the middle of the group bars\n",
    "plt.xlabel('Alpha', fontweight='bold')\n",
    "plt.xticks([r + barWidth for r in range(len(train_maes))], alphas)\n",
    "\n",
    "plt.ylabel('Performance')\n",
    "plt.legend()\n",
    "plt.show()\n"
   ]
  },
  {
   "cell_type": "code",
   "execution_count": 83,
   "metadata": {},
   "outputs": [
    {
     "data": {
      "text/plain": [
       "Lasso(alpha=0.001)"
      ]
     },
     "execution_count": 83,
     "metadata": {},
     "output_type": "execute_result"
    }
   ],
   "source": [
    "model = Lasso(alpha=0.001) # random_state=1\n",
    "model.fit(X_train, y_train)"
   ]
  },
  {
   "cell_type": "code",
   "execution_count": 84,
   "metadata": {},
   "outputs": [
    {
     "name": "stdout",
     "output_type": "stream",
     "text": [
      "Train MAE: 2.60\n",
      "Train RMSE: 8.45\n",
      "Test MAE: 4.74\n",
      "Test RMSE: 15.04 \n",
      "\n"
     ]
    },
    {
     "data": {
      "text/plain": [
       "0.9994723258570521"
      ]
     },
     "execution_count": 84,
     "metadata": {},
     "output_type": "execute_result"
    }
   ],
   "source": [
    "pred = model.predict(X_test)    # X_test를 이용한 예측값 pred \n",
    "\n",
    "# 스케일링된 예측값을 역변환\n",
    "pred_inverse = scaler_y.inverse_transform(pred.reshape(-1, 1)).ravel()\n",
    "\n",
    "# 훈련 데이터에 대한 성능 확인\n",
    "train_pred = model.predict(X_train)\n",
    "\n",
    "# 스케일링된 훈련 예측값을 역변환\n",
    "train_pred_inverse = scaler_y.inverse_transform(train_pred.reshape(-1, 1)).ravel()\n",
    "\n",
    "# 스케일링된 훈련 타겟값을 역변환\n",
    "y_train_inverse = scaler_y.inverse_transform(y_train.reshape(-1, 1)).ravel()\n",
    "\n",
    "# 역변환된 값으로 성능 지표 계산\n",
    "train_mae = mean_absolute_error(y_train_inverse, train_pred_inverse)\n",
    "train_rmse = np.sqrt(mean_squared_error(y_train_inverse, train_pred_inverse))\n",
    "\n",
    "print(\"Train MAE: {:.2f}\".format(train_mae))\n",
    "print(\"Train RMSE: {:.2f}\".format(train_rmse))\n",
    "\n",
    "# 스케일링된 타겟값을 역변환\n",
    "y_test_inverse = scaler_y.inverse_transform(y_test.reshape(-1, 1)).ravel()\n",
    "\n",
    "# 역변환된 값으로 성능 지표 계산\n",
    "test_mae = mean_absolute_error(y_test_inverse, pred_inverse)\n",
    "test_rmse = np.sqrt(mean_squared_error(y_test_inverse, pred_inverse))\n",
    "\n",
    "print(\"Test MAE: {:.2f}\".format(test_mae))\n",
    "print(\"Test RMSE: {:.2f}\".format(test_rmse), '\\n')\n",
    "\n",
    "r2_score(y_test, pred)"
   ]
  },
  {
   "cell_type": "code",
   "execution_count": 85,
   "metadata": {},
   "outputs": [
    {
     "data": {
      "image/png": "[encoded data removed]",
      "text/plain": [
       "<Figure size 720x576 with 1 Axes>"
      ]
     },
     "metadata": {
      "needs_background": "light"
     },
     "output_type": "display_data"
    }
   ],
   "source": [
    "# Feature coefficients, feature 선언\n",
    "coefficients = model.coef_\n",
    "features = X.columns\n",
    "\n",
    "# coefficients 순으로 정렬\n",
    "indices = np.argsort(coefficients)\n",
    "sorted_features = [features[i] for i in indices]\n",
    "\n",
    "# 그래프 크기 지정\n",
    "plt.figure(figsize=(10, 8))\n",
    "\n",
    "# 막대그래프 show\n",
    "plt.barh(sorted_features, coefficients[indices])\n",
    "plt.show()"
   ]
  },
  {
   "cell_type": "markdown",
   "metadata": {},
   "source": [
    "### 4. 엘라스틱넷 회귀 모델 학습"
   ]
  },
  {
   "cell_type": "code",
   "execution_count": 86,
   "metadata": {},
   "outputs": [
    {
     "name": "stdout",
     "output_type": "stream",
     "text": [
      "Best parameters:  {'alpha': 0.001, 'l1_ratio': 0.7}\n"
     ]
    }
   ],
   "source": [
    "from sklearn.model_selection import GridSearchCV\n",
    "\n",
    "# 하이퍼파라미터의 범위 설정\n",
    "param_grid = {\n",
    "    'alpha': [0.0001, 0.001, 0.01, 0.1, 1.0, 10.0],\n",
    "    'l1_ratio': [0.1, 0.3, 0.5, 0.7, 0.9]\n",
    "}\n",
    "\n",
    "# GridSearchCV 객체 생성\n",
    "grid_search = GridSearchCV(\n",
    "    ElasticNet(), \n",
    "    param_grid, \n",
    "    cv=5, \n",
    "    scoring='neg_mean_squared_error'\n",
    ")\n",
    "\n",
    "# 최적의 하이퍼파라미터 찾기\n",
    "grid_search.fit(X_train, y_train)\n",
    "\n",
    "# 최적의 하이퍼파라미터 출력\n",
    "print('Best parameters: ', grid_search.best_params_)\n",
    "\n",
    "# 최적의 모델 생성\n",
    "model = grid_search.best_estimator_\n"
   ]
  },
  {
   "cell_type": "markdown",
   "metadata": {},
   "source": [
    "### 4. 엘라스틱넷  회귀 모델 검증"
   ]
  },
  {
   "cell_type": "code",
   "execution_count": 87,
   "metadata": {},
   "outputs": [
    {
     "name": "stdout",
     "output_type": "stream",
     "text": [
      "0.0001\n",
      "Train MAE: 2.28\n",
      "Train RMSE: 7.34\n",
      "Test MAE: 6.02\n",
      "Test RMSE: 24.15 \n",
      "\n",
      "0.9986391334610094\n",
      "0.001\n",
      "Train MAE: 2.56\n",
      "Train RMSE: 8.30\n",
      "Test MAE: 4.70\n",
      "Test RMSE: 15.19 \n",
      "\n",
      "0.9994617714001709\n",
      "0.01\n",
      "Train MAE: 3.63\n",
      "Train RMSE: 13.18\n",
      "Test MAE: 4.98\n",
      "Test RMSE: 16.85 \n",
      "\n",
      "0.9993374375362609\n",
      "0.05\n",
      "Train MAE: 8.59\n",
      "Train RMSE: 36.33\n",
      "Test MAE: 9.52\n",
      "Test RMSE: 28.32 \n",
      "\n",
      "0.9981283327210191\n",
      "0.1\n",
      "Train MAE: 13.62\n",
      "Train RMSE: 58.26\n",
      "Test MAE: 15.39\n",
      "Test RMSE: 40.73 \n",
      "\n",
      "0.9961277870324104\n",
      "0.5\n",
      "Train MAE: 49.96\n",
      "Train RMSE: 187.44\n",
      "Test MAE: 60.28\n",
      "Test RMSE: 182.40 \n",
      "\n",
      "0.9223458075563136\n",
      "2\n",
      "Train MAE: 152.17\n",
      "Train RMSE: 560.53\n",
      "Test MAE: 193.51\n",
      "Test RMSE: 657.08 \n",
      "\n",
      "-0.0077916226588770066\n",
      "5\n",
      "Train MAE: 152.17\n",
      "Train RMSE: 560.53\n",
      "Test MAE: 193.51\n",
      "Test RMSE: 657.08 \n",
      "\n",
      "-0.0077916226588770066\n",
      "10\n",
      "Train MAE: 152.17\n",
      "Train RMSE: 560.53\n",
      "Test MAE: 193.51\n",
      "Test RMSE: 657.08 \n",
      "\n",
      "-0.0077916226588770066\n",
      "100\n",
      "Train MAE: 152.17\n",
      "Train RMSE: 560.53\n",
      "Test MAE: 193.51\n",
      "Test RMSE: 657.08 \n",
      "\n",
      "-0.0077916226588770066\n"
     ]
    },
    {
     "data": {
      "image/png": "[encoded data removed]",
      "text/plain": [
       "<Figure size 720x432 with 1 Axes>"
      ]
     },
     "metadata": {
      "needs_background": "light"
     },
     "output_type": "display_data"
    }
   ],
   "source": [
    "# 성능 지표를 저장할 리스트를 생성합니다.\n",
    "train_maes = []\n",
    "train_rmses = []\n",
    "test_maes = []\n",
    "test_rmses = []\n",
    "\n",
    "alphas = [0.0001, 0.001, 0.01, 0.05, 0.1, 0.5, 2, 5, 10, 100]\n",
    "for alpha in alphas:\n",
    "    model = ElasticNet(alpha=alpha) # random_state=1\n",
    "    model.fit(X_train, y_train)\n",
    "\n",
    "    # 훈련 데이터에 대한 성능 확인\n",
    "    train_pred = model.predict(X_train)\n",
    "    train_pred_inverse = scaler_y.inverse_transform(train_pred.reshape(-1, 1)).ravel()\n",
    "    y_train_inverse = scaler_y.inverse_transform(y_train.reshape(-1, 1)).ravel()\n",
    "    train_mae = mean_absolute_error(y_train_inverse, train_pred_inverse)\n",
    "    train_rmse = np.sqrt(mean_squared_error(y_train_inverse, train_pred_inverse))\n",
    "\n",
    "    # 테스트 데이터에 대한 성능 확인\n",
    "    pred = model.predict(X_test)\n",
    "    pred_inverse = scaler_y.inverse_transform(pred.reshape(-1, 1)).ravel()\n",
    "    y_test_inverse = scaler_y.inverse_transform(y_test.reshape(-1, 1)).ravel()\n",
    "    test_mae = mean_absolute_error(y_test_inverse, pred_inverse)\n",
    "    test_rmse = np.sqrt(mean_squared_error(y_test_inverse, pred_inverse))\n",
    "\n",
    "    # 성능 지표를 리스트에 추가합니다.\n",
    "    train_maes.append(train_mae)\n",
    "    train_rmses.append(train_rmse)\n",
    "    test_maes.append(test_mae)\n",
    "    test_rmses.append(test_rmse)\n",
    "\n",
    "    print(alpha)\n",
    "    print(\"Train MAE: {:.2f}\".format(train_mae))\n",
    "    print(\"Train RMSE: {:.2f}\".format(train_rmse))\n",
    "    print(\"Test MAE: {:.2f}\".format(test_mae))\n",
    "    print(\"Test RMSE: {:.2f}\".format(test_rmse), '\\n')\n",
    "\n",
    "    print(r2_score(y_test, pred))\n",
    "\n",
    "# 성능 지표를 그래프로 시각화합니다.\n",
    "barWidth = 0.15  # 막대 그래프의 너비를 설정합니다.\n",
    "r1 = np.arange(len(alphas))  # 막대 그래프의 x 좌표를 설정합니다.\n",
    "r2 = [x + barWidth for x in r1]\n",
    "r3 = [x + barWidth for x in r2]\n",
    "r4 = [x + barWidth for x in r3]\n",
    "\n",
    "plt.figure(figsize=(10, 6))\n",
    "plt.bar(r1, train_maes, color='b', width=barWidth, edgecolor='grey', label='Train MAE')\n",
    "plt.bar(r2, train_rmses, color='g', width=barWidth, edgecolor='grey', label='Train RMSE')\n",
    "plt.bar(r3, test_maes, color='r', width=barWidth, edgecolor='grey', label='Test MAE')\n",
    "plt.bar(r4, test_rmses, color='c', width=barWidth, edgecolor='grey', label='Test RMSE')\n",
    "\n",
    "# Add xticks on the middle of the group bars\n",
    "plt.xlabel('Alpha', fontweight='bold')\n",
    "plt.xticks([r + barWidth for r in range(len(train_maes))], alphas)\n",
    "\n",
    "plt.ylabel('Performance')\n",
    "plt.legend()\n",
    "plt.show()\n"
   ]
  },
  {
   "cell_type": "code",
   "execution_count": 88,
   "metadata": {},
   "outputs": [
    {
     "data": {
      "text/plain": [
       "ElasticNet(alpha=0.001)"
      ]
     },
     "execution_count": 88,
     "metadata": {},
     "output_type": "execute_result"
    }
   ],
   "source": [
    "model = ElasticNet(alpha=0.001) # l1_ratio: 0.7, random_state=1\n",
    "model.fit(X_train, y_train)"
   ]
  },
  {
   "cell_type": "code",
   "execution_count": 89,
   "metadata": {},
   "outputs": [
    {
     "name": "stdout",
     "output_type": "stream",
     "text": [
      "Train MAE: 2.56\n",
      "Train RMSE: 8.30\n",
      "Test MAE: 4.70\n",
      "Test RMSE: 15.19 \n",
      "\n"
     ]
    },
    {
     "data": {
      "text/plain": [
       "0.9994617714001709"
      ]
     },
     "execution_count": 89,
     "metadata": {},
     "output_type": "execute_result"
    }
   ],
   "source": [
    "pred = model.predict(X_test)    # X_test를 이용한 예측값 pred \n",
    "\n",
    "# 스케일링된 예측값을 역변환\n",
    "pred_inverse = scaler_y.inverse_transform(pred.reshape(-1, 1)).ravel()\n",
    "\n",
    "# 훈련 데이터에 대한 성능 확인\n",
    "train_pred = model.predict(X_train)\n",
    "\n",
    "# 스케일링된 훈련 예측값을 역변환\n",
    "train_pred_inverse = scaler_y.inverse_transform(train_pred.reshape(-1, 1)).ravel()\n",
    "\n",
    "# 스케일링된 훈련 타겟값을 역변환\n",
    "y_train_inverse = scaler_y.inverse_transform(y_train.reshape(-1, 1)).ravel()\n",
    "\n",
    "# 역변환된 값으로 성능 지표 계산\n",
    "train_mae = mean_absolute_error(y_train_inverse, train_pred_inverse)\n",
    "train_rmse = np.sqrt(mean_squared_error(y_train_inverse, train_pred_inverse))\n",
    "\n",
    "print(\"Train MAE: {:.2f}\".format(train_mae))\n",
    "print(\"Train RMSE: {:.2f}\".format(train_rmse))\n",
    "\n",
    "# 스케일링된 타겟값을 역변환\n",
    "y_test_inverse = scaler_y.inverse_transform(y_test.reshape(-1, 1)).ravel()\n",
    "\n",
    "# 역변환된 값으로 성능 지표 계산\n",
    "test_mae = mean_absolute_error(y_test_inverse, pred_inverse)\n",
    "test_rmse = np.sqrt(mean_squared_error(y_test_inverse, pred_inverse))\n",
    "\n",
    "print(\"Test MAE: {:.2f}\".format(test_mae))\n",
    "print(\"Test RMSE: {:.2f}\".format(test_rmse), '\\n')\n",
    "\n",
    "r2_score(y_test, pred)"
   ]
  },
  {
   "cell_type": "markdown",
   "metadata": {},
   "source": [
    "### 4. 엘라스틱넷 회귀 중요변수 확인\n"
   ]
  },
  {
   "cell_type": "code",
   "execution_count": 90,
   "metadata": {},
   "outputs": [
    {
     "data": {
      "image/png": "[encoded data removed]",
      "text/plain": [
       "<Figure size 720x576 with 1 Axes>"
      ]
     },
     "metadata": {
      "needs_background": "light"
     },
     "output_type": "display_data"
    }
   ],
   "source": [
    "# Feature coefficients, feature 선언\n",
    "coefficients = model.coef_\n",
    "features = X.columns\n",
    "\n",
    "# coefficients 순으로 정렬\n",
    "indices = np.argsort(coefficients)\n",
    "sorted_features = [features[i] for i in indices]\n",
    "\n",
    "# 그래프 크기 지정\n",
    "plt.figure(figsize=(10, 8))\n",
    "\n",
    "# 막대그래프 show\n",
    "plt.barh(sorted_features, coefficients[indices])\n",
    "plt.show()"
   ]
  },
  {
   "cell_type": "markdown",
   "metadata": {},
   "source": [
    "### 5. 로버스트 회귀"
   ]
  },
  {
   "cell_type": "code",
   "execution_count": 91,
   "metadata": {},
   "outputs": [],
   "source": [
    "# from sklearn.model_selection import GridSearchCV\n",
    "# from sklearn.linear_model import HuberRegressor\n",
    "\n",
    "# # 하이퍼파라미터의 범위 설정\n",
    "# param_grid = {\n",
    "#     'epsilon': [0.1, 0.3, 0.5, 0.7, 0.8, 1.0, 1.35, 1.5],\n",
    "#     'alpha': [0.0001, 0.001, 0.01, 0.1, 1.0],\n",
    "#     'max_iter': [50, 100, 150, 200]\n",
    "# }\n",
    "\n",
    "# # GridSearchCV 객체 생성\n",
    "# grid_search = GridSearchCV(\n",
    "#     HuberRegressor(), \n",
    "#     param_grid, \n",
    "#     cv=5, \n",
    "#     scoring='neg_mean_squared_error'\n",
    "# )\n",
    "\n",
    "# # 최적의 하이퍼파라미터 찾기\n",
    "# grid_search.fit(X_train, y_train)\n",
    "\n",
    "# # 최적의 하이퍼파라미터 출력\n",
    "# print('Best parameters: ', grid_search.best_params_)\n",
    "\n",
    "# # 최적의 모델 생성\n",
    "# model = grid_search.best_estimator_\n"
   ]
  },
  {
   "cell_type": "code",
   "execution_count": 92,
   "metadata": {},
   "outputs": [
    {
     "name": "stderr",
     "output_type": "stream",
     "text": [
      "C:\\Users\\vlrms\\AppData\\Local\\Packages\\PythonSoftwareFoundation.Python.3.7_qbz5n2kfra8p0\\LocalCache\\local-packages\\Python37\\site-packages\\sklearn\\linear_model\\_huber.py:332: ConvergenceWarning: lbfgs failed to converge (status=1):\n",
      "STOP: TOTAL NO. of ITERATIONS REACHED LIMIT.\n",
      "\n",
      "Increase the number of iterations (max_iter) or scale the data as shown in:\n",
      "    https://scikit-learn.org/stable/modules/preprocessing.html\n",
      "  self.n_iter_ = _check_optimize_result(\"lbfgs\", opt_res, self.max_iter)\n",
      "C:\\Users\\vlrms\\AppData\\Local\\Packages\\PythonSoftwareFoundation.Python.3.7_qbz5n2kfra8p0\\LocalCache\\local-packages\\Python37\\site-packages\\sklearn\\linear_model\\_huber.py:332: ConvergenceWarning: lbfgs failed to converge (status=1):\n",
      "STOP: TOTAL NO. of ITERATIONS REACHED LIMIT.\n",
      "\n",
      "Increase the number of iterations (max_iter) or scale the data as shown in:\n",
      "    https://scikit-learn.org/stable/modules/preprocessing.html\n",
      "  self.n_iter_ = _check_optimize_result(\"lbfgs\", opt_res, self.max_iter)\n"
     ]
    },
    {
     "name": "stdout",
     "output_type": "stream",
     "text": [
      "0.0001\n",
      "Train MAE: 2.03\n",
      "Train RMSE: 7.87\n",
      "Test MAE: 5.94\n",
      "Test RMSE: 25.87 \n",
      "\n",
      "0.9984379123413416\n",
      "0.001\n",
      "Train MAE: 2.03\n",
      "Train RMSE: 7.85\n",
      "Test MAE: 5.99\n",
      "Test RMSE: 26.33 \n",
      "\n",
      "0.9983816094395388\n"
     ]
    },
    {
     "name": "stderr",
     "output_type": "stream",
     "text": [
      "C:\\Users\\vlrms\\AppData\\Local\\Packages\\PythonSoftwareFoundation.Python.3.7_qbz5n2kfra8p0\\LocalCache\\local-packages\\Python37\\site-packages\\sklearn\\linear_model\\_huber.py:332: ConvergenceWarning: lbfgs failed to converge (status=1):\n",
      "STOP: TOTAL NO. of ITERATIONS REACHED LIMIT.\n",
      "\n",
      "Increase the number of iterations (max_iter) or scale the data as shown in:\n",
      "    https://scikit-learn.org/stable/modules/preprocessing.html\n",
      "  self.n_iter_ = _check_optimize_result(\"lbfgs\", opt_res, self.max_iter)\n",
      "C:\\Users\\vlrms\\AppData\\Local\\Packages\\PythonSoftwareFoundation.Python.3.7_qbz5n2kfra8p0\\LocalCache\\local-packages\\Python37\\site-packages\\sklearn\\linear_model\\_huber.py:332: ConvergenceWarning: lbfgs failed to converge (status=1):\n",
      "STOP: TOTAL NO. of ITERATIONS REACHED LIMIT.\n",
      "\n",
      "Increase the number of iterations (max_iter) or scale the data as shown in:\n",
      "    https://scikit-learn.org/stable/modules/preprocessing.html\n",
      "  self.n_iter_ = _check_optimize_result(\"lbfgs\", opt_res, self.max_iter)\n"
     ]
    },
    {
     "name": "stdout",
     "output_type": "stream",
     "text": [
      "0.01\n",
      "Train MAE: 2.03\n",
      "Train RMSE: 7.89\n",
      "Test MAE: 5.92\n",
      "Test RMSE: 25.77 \n",
      "\n",
      "0.9984503332547942\n",
      "0.05\n",
      "Train MAE: 2.04\n",
      "Train RMSE: 7.81\n",
      "Test MAE: 6.03\n",
      "Test RMSE: 26.37 \n",
      "\n",
      "0.9983770956465172\n"
     ]
    },
    {
     "name": "stderr",
     "output_type": "stream",
     "text": [
      "C:\\Users\\vlrms\\AppData\\Local\\Packages\\PythonSoftwareFoundation.Python.3.7_qbz5n2kfra8p0\\LocalCache\\local-packages\\Python37\\site-packages\\sklearn\\linear_model\\_huber.py:332: ConvergenceWarning: lbfgs failed to converge (status=1):\n",
      "STOP: TOTAL NO. of ITERATIONS REACHED LIMIT.\n",
      "\n",
      "Increase the number of iterations (max_iter) or scale the data as shown in:\n",
      "    https://scikit-learn.org/stable/modules/preprocessing.html\n",
      "  self.n_iter_ = _check_optimize_result(\"lbfgs\", opt_res, self.max_iter)\n",
      "C:\\Users\\vlrms\\AppData\\Local\\Packages\\PythonSoftwareFoundation.Python.3.7_qbz5n2kfra8p0\\LocalCache\\local-packages\\Python37\\site-packages\\sklearn\\linear_model\\_huber.py:332: ConvergenceWarning: lbfgs failed to converge (status=1):\n",
      "STOP: TOTAL NO. of ITERATIONS REACHED LIMIT.\n",
      "\n",
      "Increase the number of iterations (max_iter) or scale the data as shown in:\n",
      "    https://scikit-learn.org/stable/modules/preprocessing.html\n",
      "  self.n_iter_ = _check_optimize_result(\"lbfgs\", opt_res, self.max_iter)\n"
     ]
    },
    {
     "name": "stdout",
     "output_type": "stream",
     "text": [
      "0.1\n",
      "Train MAE: 2.04\n",
      "Train RMSE: 7.87\n",
      "Test MAE: 5.94\n",
      "Test RMSE: 25.82 \n",
      "\n",
      "0.998443503778896\n",
      "0.5\n",
      "Train MAE: 2.03\n",
      "Train RMSE: 7.89\n",
      "Test MAE: 5.90\n",
      "Test RMSE: 25.57 \n",
      "\n",
      "0.9984732939180908\n"
     ]
    },
    {
     "name": "stderr",
     "output_type": "stream",
     "text": [
      "C:\\Users\\vlrms\\AppData\\Local\\Packages\\PythonSoftwareFoundation.Python.3.7_qbz5n2kfra8p0\\LocalCache\\local-packages\\Python37\\site-packages\\sklearn\\linear_model\\_huber.py:332: ConvergenceWarning: lbfgs failed to converge (status=1):\n",
      "STOP: TOTAL NO. of ITERATIONS REACHED LIMIT.\n",
      "\n",
      "Increase the number of iterations (max_iter) or scale the data as shown in:\n",
      "    https://scikit-learn.org/stable/modules/preprocessing.html\n",
      "  self.n_iter_ = _check_optimize_result(\"lbfgs\", opt_res, self.max_iter)\n",
      "C:\\Users\\vlrms\\AppData\\Local\\Packages\\PythonSoftwareFoundation.Python.3.7_qbz5n2kfra8p0\\LocalCache\\local-packages\\Python37\\site-packages\\sklearn\\linear_model\\_huber.py:332: ConvergenceWarning: lbfgs failed to converge (status=1):\n",
      "STOP: TOTAL NO. of ITERATIONS REACHED LIMIT.\n",
      "\n",
      "Increase the number of iterations (max_iter) or scale the data as shown in:\n",
      "    https://scikit-learn.org/stable/modules/preprocessing.html\n",
      "  self.n_iter_ = _check_optimize_result(\"lbfgs\", opt_res, self.max_iter)\n"
     ]
    },
    {
     "name": "stdout",
     "output_type": "stream",
     "text": [
      "2\n",
      "Train MAE: 2.03\n",
      "Train RMSE: 7.87\n",
      "Test MAE: 5.95\n",
      "Test RMSE: 25.95 \n",
      "\n",
      "0.9984278646670876\n",
      "5\n",
      "Train MAE: 2.03\n",
      "Train RMSE: 7.86\n",
      "Test MAE: 5.94\n",
      "Test RMSE: 25.84 \n",
      "\n",
      "0.9984408831595387\n"
     ]
    },
    {
     "name": "stderr",
     "output_type": "stream",
     "text": [
      "C:\\Users\\vlrms\\AppData\\Local\\Packages\\PythonSoftwareFoundation.Python.3.7_qbz5n2kfra8p0\\LocalCache\\local-packages\\Python37\\site-packages\\sklearn\\linear_model\\_huber.py:332: ConvergenceWarning: lbfgs failed to converge (status=1):\n",
      "STOP: TOTAL NO. of ITERATIONS REACHED LIMIT.\n",
      "\n",
      "Increase the number of iterations (max_iter) or scale the data as shown in:\n",
      "    https://scikit-learn.org/stable/modules/preprocessing.html\n",
      "  self.n_iter_ = _check_optimize_result(\"lbfgs\", opt_res, self.max_iter)\n",
      "C:\\Users\\vlrms\\AppData\\Local\\Packages\\PythonSoftwareFoundation.Python.3.7_qbz5n2kfra8p0\\LocalCache\\local-packages\\Python37\\site-packages\\sklearn\\linear_model\\_huber.py:332: ConvergenceWarning: lbfgs failed to converge (status=1):\n",
      "STOP: TOTAL NO. of ITERATIONS REACHED LIMIT.\n",
      "\n",
      "Increase the number of iterations (max_iter) or scale the data as shown in:\n",
      "    https://scikit-learn.org/stable/modules/preprocessing.html\n",
      "  self.n_iter_ = _check_optimize_result(\"lbfgs\", opt_res, self.max_iter)\n"
     ]
    },
    {
     "name": "stdout",
     "output_type": "stream",
     "text": [
      "10\n",
      "Train MAE: 2.04\n",
      "Train RMSE: 7.85\n",
      "Test MAE: 6.02\n",
      "Test RMSE: 26.41 \n",
      "\n",
      "0.99837197517193\n",
      "100\n",
      "Train MAE: 2.08\n",
      "Train RMSE: 7.79\n",
      "Test MAE: 5.55\n",
      "Test RMSE: 23.20 \n",
      "\n",
      "0.9987441375007887\n"
     ]
    },
    {
     "data": {
      "image/png": "[encoded data removed]",
      "text/plain": [
       "<Figure size 720x432 with 1 Axes>"
      ]
     },
     "metadata": {
      "needs_background": "light"
     },
     "output_type": "display_data"
    }
   ],
   "source": [
    "from sklearn.linear_model import HuberRegressor\n",
    "\n",
    "# 성능 지표를 저장할 리스트를 생성합니다.\n",
    "train_maes = []\n",
    "train_rmses = []\n",
    "test_maes = []\n",
    "test_rmses = []\n",
    "\n",
    "alphas = [0.0001, 0.001, 0.01, 0.05, 0.1, 0.5, 2, 5, 10, 100]\n",
    "for alpha in alphas:\n",
    "    model = HuberRegressor(alpha=alpha) # random_state=1\n",
    "    model.fit(X_train, y_train)\n",
    "\n",
    "    # 훈련 데이터에 대한 성능 확인\n",
    "    train_pred = model.predict(X_train)\n",
    "    train_pred_inverse = scaler_y.inverse_transform(train_pred.reshape(-1, 1)).ravel()\n",
    "    y_train_inverse = scaler_y.inverse_transform(y_train.reshape(-1, 1)).ravel()\n",
    "    train_mae = mean_absolute_error(y_train_inverse, train_pred_inverse)\n",
    "    train_rmse = np.sqrt(mean_squared_error(y_train_inverse, train_pred_inverse))\n",
    "\n",
    "    # 테스트 데이터에 대한 성능 확인\n",
    "    pred = model.predict(X_test)\n",
    "    pred_inverse = scaler_y.inverse_transform(pred.reshape(-1, 1)).ravel()\n",
    "    y_test_inverse = scaler_y.inverse_transform(y_test.reshape(-1, 1)).ravel()\n",
    "    test_mae = mean_absolute_error(y_test_inverse, pred_inverse)\n",
    "    test_rmse = np.sqrt(mean_squared_error(y_test_inverse, pred_inverse))\n",
    "\n",
    "    # 성능 지표를 리스트에 추가합니다.\n",
    "    train_maes.append(train_mae)\n",
    "    train_rmses.append(train_rmse)\n",
    "    test_maes.append(test_mae)\n",
    "    test_rmses.append(test_rmse)\n",
    "    print(alpha)\n",
    "    print(\"Train MAE: {:.2f}\".format(train_mae))\n",
    "    print(\"Train RMSE: {:.2f}\".format(train_rmse))\n",
    "    print(\"Test MAE: {:.2f}\".format(test_mae))\n",
    "    print(\"Test RMSE: {:.2f}\".format(test_rmse), '\\n')\n",
    "\n",
    "    print(r2_score(y_test, pred))\n",
    "# 성능 지표를 그래프로 시각화합니다.\n",
    "barWidth = 0.15  # 막대 그래프의 너비를 설정합니다.\n",
    "r1 = np.arange(len(alphas))  # 막대 그래프의 x 좌표를 설정합니다.\n",
    "r2 = [x + barWidth for x in r1]\n",
    "r3 = [x + barWidth for x in r2]\n",
    "r4 = [x + barWidth for x in r3]\n",
    "\n",
    "plt.figure(figsize=(10, 6))\n",
    "plt.bar(r1, train_maes, color='b', width=barWidth, edgecolor='grey', label='Train MAE')\n",
    "plt.bar(r2, train_rmses, color='g', width=barWidth, edgecolor='grey', label='Train RMSE')\n",
    "plt.bar(r3, test_maes, color='r', width=barWidth, edgecolor='grey', label='Test MAE')\n",
    "plt.bar(r4, test_rmses, color='c', width=barWidth, edgecolor='grey', label='Test RMSE')\n",
    "\n",
    "# Add xticks on the middle of the group bars\n",
    "plt.xlabel('Alpha', fontweight='bold')\n",
    "plt.xticks([r + barWidth for r in range(len(train_maes))], alphas)\n",
    "\n",
    "plt.ylabel('Performance')\n",
    "plt.legend()\n",
    "plt.show()\n"
   ]
  },
  {
   "cell_type": "code",
   "execution_count": 93,
   "metadata": {},
   "outputs": [
    {
     "name": "stderr",
     "output_type": "stream",
     "text": [
      "C:\\Users\\vlrms\\AppData\\Local\\Packages\\PythonSoftwareFoundation.Python.3.7_qbz5n2kfra8p0\\LocalCache\\local-packages\\Python37\\site-packages\\sklearn\\linear_model\\_huber.py:332: ConvergenceWarning: lbfgs failed to converge (status=1):\n",
      "STOP: TOTAL NO. of ITERATIONS REACHED LIMIT.\n",
      "\n",
      "Increase the number of iterations (max_iter) or scale the data as shown in:\n",
      "    https://scikit-learn.org/stable/modules/preprocessing.html\n",
      "  self.n_iter_ = _check_optimize_result(\"lbfgs\", opt_res, self.max_iter)\n"
     ]
    },
    {
     "data": {
      "text/plain": [
       "HuberRegressor(alpha=2)"
      ]
     },
     "execution_count": 93,
     "metadata": {},
     "output_type": "execute_result"
    }
   ],
   "source": [
    "model = HuberRegressor(alpha=2) # l1_ratio: 0.7, random_state=1\n",
    "model.fit(X_train, y_train)"
   ]
  },
  {
   "cell_type": "code",
   "execution_count": 94,
   "metadata": {},
   "outputs": [
    {
     "name": "stdout",
     "output_type": "stream",
     "text": [
      "Train MAE: 2.03\n",
      "Train RMSE: 7.87\n",
      "Test MAE: 5.95\n",
      "Test RMSE: 25.95 \n",
      "\n"
     ]
    },
    {
     "data": {
      "text/plain": [
       "0.9984278646670876"
      ]
     },
     "execution_count": 94,
     "metadata": {},
     "output_type": "execute_result"
    }
   ],
   "source": [
    "pred = model.predict(X_test)    # X_test를 이용한 예측값 pred \n",
    "\n",
    "# 스케일링된 예측값을 역변환\n",
    "pred_inverse = scaler_y.inverse_transform(pred.reshape(-1, 1)).ravel()\n",
    "\n",
    "# 훈련 데이터에 대한 성능 확인\n",
    "train_pred = model.predict(X_train)\n",
    "\n",
    "# 스케일링된 훈련 예측값을 역변환\n",
    "train_pred_inverse = scaler_y.inverse_transform(train_pred.reshape(-1, 1)).ravel()\n",
    "\n",
    "# 스케일링된 훈련 타겟값을 역변환\n",
    "y_train_inverse = scaler_y.inverse_transform(y_train.reshape(-1, 1)).ravel()\n",
    "\n",
    "# 역변환된 값으로 성능 지표 계산\n",
    "train_mae = mean_absolute_error(y_train_inverse, train_pred_inverse)\n",
    "train_rmse = np.sqrt(mean_squared_error(y_train_inverse, train_pred_inverse))\n",
    "\n",
    "print(\"Train MAE: {:.2f}\".format(train_mae))\n",
    "print(\"Train RMSE: {:.2f}\".format(train_rmse))\n",
    "\n",
    "# 스케일링된 타겟값을 역변환\n",
    "y_test_inverse = scaler_y.inverse_transform(y_test.reshape(-1, 1)).ravel()\n",
    "\n",
    "# 역변환된 값으로 성능 지표 계산\n",
    "test_mae = mean_absolute_error(y_test_inverse, pred_inverse)\n",
    "test_rmse = np.sqrt(mean_squared_error(y_test_inverse, pred_inverse))\n",
    "\n",
    "print(\"Test MAE: {:.2f}\".format(test_mae))\n",
    "print(\"Test RMSE: {:.2f}\".format(test_rmse), '\\n')\n",
    "\n",
    "r2_score(y_test, pred)"
   ]
  },
  {
   "cell_type": "code",
   "execution_count": 95,
   "metadata": {},
   "outputs": [
    {
     "data": {
      "image/png": "[encoded data removed]",
      "text/plain": [
       "<Figure size 720x576 with 1 Axes>"
      ]
     },
     "metadata": {
      "needs_background": "light"
     },
     "output_type": "display_data"
    }
   ],
   "source": [
    "# Feature coefficients, feature 선언\n",
    "coefficients = model.coef_\n",
    "features = X.columns\n",
    "\n",
    "# coefficients 순으로 정렬\n",
    "indices = np.argsort(coefficients)\n",
    "sorted_features = [features[i] for i in indices]\n",
    "\n",
    "# 그래프 크기 지정\n",
    "plt.figure(figsize=(10, 8))\n",
    "\n",
    "# 막대그래프 show\n",
    "plt.barh(sorted_features, coefficients[indices])\n",
    "plt.show()"
   ]
  },
  {
   "cell_type": "markdown",
   "metadata": {},
   "source": [
    "### 1. (비선형) 결정 트리 회귀 모델 학습"
   ]
  },
  {
   "cell_type": "code",
   "execution_count": 96,
   "metadata": {},
   "outputs": [
    {
     "data": {
      "text/plain": [
       "DecisionTreeRegressor(random_state=3)"
      ]
     },
     "execution_count": 96,
     "metadata": {},
     "output_type": "execute_result"
    }
   ],
   "source": [
    "model = DecisionTreeRegressor(random_state=3)\n",
    "model.fit(X_train, y_train) # 모델 학습"
   ]
  },
  {
   "cell_type": "markdown",
   "metadata": {},
   "source": [
    "### 1. (비선형) 결정 트리 회귀 모델 검증"
   ]
  },
  {
   "cell_type": "code",
   "execution_count": 97,
   "metadata": {},
   "outputs": [
    {
     "name": "stdout",
     "output_type": "stream",
     "text": [
      "MAE: 131.88%\n",
      "RMSE: 867.30%\n"
     ]
    },
    {
     "data": {
      "text/plain": [
       "0.41390322686420844"
      ]
     },
     "execution_count": 97,
     "metadata": {},
     "output_type": "execute_result"
    }
   ],
   "source": [
    "# Predict를 수행하고 mean_absolute_error, rmse 결과 출력하기\n",
    "pred = model.predict(X_test)    # X_test를 이용한 예측값 pred \n",
    "mean_absolute_error(y_test, pred)\n",
    "np.sqrt(mean_squared_error(y_test, pred))\n",
    "\n",
    "mae = mean_absolute_error(y_test, pred)\n",
    "rmse = np.sqrt(mean_squared_error(y_test, pred))\n",
    "\n",
    "# MAE 및 RMSE를 백분율로 표시\n",
    "mae_percentage = (mae / np.mean(y_test)) * 100\n",
    "rmse_percentage = (rmse / np.mean(y_test)) * 100\n",
    "\n",
    "print(\"MAE: {:.2f}%\".format(mae_percentage))\n",
    "print(\"RMSE: {:.2f}%\".format(rmse_percentage))\n",
    "\n",
    "r2_score(y_test, pred)"
   ]
  },
  {
   "cell_type": "markdown",
   "metadata": {},
   "source": [
    "### 1. (비선형) 결정 트리 회귀 중요변수 확인"
   ]
  },
  {
   "cell_type": "code",
   "execution_count": 98,
   "metadata": {},
   "outputs": [
    {
     "data": {
      "image/png": "[encoded data removed]",
      "text/plain": [
       "<Figure size 720x576 with 1 Axes>"
      ]
     },
     "metadata": {
      "needs_background": "light"
     },
     "output_type": "display_data"
    }
   ],
   "source": [
    "# Feature coefficients, feature 선언\n",
    "coefficients = model.feature_importances_\n",
    "features = X.columns\n",
    "\n",
    "# coefficients 순으로 정렬\n",
    "indices = np.argsort(coefficients)\n",
    "sorted_features = [features[i] for i in indices]\n",
    "\n",
    "# 그래프 크기 지정\n",
    "plt.figure(figsize=(10, 8))\n",
    "\n",
    "# 막대그래프 show\n",
    "plt.barh(sorted_features, coefficients[indices])\n",
    "plt.show()"
   ]
  },
  {
   "cell_type": "markdown",
   "metadata": {},
   "source": [
    "### 2. (비선형) 랜덤포레스트 회귀 모델 학습"
   ]
  },
  {
   "cell_type": "code",
   "execution_count": 99,
   "metadata": {},
   "outputs": [
    {
     "data": {
      "text/plain": [
       "RandomForestRegressor(random_state=4)"
      ]
     },
     "execution_count": 99,
     "metadata": {},
     "output_type": "execute_result"
    }
   ],
   "source": [
    "model = RandomForestRegressor(n_estimators=100, random_state=4) \n",
    "model.fit(X_train, y_train) # 모델 학습"
   ]
  },
  {
   "cell_type": "markdown",
   "metadata": {},
   "source": [
    "### 2. (비선형) 랜덤포레스트 회귀 모델 검증"
   ]
  },
  {
   "cell_type": "code",
   "execution_count": 100,
   "metadata": {},
   "outputs": [
    {
     "name": "stdout",
     "output_type": "stream",
     "text": [
      "MAE: 84.88%\n",
      "RMSE: 499.69%\n"
     ]
    },
    {
     "data": {
      "text/plain": [
       "0.805448327392088"
      ]
     },
     "execution_count": 100,
     "metadata": {},
     "output_type": "execute_result"
    }
   ],
   "source": [
    "# Predict를 수행하고 mean_absolute_error, rmse 결과 출력하기\n",
    "pred = model.predict(X_test)    # X_test를 이용한 예측값 pred \n",
    "mean_absolute_error(y_test, pred)\n",
    "np.sqrt(mean_squared_error(y_test, pred))\n",
    "\n",
    "mae = mean_absolute_error(y_test, pred)\n",
    "rmse = np.sqrt(mean_squared_error(y_test, pred))\n",
    "\n",
    "# MAE 및 RMSE를 백분율로 표시\n",
    "mae_percentage = (mae / np.mean(y_test)) * 100\n",
    "rmse_percentage = (rmse / np.mean(y_test)) * 100\n",
    "\n",
    "print(\"MAE: {:.2f}%\".format(mae_percentage))\n",
    "print(\"RMSE: {:.2f}%\".format(rmse_percentage))\n",
    "\n",
    "r2_score(y_test, pred)"
   ]
  },
  {
   "cell_type": "markdown",
   "metadata": {},
   "source": [
    "### 2. (비선형) 랜덤포레스트 회귀 중요변수 확인"
   ]
  },
  {
   "cell_type": "code",
   "execution_count": 101,
   "metadata": {},
   "outputs": [
    {
     "data": {
      "image/png": "[encoded data removed]",
      "text/plain": [
       "<Figure size 720x576 with 1 Axes>"
      ]
     },
     "metadata": {
      "needs_background": "light"
     },
     "output_type": "display_data"
    }
   ],
   "source": [
    "# Feature coefficients, feature 선언\n",
    "coefficients = model.feature_importances_\n",
    "features = X.columns\n",
    "\n",
    "# coefficients 순으로 정렬\n",
    "indices = np.argsort(coefficients)\n",
    "sorted_features = [features[i] for i in indices]\n",
    "\n",
    "# 그래프 크기 지정\n",
    "plt.figure(figsize=(10, 8))\n",
    "\n",
    "# 막대그래프 show\n",
    "plt.barh(sorted_features, coefficients[indices])\n",
    "plt.show()"
   ]
  },
  {
   "cell_type": "markdown",
   "metadata": {},
   "source": [
    "### 3. (비선형) XGBoost 회귀 모델 학습"
   ]
  },
  {
   "cell_type": "code",
   "execution_count": 102,
   "metadata": {},
   "outputs": [
    {
     "data": {
      "text/plain": [
       "XGBRegressor(base_score=0.5, booster='gbtree', callbacks=None,\n",
       "             colsample_bylevel=1, colsample_bynode=1, colsample_bytree=1,\n",
       "             early_stopping_rounds=None, enable_categorical=False,\n",
       "             eval_metric=None, gamma=0, gpu_id=-1, grow_policy='depthwise',\n",
       "             importance_type=None, interaction_constraints='',\n",
       "             learning_rate=0.300000012, max_bin=256, max_cat_to_onehot=4,\n",
       "             max_delta_step=0, max_depth=6, max_leaves=0, min_child_weight=1,\n",
       "             missing=nan, monotone_constraints='()', n_estimators=100, n_jobs=0,\n",
       "             num_parallel_tree=1, predictor='auto', random_state=0, reg_alpha=0,\n",
       "             reg_lambda=1, ...)"
      ]
     },
     "execution_count": 102,
     "metadata": {},
     "output_type": "execute_result"
    }
   ],
   "source": [
    "model = XGBRegressor() \n",
    "model.fit(X_train, y_train) # 모델 학습"
   ]
  },
  {
   "cell_type": "markdown",
   "metadata": {},
   "source": [
    "### 3. (비선형) XGBoost 회귀 모델 검증"
   ]
  },
  {
   "cell_type": "code",
   "execution_count": 103,
   "metadata": {},
   "outputs": [
    {
     "name": "stdout",
     "output_type": "stream",
     "text": [
      "MAE: 56.34%\n",
      "RMSE: 289.54%\n"
     ]
    },
    {
     "data": {
      "text/plain": [
       "0.9346793156966853"
      ]
     },
     "execution_count": 103,
     "metadata": {},
     "output_type": "execute_result"
    }
   ],
   "source": [
    "# Predict를 수행하고 mean_absolute_error, rmse 결과 출력하기\n",
    "pred = model.predict(X_test)    # X_test를 이용한 예측값 pred \n",
    "mean_absolute_error(y_test, pred)\n",
    "np.sqrt(mean_squared_error(y_test, pred))\n",
    "\n",
    "mae = mean_absolute_error(y_test, pred)\n",
    "rmse = np.sqrt(mean_squared_error(y_test, pred))\n",
    "\n",
    "# MAE 및 RMSE를 백분율로 표시\n",
    "mae_percentage = (mae / np.mean(y_test)) * 100\n",
    "rmse_percentage = (rmse / np.mean(y_test)) * 100\n",
    "\n",
    "print(\"MAE: {:.2f}%\".format(mae_percentage))\n",
    "print(\"RMSE: {:.2f}%\".format(rmse_percentage))\n",
    "\n",
    "r2_score(y_test, pred)"
   ]
  },
  {
   "cell_type": "markdown",
   "metadata": {},
   "source": [
    "### 3. (비선형) XGBoost 회귀 중요변수 확인"
   ]
  },
  {
   "cell_type": "code",
   "execution_count": 104,
   "metadata": {},
   "outputs": [
    {
     "data": {
      "image/png": "[encoded data removed]",
      "text/plain": [
       "<Figure size 720x576 with 1 Axes>"
      ]
     },
     "metadata": {
      "needs_background": "light"
     },
     "output_type": "display_data"
    }
   ],
   "source": [
    "# Feature coefficients, feature 선언\n",
    "coefficients = model.feature_importances_\n",
    "features = X.columns\n",
    "\n",
    "# coefficients 순으로 정렬\n",
    "indices = np.argsort(coefficients)\n",
    "sorted_features = [features[i] for i in indices]\n",
    "\n",
    "# 그래프 크기 지정\n",
    "plt.figure(figsize=(10, 8))\n",
    "\n",
    "# 막대그래프 show\n",
    "plt.barh(sorted_features, coefficients[indices])\n",
    "plt.show()"
   ]
  },
  {
   "cell_type": "markdown",
   "metadata": {},
   "source": [
    "### 4. (비선형) LightGBM 회귀 모델 학습"
   ]
  },
  {
   "cell_type": "code",
   "execution_count": 105,
   "metadata": {},
   "outputs": [
    {
     "ename": "AttributeError",
     "evalue": "'numpy.ndarray' object has no attribute 'columns'",
     "output_type": "error",
     "traceback": [
      "\u001b[1;31m---------------------------------------------------------------------------\u001b[0m",
      "\u001b[1;31mAttributeError\u001b[0m                            Traceback (most recent call last)",
      "\u001b[1;32m~\\AppData\\Local\\Temp/ipykernel_9652/1342564651.py\u001b[0m in \u001b[0;36m<module>\u001b[1;34m\u001b[0m\n\u001b[0;32m      3\u001b[0m    \u001b[0m따라서\u001b[0m \u001b[1;34m'X_train'\u001b[0m\u001b[0m에서\u001b[0m \u001b[0m특수\u001b[0m \u001b[0m문자나\u001b[0m \u001b[0m공백을\u001b[0m \u001b[0m제거하거나\u001b[0m\u001b[1;33m,\u001b[0m \u001b[0m변수명을\u001b[0m \u001b[0m변경해야\u001b[0m \u001b[0m합니다\u001b[0m\u001b[1;33m.\u001b[0m\u001b[1;33m\u001b[0m\u001b[1;33m\u001b[0m\u001b[0m\n\u001b[0;32m      4\u001b[0m '''\n\u001b[1;32m----> 5\u001b[1;33m \u001b[0mX_train\u001b[0m\u001b[1;33m.\u001b[0m\u001b[0mcolumns\u001b[0m \u001b[1;33m=\u001b[0m \u001b[1;33m[\u001b[0m\u001b[1;34m\"\"\u001b[0m\u001b[1;33m.\u001b[0m\u001b[0mjoin\u001b[0m \u001b[1;33m(\u001b[0m\u001b[0mc\u001b[0m \u001b[1;32mif\u001b[0m \u001b[0mc\u001b[0m\u001b[1;33m.\u001b[0m\u001b[0misalnum\u001b[0m\u001b[1;33m(\u001b[0m\u001b[1;33m)\u001b[0m \u001b[1;32melse\u001b[0m \u001b[1;34m\"_\"\u001b[0m \u001b[1;32mfor\u001b[0m \u001b[0mc\u001b[0m \u001b[1;32min\u001b[0m \u001b[0mstr\u001b[0m\u001b[1;33m(\u001b[0m\u001b[0mx\u001b[0m\u001b[1;33m)\u001b[0m\u001b[1;33m)\u001b[0m \u001b[1;32mfor\u001b[0m \u001b[0mx\u001b[0m \u001b[1;32min\u001b[0m \u001b[0mX_train\u001b[0m\u001b[1;33m.\u001b[0m\u001b[0mcolumns\u001b[0m\u001b[1;33m]\u001b[0m\u001b[1;33m\u001b[0m\u001b[1;33m\u001b[0m\u001b[0m\n\u001b[0m\u001b[0;32m      6\u001b[0m \u001b[0mmodel\u001b[0m \u001b[1;33m=\u001b[0m \u001b[0mLGBMRegressor\u001b[0m\u001b[1;33m(\u001b[0m\u001b[1;33m)\u001b[0m\u001b[1;33m\u001b[0m\u001b[1;33m\u001b[0m\u001b[0m\n\u001b[0;32m      7\u001b[0m \u001b[0mmodel\u001b[0m\u001b[1;33m.\u001b[0m\u001b[0mfit\u001b[0m\u001b[1;33m(\u001b[0m\u001b[0mX_train\u001b[0m\u001b[1;33m,\u001b[0m \u001b[0my_train\u001b[0m\u001b[1;33m)\u001b[0m \u001b[1;31m# 모델 학습\u001b[0m\u001b[1;33m\u001b[0m\u001b[1;33m\u001b[0m\u001b[0m\n",
      "\u001b[1;31mAttributeError\u001b[0m: 'numpy.ndarray' object has no attribute 'columns'"
     ]
    }
   ],
   "source": [
    "'''\n",
    "   LightGBM에서는 특수 문자나 공백이 포함된 변수명을 지원하지 않습니다.\n",
    "   따라서 'X_train'에서 특수 문자나 공백을 제거하거나, 변수명을 변경해야 합니다.\n",
    "'''\n",
    "X_train.columns = [\"\".join (c if c.isalnum() else \"_\" for c in str(x)) for x in X_train.columns]\n",
    "model = LGBMRegressor() \n",
    "model.fit(X_train, y_train) # 모델 학습"
   ]
  },
  {
   "cell_type": "markdown",
   "metadata": {},
   "source": [
    "### 4. (비선형) LightGBM 회귀 모델 검증"
   ]
  },
  {
   "cell_type": "code",
   "execution_count": null,
   "metadata": {},
   "outputs": [
    {
     "ename": "AttributeError",
     "evalue": "'numpy.ndarray' object has no attribute 'columns'",
     "output_type": "error",
     "traceback": [
      "\u001b[1;31m---------------------------------------------------------------------------\u001b[0m",
      "\u001b[1;31mAttributeError\u001b[0m                            Traceback (most recent call last)",
      "\u001b[1;32mc:\\k-project\\source\\model(최종)-업로드X\\01_비선형모델_선형모델_비교_검증.ipynb 셀 73\u001b[0m line \u001b[0;36m5\n\u001b[0;32m      <a href='vscode-notebook-cell:/c%3A/k-project/source/model%28%EC%B5%9C%EC%A2%85%29-%EC%97%85%EB%A1%9C%EB%93%9CX/01_%EB%B9%84%EC%84%A0%ED%98%95%EB%AA%A8%EB%8D%B8_%EC%84%A0%ED%98%95%EB%AA%A8%EB%8D%B8_%EB%B9%84%EA%B5%90_%EA%B2%80%EC%A6%9D.ipynb#Y125sZmlsZQ%3D%3D?line=0'>1</a>\u001b[0m \u001b[39m'''\u001b[39;00m\n\u001b[0;32m      <a href='vscode-notebook-cell:/c%3A/k-project/source/model%28%EC%B5%9C%EC%A2%85%29-%EC%97%85%EB%A1%9C%EB%93%9CX/01_%EB%B9%84%EC%84%A0%ED%98%95%EB%AA%A8%EB%8D%B8_%EC%84%A0%ED%98%95%EB%AA%A8%EB%8D%B8_%EB%B9%84%EA%B5%90_%EA%B2%80%EC%A6%9D.ipynb#Y125sZmlsZQ%3D%3D?line=1'>2</a>\u001b[0m \u001b[39m   LightGBM에서는 특수 문자나 공백이 포함된 변수명을 지원하지 않습니다.\u001b[39;00m\n\u001b[0;32m      <a href='vscode-notebook-cell:/c%3A/k-project/source/model%28%EC%B5%9C%EC%A2%85%29-%EC%97%85%EB%A1%9C%EB%93%9CX/01_%EB%B9%84%EC%84%A0%ED%98%95%EB%AA%A8%EB%8D%B8_%EC%84%A0%ED%98%95%EB%AA%A8%EB%8D%B8_%EB%B9%84%EA%B5%90_%EA%B2%80%EC%A6%9D.ipynb#Y125sZmlsZQ%3D%3D?line=2'>3</a>\u001b[0m \u001b[39m   따라서 'X_train'에서 특수 문자나 공백을 제거하거나, 변수명을 변경해야 합니다.\u001b[39;00m\n\u001b[0;32m      <a href='vscode-notebook-cell:/c%3A/k-project/source/model%28%EC%B5%9C%EC%A2%85%29-%EC%97%85%EB%A1%9C%EB%93%9CX/01_%EB%B9%84%EC%84%A0%ED%98%95%EB%AA%A8%EB%8D%B8_%EC%84%A0%ED%98%95%EB%AA%A8%EB%8D%B8_%EB%B9%84%EA%B5%90_%EA%B2%80%EC%A6%9D.ipynb#Y125sZmlsZQ%3D%3D?line=3'>4</a>\u001b[0m \u001b[39m'''\u001b[39;00m\n\u001b[1;32m----> <a href='vscode-notebook-cell:/c%3A/k-project/source/model%28%EC%B5%9C%EC%A2%85%29-%EC%97%85%EB%A1%9C%EB%93%9CX/01_%EB%B9%84%EC%84%A0%ED%98%95%EB%AA%A8%EB%8D%B8_%EC%84%A0%ED%98%95%EB%AA%A8%EB%8D%B8_%EB%B9%84%EA%B5%90_%EA%B2%80%EC%A6%9D.ipynb#Y125sZmlsZQ%3D%3D?line=4'>5</a>\u001b[0m X_train\u001b[39m.\u001b[39mcolumns \u001b[39m=\u001b[39m [\u001b[39m\"\u001b[39m\u001b[39m\"\u001b[39m\u001b[39m.\u001b[39mjoin (c \u001b[39mif\u001b[39;00m c\u001b[39m.\u001b[39misalnum() \u001b[39melse\u001b[39;00m \u001b[39m\"\u001b[39m\u001b[39m_\u001b[39m\u001b[39m\"\u001b[39m \u001b[39mfor\u001b[39;00m c \u001b[39min\u001b[39;00m \u001b[39mstr\u001b[39m(x)) \u001b[39mfor\u001b[39;00m x \u001b[39min\u001b[39;00m X_train\u001b[39m.\u001b[39;49mcolumns]\n\u001b[0;32m      <a href='vscode-notebook-cell:/c%3A/k-project/source/model%28%EC%B5%9C%EC%A2%85%29-%EC%97%85%EB%A1%9C%EB%93%9CX/01_%EB%B9%84%EC%84%A0%ED%98%95%EB%AA%A8%EB%8D%B8_%EC%84%A0%ED%98%95%EB%AA%A8%EB%8D%B8_%EB%B9%84%EA%B5%90_%EA%B2%80%EC%A6%9D.ipynb#Y125sZmlsZQ%3D%3D?line=5'>6</a>\u001b[0m model \u001b[39m=\u001b[39m LGBMRegressor()\n\u001b[0;32m      <a href='vscode-notebook-cell:/c%3A/k-project/source/model%28%EC%B5%9C%EC%A2%85%29-%EC%97%85%EB%A1%9C%EB%93%9CX/01_%EB%B9%84%EC%84%A0%ED%98%95%EB%AA%A8%EB%8D%B8_%EC%84%A0%ED%98%95%EB%AA%A8%EB%8D%B8_%EB%B9%84%EA%B5%90_%EA%B2%80%EC%A6%9D.ipynb#Y125sZmlsZQ%3D%3D?line=6'>7</a>\u001b[0m model\u001b[39m.\u001b[39mfit(X_train, y_train) \u001b[39m# 모델 학습\u001b[39;00m\n",
      "\u001b[1;31mAttributeError\u001b[0m: 'numpy.ndarray' object has no attribute 'columns'"
     ]
    }
   ],
   "source": [
    "'''\n",
    "   LightGBM에서는 특수 문자나 공백이 포함된 변수명을 지원하지 않습니다.\n",
    "   따라서 'X_train'에서 특수 문자나 공백을 제거하거나, 변수명을 변경해야 합니다.\n",
    "'''\n",
    "X_train.columns = [\"\".join (c if c.isalnum() else \"_\" for c in str(x)) for x in X_train.columns]\n",
    "model = LGBMRegressor()\n",
    "model.fit(X_train, y_train) # 모델 학습"
   ]
  },
  {
   "cell_type": "code",
   "execution_count": null,
   "metadata": {},
   "outputs": [
    {
     "name": "stdout",
     "output_type": "stream",
     "text": [
      "MAE: 51.63%\n",
      "RMSE: 388.59%\n"
     ]
    },
    {
     "data": {
      "text/plain": [
       "0.5929934263149199"
      ]
     },
     "execution_count": 591,
     "metadata": {},
     "output_type": "execute_result"
    }
   ],
   "source": [
    "# Predict를 수행하고 mean_absolute_error, rmse 결과 출력하기\n",
    "pred = model.predict(X_test)    # X_test를 이용한 예측값 pred \n",
    "mean_absolute_error(y_test, pred)\n",
    "np.sqrt(mean_squared_error(y_test, pred))\n",
    "\n",
    "mae = mean_absolute_error(y_test, pred)\n",
    "rmse = np.sqrt(mean_squared_error(y_test, pred))\n",
    "\n",
    "# MAE 및 RMSE를 백분율로 표시\n",
    "mae_percentage = (mae / np.mean(y_test)) * 100\n",
    "rmse_percentage = (rmse / np.mean(y_test)) * 100\n",
    "\n",
    "print(\"MAE: {:.2f}%\".format(mae_percentage))\n",
    "print(\"RMSE: {:.2f}%\".format(rmse_percentage))\n",
    "\n",
    "r2_score(y_test, pred)"
   ]
  },
  {
   "cell_type": "markdown",
   "metadata": {},
   "source": [
    "### 4. (비선형) LightGBM 회귀 중요변수 확인"
   ]
  },
  {
   "cell_type": "code",
   "execution_count": null,
   "metadata": {},
   "outputs": [
    {
     "data": {
      "image/png": "[encoded data removed]",
      "text/plain": [
       "<Figure size 1000x800 with 1 Axes>"
      ]
     },
     "metadata": {},
     "output_type": "display_data"
    }
   ],
   "source": [
    "# Feature coefficients, feature 선언\n",
    "coefficients = model.feature_importances_\n",
    "features = X.columns\n",
    "\n",
    "# coefficients 순으로 정렬\n",
    "indices = np.argsort(coefficients)\n",
    "sorted_features = [features[i] for i in indices]\n",
    "\n",
    "# 그래프 크기 지정\n",
    "plt.figure(figsize=(10, 8))\n",
    "\n",
    "# 막대그래프 show\n",
    "plt.barh(sorted_features, coefficients[indices])\n",
    "plt.show()"
   ]
  }
 ],
 "metadata": {
  "kernelspec": {
   "display_name": "Python 3",
   "language": "python",
   "name": "python3"
  },
  "language_info": {
   "codemirror_mode": {
    "name": "ipython",
    "version": 3
   },
   "file_extension": ".py",
   "mimetype": "text/x-python",
   "name": "python",
   "nbconvert_exporter": "python",
   "pygments_lexer": "ipython3",
   "version": "3.7.9"
  }
 },
 "nbformat": 4,
 "nbformat_minor": 2
}
